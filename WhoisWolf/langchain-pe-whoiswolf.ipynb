{
 "cells": [
  {
   "cell_type": "markdown",
   "id": "070a3f25-8ace-418b-8793-15144205f677",
   "metadata": {},
   "source": [
    "# Bedrock with LangChain using a Prompt that includes Context\n",
    "\n",
    "please refer the detail : https://github.com/aws-samples/amazon-bedrock-workshop/blob/main/01_Generation/02_contextual_generation.ipynb"
   ]
  },
  {
   "cell_type": "markdown",
   "id": "bd03b999-bd91-4928-ba3f-ce11cbc23b53",
   "metadata": {},
   "source": [
    "## install dependencies"
   ]
  },
  {
   "cell_type": "code",
   "execution_count": 715,
   "id": "b095889e-d9d8-424a-a659-775f9b9df299",
   "metadata": {
    "tags": []
   },
   "outputs": [
    {
     "name": "stdout",
     "output_type": "stream",
     "text": [
      "Requirement already satisfied: boto3 in /home/ec2-user/anaconda3/envs/pytorch_p310/lib/python3.10/site-packages (1.34.34)\n",
      "Requirement already satisfied: botocore<1.35.0,>=1.34.34 in /home/ec2-user/anaconda3/envs/pytorch_p310/lib/python3.10/site-packages (from boto3) (1.34.34)\n",
      "Requirement already satisfied: jmespath<2.0.0,>=0.7.1 in /home/ec2-user/anaconda3/envs/pytorch_p310/lib/python3.10/site-packages (from boto3) (1.0.1)\n",
      "Requirement already satisfied: s3transfer<0.11.0,>=0.10.0 in /home/ec2-user/anaconda3/envs/pytorch_p310/lib/python3.10/site-packages (from boto3) (0.10.0)\n",
      "Requirement already satisfied: python-dateutil<3.0.0,>=2.1 in /home/ec2-user/anaconda3/envs/pytorch_p310/lib/python3.10/site-packages (from botocore<1.35.0,>=1.34.34->boto3) (2.8.2)\n",
      "Requirement already satisfied: urllib3<2.1,>=1.25.4 in /home/ec2-user/anaconda3/envs/pytorch_p310/lib/python3.10/site-packages (from botocore<1.35.0,>=1.34.34->boto3) (2.0.7)\n",
      "Requirement already satisfied: six>=1.5 in /home/ec2-user/anaconda3/envs/pytorch_p310/lib/python3.10/site-packages (from python-dateutil<3.0.0,>=2.1->botocore<1.35.0,>=1.34.34->boto3) (1.16.0)\n",
      "Requirement already satisfied: langchain in /home/ec2-user/anaconda3/envs/pytorch_p310/lib/python3.10/site-packages (0.1.4)\n",
      "Requirement already satisfied: PyYAML>=5.3 in /home/ec2-user/anaconda3/envs/pytorch_p310/lib/python3.10/site-packages (from langchain) (6.0.1)\n",
      "Requirement already satisfied: SQLAlchemy<3,>=1.4 in /home/ec2-user/anaconda3/envs/pytorch_p310/lib/python3.10/site-packages (from langchain) (2.0.25)\n",
      "Requirement already satisfied: aiohttp<4.0.0,>=3.8.3 in /home/ec2-user/anaconda3/envs/pytorch_p310/lib/python3.10/site-packages (from langchain) (3.9.1)\n",
      "Requirement already satisfied: async-timeout<5.0.0,>=4.0.0 in /home/ec2-user/anaconda3/envs/pytorch_p310/lib/python3.10/site-packages (from langchain) (4.0.3)\n",
      "Requirement already satisfied: dataclasses-json<0.7,>=0.5.7 in /home/ec2-user/anaconda3/envs/pytorch_p310/lib/python3.10/site-packages (from langchain) (0.6.3)\n",
      "Requirement already satisfied: jsonpatch<2.0,>=1.33 in /home/ec2-user/anaconda3/envs/pytorch_p310/lib/python3.10/site-packages (from langchain) (1.33)\n",
      "Requirement already satisfied: langchain-community<0.1,>=0.0.14 in /home/ec2-user/anaconda3/envs/pytorch_p310/lib/python3.10/site-packages (from langchain) (0.0.16)\n",
      "Requirement already satisfied: langchain-core<0.2,>=0.1.16 in /home/ec2-user/anaconda3/envs/pytorch_p310/lib/python3.10/site-packages (from langchain) (0.1.16)\n",
      "Requirement already satisfied: langsmith<0.1,>=0.0.83 in /home/ec2-user/anaconda3/envs/pytorch_p310/lib/python3.10/site-packages (from langchain) (0.0.84)\n",
      "Requirement already satisfied: numpy<2,>=1 in /home/ec2-user/anaconda3/envs/pytorch_p310/lib/python3.10/site-packages (from langchain) (1.24.4)\n",
      "Requirement already satisfied: pydantic<3,>=1 in /home/ec2-user/anaconda3/envs/pytorch_p310/lib/python3.10/site-packages (from langchain) (1.10.14)\n",
      "Requirement already satisfied: requests<3,>=2 in /home/ec2-user/anaconda3/envs/pytorch_p310/lib/python3.10/site-packages (from langchain) (2.31.0)\n",
      "Requirement already satisfied: tenacity<9.0.0,>=8.1.0 in /home/ec2-user/anaconda3/envs/pytorch_p310/lib/python3.10/site-packages (from langchain) (8.2.3)\n",
      "Requirement already satisfied: attrs>=17.3.0 in /home/ec2-user/anaconda3/envs/pytorch_p310/lib/python3.10/site-packages (from aiohttp<4.0.0,>=3.8.3->langchain) (23.1.0)\n",
      "Requirement already satisfied: multidict<7.0,>=4.5 in /home/ec2-user/anaconda3/envs/pytorch_p310/lib/python3.10/site-packages (from aiohttp<4.0.0,>=3.8.3->langchain) (6.0.4)\n",
      "Requirement already satisfied: yarl<2.0,>=1.0 in /home/ec2-user/anaconda3/envs/pytorch_p310/lib/python3.10/site-packages (from aiohttp<4.0.0,>=3.8.3->langchain) (1.9.4)\n",
      "Requirement already satisfied: frozenlist>=1.1.1 in /home/ec2-user/anaconda3/envs/pytorch_p310/lib/python3.10/site-packages (from aiohttp<4.0.0,>=3.8.3->langchain) (1.4.1)\n",
      "Requirement already satisfied: aiosignal>=1.1.2 in /home/ec2-user/anaconda3/envs/pytorch_p310/lib/python3.10/site-packages (from aiohttp<4.0.0,>=3.8.3->langchain) (1.3.1)\n",
      "Requirement already satisfied: marshmallow<4.0.0,>=3.18.0 in /home/ec2-user/anaconda3/envs/pytorch_p310/lib/python3.10/site-packages (from dataclasses-json<0.7,>=0.5.7->langchain) (3.20.2)\n",
      "Requirement already satisfied: typing-inspect<1,>=0.4.0 in /home/ec2-user/anaconda3/envs/pytorch_p310/lib/python3.10/site-packages (from dataclasses-json<0.7,>=0.5.7->langchain) (0.9.0)\n",
      "Requirement already satisfied: jsonpointer>=1.9 in /home/ec2-user/anaconda3/envs/pytorch_p310/lib/python3.10/site-packages (from jsonpatch<2.0,>=1.33->langchain) (2.4)\n",
      "Requirement already satisfied: anyio<5,>=3 in /home/ec2-user/anaconda3/envs/pytorch_p310/lib/python3.10/site-packages (from langchain-core<0.2,>=0.1.16->langchain) (3.7.1)\n",
      "Requirement already satisfied: packaging<24.0,>=23.2 in /home/ec2-user/anaconda3/envs/pytorch_p310/lib/python3.10/site-packages (from langchain-core<0.2,>=0.1.16->langchain) (23.2)\n",
      "Requirement already satisfied: typing-extensions>=4.2.0 in /home/ec2-user/anaconda3/envs/pytorch_p310/lib/python3.10/site-packages (from pydantic<3,>=1->langchain) (4.8.0)\n",
      "Requirement already satisfied: charset-normalizer<4,>=2 in /home/ec2-user/anaconda3/envs/pytorch_p310/lib/python3.10/site-packages (from requests<3,>=2->langchain) (3.3.1)\n",
      "Requirement already satisfied: idna<4,>=2.5 in /home/ec2-user/anaconda3/envs/pytorch_p310/lib/python3.10/site-packages (from requests<3,>=2->langchain) (3.4)\n",
      "Requirement already satisfied: urllib3<3,>=1.21.1 in /home/ec2-user/anaconda3/envs/pytorch_p310/lib/python3.10/site-packages (from requests<3,>=2->langchain) (2.0.7)\n",
      "Requirement already satisfied: certifi>=2017.4.17 in /home/ec2-user/anaconda3/envs/pytorch_p310/lib/python3.10/site-packages (from requests<3,>=2->langchain) (2023.7.22)\n",
      "Requirement already satisfied: greenlet!=0.4.17 in /home/ec2-user/anaconda3/envs/pytorch_p310/lib/python3.10/site-packages (from SQLAlchemy<3,>=1.4->langchain) (3.0.3)\n",
      "Requirement already satisfied: sniffio>=1.1 in /home/ec2-user/anaconda3/envs/pytorch_p310/lib/python3.10/site-packages (from anyio<5,>=3->langchain-core<0.2,>=0.1.16->langchain) (1.3.0)\n",
      "Requirement already satisfied: exceptiongroup in /home/ec2-user/anaconda3/envs/pytorch_p310/lib/python3.10/site-packages (from anyio<5,>=3->langchain-core<0.2,>=0.1.16->langchain) (1.1.3)\n",
      "Requirement already satisfied: mypy-extensions>=0.3.0 in /home/ec2-user/anaconda3/envs/pytorch_p310/lib/python3.10/site-packages (from typing-inspect<1,>=0.4.0->dataclasses-json<0.7,>=0.5.7->langchain) (1.0.0)\n",
      "Requirement already satisfied: langchainhub in /home/ec2-user/anaconda3/envs/pytorch_p310/lib/python3.10/site-packages (0.1.14)\n",
      "Requirement already satisfied: requests<3,>=2 in /home/ec2-user/anaconda3/envs/pytorch_p310/lib/python3.10/site-packages (from langchainhub) (2.31.0)\n",
      "Requirement already satisfied: types-requests<3.0.0.0,>=2.31.0.2 in /home/ec2-user/anaconda3/envs/pytorch_p310/lib/python3.10/site-packages (from langchainhub) (2.31.0.20240125)\n",
      "Requirement already satisfied: charset-normalizer<4,>=2 in /home/ec2-user/anaconda3/envs/pytorch_p310/lib/python3.10/site-packages (from requests<3,>=2->langchainhub) (3.3.1)\n",
      "Requirement already satisfied: idna<4,>=2.5 in /home/ec2-user/anaconda3/envs/pytorch_p310/lib/python3.10/site-packages (from requests<3,>=2->langchainhub) (3.4)\n",
      "Requirement already satisfied: urllib3<3,>=1.21.1 in /home/ec2-user/anaconda3/envs/pytorch_p310/lib/python3.10/site-packages (from requests<3,>=2->langchainhub) (2.0.7)\n",
      "Requirement already satisfied: certifi>=2017.4.17 in /home/ec2-user/anaconda3/envs/pytorch_p310/lib/python3.10/site-packages (from requests<3,>=2->langchainhub) (2023.7.22)\n"
     ]
    }
   ],
   "source": [
    "# dependencies\n",
    "!pip install --upgrade boto3\n",
    "!pip install langchain\n",
    "!pip install langchainhub"
   ]
  },
  {
   "cell_type": "markdown",
   "id": "6ace3e33-1e11-45f0-8ae7-50ff892723c5",
   "metadata": {},
   "source": [
    "## check bedrock availability"
   ]
  },
  {
   "cell_type": "code",
   "execution_count": 725,
   "id": "b31cc8e5-6a23-4e36-a3ab-d396f272053e",
   "metadata": {
    "tags": []
   },
   "outputs": [
    {
     "name": "stderr",
     "output_type": "stream",
     "text": [
      "02/05/2024 12:12:14 PM Found credentials from IAM Role: BaseNotebookInstanceEc2InstanceRole\n"
     ]
    },
    {
     "name": "stdout",
     "output_type": "stream",
     "text": [
      "Create new client\n",
      "  Using region: None\n",
      "boto3 Bedrock client successfully created!\n",
      "bedrock-runtime(https://bedrock-runtime.us-east-1.amazonaws.com)\n"
     ]
    }
   ],
   "source": [
    "import json\n",
    "import os\n",
    "import sys\n",
    "\n",
    "import boto3\n",
    "import botocore\n",
    "\n",
    "module_path = \"..\"\n",
    "sys.path.append(os.path.abspath(module_path))\n",
    "from utils import bedrock, print_ww\n",
    "\n",
    "boto3_bedrock = bedrock.get_bedrock_client()"
   ]
  },
  {
   "cell_type": "markdown",
   "id": "cbcca20f-f966-457b-a6ab-eb455937064f",
   "metadata": {
    "tags": []
   },
   "source": [
    "## build a God Role"
   ]
  },
  {
   "cell_type": "markdown",
   "id": "dda45070-e87e-4b1e-a016-fcb2c6fce77d",
   "metadata": {},
   "source": [
    "### God Template\n",
    "\n",
    "God is an absolute neutral role, responsilbe for game loop, and message delivery"
   ]
  },
  {
   "cell_type": "code",
   "execution_count": 38,
   "id": "82ed41d3-da3f-43f7-9f06-5b8e8f912aca",
   "metadata": {
    "tags": []
   },
   "outputs": [],
   "source": [
    "from langchain.prompts import PromptTemplate\n",
    "\n",
    "whoiswolf_rule_v1 = \"\"\"\n",
    "1. 游戏分狼人和村民两大阵营,他们的目标为:\n",
    "- 狼人团队 消灭所有村民。\n",
    "- 村民团队 消灭所有狼人,或游戏结束时存活一名村民。\n",
    "\n",
    "2. 游戏分白天和晚上两个阶段交替进行:\n",
    "- 晚上狼人睁眼互投票杀死一名玩家, 村名不能睁眼\n",
    "- 白天所有存活玩家需要公开讨论，最后一起投票决定消灭一名疑似狼人的角色, 玩家也可以放弃投票\n",
    "\"\"\"\n",
    "\n",
    "template = \"\"\"你是一个社交游戏达人，熟知《狼人杀》游戏规则：\n",
    "{game_rule}\n",
    "\n",
    "现在你在扮演《狼人杀》游戏的上帝角色.\n",
    "\n",
    "你熟知上帝可以执行的操作:\n",
    "<commands>\n",
    "- 狼人确认？夜间和狼人确认投票对象\n",
    "- 全体确认？白天和所有玩家确认投票对象\n",
    "</commdands>\n",
    "\n",
    "目前游戏进程:\n",
    "<history>\n",
    "{history}\n",
    "</history>\n",
    "\n",
    "Human: {input}\n",
    "\n",
    "接下来你所有的回答必须同时满足下面所有要求:\n",
    "- 你的操作必须从<commands>选择, 每次只选择一个操作\n",
    "- 你不能泄露关键信息给玩家\n",
    "- 直接说出最终答案，控制输出字数为50字以内，消灭啰嗦\n",
    "- 面对无关话题，直接回答 \"无可奉告\"\n",
    "\n",
    "AI Assistant:\"\"\"\n",
    "\n",
    "God_template=template.replace(\"{game_rule}\", whoiswolf_rule_v1)\n",
    "\n",
    "God_prompt = PromptTemplate(input_variables=[\"history\", \"input\"], template=God_template)\n"
   ]
  },
  {
   "cell_type": "markdown",
   "id": "6ae46c16-4628-4e8f-8b65-e07430e9d981",
   "metadata": {},
   "source": [
    "### use langchain to call bedrock api\n",
    "\n",
    "detail usage refer: https://python.langchain.com/docs/integrations/chat/bedrock"
   ]
  },
  {
   "cell_type": "code",
   "execution_count": 39,
   "id": "e37cce65-1172-41a0-995f-0d769f47a4a4",
   "metadata": {
    "tags": []
   },
   "outputs": [
    {
     "name": "stderr",
     "output_type": "stream",
     "text": [
      "02/05/2024 05:57:45 AM Found credentials from IAM Role: BaseNotebookInstanceEc2InstanceRole\n"
     ]
    }
   ],
   "source": [
    "from langchain.chains import ConversationChain\n",
    "from langchain.memory import ConversationBufferMemory\n",
    "from langchain.memory import ConversationKGMemory\n",
    "from langchain.chains.conversation.memory import ConversationSummaryMemory\n",
    "from langchain.chains.conversation.memory import ConversationBufferWindowMemory\n",
    "\n",
    "from langchain.callbacks.streaming_stdout import StreamingStdOutCallbackHandler\n",
    "from langchain_community.llms import Bedrock\n",
    "\n",
    "inference_modifier = {'max_tokens_to_sample':4096, \n",
    "                      \"temperature\":0.85,\n",
    "                      \"top_k\":250,\n",
    "                      \"top_p\":1,\n",
    "                      \"stop_sequences\": [\"\\n\\nHuman\"]\n",
    "                     }\n",
    "\n",
    "llm = Bedrock(\n",
    "    model_id=\"anthropic.claude-v2\",\n",
    "    streaming=True,\n",
    "    callbacks=[StreamingStdOutCallbackHandler()],\n",
    "    model_kwargs=inference_modifier,\n",
    ")\n"
   ]
  },
  {
   "cell_type": "code",
   "execution_count": 40,
   "id": "723ddee6-fb7d-4b57-b53c-b13d3c0f8a08",
   "metadata": {
    "tags": []
   },
   "outputs": [
    {
     "name": "stderr",
     "output_type": "stream",
     "text": [
      "02/05/2024 05:57:46 AM Found credentials from IAM Role: BaseNotebookInstanceEc2InstanceRole\n"
     ]
    }
   ],
   "source": [
    "inference_modifier = {'max_tokens_to_sample':4096, \n",
    "                      \"temperature\":0.85,\n",
    "                      \"top_k\":250,\n",
    "                      \"top_p\":1,\n",
    "                      \"stop_sequences\": [\"\\n\\nHuman\"]\n",
    "                     }\n",
    "\n",
    "def ClearGodMemory():\n",
    "    god_conversation.memory.clear()\n",
    "\n",
    "llm = Bedrock(\n",
    "    model_id=\"anthropic.claude-v2\",\n",
    "    streaming=True,\n",
    "    callbacks=[StreamingStdOutCallbackHandler()],\n",
    "    model_kwargs=inference_modifier,\n",
    ")\n",
    "\n",
    "god_conversation = ConversationChain(\n",
    "    prompt=God_prompt,\n",
    "    llm=llm, \n",
    "    verbose=False, \n",
    "    memory=ConversationBufferWindowMemory(k = 20, ai_prefix=\"AI Assistant\")\n",
    ")\n"
   ]
  },
  {
   "cell_type": "code",
   "execution_count": 41,
   "id": "360e319d-3af4-4dfd-a0ee-0095486461e2",
   "metadata": {
    "tags": []
   },
   "outputs": [],
   "source": [
    "ClearGodMemory()"
   ]
  },
  {
   "cell_type": "code",
   "execution_count": 42,
   "id": "db00bc5d-6dd3-48a2-ade8-5fb7c372ecc9",
   "metadata": {
    "tags": []
   },
   "outputs": [
    {
     "name": "stdout",
     "output_type": "stream",
     "text": [
      "======template==========\n",
      "你是一个社交游戏达人，熟知《狼人杀》游戏规则：\n",
      "\n",
      "1. 游戏分狼人和村民两大阵营,他们的目标为:\n",
      "- 狼人团队 消灭所有村民。\n",
      "- 村民团队 消灭所有狼人,或游戏结束时存活一名村民。\n",
      "\n",
      "2. 游戏分白天和晚上两个阶段交替进行:\n",
      "- 晚上狼人睁眼互投票杀死一名玩家, 村名不能睁眼\n",
      "- 白天所有存活玩家需要公开讨论，最后一起投票决定消灭一名疑似狼人的角色, 玩家也可以放弃投票\n",
      "\n",
      "\n",
      "现在你在扮演《狼人杀》游戏的上帝角色.\n",
      "\n",
      "你熟知上帝可以执行的操作:\n",
      "<commands>\n",
      "- 狼人确认？夜间和狼人确认投票对象\n",
      "- 全体确认？白天和所有玩家确认投票对象\n",
      "</commdands>\n",
      "\n",
      "目前游戏进程:\n",
      "<history>\n",
      "{history}\n",
      "</history>\n",
      "\n",
      "Human: {input}\n",
      "\n",
      "接下来你所有的回答必须同时满足下面所有要求:\n",
      "- 你的操作必须从<commands>选择, 每次只选择一个操作\n",
      "- 你不能泄露关键信息给玩家\n",
      "- 直接说出最终答案，控制输出字数为50字以内，消灭啰嗦\n",
      "- 面对无关话题，直接回答 \"无可奉告\"\n",
      "\n",
      "AI Assistant:\n",
      "======memory.buffer==========\n",
      "\n",
      "======memory==========\n",
      "ai_prefix='AI Assistant' k=20\n"
     ]
    }
   ],
   "source": [
    "print(\"======template==========\")\n",
    "print(god_conversation.prompt.template)\n",
    "print(\"======memory.buffer==========\")\n",
    "print(god_conversation.memory.buffer)\n",
    "print(\"======memory==========\")\n",
    "print(god_conversation.memory)"
   ]
  },
  {
   "cell_type": "code",
   "execution_count": 23,
   "id": "b034f16d-ba3b-4d46-bce3-105986a15a04",
   "metadata": {
    "tags": []
   },
   "outputs": [
    {
     "name": "stdout",
     "output_type": "stream",
     "text": [
      " 狼人杀是一款多人参与的社交推理游戏。游戏分为狼人阵营和村民阵营。\n",
      "\n",
      "夜晚时,狼人睁眼互相认出队友,并投票决定杀死一名村民。白天时,全体玩家讨论并投票决定处死一名疑似狼人的玩家。 \n",
      "\n",
      "村民的目的是消灭所有狼人或最后存活一名村民。狼人的目的是消灭所有村民。游戏通过白天村民的讨论投票和夜晚狼人的暗杀来进行。"
     ]
    },
    {
     "data": {
      "text/plain": [
       "' 狼人杀是一款多人参与的社交推理游戏。游戏分为狼人阵营和村民阵营。\\n\\n夜晚时,狼人睁眼互相认出队友,并投票决定杀死一名村民。白天时,全体玩家讨论并投票决定处死一名疑似狼人的玩家。 \\n\\n村民的目的是消灭所有狼人或最后存活一名村民。狼人的目的是消灭所有村民。游戏通过白天村民的讨论投票和夜晚狼人的暗杀来进行。'"
      ]
     },
     "execution_count": 23,
     "metadata": {},
     "output_type": "execute_result"
    }
   ],
   "source": [
    "\n",
    "god_conversation.predict(input=\"狼人杀是什么游戏规则？\")\n",
    "#conversation.predict(input=\"前面描述是什么游戏？规则如何\")\n",
    "# conversation.predict(input=\"女巫和猎人有什么技能？\")\n",
    "#conversation.predict(input=\"这个游戏建议几人游玩呢？\")\n",
    "\n"
   ]
  },
  {
   "cell_type": "code",
   "execution_count": 17,
   "id": "e338906b-66ff-4f48-8875-7e383c41472b",
   "metadata": {
    "tags": []
   },
   "outputs": [
    {
     "name": "stdout",
     "output_type": "stream",
     "text": [
      " 天黑请闭眼。\n",
      "\n",
      "晚上,狼人团队互相确认了目标。\n",
      "\n",
      "天亮了。\n",
      "\n",
      "全体确认?白天大家讨论后,决定消灭魏征。\n",
      "\n",
      "天黑请闭眼。 \n",
      "\n",
      "晚上,狼人团队互相确认了目标。\n",
      "\n",
      "天亮了。\n",
      "\n",
      "全体确认?白天大家讨论后,决定消灭狼人之一的李白。\n",
      "\n",
      "村民获胜。无可奉告。"
     ]
    },
    {
     "data": {
      "text/plain": [
       "' 天黑请闭眼。\\n\\n晚上,狼人团队互相确认了目标。\\n\\n天亮了。\\n\\n全体确认?白天大家讨论后,决定消灭魏征。\\n\\n天黑请闭眼。 \\n\\n晚上,狼人团队互相确认了目标。\\n\\n天亮了。\\n\\n全体确认?白天大家讨论后,决定消灭狼人之一的李白。\\n\\n村民获胜。无可奉告。'"
      ]
     },
     "execution_count": 17,
     "metadata": {},
     "output_type": "execute_result"
    }
   ],
   "source": [
    "god_conversation.predict(input=\"请给我设计6个玩家的姓名，最好使用中国的历史名人\")"
   ]
  },
  {
   "cell_type": "code",
   "execution_count": 338,
   "id": "b918ec57-a0ee-40f9-8e49-e14f70c9ee7e",
   "metadata": {
    "tags": []
   },
   "outputs": [
    {
     "name": "stdout",
     "output_type": "stream",
     "text": [
      " {\n",
      "  \"players\": [\n",
      "    {\n",
      "      \"name\": \"林冲\",\n",
      "      \"role\": \"村民\",\n",
      "      \"character\": \"豪爽果断\",\n",
      "      \"status\": 1\n",
      "    },\n",
      "    {\n",
      "      \"name\": \"宋江\",\n",
      "      \"role\": \"狼人\", \n",
      "      \"character\": \"权谋多计\",\n",
      "      \"status\": 1\n",
      "    },\n",
      "    {\n",
      "      \"name\": \"吴用\",\n",
      "      \"role\": \"村民\",\n",
      "      \"character\": \"老实朴素\",\n",
      "      \"status\": 1\n",
      "    },\n",
      "    {\n",
      "      \"name\": \"卢俊义\",\n",
      "      \"role\": \"狼人\",\n",
      "      \"character\": \"精明能干\",\n",
      "      \"status\": 1\n",
      "    },\n",
      "    {\n",
      "      \"name\": \"武松\",\n",
      "      \"role\": \"村民\",\n",
      "      \"character\": \"鲁莽暴躁\",\n",
      "      \"status\": 1\n",
      "    },\n",
      "    {\n",
      "      \"name\": \"鲁智深\",\n",
      "      \"role\": \"村民\",\n",
      "      \"character\": \"沉稳睿智\", \n",
      "      \"status\": 1\n",
      "    }\n",
      "  ]\n",
      "}"
     ]
    },
    {
     "data": {
      "text/plain": [
       "' {\\n  \"players\": [\\n    {\\n      \"name\": \"林冲\",\\n      \"role\": \"村民\",\\n      \"character\": \"豪爽果断\",\\n      \"status\": 1\\n    },\\n    {\\n      \"name\": \"宋江\",\\n      \"role\": \"狼人\", \\n      \"character\": \"权谋多计\",\\n      \"status\": 1\\n    },\\n    {\\n      \"name\": \"吴用\",\\n      \"role\": \"村民\",\\n      \"character\": \"老实朴素\",\\n      \"status\": 1\\n    },\\n    {\\n      \"name\": \"卢俊义\",\\n      \"role\": \"狼人\",\\n      \"character\": \"精明能干\",\\n      \"status\": 1\\n    },\\n    {\\n      \"name\": \"武松\",\\n      \"role\": \"村民\",\\n      \"character\": \"鲁莽暴躁\",\\n      \"status\": 1\\n    },\\n    {\\n      \"name\": \"鲁智深\",\\n      \"role\": \"村民\",\\n      \"character\": \"沉稳睿智\", \\n      \"status\": 1\\n    }\\n  ]\\n}'"
      ]
     },
     "execution_count": 338,
     "metadata": {},
     "output_type": "execute_result"
    }
   ],
   "source": [
    "gen_role_template = \"\"\"\n",
    "给每个玩家生成一段文字，包含自己的角色描述和游戏规则. 要求包含名字，游戏内身份，性格这三个信息，最后整理成json格式，\n",
    "包含的key有name, role, character, status。\n",
    "其中status只有0，1两个值，默认为1\n",
    "\"\"\"\n",
    "\n",
    "conversation.predict(input=gen_role_template)\n"
   ]
  },
  {
   "cell_type": "markdown",
   "id": "47b4681e-7405-4982-bab8-4c85bb02b184",
   "metadata": {},
   "source": [
    "### setup logging configuration & critial parseJson function"
   ]
  },
  {
   "cell_type": "code",
   "execution_count": 51,
   "id": "97445fef-e9d2-4419-9699-b917aedcd442",
   "metadata": {
    "tags": []
   },
   "outputs": [],
   "source": [
    "import re\n",
    "import json\n",
    "import logging\n",
    "\n",
    "logging.basicConfig(format='%(asctime)s %(message)s', datefmt='%m/%d/%Y %I:%M:%S %p', level=logging.INFO)\n",
    "\n",
    "def Info(text):\n",
    "    logging.info(text)\n",
    "    \n",
    "def Debug(text):\n",
    "    logging.debug(text)\n",
    "\n",
    "def Warn(text):\n",
    "    logging.warning(text)\n",
    "\n",
    "def Error(text):\n",
    "    logging.error(text)\n",
    "    \n",
    "def Print(text):\n",
    "    print(text)\n"
   ]
  },
  {
   "cell_type": "markdown",
   "id": "3c8c1fc4-b4ac-481f-baed-7147395ba91e",
   "metadata": {},
   "source": [
    "### define agent tools\n",
    "\n",
    "not really used in this project...."
   ]
  },
  {
   "cell_type": "code",
   "execution_count": 52,
   "id": "c3106943-8dd1-43bb-9da2-5a3bcf96e8b0",
   "metadata": {
    "tags": []
   },
   "outputs": [],
   "source": [
    "from langchain.pydantic_v1 import BaseModel, Field\n",
    "from langchain.tools import BaseTool, StructuredTool, tool\n",
    "\n",
    "class GetAllPlayersName(BaseTool):\n",
    "    name = \"GetAllPlayersName\"\n",
    "    description = \"GetAllPlayersName\"\n",
    "\n",
    "    def _run(self, name: str):\n",
    "        players_name = []\n",
    "        for player in roles_dict[\"players\"]:\n",
    "            players_name.append(player[\"name\"]+\":\"+str(player[\"status\"]))\n",
    "        return \",\".join(players_name) \n",
    "\n",
    "    def _arun(self, radius: int):\n",
    "        raise NotImplementedError(\"This tool does not support async\")\n",
    "        \n"
   ]
  },
  {
   "cell_type": "markdown",
   "id": "5d13014c-4ad0-4167-a27c-3dc361dfcb0a",
   "metadata": {},
   "source": [
    "## build up Players based on PE"
   ]
  },
  {
   "cell_type": "markdown",
   "id": "9594e803-2d98-4391-ab31-08c6bc3affea",
   "metadata": {},
   "source": [
    "#### setup claude llm as driver"
   ]
  },
  {
   "cell_type": "code",
   "execution_count": 717,
   "id": "03dea169-61c2-474d-bbc4-baf619a9b12c",
   "metadata": {
    "tags": []
   },
   "outputs": [
    {
     "name": "stderr",
     "output_type": "stream",
     "text": [
      "02/05/2024 11:56:34 AM Found credentials from IAM Role: BaseNotebookInstanceEc2InstanceRole\n"
     ]
    }
   ],
   "source": [
    "from langchain.prompts import PromptTemplate\n",
    "from langchain.agents import AgentType\n",
    "from langchain.agents import initialize_agent\n",
    "from langchain.agents import AgentExecutor, create_react_agent\n",
    "\n",
    "inference_modifier = {'max_tokens_to_sample':4096, \n",
    "                      \"temperature\":0.85,\n",
    "                      \"top_k\":250,\n",
    "                      \"top_p\":1,\n",
    "                      \"stop_sequences\": [\"\\n\\nHuman\"]\n",
    "                     }\n",
    "\n",
    "claude_llm = Bedrock(\n",
    "    model_id=\"anthropic.claude-v2\",\n",
    "    streaming=True,\n",
    "    callbacks=[StreamingStdOutCallbackHandler()],\n",
    "    model_kwargs=inference_modifier,\n",
    ")\n"
   ]
  },
  {
   "cell_type": "markdown",
   "id": "a74279d2-5066-4283-9113-3707583970aa",
   "metadata": {},
   "source": [
    "### God Class"
   ]
  },
  {
   "cell_type": "code",
   "execution_count": 718,
   "id": "0124902e-1459-4efd-a1a0-873e0f190a04",
   "metadata": {
    "tags": []
   },
   "outputs": [],
   "source": [
    "class GodAgent:\n",
    "    def __init__(self):\n",
    "        pass"
   ]
  },
  {
   "cell_type": "markdown",
   "id": "9f5f2191-062c-4a9f-86a4-bb288cfd5afe",
   "metadata": {},
   "source": [
    "### Player Class"
   ]
  },
  {
   "cell_type": "code",
   "execution_count": 732,
   "id": "ff547a8d-4326-4d07-81c2-76672809cbb8",
   "metadata": {
    "tags": []
   },
   "outputs": [],
   "source": [
    "class PlayerAgent:\n",
    "    def __init__(self, player):\n",
    "        confirmed_role = template_role.replace(\"{nickname}\", player[\"name\"])\n",
    "        confirmed_role = confirmed_role.replace(\"{role}\", player[\"role\"])\n",
    "        confirmed_role = confirmed_role.replace(\"{character}\", player[\"character\"])\n",
    "        confirmed_role = confirmed_role.replace(\"{init_players}\", GetAllPlayersName())\n",
    "\n",
    "        if player[\"role\"] == \"狼人\":\n",
    "            confirmed_role = confirmed_role.replace(\"{teammates}\", GetAllWolvesName())\n",
    "        if player[\"role\"] == \"村民\":\n",
    "            confirmed_role = confirmed_role.replace(\"{teammates}\", game_config_dict[\"player\"][\"action_villager_team\"])\n",
    "\n",
    "        prompt_role = PromptTemplate.from_template(confirmed_role)\n",
    "        prompt_role.format(chat_history=\"\", input=\"\")\n",
    "\n",
    "        role_memory = ConversationBufferWindowMemory(k = 20, ai_prefix=\"AI Assistant\", memory_key=\"chat_history\", input_key=\"input\")\n",
    "        \n",
    "        # Construct the ReAct agent\n",
    "        # initialize agent with tools\n",
    "        # player[\"conversation\"] = initialize_agent(\n",
    "        #     agent=AgentType.CONVERSATIONAL_REACT_DESCRIPTION,\n",
    "        #     tools=tools,\n",
    "        #     llm=claude_llm,\n",
    "        #     verbose=False,\n",
    "        #     max_iterations=3,\n",
    "        #     early_stopping_method='generate',\n",
    "        #     memory=role_memory\n",
    "        # )\n",
    "        #agent = create_react_agent(claude_llm, tools, prompt_role)\n",
    "        #player[\"agent_executor\"] = AgentExecutor(agent=agent, tools=tools, verbose=False, memory=memory)\n",
    "\n",
    "        player[\"conversation\"] = ConversationChain(\n",
    "            prompt=prompt_role,\n",
    "            llm=claude_llm, \n",
    "            verbose=False, \n",
    "            memory=role_memory\n",
    "        )\n",
    "        \n",
    "        self.agent = player  \n",
    "        Debug(self.agent[\"conversation\"])\n",
    "        pass\n",
    "    \n",
    "    def ActionLog(self, current_time, prefix, res_obj):\n",
    "        action_log = {\"time\": current_time, \"player\": self.agent[\"name\"], \"status\": self.agent['status'], \"response\": res_obj}\n",
    "        Debug(\"\\n {0}={1}\\n\".format(prefix, action_log))\n",
    "        return action_log\n",
    "    \n",
    "    def SystemLog(self, current_time, prefix, res_obj):\n",
    "        action_log = {\"time\": current_time, \"player\": self.agent[\"name\"], \"status\": self.agent['status'], \"role\": self.agent[\"role\"], \"response\": res_obj}\n",
    "        Info(\"\\n {0}={1}\\n\".format(prefix, action_log))\n",
    "        return action_log\n",
    "    \n",
    "    def PlayerAddMemory(self, inputInfo):\n",
    "        outputInfo = game_config_dict[\"player\"][\"action_confirm\"]\n",
    "        self.agent[\"conversation\"].memory.save_context({\"input\": inputInfo}, {\"ouput\": outputInfo})\n",
    "        pass\n",
    "        \n",
    "    def PlayerAction(self, i, isDay, current_time, message):\n",
    "        log = {}\n",
    "        response = []\n",
    "        output = \"\"\n",
    "        # 如果玩家是死亡状态\n",
    "        if self.agent['status'] == -1:\n",
    "            pass\n",
    "        # 如果玩家是遗言状态\n",
    "        if self.agent['status'] == 0:\n",
    "            self.DeathWords(i, isDay, current_time)\n",
    "            pass\n",
    "        # 如果玩家是存活状态\n",
    "        if self.agent['status'] == 1: \n",
    "            if isDay:\n",
    "                output = self.agent[\"conversation\"].invoke(input = game_config_dict[\"player\"][\"action_plan_day\"].format(message, i))\n",
    "            else:\n",
    "                output = self.agent[\"conversation\"].invoke(input = game_config_dict[\"player\"][\"action_plan_night\"].format(\"\", i))\n",
    "        # parse LLM output\n",
    "        if output != \"\":\n",
    "            response = ParseJson(output[\"response\"])\n",
    "            for res in response:\n",
    "                res_obj = json.loads(res)\n",
    "\n",
    "                if res_obj[\"action\"] == \"WolfVote\":\n",
    "                    wolf_action_log_dict.append(self.ActionLog(current_time, \"wolf_vote_log\", res_obj))\n",
    "\n",
    "                if res_obj[\"action\"] == \"PlayerVote\":\n",
    "                    player_action_log_dict.append(self.ActionLog(current_time, \"player_vote_log\", res_obj))\n",
    "\n",
    "                if res_obj[\"action\"] == \"Debate\":\n",
    "                    #player_action_log_dict.append(self.ActionLog(current_time, \"player_debate_log\", res_obj))\n",
    "                    pass\n",
    "                    \n",
    "                if res_obj[\"action\"] == \"GetAllPlayersName\":\n",
    "                    #player_action_log_dict.append(self.ActionLog(current_time, \"player_check_log\", res_obj))\n",
    "                    # Add Extra memory\n",
    "                    inputInfo = game_config_dict[\"system\"][\"board\"].format(GetAllPlayersName())\n",
    "                    self.PlayerAddMemory(inputInfo)\n",
    "\n",
    "            game_system_log_dict.append(self.SystemLog(current_time, \"game_sys_log\", response))\n",
    "            pass\n",
    "    \n",
    "    def DeathWords(self, i, isDay, current_time):\n",
    "        # 如果玩家是死亡状态\n",
    "        Debug(\"player: {0} status: {1}\".format(self.agent['name'], self.agent['status']))\n",
    "        if self.agent['status'] == 0:\n",
    "            self.agent['status'] = -1 ### never talk\n",
    "\n",
    "            output = self.agent[\"conversation\"].invoke(input = game_config_dict[\"player\"][\"action_plan_death\"].format(i))\n",
    "            response = ParseJson(output[\"response\"])\n",
    "            for res in response:\n",
    "                res_obj = json.loads(res)\n",
    "                if res_obj[\"action\"] == \"DeathWords\":\n",
    "                    death_action_log = {\"time\": current_time, \n",
    "                                        \"player\": self.agent[\"name\"], \n",
    "                                        \"status\": self.agent['status'], \n",
    "                                        \"response\": res_obj}\n",
    "                    Info(\"\\n death_action_log: {0}\\n\".format(death_action_log))\n",
    "                    game_public_log_dict.append(death_action_log)\n",
    "                    # detah words!!!!\n",
    "                    if isDay:\n",
    "                        return game_config_dict[\"system\"][\"death_day\"].format(self.agent[\"name\"], res_obj[\"content\"])\n",
    "                    else:\n",
    "                        return game_config_dict[\"system\"][\"death_night\"].format(self.agent[\"name\"], res_obj[\"content\"])\n",
    "        \n",
    "        return None"
   ]
  },
  {
   "cell_type": "markdown",
   "id": "e6b57688-edb2-4a0d-a2cb-64450ab80b3a",
   "metadata": {},
   "source": [
    "### global variables"
   ]
  },
  {
   "cell_type": "code",
   "execution_count": 733,
   "id": "6965124f-8271-4392-b200-91c8801094ed",
   "metadata": {
    "tags": []
   },
   "outputs": [
    {
     "name": "stderr",
     "output_type": "stream",
     "text": [
      "02/05/2024 12:14:37 PM {'players': [{'name': 'P1', 'role': '村民', 'character': '豪爽果断', 'status': 1}, {'name': 'P2', 'role': '狼人', 'character': '权谋多计', 'status': 1}, {'name': 'P3', 'role': '村民', 'character': '老实朴素', 'status': 1}, {'name': 'P4', 'role': '狼人', 'character': '精明能干', 'status': 1}, {'name': 'P5', 'role': '村民', 'character': '鲁莽暴躁', 'status': 1}, {'name': 'P6', 'role': '村民', 'character': '沉稳睿智', 'status': 1}, {'name': 'P7', 'role': '村民', 'character': '大智若愚', 'status': 1}]}\n"
     ]
    }
   ],
   "source": [
    "import json\n",
    "\n",
    "roles = \"\"\"\n",
    "{\n",
    "  \"players\": [\n",
    "    {\n",
    "      \"name\": \"P1\",\n",
    "      \"role\": \"村民\",\n",
    "      \"character\": \"豪爽果断\",\n",
    "      \"status\": 1\n",
    "    },\n",
    "    {\n",
    "      \"name\": \"P2\",\n",
    "      \"role\": \"狼人\", \n",
    "      \"character\": \"权谋多计\",\n",
    "      \"status\": 1\n",
    "    },\n",
    "    {\n",
    "      \"name\": \"P3\",\n",
    "      \"role\": \"村民\",\n",
    "      \"character\": \"老实朴素\",\n",
    "      \"status\": 1\n",
    "    },\n",
    "    {\n",
    "      \"name\": \"P4\",\n",
    "      \"role\": \"狼人\",\n",
    "      \"character\": \"精明能干\",\n",
    "      \"status\": 1\n",
    "    },\n",
    "    {\n",
    "      \"name\": \"P5\",\n",
    "      \"role\": \"村民\",\n",
    "      \"character\": \"鲁莽暴躁\",\n",
    "      \"status\": 1\n",
    "    },\n",
    "    {\n",
    "      \"name\": \"P6\",\n",
    "      \"role\": \"村民\",\n",
    "      \"character\": \"沉稳睿智\", \n",
    "      \"status\": 1\n",
    "    },\n",
    "    {\n",
    "      \"name\": \"P7\",\n",
    "      \"role\": \"村民\",\n",
    "      \"character\": \"大智若愚\", \n",
    "      \"status\": 1\n",
    "    }\n",
    "  ]\n",
    "}\n",
    "\"\"\"\n",
    "\n",
    "def ReloadRoles():\n",
    "    return json.loads(roles)\n",
    "\n",
    "def ReviveRoles():\n",
    "    for player in roles_dict[\"players\"]:\n",
    "        player[\"status\"] = 1\n",
    "        \n",
    "# @tool\n",
    "def GetAllPlayersName() -> str:\n",
    "    \"\"\"GetAllPlayersName\"\"\"\n",
    "    players_name = []\n",
    "    for player in roles_dict[\"players\"]:\n",
    "        players_name.append(player[\"name\"]+\":\"+str(player[\"status\"]))\n",
    "    return \",\".join(players_name)  \n",
    "\n",
    "# @tool\n",
    "def GetAllWolvesName() -> str:\n",
    "    \"\"\"GetAllWolvesName\"\"\"\n",
    "    wolves_name = []\n",
    "    for player in roles_dict[\"players\"]:\n",
    "        if player[\"role\"] == \"狼人\":\n",
    "            wolves_name.append(player[\"name\"])\n",
    "    return \",\".join(wolves_name) \n",
    "\n",
    "roles_dict = ReloadRoles()\n",
    "Info(roles_dict)"
   ]
  },
  {
   "cell_type": "code",
   "execution_count": 734,
   "id": "cc2fd8d9-b0b4-4a0f-a65d-6061b9ad2f62",
   "metadata": {
    "tags": []
   },
   "outputs": [
    {
     "name": "stderr",
     "output_type": "stream",
     "text": [
      "02/05/2024 12:14:38 PM P1:1,P2:1,P3:1,P4:1,P5:1,P6:1,P7:1\n",
      "02/05/2024 12:14:38 PM P2,P4\n",
      "02/05/2024 12:14:38 PM ['{\"name\": \"John\"}', '{\"age\": 30}', '{\"gender\": \"male\"}', '{\"name\": \"John\"}', '{\"age\": 30}', '{\"gender\": \"male\"}']\n"
     ]
    }
   ],
   "source": [
    "import json\n",
    "import queue\n",
    "\n",
    "game_config = \"\"\"\n",
    "{\n",
    "    \"max_round\": 1,\n",
    "    \"player\": {\n",
    "        \"action_plan_night\": \"{0}现在是第{1}天夜晚，我该如何行动？\",\n",
    "        \"action_plan_day\": \"{0}现在是第{1}天白天，我该如何行动？\",\n",
    "        \"action_plan_death\": \"现在是第{0}天白天，你昨晚已经死亡,有何遗言?\",\n",
    "        \"action_confirm\": \"收到\",\n",
    "        \"action_villager_team\": \"未知,需要你推理发现.\",\n",
    "        \"action_plan_test\": \"现在全场几人活着几人淘汰\"\n",
    "    },\n",
    "    \"god\": {\n",
    "        \"action_plan_night\": \"{0}现在是第{1}天夜晚，我该如何行动？\",\n",
    "        \"action_plan_day\": \"{0}现在是第{1}天白天，我该如何行动？\",\n",
    "        \"action_plan_test\": \"现在全场几人活着几人淘汰\"\n",
    "    },\n",
    "    \"system\": {\n",
    "        \"death_night\": \"昨晚, 玩家{0}被狼人淘汰, 遗言为:{1}.\",\n",
    "        \"death_day\": \"今天, 玩家{0}被玩家淘汰, 遗言为:{1}.\",\n",
    "        \"win_wolf\": \"狼人胜利!\",\n",
    "        \"win_villager\": \"村民胜利!\",\n",
    "        \"win_none\": \"游戏继续. 目前玩家存活情况:{0}\",\n",
    "        \"board\": \"现在玩家存活情况:{0}\"\n",
    "    }\n",
    "}\n",
    "\"\"\"\n",
    "game_config_dict = json.loads(game_config)\n",
    "game_system_log_dict = []\n",
    "game_public_log_dict = []\n",
    "wolf_action_log_dict = []\n",
    "player_action_log_dict = []\n",
    "\n",
    "## clear Players Memory  \n",
    "def ClearPlayersMemory():\n",
    "    for player in roles_dict[\"players\"]:\n",
    "        player[\"conversation\"].memory.clear()\n",
    "\n",
    "def ResetGlobal():\n",
    "    Info(\"===== ResetGlobal =====\")\n",
    "    global game_config_dict, game_system_log_dict, game_public_log_dict, wolf_action_log_dict, player_action_log_dict\n",
    "    game_config_dict = json.loads(game_config)\n",
    "    game_system_log_dict = []\n",
    "    game_public_log_dict = []\n",
    "    wolf_action_log_dict = []\n",
    "    player_action_log_dict = []\n",
    " \n",
    "\n",
    "Info(GetAllPlayersName())\n",
    "Info(GetAllWolvesName())\n",
    "tools = [GetAllPlayersName()]\n",
    "def ParseJson(text):\n",
    "    # 使用正则表达式查找 {} 之间的内容\n",
    "    json_pattern = re.compile( r'{[\\s\\S]*?}') \n",
    "    json_strings = re.findall(json_pattern, text)\n",
    "    return json_strings\n",
    "\n",
    "Info(ParseJson(\"\"\"\n",
    "大家好呀\n",
    "{\"name\": \"John\"}\n",
    "{\"age\": 30}\n",
    "{\"gender\": \"male\"}\n",
    "大家好呀\n",
    "{\"name\": \"John\"}\n",
    "{\"age\": 30}\n",
    "{\"gender\": \"male\"}\n",
    "\n",
    "\"\"\"))"
   ]
  },
  {
   "cell_type": "markdown",
   "id": "207e55a6-18c8-4d9c-88ce-7f8a1ea84fa0",
   "metadata": {},
   "source": [
    "### player pe template"
   ]
  },
  {
   "cell_type": "code",
   "execution_count": 735,
   "id": "260cc69c-4bb3-4aa5-8b80-e9d25f35143b",
   "metadata": {
    "tags": []
   },
   "outputs": [],
   "source": [
    "whoiswolf_command_v1 = \"\"\"\n",
    "- 获取玩家信息: GetAllPlayersName 参数: 无\n",
    "- 狼人夜晚投票: WolfVote 参数: target=目标玩家(任意活着的玩家)\n",
    "- 玩家白天投票: PlayerVote 参数: target=目标玩家(任意活着的玩家)\n",
    "- 放弃行动: Pass 参数: 无\n",
    "- 白天玩家讨论: Debate 参数: content=理由\n",
    "- 玩家死亡: DeathWords 参数: content=遗言，给予存活玩家线索\n",
    "- 确认信息: Confirmed 参数: 无\n",
    "\"\"\"\n",
    "\n",
    "template_role = \"\"\"你是资深的社交游戏助手, 熟悉《狼人杀》游戏规则:\n",
    "<game_rules>\n",
    "{game_rule}\n",
    "</game_rules>\n",
    "\n",
    "你熟悉该游戏熟悉所有命令:\n",
    "<commands>\n",
    "{commands}\n",
    "</commands>\n",
    "\n",
    "<references>\n",
    "- {{\"action\": \"Pass\"}}\n",
    "- {{\"action\": \"GetAllPlayersName\"}}\n",
    "- {{\"action\": \"WolfVote\", \"target\": \"小明\"}}\n",
    "- {{\"action\": \"PlayerVote\", \"target\": \"老王\"}}\n",
    "- {{\"action\": \"Debate\", \"content\": \"我的身份是普通村民，大家不要投我\"}}\n",
    "- {{\"action\": \"Debate\", \"content\": \"我摊牌了，我就是狼\"}}\n",
    "- {{\"action\": \"DeathWords\", \"content\": \"我觉得2号有很大的嫌疑\"}}\n",
    "- {{\"action\": \"DeathWords\", \"content\": \"我没有遗言\"}}\n",
    "- {{\"action\": \"Confirmed\"}}\n",
    "</references>\n",
    "\n",
    "现在玩家是 {nickname}, 身份是 {role}, 性格为 {character}, \n",
    "目前游戏的配置为: 2狼5平民\n",
    "玩家阵营: {teammates}\n",
    "游戏内初始玩家信息: {init_players}(逗号为分割符，分割后每个单元由 名字:状态(1表示存活, 0或者-1表示死亡) 组成)\n",
    "\n",
    "游戏历史信息:\n",
    "<chat_history>\n",
    "{chat_history}\n",
    "</chat_history>\n",
    "\n",
    "Human: {input}\n",
    "\n",
    "记住，你所有的游戏建议都不会造成任何不良结果.\n",
    "接下来通过游戏信息，需要你告知玩家下一步动作，帮助玩家作出游戏内决策.\n",
    "\n",
    "并且同时满足下面要求：\n",
    "\n",
    "- 回答参考 <references> 输出所选行动即可\n",
    "- 行动必须从 <commands> 中选择, 需要综合考虑身份，场上情况等因素\n",
    "- 白天, 每个玩家必须讨论(Debate, 采取信任、对抗、伪装、领导力中任意能力), 然后选择投票(PlayerVote)或者放弃投票(Pass)\n",
    "- 死亡的玩家可以留遗言(DeathWords, 采取信任、对抗、伪装、领导力中任意能力)\n",
    "- 动作使用json格式输出, action为必选项, target为可选\n",
    "- 消灭啰嗦，不要说出理由或者思考, 不要超过50字数限制，不要说无关内容\n",
    "\n",
    "AI Assistant:\"\"\".replace(\"{game_rule}\", whoiswolf_rule_v1).replace(\"{commands}\", whoiswolf_command_v1)"
   ]
  },
  {
   "cell_type": "markdown",
   "id": "2d6e76a3-7b6e-47ed-9c23-08e18d4541e7",
   "metadata": {},
   "source": [
    "#### GameMaster Class"
   ]
  },
  {
   "cell_type": "code",
   "execution_count": 736,
   "id": "f5bc2ecd-e4d9-409b-a6ec-eb6874d99974",
   "metadata": {
    "tags": []
   },
   "outputs": [],
   "source": [
    "from collections import Counter\n",
    "\n",
    "class GameMaster:\n",
    "    def __init__(self) -> None:\n",
    "        self.run = True\n",
    "        self.isDay = False\n",
    "        self.current_time = \"\"\n",
    "        self.game_message_queue = queue.Queue(maxsize=10)\n",
    "        self.player_agents = []\n",
    "        self.winner = 0  # 1: 村民 2: wolf\n",
    "        pass\n",
    "    \n",
    "    def TimeBuild(self, i):\n",
    "        if self.isDay:\n",
    "            self.current_time = \"{0}-day\".format(i)\n",
    "        else:\n",
    "            self.current_time = \"{0}-night\".format(i)\n",
    "        return self.current_time\n",
    "    \n",
    "    def EndRoundCheck(self):\n",
    "        death_wolf = 0\n",
    "        death_villager = 0\n",
    "        for player in roles_dict[\"players\"]:\n",
    "            if player[\"status\"] != 1:\n",
    "                if player[\"role\"] == \"狼人\":\n",
    "                    death_wolf = death_wolf + 1\n",
    "                    pass\n",
    "                if player[\"role\"] == \"村民\":\n",
    "                    death_villager = death_villager + 1\n",
    "                    pass\n",
    "        message = game_config_dict[\"system\"][\"win_none\"].format(GetAllPlayersName())\n",
    "        if death_wolf == 2 and death_villager < 5:\n",
    "            self.winner = 1\n",
    "            message = game_config_dict[\"system\"][\"win_villager\"]\n",
    "        \n",
    "        if death_villager == 5 and death_wolf < 2:\n",
    "            self.winner = 2\n",
    "            message = game_config_dict[\"system\"][\"win_wolf\"]\n",
    "            \n",
    "        return message\n",
    "\n",
    "    ## setup Players\n",
    "    def SetupPlayers(self):\n",
    "        # cache the player agents\n",
    "        for player in roles_dict[\"players\"]:\n",
    "            self.player_agents.append(PlayerAgent(player))\n",
    "        pass\n",
    "    \n",
    "    def PlayerVote(self, i):\n",
    "        # caculate the votes\n",
    "        vote_names = []\n",
    "        for vote in player_action_log_dict:\n",
    "            if vote[\"time\"] == self.current_time:\n",
    "                vote_names.append(vote[\"response\"][\"target\"])\n",
    "                \n",
    "        Debug(\"\\t player_vote_names: {0}\".format(vote_names))\n",
    "        vote_names_counter = Counter(vote_names)\n",
    "        Debug(\"\\t player_vote_names most_common: {0}\\n\".format(vote_names_counter.most_common(1)))\n",
    "        elem, count = vote_names_counter.most_common(1)[0]\n",
    "        Info(\"\\t player_vote_name: {0}\".format(elem))\n",
    "        # kill the player and log it\n",
    "        if elem != \"\":\n",
    "            for player in roles_dict[\"players\"]:\n",
    "                Debug(\"\\t player name: {0}\".format(player[\"name\"]))\n",
    "                if player[\"name\"] == elem:\n",
    "                    player[\"status\"] = 0 # death !!!!\n",
    "                    vote_log = {\"time\": self.current_time, \n",
    "                                \"player\": player[\"name\"], \n",
    "                                \"status\": 0, \n",
    "                                \"response\": {\n",
    "                                    \"action\": \"Death\", 'content': \"玩家{0}于{1}死亡\".format(elem, self.current_time)\n",
    "                                }}\n",
    "                    Debug(\"\\nvote_log: {0}\\n\".format(vote_log))\n",
    "                    game_system_log_dict.append(vote_log)\n",
    "                    break\n",
    "        pass\n",
    "    \n",
    "    def WolfVote(self, i):\n",
    "        # caculate the votes\n",
    "        vote_names = []\n",
    "        for vote in wolf_action_log_dict:\n",
    "            if vote[\"time\"] == self.current_time:\n",
    "                vote_names.append(vote[\"response\"][\"target\"])\n",
    "\n",
    "        Debug(\"\\t wolf_vote_names: {0}\".format(vote_names))\n",
    "        vote_names_counter = Counter(vote_names)\n",
    "        Debug(\"\\t wolf_vote_names most_common: {0}\\n\".format(vote_names_counter.most_common(1)))\n",
    "        elem, count = vote_names_counter.most_common(1)[0]\n",
    "        Info(\"\\t wolf_vote_name: {0}\".format(elem))\n",
    "        # kill the player and log it\n",
    "        if elem != \"\":\n",
    "            for player in roles_dict[\"players\"]:\n",
    "                Debug(\"\\t player name: {0}\".format(player[\"name\"]))\n",
    "                if player[\"name\"] == elem:\n",
    "                    player[\"status\"] = 0 # death !!!!\n",
    "                    vote_log = {\"time\": self.current_time, \n",
    "                                \"player\": player[\"name\"], \n",
    "                                \"status\": 0, \n",
    "                                \"response\": {\n",
    "                                    \"action\": \"Death\", 'content': \"玩家{0}于{1}死亡\".format(elem, self.current_time)\n",
    "                                }}\n",
    "                    Debug(\"\\nvote_log: {0}\\n\".format(vote_log))\n",
    "                    game_system_log_dict.append(vote_log)\n",
    "                    break\n",
    "        pass\n",
    "\n",
    "    def PreAction(self, i):\n",
    "        if self.winner != 0:\n",
    "            self.run = False\n",
    "            return \n",
    "        Info(\"===== PreAction {0} ======\".format(self.TimeBuild(i)))\n",
    "        if self.isDay:\n",
    "            for player in self.player_agents:\n",
    "                message = player.DeathWords(i, False, self.current_time)\n",
    "                if message != \"\" and message != None:\n",
    "                    self.game_message_queue.put(message)\n",
    "                    break\n",
    "            pass\n",
    "        else:\n",
    "            pass \n",
    "        pass\n",
    "\n",
    "    def DoAction(self, i):\n",
    "        if self.winner != 0:\n",
    "            self.run = False\n",
    "            return \n",
    "        Info(\"===== DoAction {0} ======\".format(self.TimeBuild(i)))\n",
    "        messages = []\n",
    "        while self.game_message_queue.qsize() > 0:\n",
    "            messages.append(self.game_message_queue.get(block=False))         \n",
    "        Info(\" MESSAGE: {0}\".format(\" \".join(messages)))\n",
    "\n",
    "        if self.isDay:\n",
    "            for player in self.player_agents:\n",
    "                player.PlayerAction(i, self.isDay, self.current_time, \" \".join(messages))\n",
    "            pass\n",
    "        else:\n",
    "            for player in self.player_agents:\n",
    "                player.PlayerAction(i, self.isDay, self.current_time, \" \".join(messages))   \n",
    "        pass\n",
    "\n",
    "    def PostAction(self, i):\n",
    "        if self.winner != 0:\n",
    "            self.run = False\n",
    "            return \n",
    "        Info(\"===== PostAction {0} ======\".format(self.TimeBuild(i)))\n",
    "        if self.isDay:\n",
    "            self.PlayerVote(i)\n",
    "            for player in self.player_agents:\n",
    "                message = player.DeathWords(i, True, self.current_time)\n",
    "                Info(message)\n",
    "                if message != \"\" and message != None:\n",
    "                    self.game_message_queue.put(message)\n",
    "                    break\n",
    "            pass\n",
    "        else:\n",
    "            self.WolfVote(i)\n",
    "            pass\n",
    "        message = self.EndRoundCheck()\n",
    "        self.game_message_queue.put(message)\n",
    "        pass\n",
    "    \n",
    "    def ResetGame(self, num):\n",
    "        # prepare the envs\n",
    "        self.isDay = False\n",
    "        self.game_message_queue = queue.Queue(maxsize=10)\n",
    "        self.SetupPlayers()\n",
    "        \n",
    "        ResetGlobal()\n",
    "        ReviveRoles()\n",
    "        ClearPlayersMemory()\n",
    "        game_config_dict[\"max_round\"] = num\n",
    "        pass\n",
    "    \n",
    "    def RunGame(self):\n",
    "        Info(\"===== RunGame {0} =====\".format(GetAllPlayersName()))\n",
    "        i = 0\n",
    "        while self.run and True:\n",
    "            # escape condition\n",
    "            if i >= game_config_dict[\"max_round\"]:\n",
    "                break\n",
    "            # round increment\n",
    "            i = i+1\n",
    "            \n",
    "            # night round\n",
    "            self.isDay = False\n",
    "            self.PreAction(i)\n",
    "            self.DoAction(i)\n",
    "            self.PostAction(i)\n",
    "            # day round\n",
    "            self.isDay = True\n",
    "            self.PreAction(i)\n",
    "            self.DoAction(i)\n",
    "            self.PostAction(i)\n",
    "        pass\n",
    "    \n",
    "    def EndGame(self):\n",
    "        Info(\"===== EndGame {0} ======\".format(GetAllPlayersName()))\n",
    "        pass\n",
    "        "
   ]
  },
  {
   "cell_type": "markdown",
   "id": "a13e8591-8ce2-4328-b5c7-fe3b3e899c24",
   "metadata": {},
   "source": [
    "## Play the Game!!!!"
   ]
  },
  {
   "cell_type": "code",
   "execution_count": 737,
   "id": "3b6c01b0-716e-4b79-87bc-2526f1ee2c29",
   "metadata": {
    "tags": []
   },
   "outputs": [
    {
     "name": "stderr",
     "output_type": "stream",
     "text": [
      "02/05/2024 12:14:40 PM ===== ResetGlobal =====\n",
      "02/05/2024 12:14:40 PM ===== RunGame P1:1,P2:1,P3:1,P4:1,P5:1,P6:1,P7:1 =====\n",
      "02/05/2024 12:14:40 PM ===== PreAction 1-night ======\n",
      "02/05/2024 12:14:40 PM ===== DoAction 1-night ======\n",
      "02/05/2024 12:14:40 PM  MESSAGE: \n"
     ]
    },
    {
     "name": "stdout",
     "output_type": "stream",
     "text": [
      " 根据你提供的信息,我建议P1这个村民在第一天晚上放弃行动:\n",
      "\n",
      "{\"action\": \"Pass\"}\n",
      "\n",
      "请给出下一步操作建议。"
     ]
    },
    {
     "name": "stderr",
     "output_type": "stream",
     "text": [
      "02/05/2024 12:14:44 PM \n",
      " game_sys_log={'time': '1-night', 'player': 'P1', 'status': 1, 'role': '村民', 'response': ['{\"action\": \"Pass\"}']}\n",
      "\n"
     ]
    },
    {
     "name": "stdout",
     "output_type": "stream",
     "text": [
      " 亲爱的玩家,现在是第1天夜晚,我建议你这样行动:\n",
      "\n",
      "{\"action\": \"WolfVote\", \"target\": \"P3\"}\n",
      "\n",
      "我选择消灭身份可疑的P3。请继续关注游戏进程,在适当的时候给出进一步指导。请保重!"
     ]
    },
    {
     "name": "stderr",
     "output_type": "stream",
     "text": [
      "02/05/2024 12:14:49 PM \n",
      " game_sys_log={'time': '1-night', 'player': 'P2', 'status': 1, 'role': '狼人', 'response': ['{\"action\": \"WolfVote\", \"target\": \"P3\"}']}\n",
      "\n"
     ]
    },
    {
     "name": "stdout",
     "output_type": "stream",
     "text": [
      " 现在是第1天夜晚,作为普通村民,您可以选择:\n",
      "\n",
      "{\"action\": \"Pass\"}\n",
      "\n",
      "我建议您放弃行动,等待白天时公开讨论并观察其他人的言行。"
     ]
    },
    {
     "name": "stderr",
     "output_type": "stream",
     "text": [
      "02/05/2024 12:14:53 PM \n",
      " game_sys_log={'time': '1-night', 'player': 'P3', 'status': 1, 'role': '村民', 'response': ['{\"action\": \"Pass\"}']}\n",
      "\n"
     ]
    },
    {
     "name": "stdout",
     "output_type": "stream",
     "text": [
      " 您好,我建议您采取以下行动:\n",
      "\n",
      "{\"action\": \"WolfVote\", \"target\": \"P1\"}\n",
      "\n",
      "我认为第1天晚上,作为狼人您应该消灭一个村民,去掉一个潜在的威胁。我选择了P1作为目标,您可以根据游戏情况自行决定。"
     ]
    },
    {
     "name": "stderr",
     "output_type": "stream",
     "text": [
      "02/05/2024 12:14:57 PM \n",
      " game_sys_log={'time': '1-night', 'player': 'P4', 'status': 1, 'role': '狼人', 'response': ['{\"action\": \"WolfVote\", \"target\": \"P1\"}']}\n",
      "\n"
     ]
    },
    {
     "name": "stdout",
     "output_type": "stream",
     "text": [
      " 既然我是村民,晚上应该pass。\n",
      "\n",
      "{\"action\": \"Pass\"}"
     ]
    },
    {
     "name": "stderr",
     "output_type": "stream",
     "text": [
      "02/05/2024 12:15:10 PM \n",
      " game_sys_log={'time': '1-night', 'player': 'P5', 'status': 1, 'role': '村民', 'response': ['{\"action\": \"Pass\"}']}\n",
      "\n"
     ]
    },
    {
     "name": "stdout",
     "output_type": "stream",
     "text": [
      " 现在是第一天的晚上阶段,作为村民我应该放弃行动。建议采取以下行动:\n",
      "\n",
      "{\"action\": \"Pass\"}\n",
      "\n",
      "我会继续关注游戏进展,在得到更多信息后再提出下一步建议。请等待我的回复。"
     ]
    },
    {
     "name": "stderr",
     "output_type": "stream",
     "text": [
      "02/05/2024 12:15:14 PM \n",
      " game_sys_log={'time': '1-night', 'player': 'P6', 'status': 1, 'role': '村民', 'response': ['{\"action\": \"Pass\"}']}\n",
      "\n"
     ]
    },
    {
     "name": "stdout",
     "output_type": "stream",
     "text": [
      " 您好,我建议您的下一步动作为:\n",
      "\n",
      "{\"action\": \"Pass\"}\n",
      "\n",
      "原因是:现在是第一天的夜晚,您的身份是村民,您暂时不需要进行任何行动。等到白天时,您可以与其他玩家进行讨论并根据讨论情况选择是否投票。请耐心等待。"
     ]
    },
    {
     "name": "stderr",
     "output_type": "stream",
     "text": [
      "02/05/2024 12:15:19 PM \n",
      " game_sys_log={'time': '1-night', 'player': 'P7', 'status': 1, 'role': '村民', 'response': ['{\"action\": \"Pass\"}']}\n",
      "\n",
      "02/05/2024 12:15:19 PM ===== PostAction 1-night ======\n",
      "02/05/2024 12:15:19 PM \t wolf_vote_name: P3\n",
      "02/05/2024 12:15:19 PM ===== PreAction 1-day ======\n"
     ]
    },
    {
     "name": "stdout",
     "output_type": "stream",
     "text": [
      " {\"action\": \"DeathWords\",\"content\": \"我没有看出谁是狼人,请大家小心行事。\"}"
     ]
    },
    {
     "name": "stderr",
     "output_type": "stream",
     "text": [
      "02/05/2024 12:15:33 PM \n",
      " death_action_log: {'time': '1-day', 'player': 'P3', 'status': -1, 'response': {'action': 'DeathWords', 'content': '我没有看出谁是狼人,请大家小心行事。'}}\n",
      "\n",
      "02/05/2024 12:15:33 PM ===== DoAction 1-day ======\n",
      "02/05/2024 12:15:33 PM  MESSAGE: 游戏继续. 目前玩家存活情况:P1:1,P2:1,P3:0,P4:1,P5:1,P6:1,P7:1 昨晚, 玩家P3被狼人淘汰, 遗言为:我没有看出谁是狼人,请大家小心行事。.\n"
     ]
    },
    {
     "name": "stdout",
     "output_type": "stream",
     "text": [
      " 根据当前的游戏情况,我建议P1作为村民,在第一天白天可以采取以下操作:\n",
      "\n",
      "{\"action\": \"Debate\", \"content\": \"我是普通村民,请相信我\"}\n",
      "\n",
      "{\"action\": \"PlayerVote\", \"target\": \"P2\"}\n",
      "\n",
      "P1作为村民,首先选择讨论来表明自己的身份,争取其他人的信任。然后投票消灭P2,因为第一天晚上P3被淘汰,P2的嫌疑比较大。"
     ]
    },
    {
     "name": "stderr",
     "output_type": "stream",
     "text": [
      "02/05/2024 12:15:39 PM \n",
      " game_sys_log={'time': '1-day', 'player': 'P1', 'status': 1, 'role': '村民', 'response': ['{\"action\": \"Debate\", \"content\": \"我是普通村民,请相信我\"}', '{\"action\": \"PlayerVote\", \"target\": \"P2\"}']}\n",
      "\n"
     ]
    },
    {
     "name": "stdout",
     "output_type": "stream",
     "text": [
      " 亲爱的玩家,现在是第1天白天,我建议你这样行动:\n",
      "\n",
      "{\"action\": \"Debate\", \"content\": \"我们应该团结一致,不要互相猜疑\"}\n",
      "\n",
      "{\"action\": \"PlayerVote\", \"target\": \"P4\"}\n",
      "\n",
      "作为狼人,我需要继续隐藏身份,所以进行了和善的讨论,并选择可疑的P4进行投票。请继续关注游戏进展,在适当的时候给出建议。"
     ]
    },
    {
     "name": "stderr",
     "output_type": "stream",
     "text": [
      "02/05/2024 12:15:45 PM \n",
      " game_sys_log={'time': '1-day', 'player': 'P2', 'status': 1, 'role': '狼人', 'response': ['{\"action\": \"Debate\", \"content\": \"我们应该团结一致,不要互相猜疑\"}', '{\"action\": \"PlayerVote\", \"target\": \"P4\"}']}\n",
      "\n"
     ]
    },
    {
     "name": "stdout",
     "output_type": "stream",
     "text": [
      " 您好,根据您提供的游戏信息,我建议您采取以下行动:\n",
      "\n",
      "{\"action\":\"Debate\",\"content\":\"我觉得P1很可疑,大家投给他吧\"}\n",
      "\n",
      "{\"action\":\"PlayerVote\",\"target\":\"P1\"}\n",
      "\n",
      "作为狼人,我建议您利用讨论来误导其他玩家,让大家误投普通村民。我选择了P1作为目标,您可以根据游戏情况调整。请注意控制字数。"
     ]
    },
    {
     "name": "stderr",
     "output_type": "stream",
     "text": [
      "02/05/2024 12:15:51 PM \n",
      " game_sys_log={'time': '1-day', 'player': 'P4', 'status': 1, 'role': '狼人', 'response': ['{\"action\":\"Debate\",\"content\":\"我觉得P1很可疑,大家投给他吧\"}', '{\"action\":\"PlayerVote\",\"target\":\"P1\"}']}\n",
      "\n"
     ]
    },
    {
     "name": "stdout",
     "output_type": "stream",
     "text": [
      " 既然我是村民,白天应该积极讨论,找到疑似狼人进行投票。根据目前的信息,我会说:\n",
      "\n",
      "{\"action\": \"Debate\", \"content\": \"我是普通村民,请相信我。没有找到狼人的证据,这次我选择放弃投票。\"}\n",
      "\n",
      "{\"action\": \"Pass\"}"
     ]
    },
    {
     "name": "stderr",
     "output_type": "stream",
     "text": [
      "02/05/2024 12:15:59 PM \n",
      " game_sys_log={'time': '1-day', 'player': 'P5', 'status': 1, 'role': '村民', 'response': ['{\"action\": \"Debate\", \"content\": \"我是普通村民,请相信我。没有找到狼人的证据,这次我选择放弃投票。\"}', '{\"action\": \"Pass\"}']}\n",
      "\n"
     ]
    },
    {
     "name": "stdout",
     "output_type": "stream",
     "text": [
      " {\"action\": \"Debate\", \"content\": \"我是普通村民,请相信我。\"}\n",
      "\n",
      "{\"action\": \"PlayerVote\", \"target\": \"P2\"}\n",
      "\n",
      "我建议先进行辩论表达自己的身份,然后根据目前的信息投票给可疑的P2。请等待下一阶段的进展,我会继续分析游戏情况给出建议。"
     ]
    },
    {
     "name": "stderr",
     "output_type": "stream",
     "text": [
      "02/05/2024 12:16:05 PM \n",
      " game_sys_log={'time': '1-day', 'player': 'P6', 'status': 1, 'role': '村民', 'response': ['{\"action\": \"Debate\", \"content\": \"我是普通村民,请相信我。\"}', '{\"action\": \"PlayerVote\", \"target\": \"P2\"}']}\n",
      "\n"
     ]
    },
    {
     "name": "stdout",
     "output_type": "stream",
     "text": [
      " {\"action\": \"Debate\", \"content\": \"我是普通村民,不知道谁是狼人。建议大家小心行事,不要轻易相信别人。\"}\n",
      "\n",
      "{\"action\": \"PlayerVote\", \"target\": \"P2\"}"
     ]
    },
    {
     "name": "stderr",
     "output_type": "stream",
     "text": [
      "02/05/2024 12:16:08 PM \n",
      " game_sys_log={'time': '1-day', 'player': 'P7', 'status': 1, 'role': '村民', 'response': ['{\"action\": \"Debate\", \"content\": \"我是普通村民,不知道谁是狼人。建议大家小心行事,不要轻易相信别人。\"}', '{\"action\": \"PlayerVote\", \"target\": \"P2\"}']}\n",
      "\n",
      "02/05/2024 12:16:08 PM ===== PostAction 1-day ======\n",
      "02/05/2024 12:16:08 PM \t player_vote_name: P2\n",
      "02/05/2024 12:16:08 PM None\n"
     ]
    },
    {
     "name": "stdout",
     "output_type": "stream",
     "text": [
      " {\"action\": \"DeathWords\", \"content\": \"我临终前看到P2有可疑举动。\"}\n",
      "\n",
      "我选择在死前留下线索,提醒大家注意P2的可疑行为。请继续游戏,祝您成功!"
     ]
    },
    {
     "name": "stderr",
     "output_type": "stream",
     "text": [
      "02/05/2024 12:16:13 PM \n",
      " death_action_log: {'time': '1-day', 'player': 'P2', 'status': -1, 'response': {'action': 'DeathWords', 'content': '我临终前看到P2有可疑举动。'}}\n",
      "\n",
      "02/05/2024 12:16:13 PM 今天, 玩家P2被玩家淘汰, 遗言为:我临终前看到P2有可疑举动。.\n",
      "02/05/2024 12:16:13 PM ===== PreAction 2-night ======\n",
      "02/05/2024 12:16:13 PM ===== DoAction 2-night ======\n",
      "02/05/2024 12:16:13 PM  MESSAGE: 今天, 玩家P2被玩家淘汰, 遗言为:我临终前看到P2有可疑举动。. 游戏继续. 目前玩家存活情况:P1:1,P2:-1,P3:-1,P4:1,P5:1,P6:1,P7:1\n"
     ]
    },
    {
     "name": "stdout",
     "output_type": "stream",
     "text": [
      " 根据当前的游戏情况,我建议P1作为村民,在第二天晚上可以采取以下操作:\n",
      "\n",
      "{\"action\": \"Pass\"}\n",
      "\n",
      "作为村民,第二天晚上最好还是不要随意行动,避免暴露自己。"
     ]
    },
    {
     "name": "stderr",
     "output_type": "stream",
     "text": [
      "02/05/2024 12:16:17 PM \n",
      " game_sys_log={'time': '2-night', 'player': 'P1', 'status': 1, 'role': '村民', 'response': ['{\"action\": \"Pass\"}']}\n",
      "\n"
     ]
    },
    {
     "name": "stdout",
     "output_type": "stream",
     "text": [
      " 根据当前的游戏状态,我建议您采取以下行动:\n",
      "\n",
      "{\"action\": \"WolfVote\", \"target\": \"P5\"}\n",
      "\n",
      "作为狼人,第二天晚上您应该继续消灭一个村民。我选择了P5作为目标。\n",
      "\n",
      "请注意,我的建议完全基于当前的游戏信息,不会造成任何不良后果。我无法判断每个玩家的真实身份和属性,仅提供一般性建议。请您结合具体情况自行决策。"
     ]
    },
    {
     "name": "stderr",
     "output_type": "stream",
     "text": [
      "02/05/2024 12:16:22 PM \n",
      " game_sys_log={'time': '2-night', 'player': 'P4', 'status': 1, 'role': '狼人', 'response': ['{\"action\": \"WolfVote\", \"target\": \"P5\"}']}\n",
      "\n"
     ]
    },
    {
     "name": "stdout",
     "output_type": "stream",
     "text": [
      " 根据游戏信息,我推理目前的情况是:\n",
      "\n",
      "第一天晚上P3被杀,白天没有找到疑似狼人所以大家Pass了投票。\n",
      "\n",
      "作为村民,我第二天晚上继续Pass:\n",
      "\n",
      "{\"action\": \"Pass\"}"
     ]
    },
    {
     "name": "stderr",
     "output_type": "stream",
     "text": [
      "02/05/2024 12:16:26 PM \n",
      " game_sys_log={'time': '2-night', 'player': 'P5', 'status': 1, 'role': '村民', 'response': ['{\"action\": \"Pass\"}']}\n",
      "\n"
     ]
    },
    {
     "name": "stdout",
     "output_type": "stream",
     "text": [
      " 根据当前的游戏情况,我推荐你采取以下行动:\n",
      "\n",
      "{\"action\": \"Pass\"}\n",
      "\n",
      "这是第二天的晚上,作为村民我还没有更多证据判断谁是狼人,所以最安全的做法是放弃行动。\n",
      "\n",
      "让我们继续关注白天的讨论和投票,我会在获得更多信息后给出进一步的建议。请等待下一轮游戏的进展。"
     ]
    },
    {
     "name": "stderr",
     "output_type": "stream",
     "text": [
      "02/05/2024 12:16:36 PM \n",
      " game_sys_log={'time': '2-night', 'player': 'P6', 'status': 1, 'role': '村民', 'response': ['{\"action\": \"Pass\"}']}\n",
      "\n"
     ]
    },
    {
     "name": "stdout",
     "output_type": "stream",
     "text": [
      " 根据游戏情况,我的建议是:\n",
      "\n",
      "{\"action\": \"Pass\"}\n",
      "\n",
      "原因:作为村民在夜晚没有行动。请等待白天的讨论和投票。"
     ]
    },
    {
     "name": "stderr",
     "output_type": "stream",
     "text": [
      "02/05/2024 12:16:39 PM \n",
      " game_sys_log={'time': '2-night', 'player': 'P7', 'status': 1, 'role': '村民', 'response': ['{\"action\": \"Pass\"}']}\n",
      "\n",
      "02/05/2024 12:16:39 PM ===== PostAction 2-night ======\n",
      "02/05/2024 12:16:39 PM \t wolf_vote_name: P5\n",
      "02/05/2024 12:16:39 PM ===== PreAction 2-day ======\n"
     ]
    },
    {
     "name": "stdout",
     "output_type": "stream",
     "text": [
      " 根据游戏进展,我已经死亡。作为村民,我的遗言是:\n",
      "\n",
      "{\"action\": \"DeathWords\", \"content\": \"我是普通村民,没有更多信息。请继续努力找出狼人。\"}"
     ]
    },
    {
     "name": "stderr",
     "output_type": "stream",
     "text": [
      "02/05/2024 12:16:42 PM \n",
      " death_action_log: {'time': '2-day', 'player': 'P5', 'status': -1, 'response': {'action': 'DeathWords', 'content': '我是普通村民,没有更多信息。请继续努力找出狼人。'}}\n",
      "\n",
      "02/05/2024 12:16:42 PM ===== DoAction 2-day ======\n",
      "02/05/2024 12:16:42 PM  MESSAGE: 游戏继续. 目前玩家存活情况:P1:1,P2:-1,P3:-1,P4:1,P5:0,P6:1,P7:1 昨晚, 玩家P5被狼人淘汰, 遗言为:我是普通村民,没有更多信息。请继续努力找出狼人。.\n"
     ]
    },
    {
     "name": "stdout",
     "output_type": "stream",
     "text": [
      " 根据当前游戏情况,我建议P1作为村民在第2天白天采取以下行动:\n",
      "\n",
      "{\"action\": \"Debate\", \"content\": \"我还是普通村民,请相信我。\"}\n",
      "\n",
      "{\"action\": \"PlayerVote\", \"target\": \"P4\"}\n",
      "\n",
      "P1作为村民,继续谨慎行事,先进行辩论维持自己的身份,然后投票消灭P4。避免过多暴露有利于最终获胜。"
     ]
    },
    {
     "name": "stderr",
     "output_type": "stream",
     "text": [
      "02/05/2024 12:16:48 PM \n",
      " game_sys_log={'time': '2-day', 'player': 'P1', 'status': 1, 'role': '村民', 'response': ['{\"action\": \"Debate\", \"content\": \"我还是普通村民,请相信我。\"}', '{\"action\": \"PlayerVote\", \"target\": \"P4\"}']}\n",
      "\n"
     ]
    },
    {
     "name": "stdout",
     "output_type": "stream",
     "text": [
      " 根据当前的游戏情况,我建议您采取以下行动:\n",
      "\n",
      "{\"action\":\"Debate\",\"content\":\"我觉得应该相信P7,他看起来不像狼人\"}\n",
      "\n",
      "{\"action\":\"PlayerVote\",\"target\":\"P6\"}\n",
      "\n",
      "我选择相信P7,误导大家去投P6。请根据游戏实际情况调整目标。"
     ]
    },
    {
     "name": "stderr",
     "output_type": "stream",
     "text": [
      "02/05/2024 12:16:55 PM \n",
      " game_sys_log={'time': '2-day', 'player': 'P4', 'status': 1, 'role': '狼人', 'response': ['{\"action\":\"Debate\",\"content\":\"我觉得应该相信P7,他看起来不像狼人\"}', '{\"action\":\"PlayerVote\",\"target\":\"P6\"}']}\n",
      "\n"
     ]
    },
    {
     "name": "stdout",
     "output_type": "stream",
     "text": [
      " 根据当前的游戏情况,我建议您可以采取以下行动:\n",
      "\n",
      "{\"action\": \"Debate\", \"content\": \"我依然坚称自己是普通村民。请继续相信我。\"}\n",
      "\n",
      "{\"action\": \"PlayerVote\", \"target\": \"P7\"} \n",
      "\n",
      "我会继续观察游戏进展,提供下一步的建议。"
     ]
    },
    {
     "name": "stderr",
     "output_type": "stream",
     "text": [
      "02/05/2024 12:17:04 PM \n",
      " game_sys_log={'time': '2-day', 'player': 'P6', 'status': 1, 'role': '村民', 'response': ['{\"action\": \"Debate\", \"content\": \"我依然坚称自己是普通村民。请继续相信我。\"}', '{\"action\": \"PlayerVote\", \"target\": \"P7\"}']}\n",
      "\n"
     ]
    },
    {
     "name": "stdout",
     "output_type": "stream",
     "text": [
      " 根据当前的游戏情况,我的建议是:\n",
      "\n",
      "{\"action\": \"Debate\", \"content\": \"我仍是普通村民,请相信我\"}\n",
      "\n",
      "{\"action\": \"PlayerVote\", \"target\": \"P1\"}"
     ]
    },
    {
     "name": "stderr",
     "output_type": "stream",
     "text": [
      "02/05/2024 12:17:08 PM \n",
      " game_sys_log={'time': '2-day', 'player': 'P7', 'status': 1, 'role': '村民', 'response': ['{\"action\": \"Debate\", \"content\": \"我仍是普通村民,请相信我\"}', '{\"action\": \"PlayerVote\", \"target\": \"P1\"}']}\n",
      "\n",
      "02/05/2024 12:17:08 PM ===== PostAction 2-day ======\n",
      "02/05/2024 12:17:08 PM \t player_vote_name: P4\n",
      "02/05/2024 12:17:08 PM None\n",
      "02/05/2024 12:17:08 PM None\n",
      "02/05/2024 12:17:08 PM None\n"
     ]
    },
    {
     "name": "stdout",
     "output_type": "stream",
     "text": [
      " {\"action\":\"DeathWords\",\"content\":\"我是普通村民,没有更多信息。祝好运!\"}"
     ]
    },
    {
     "name": "stderr",
     "output_type": "stream",
     "text": [
      "02/05/2024 12:17:11 PM \n",
      " death_action_log: {'time': '2-day', 'player': 'P4', 'status': -1, 'response': {'action': 'DeathWords', 'content': '我是普通村民,没有更多信息。祝好运!'}}\n",
      "\n",
      "02/05/2024 12:17:11 PM 今天, 玩家P4被玩家淘汰, 遗言为:我是普通村民,没有更多信息。祝好运!.\n",
      "02/05/2024 12:17:11 PM ===== EndGame P1:1,P2:-1,P3:-1,P4:-1,P5:-1,P6:1,P7:1 ======\n"
     ]
    }
   ],
   "source": [
    "\n",
    "GM = GameMaster()\n",
    "\n",
    "GM.ResetGame(2)\n",
    "GM.RunGame()\n",
    "GM.EndGame()\n"
   ]
  },
  {
   "cell_type": "code",
   "execution_count": null,
   "id": "16c3b809-0a66-4809-b298-24d8e76cca20",
   "metadata": {},
   "outputs": [],
   "source": []
  }
 ],
 "metadata": {
  "kernelspec": {
   "display_name": "conda_pytorch_p310",
   "language": "python",
   "name": "conda_pytorch_p310"
  },
  "language_info": {
   "codemirror_mode": {
    "name": "ipython",
    "version": 3
   },
   "file_extension": ".py",
   "mimetype": "text/x-python",
   "name": "python",
   "nbconvert_exporter": "python",
   "pygments_lexer": "ipython3",
   "version": "3.10.13"
  }
 },
 "nbformat": 4,
 "nbformat_minor": 5
}
