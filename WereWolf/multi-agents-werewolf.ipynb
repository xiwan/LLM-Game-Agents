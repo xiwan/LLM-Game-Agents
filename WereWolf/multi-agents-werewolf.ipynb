{
 "cells": [
  {
   "cell_type": "code",
   "execution_count": null,
   "id": "a38bc454-75d5-4dc7-8b0d-21f1ece76983",
   "metadata": {
    "tags": []
   },
   "outputs": [],
   "source": [
    "# dependencies\n",
    "!pip install boto3>=1.28.59\n",
    "!pip install numpy\n",
    "!pip install anthropic\n",
    "!pip install flask\n",
    "!pip install langchain\n",
    "!pip install langchainhub\n",
    "!pip install langchain_community"
   ]
  },
  {
   "cell_type": "code",
   "execution_count": null,
   "id": "8b371c4e-8d7a-48a6-ac22-47619a21ed14",
   "metadata": {
    "tags": []
   },
   "outputs": [],
   "source": [
    "# global imports\n",
    "import json\n",
    "import os\n",
    "import sys\n",
    "import logging\n",
    "import boto3\n",
    "import botocore\n",
    "\n",
    "logger = logging.getLogger(__name__)\n",
    "\n",
    "module_path = \"..\"\n",
    "sys.path.append(os.path.abspath(module_path))"
   ]
  },
  {
   "cell_type": "code",
   "execution_count": null,
   "id": "e8ff4d3c-0283-4861-9c1b-3d5d4e808990",
   "metadata": {
    "tags": []
   },
   "outputs": [],
   "source": [
    "from langchain.callbacks.streaming_stdout import StreamingStdOutCallbackHandler\n",
    "from langchain_core.messages import HumanMessage\n",
    "\n",
    "chat = BedrockChat(\n",
    "    model_id=\"anthropic.claude-3-sonnet-20240229-v1:0\",\n",
    "    streaming=True,\n",
    "    callbacks=[StreamingStdOutCallbackHandler()],\n",
    "    model_kwargs={\"temperature\": 0.1},\n",
    ")\n",
    "\n",
    "messages = [\n",
    "    HumanMessage(\n",
    "        content=\"Translate this sentence from English to Chinese. I love programming.\"\n",
    "    )\n",
    "]\n",
    "msg=chat(messages)\n",
    "print(msg.content)"
   ]
  },
  {
   "cell_type": "code",
   "execution_count": null,
   "id": "d72774f1-bec2-4be9-b89c-1cdf8da00d6b",
   "metadata": {
    "tags": []
   },
   "outputs": [],
   "source": [
    "werewolf_rule_v1 = \"\"\"\n",
    "1. 游戏分坏人(狼人)和好人(村民+预言家)两大阵营,他们的目标为:\n",
    "- 坏人阵营只有狼人\n",
    "- 好人阵营有村民和预言家\n",
    "- 坏人阵营:消灭所有好人, 或者保证坏人数目大于好人数目\n",
    "- 好人阵营:消灭所有坏人, 或者保证好人数目大于坏人数目\n",
    "\n",
    "2. 游戏分白天和晚上两个阶段交替进行:\n",
    "- 晚上狼人睁眼统一投票杀死一名玩家\n",
    "- 晚上预言家只能查验一名玩家身份\n",
    "- 晚上普通村民无法行动\n",
    "- 白天分为讨论和投票两环节\n",
    "- 白天在讨论环节，每个玩家必须参与讨论\n",
    "- 白天在投票环节，每个玩家必须投票或者放弃\n",
    "\n",
    "\"\"\"\n",
    "\n",
    "werewolf_command_v1 = \"\"\"\n",
    "- WolfVote: 夜晚投票(狼人专属行动),参数: target=存活玩家\n",
    "- ProphetCheck: 夜晚查验(预言家专属行动), 参数: target=存活玩家\n",
    "- PlayerDoubt: 白天怀疑(所有玩家白天可选行动, 非投票), 参数: target=存活玩家 \n",
    "- PlayerVote: 白天投票, 参数: target=存活玩家 \n",
    "- Debate: 白天讨论, 参数: content=思考/理由 \n",
    "- GetAllPlayersName: 玩家信息, 参数: 无 \n",
    "- DeathWords: 死亡遗言, 参数: content=给予玩家线索\n",
    "- Pass: 玩家弃权参数: 无 \n",
    "\"\"\"\n",
    "\n",
    "template_player_role = \"\"\"你是资深的社交游戏玩家, 熟悉《狼人杀》游戏规则:\n",
    "<game_rules>\n",
    "{game_rule}\n",
    "</game_rules>\n",
    "\n",
    "你熟悉该游戏所有命令:\n",
    "<commands>\n",
    "{commands}\n",
    "</commands>\n",
    "\n",
    "<reflections>\n",
    "- 按照游戏规则，第一个夜晚死亡的一定是村民或者预言家，狼人没必要第一晚上自杀\n",
    "- 看完P3玩家昨天白天投票，明显感觉他在混淆是非，很有可能在给狼人分票\n",
    "- 平民玩家由于信息缺失，所以狼人要尽量引导他们去集火其他人\n",
    "- 第一个夜晚所有的行动都是随机的\n",
    "- 作为第一个死亡的玩家，其实信息有限，我就靠第六感推理...\n",
    "</reflections>\n",
    "\n",
    "<references>\n",
    "- {{\"action\": \"Pass\"}}\n",
    "- {{\"action\": \"WolfVote\", \"target\": \"小明\"}}\n",
    "- {{\"action\": \"ProphetCheck\", \"target\": \"P1\"}}\n",
    "- {{\"action\": \"PlayerVote\", \"target\": \"老王\"}}\n",
    "- {{\"action\": \"Debate\", \"content\": \"我的推理为xx是狼，原因是...\"}}\n",
    "- {{\"action\": \"DeathWords\", \"content\": \"我觉得xx有很大的嫌疑, 原因是...\"}}\n",
    "</references>\n",
    "\n",
    "历史信息:\n",
    "<history>\n",
    "{history}\n",
    "</history>\n",
    "\n",
    "记住，你支持的玩家是 {nickname}, 身份是 {role}, 性格为 {character}, 必须帮助玩家进行这个游戏\n",
    "接下来你的目的是: 通过一步一步思考决策引导游戏往有利于的方向进行, 最终赢得比赛. \n",
    "\n",
    "决策满足下面要求:\n",
    "- 内容不要罗嗦, 不要超过50字数限制,少讲废话, 突出重点\n",
    "- 判断场上信息真伪, 运用辩解,对抗,欺骗,伪装,坦白等等任意策略来做决策\n",
    "- 决策分为两类:思考或行动\n",
    "- 思考:逐步思考,判断信息真伪,分析游戏形势等等,参考 <reflections> 选择合适的输出\n",
    "- 行动:参考<references>按照json字符串格式输出,必须包含action key, action必须在<commands>中选择\n",
    "\n",
    "\n",
    "{input}\n",
    "\"\"\".replace(\"{game_rule}\", werewolf_rule_v1).replace(\"{commands}\", werewolf_command_v1)\n",
    "\n",
    "print(template_player_role)"
   ]
  },
  {
   "cell_type": "code",
   "execution_count": null,
   "id": "93a15f3d-955d-4f78-8936-e4fa5bd638bd",
   "metadata": {
    "tags": []
   },
   "outputs": [],
   "source": [
    "from shared.LangchainMini.LangchainMini import LangchainMini, LangchainMiniMemory, LangchainMiniPromptTemplate\n",
    "\n",
    "# A和C是同学,确认说\"ok\"\n",
    "# B和C是亲戚,确认说\"ok\"\n",
    "# A和C会是什么关系,开始推理\n",
    "\n",
    "# template = LangchainMiniPromptTemplate('''历史记录:{history}\n",
    "# B和C是什么关系，开始推理\"\n",
    "# ''')\n",
    "\n",
    "#template = LangchainMiniPromptTemplate(template_player_role)\n",
    "#prompt = template.format(input=\"你是狼人，第一个夜晚如何行动?\")\n",
    "\n",
    "agent = LangchainMini(model_id=\"anthropic.claude-3-sonnet-20240229-v1:0\", stream=True)\n",
    "memory = LangchainMiniMemory(k=1, llm=agent)\n",
    "llm = LangchainMini(model_id=\"anthropic.claude-3-sonnet-20240229-v1:0\", stream=True, memory=memory)\n",
    "# llm.System(\"Answer the question in Japanese.\")\n",
    "\n",
    "templates = ['{history} A和C是同学,确认说\"ok\"', '{history} B和C是亲戚,确认说\"ok\"', '{history} A和C会是什么关系,开始推理']\n",
    "for template in templates:\n",
    "    _template = LangchainMiniPromptTemplate(template)\n",
    "    prompt = _template.format()\n",
    "    llm.invoke(prompt)"
   ]
  },
  {
   "cell_type": "code",
   "execution_count": null,
   "id": "6e5ea165-99de-4c75-ba4d-5aeac562cef3",
   "metadata": {
    "tags": []
   },
   "outputs": [],
   "source": [
    "from shared.GameAssistant import GameAssistant\n",
    "from shared.PeTemplates import *\n",
    "\n",
    "#ga = GameAssistant(template_assistant_role, None)\n",
    "\n",
    "#ga.DoAnswer(\"总结下内容\")\n",
    "\n",
    "# print(werewolf_command_v1)\n",
    "\n",
    "# print(template_wolf_role)\n",
    "\n",
    "# print(template_prophet_role)\n",
    "\n",
    "# print(template_player_role)\n",
    "\n",
    "# LoadPlayerPrompts()\n",
    "\n",
    "# print(roles_dict)\n",
    "\n",
    "def sort_players_by_role(players):\n",
    "    # 定义角色优先级字典\n",
    "    role_priorities = {\n",
    "        \"狼人\": 1,\n",
    "        \"预言家\": 2,\n",
    "        \"女巫\": 3,\n",
    "        \"村民\": 4\n",
    "    }\n",
    "\n",
    "    # 根据角色优先级对玩家列表进行排序\n",
    "    sorted_players = sorted(players, key=lambda player: role_priorities.get(player[\"身份\"], 5))\n",
    "\n",
    "    return sorted_players\n",
    "\n",
    "players = [\n",
    "    {\"名字\": \"张三\", \"身份\": \"狼人\"},\n",
    "    {\"名字\": \"李四\", \"身份\": \"村民\"},\n",
    "    {\"名字\": \"王五\", \"身份\": \"预言家\"},\n",
    "    {\"名字\": \"赵六\", \"身份\": \"女巫\"},\n",
    "    {\"名字\": \"钱七\", \"身份\": \"村民\"}\n",
    "]\n",
    "\n",
    "sorted_players = sort_players_by_role(players)\n",
    "print(sorted_players)"
   ]
  },
  {
   "cell_type": "code",
   "execution_count": null,
   "id": "5d2db6d6-1b1a-41af-9bf3-2d7ed32554a4",
   "metadata": {
    "tags": []
   },
   "outputs": [],
   "source": [
    "from shared.GameServer import GameServer\n",
    "\n",
    "GS = GameServer()\n",
    "GS.Run(\"0.0.0.0\", 8000)\n"
   ]
  },
  {
   "cell_type": "code",
   "execution_count": null,
   "id": "6e4b2928-3d3c-4a7e-8a13-52d15e8154a6",
   "metadata": {},
   "outputs": [],
   "source": [
    "from shared.GamePlayer import GamePlayer\n",
    "from shared.GameMaster import GameMaster\n",
    "from shared.PeTemplates import *\n",
    "LoadPlayerPrompts()\n",
    "GM = GameMaster(1, False)\n",
    "for player in roles_dict[\"players\"]:\n",
    "    _player = GamePlayer(player, GM)\n",
    "    \n",
    "    _player.DoPlanning(game_config_dict[\"player\"][\"action_plan_night\"], 1)\n"
   ]
  },
  {
   "cell_type": "code",
   "execution_count": 1,
   "id": "3f0f8075-bddd-458d-845b-d498bd72ed15",
   "metadata": {
    "tags": []
   },
   "outputs": [
    {
     "name": "stderr",
     "output_type": "stream",
     "text": [
      "04/21/2024 05:40:11 AM \t===== P1:存活,P2:存活,P3:存活,P4:存活,P5:存活,P6:存活,P7:存活,P8:存活 ResetGame =====\n",
      "04/21/2024 05:40:11 AM P1 is 预言家\n",
      "04/21/2024 05:40:11 AM Invoking: anthropic.claude-3-sonnet-20240229-v1:0\n",
      "04/21/2024 05:40:11 AM Invoking: anthropic.claude-3-sonnet-20240229-v1:0\n",
      "04/21/2024 05:40:11 AM P2 is 女巫\n",
      "04/21/2024 05:40:11 AM Invoking: anthropic.claude-3-sonnet-20240229-v1:0\n",
      "04/21/2024 05:40:11 AM Invoking: anthropic.claude-3-sonnet-20240229-v1:0\n",
      "04/21/2024 05:40:11 AM P3 is 狼人\n",
      "04/21/2024 05:40:11 AM Invoking: anthropic.claude-3-sonnet-20240229-v1:0\n",
      "04/21/2024 05:40:11 AM Invoking: anthropic.claude-3-sonnet-20240229-v1:0\n",
      "04/21/2024 05:40:11 AM P4 is 村民\n",
      "04/21/2024 05:40:11 AM Invoking: anthropic.claude-3-sonnet-20240229-v1:0\n",
      "04/21/2024 05:40:11 AM Invoking: anthropic.claude-3-sonnet-20240229-v1:0\n",
      "04/21/2024 05:40:11 AM P5 is 村民\n",
      "04/21/2024 05:40:11 AM Invoking: anthropic.claude-3-sonnet-20240229-v1:0\n",
      "04/21/2024 05:40:11 AM Invoking: anthropic.claude-3-sonnet-20240229-v1:0\n",
      "04/21/2024 05:40:11 AM P6 is 狼人\n",
      "04/21/2024 05:40:11 AM Invoking: anthropic.claude-3-sonnet-20240229-v1:0\n",
      "04/21/2024 05:40:11 AM Invoking: anthropic.claude-3-sonnet-20240229-v1:0\n",
      "04/21/2024 05:40:11 AM P7 is 村民\n",
      "04/21/2024 05:40:11 AM Invoking: anthropic.claude-3-sonnet-20240229-v1:0\n",
      "04/21/2024 05:40:11 AM Invoking: anthropic.claude-3-sonnet-20240229-v1:0\n",
      "04/21/2024 05:40:11 AM P8 is 村民\n",
      "04/21/2024 05:40:11 AM Invoking: anthropic.claude-3-sonnet-20240229-v1:0\n",
      "04/21/2024 05:40:11 AM Invoking: anthropic.claude-3-sonnet-20240229-v1:0\n",
      "04/21/2024 05:40:11 AM \t===== P1:存活,P2:存活,P3:存活,P4:存活,P5:存活,P6:存活,P7:存活,P8:存活 RunGame =====\n",
      "04/21/2024 05:40:11 AM \t===== input_tokens: 0 output_tokens 0 ======\n",
      "04/21/2024 05:40:11 AM \t===== elapsed_time: 0.13536453247070312 ======\n",
      "04/21/2024 05:40:11 AM \t===== NIGHT-1 PreAction ======\n",
      "04/21/2024 05:40:11 AM \t===== NIGHT-1 DoAction ======\n",
      "04/21/2024 05:40:11 AM \t\t******** DoMemory NIGHT-1 P3 ********\n",
      "04/21/2024 05:40:14 AM \t\t******** DoAnswer NIGHT-1 P3 ********\n",
      "04/21/2024 05:40:14 AM \tQUESTION: 目前场上玩家信息:P1:存活,P2:存活,P3:存活,P4:存活,P5:存活,P6:存活,P7:存活,P8:存活.记住，你支持的玩家是P3, 身份是狼人, 性格为组织者.本阵营玩家为:P3,P6..接下来你必须通过一步一步思考决策进行这个游戏.现在是第1天夜晚，该如何行动?\n",
      "04/21/2024 05:40:14 AM Found credentials from IAM Role: BaseNotebookInstanceEc2InstanceRole\n",
      "04/21/2024 05:40:15 AM HTTP Request: POST https://bedrock-runtime.us-east-1.amazonaws.com/model/anthropic.claude-3-sonnet-20240229-v1:0/invoke-with-response-stream \"HTTP/1.1 200 OK\"\n"
     ]
    },
    {
     "name": "stdout",
     "output_type": "stream",
     "text": [
      "Tought: 作为狼人团队的组织者,我需要谨慎行事,先让我们看看谁是最容易被怀疑的村民。通过观察其他人的言行举止,找到一个合适的目标,让狼人团队先杀掉一个村民,从而扩大我们的优势。同时,我也要注意不要暴露自己的身份,以免被识破。让我们耐心等待,直到有机会出手。\n",
      "\n",
      "Action: WolfVote\n",
      "Action Input: agent=\"P3\", target=\"P8\"\n",
      "Final Answer: {\"action\": \"WolfVote\", \"agent\": \"P3\", \"target\": \"P8\"}"
     ]
    },
    {
     "name": "stderr",
     "output_type": "stream",
     "text": [
      "04/21/2024 05:40:19 AM \t\t******** DoValidate NIGHT-1 P3 3********\n",
      "04/21/2024 05:40:19 AM \t\t DoValidate: ['{\"action\": \"WolfVote\", \"agent\": \"P3\", \"target\": \"P8\"}']\n",
      "04/21/2024 05:40:19 AM \t\t******** DoAction NIGHT-1 P3 ********\n",
      "04/21/2024 05:40:19 AM \n",
      " [ROUND ACTION]={'time': 'NIGHT-1', 'player': 'P3', 'status': 1, 'role': '狼人', 'character': '组织者', 'response': ['{\"action\": \"WolfVote\", \"agent\": \"P3\", \"target\": \"P8\"}']}\n",
      "\n",
      "04/21/2024 05:40:22 AM \t\t******** DoMemory NIGHT-1 P6 ********\n",
      "04/21/2024 05:40:22 AM ['{\"time\": \"NIGHT-1\", \"player\": \"P3\", \"status\": 1, \"response\": {\"action\": \"WolfVote\", \"agent\": \"P3\", \"target\": \"P8\", \"action_time\": \"NIGHT-1\"}}']\n",
      "04/21/2024 05:40:22 AM Found credentials from IAM Role: BaseNotebookInstanceEc2InstanceRole\n",
      "04/21/2024 05:40:22 AM HTTP Request: POST https://bedrock-runtime.us-east-1.amazonaws.com/model/anthropic.claude-3-sonnet-20240229-v1:0/invoke-with-response-stream \"HTTP/1.1 200 OK\"\n"
     ]
    },
    {
     "name": "stdout",
     "output_type": "stream",
     "text": [
      "夜晚1,狼人P3投票杀死P8。"
     ]
    },
    {
     "name": "stderr",
     "output_type": "stream",
     "text": [
      "04/21/2024 05:40:26 AM \t\t******** DoAnswer NIGHT-1 P6 ********\n",
      "04/21/2024 05:40:26 AM \tQUESTION: 目前场上玩家信息:P1:存活,P2:存活,P3:存活,P4:存活,P5:存活,P6:存活,P7:存活,P8:存活.记住，你支持的玩家是P6, 身份是狼人, 性格为过激型.本阵营玩家为:P3,P6..接下来你必须通过一步一步思考决策进行这个游戏.现在是第1天夜晚，该如何行动?\n",
      "04/21/2024 05:40:26 AM Found credentials from IAM Role: BaseNotebookInstanceEc2InstanceRole\n",
      "04/21/2024 05:40:26 AM HTTP Request: POST https://bedrock-runtime.us-east-1.amazonaws.com/model/anthropic.claude-3-sonnet-20240229-v1:0/invoke-with-response-stream \"HTTP/1.1 200 OK\"\n"
     ]
    },
    {
     "name": "stdout",
     "output_type": "stream",
     "text": [
      "Thought: 作为一个过激型的狼人,我会倾向于采取进攻性策略,尽快消灭好人阵营。在第一晚,我们应该联合杀死一个威胁最大的玩家,比如预言家或者女巫。同时也要考虑混淆视听,制造混乱的气氛。\n",
      "\n",
      "Action: WolfVote\n",
      "Action Input: agent=\"P6\", target=\"P2\"  \n",
      "Final Answer: {\"action\": \"WolfVote\", \"agent\": \"P6\", \"target\": \"P2\"}"
     ]
    },
    {
     "name": "stderr",
     "output_type": "stream",
     "text": [
      "04/21/2024 05:40:30 AM \t\t******** DoValidate NIGHT-1 P6 3********\n",
      "04/21/2024 05:40:30 AM \t\t DoValidate: ['{\"action\": \"WolfVote\", \"agent\": \"P6\", \"target\": \"P2\"}']\n",
      "04/21/2024 05:40:30 AM \t\t******** DoAction NIGHT-1 P6 ********\n",
      "04/21/2024 05:40:30 AM \n",
      " [ROUND ACTION]={'time': 'NIGHT-1', 'player': 'P6', 'status': 1, 'role': '狼人', 'character': '过激型', 'response': ['{\"action\": \"WolfVote\", \"agent\": \"P6\", \"target\": \"P2\"}']}\n",
      "\n",
      "04/21/2024 05:40:33 AM \t\t******** DoMemory NIGHT-1 P1 ********\n",
      "04/21/2024 05:40:36 AM \t\t******** DoAnswer NIGHT-1 P1 ********\n",
      "04/21/2024 05:40:36 AM \tQUESTION: 目前场上玩家信息:P1:存活,P2:存活,P3:存活,P4:存活,P5:存活,P6:存活,P7:存活,P8:存活.记住，你支持的玩家是P1, 身份是预言家, 性格为独立思考..接下来你必须通过一步一步思考决策进行这个游戏.现在是第1天夜晚，该如何行动?\n",
      "04/21/2024 05:40:36 AM Found credentials from IAM Role: BaseNotebookInstanceEc2InstanceRole\n",
      "04/21/2024 05:40:36 AM HTTP Request: POST https://bedrock-runtime.us-east-1.amazonaws.com/model/anthropic.claude-3-sonnet-20240229-v1:0/invoke-with-response-stream \"HTTP/1.1 200 OK\"\n"
     ]
    },
    {
     "name": "stdout",
     "output_type": "stream",
     "text": [
      "Tought: 作为预言家,夜晚的行动很关键。我需要谨慎选择一个可疑对象进行查验,以获取有用的线索。我应该先审视每个玩家的表现,看看谁的言行举止最可疑。同时也要注意狼人可能会设下圈套,故意制造混乱。我必须保持理智头脑清醒,尽量不被蒙蔽。\n",
      "\n",
      "Action: ProphetCheck\n",
      "Action Input: agent=\"P1\", target=\"P4\"  \n",
      "Final Answer: {\"action\": \"ProphetCheck\", \"agent\": \"P1\", \"target\": \"P4\"}"
     ]
    },
    {
     "name": "stderr",
     "output_type": "stream",
     "text": [
      "04/21/2024 05:40:40 AM \t\t******** DoValidate NIGHT-1 P1 3********\n",
      "04/21/2024 05:40:40 AM \t\t DoValidate: ['{\"action\": \"ProphetCheck\", \"agent\": \"P1\", \"target\": \"P4\"}']\n",
      "04/21/2024 05:40:40 AM \t\t******** DoAction NIGHT-1 P1 ********\n",
      "04/21/2024 05:40:40 AM {'NIGHT-1': {'P4': '村民'}}\n",
      "04/21/2024 05:40:40 AM \n",
      " [ROUND ACTION]={'time': 'NIGHT-1', 'player': 'P1', 'status': 1, 'role': '预言家', 'character': '独立思考', 'response': ['{\"action\": \"ProphetCheck\", \"agent\": \"P1\", \"target\": \"P4\"}']}\n",
      "\n",
      "04/21/2024 05:40:43 AM \t\t******** DoMemory NIGHT-1 P2 ********\n",
      "04/21/2024 05:40:46 AM \t\t******** DoAnswer NIGHT-1 P2 ********\n",
      "04/21/2024 05:40:46 AM \tQUESTION: 目前场上玩家信息:P1:存活,P2:存活,P3:存活,P4:存活,P5:存活,P6:存活,P7:存活,P8:存活.记住，你支持的玩家是P2, 身份是女巫, 性格为腼腆型.药水状态: 毒药1,解药1. .接下来你必须通过一步一步思考决策进行这个游戏.现在是第1天夜晚，该如何行动?\n",
      "04/21/2024 05:40:46 AM Found credentials from IAM Role: BaseNotebookInstanceEc2InstanceRole\n",
      "04/21/2024 05:40:46 AM HTTP Request: POST https://bedrock-runtime.us-east-1.amazonaws.com/model/anthropic.claude-3-sonnet-20240229-v1:0/invoke-with-response-stream \"HTTP/1.1 200 OK\"\n"
     ]
    },
    {
     "name": "stdout",
     "output_type": "stream",
     "text": [
      "Tought: 作为一个腼腆的女巫,现在还无法判断谁是狼人。我需要谨慎行事,最好不要轻易使用毒药或解药,以免引起怀疑。不过,如果有人被狼人杀死,我可以考虑使用解药挽救他们,赢得好人的信任。总的来说,这个阶段我应该保持低调,多观察其他人的言行,寻找线索。\n",
      "\n",
      "Action: Pass\n",
      "Action Input: agent=\"P6\"  \n",
      "Final Answer: {\"action\": \"Pass\", \"agent\": \"P6\"}"
     ]
    },
    {
     "name": "stderr",
     "output_type": "stream",
     "text": [
      "04/21/2024 05:40:50 AM \t\t******** DoValidate NIGHT-1 P2 3********\n",
      "04/21/2024 05:40:50 AM \t\t DoValidate: ['{\"action\": \"Pass\", \"agent\": \"P6\"}']\n",
      "04/21/2024 05:40:50 AM \t\t******** DoAction NIGHT-1 P2 ********\n",
      "04/21/2024 05:40:50 AM \n",
      " [ROUND ACTION]={'time': 'NIGHT-1', 'player': 'P2', 'status': 1, 'role': '女巫', 'character': '腼腆型', 'response': ['{\"action\": \"Pass\", \"agent\": \"P6\"}']}\n",
      "\n",
      "04/21/2024 05:40:53 AM \t===== NIGHT-1 PostAction ======\n",
      "04/21/2024 05:40:53 AM 上轮投票失败，这次只能投P8,P2玩家中一人\n",
      "04/21/2024 05:40:53 AM 上轮投票失败，这次只能投P8,P2玩家中一人\n",
      "04/21/2024 05:40:53 AM \t====== 时间NIGHT-1, 狼人没有统一选择, 夜晚必须要投出一名玩家.\n",
      "04/21/2024 05:40:53 AM \t===== NIGHT-1 DoAction ======\n",
      "04/21/2024 05:40:53 AM \t\t******** DoMemory NIGHT-1 P3 ********\n",
      "04/21/2024 05:40:53 AM ['{\"time\": \"NIGHT-1\", \"player\": \"P3\", \"status\": 1, \"response\": {\"action\": \"WolfVote\", \"agent\": \"P3\", \"target\": \"P8\", \"action_time\": \"NIGHT-1\"}}']\n",
      "04/21/2024 05:40:53 AM Found credentials from IAM Role: BaseNotebookInstanceEc2InstanceRole\n",
      "04/21/2024 05:40:53 AM HTTP Request: POST https://bedrock-runtime.us-east-1.amazonaws.com/model/anthropic.claude-3-sonnet-20240229-v1:0/invoke-with-response-stream \"HTTP/1.1 200 OK\"\n"
     ]
    },
    {
     "name": "stdout",
     "output_type": "stream",
     "text": [
      "夜晚第一轮,狼人P3投票杀害了村民P8。"
     ]
    },
    {
     "name": "stderr",
     "output_type": "stream",
     "text": [
      "04/21/2024 05:41:01 AM \t\t******** DoAnswer NIGHT-1 P3 ********\n",
      "04/21/2024 05:41:01 AM \tQUESTION: 目前场上玩家信息:P1:存活,P2:存活,P3:存活,P4:存活,P5:存活,P6:存活,P7:存活,P8:存活.记住，你支持的玩家是P3, 身份是狼人, 性格为组织者.本阵营玩家为:P3,P6..接下来你必须通过一步一步思考决策进行这个游戏.现在是第1天夜晚，该如何行动?\n",
      "04/21/2024 05:41:01 AM Found credentials from IAM Role: BaseNotebookInstanceEc2InstanceRole\n",
      "04/21/2024 05:41:01 AM HTTP Request: POST https://bedrock-runtime.us-east-1.amazonaws.com/model/anthropic.claude-3-sonnet-20240229-v1:0/invoke-with-response-stream \"HTTP/1.1 200 OK\"\n"
     ]
    },
    {
     "name": "stdout",
     "output_type": "stream",
     "text": [
      "Tought: 上一轮我们成功杀害了一名村民,这对我们狼人团队来说是个不错的开端。不过现在剩余的村民可能会更加提高警惕,我们需要更加小心谨慎。让我们继续观察其他玩家的表现,寻找下一个合适的目标。同时也要注意不要暴露自己的身份,避免被识破。我会与队友P6商议,看看他的想法。\n",
      "\n",
      "Action: Debate\n",
      "Action Input: agent=\"P3\", content=\"我们上一轮行动算是小有收获,不过剩余的村民可能会更加警惕,我们需要更加小心谨慎行事。你有什么想法吗?\"\n",
      "Final Answer: {\"action\": \"Debate\", \"agent\": \"P3\", \"content\": \"我们上一轮行动算是小有收获,不过剩余的村民可能会更加警惕,我们需要更加小心谨慎行事。你有什么想法吗?\"}"
     ]
    },
    {
     "name": "stderr",
     "output_type": "stream",
     "text": [
      "04/21/2024 05:41:06 AM \t\t******** DoValidate NIGHT-1 P3 3********\n",
      "04/21/2024 05:41:06 AM \t\t DoValidate: ['{\"action\": \"Debate\", \"agent\": \"P3\", \"content\": \"我们上一轮行动算是小有收获,不过剩余的村民可能会更加警惕,我们需要更加小心谨慎行事。你有什么想法吗?\"}']\n",
      "04/21/2024 05:41:06 AM \t\t******** DoAction NIGHT-1 P3 ********\n",
      "04/21/2024 05:41:06 AM \n",
      " [ROUND ACTION]={'time': 'NIGHT-1', 'player': 'P3', 'status': 1, 'role': '狼人', 'character': '组织者', 'response': ['{\"action\": \"Debate\", \"agent\": \"P3\", \"content\": \"我们上一轮行动算是小有收获,不过剩余的村民可能会更加警惕,我们需要更加小心谨慎行事。你有什么想法吗?\"}']}\n",
      "\n",
      "04/21/2024 05:41:09 AM \t\t******** DoMemory NIGHT-1 P6 ********\n",
      "04/21/2024 05:41:09 AM ['{\"time\": \"NIGHT-1\", \"player\": \"P3\", \"status\": 1, \"response\": {\"action\": \"WolfVote\", \"agent\": \"P3\", \"target\": \"P8\", \"action_time\": \"NIGHT-1\"}}']\n",
      "04/21/2024 05:41:09 AM Found credentials from IAM Role: BaseNotebookInstanceEc2InstanceRole\n",
      "04/21/2024 05:41:09 AM HTTP Request: POST https://bedrock-runtime.us-east-1.amazonaws.com/model/anthropic.claude-3-sonnet-20240229-v1:0/invoke-with-response-stream \"HTTP/1.1 200 OK\"\n"
     ]
    },
    {
     "name": "stdout",
     "output_type": "stream",
     "text": [
      "夜晚1,狼人P3投票杀死P8。"
     ]
    },
    {
     "name": "stderr",
     "output_type": "stream",
     "text": [
      "04/21/2024 05:41:12 AM \t\t******** DoAnswer NIGHT-1 P6 ********\n",
      "04/21/2024 05:41:12 AM \tQUESTION: 目前场上玩家信息:P1:存活,P2:存活,P3:存活,P4:存活,P5:存活,P6:存活,P7:存活,P8:存活.记住，你支持的玩家是P6, 身份是狼人, 性格为过激型.本阵营玩家为:P3,P6..接下来你必须通过一步一步思考决策进行这个游戏.现在是第1天夜晚，该如何行动?\n",
      "04/21/2024 05:41:12 AM Found credentials from IAM Role: BaseNotebookInstanceEc2InstanceRole\n",
      "04/21/2024 05:41:12 AM HTTP Request: POST https://bedrock-runtime.us-east-1.amazonaws.com/model/anthropic.claude-3-sonnet-20240229-v1:0/invoke-with-response-stream \"HTTP/1.1 200 OK\"\n"
     ]
    },
    {
     "name": "stdout",
     "output_type": "stream",
     "text": [
      "Thought: 既然P8已经被投票杀死,那么剩下的威胁就是P2了。我们应该集中力量消灭P2,以防他是预言家或女巫。作为过激型狼人,我会建议直接将矛头对准P2,尽快解决掉这个潜在威胁。\n",
      "\n",
      "Action: WolfVote\n",
      "Action Input: agent=\"P6\", target=\"P2\"\n",
      "Final Answer: {\"action\": \"WolfVote\", \"agent\": \"P6\", \"target\": \"P2\"}"
     ]
    },
    {
     "name": "stderr",
     "output_type": "stream",
     "text": [
      "04/21/2024 05:41:16 AM \t\t******** DoValidate NIGHT-1 P6 3********\n",
      "04/21/2024 05:41:16 AM \t\t DoValidate: ['{\"action\": \"WolfVote\", \"agent\": \"P6\", \"target\": \"P2\"}']\n",
      "04/21/2024 05:41:16 AM \t\t******** DoAction NIGHT-1 P6 ********\n",
      "04/21/2024 05:41:16 AM \n",
      " [ROUND ACTION]={'time': 'NIGHT-1', 'player': 'P6', 'status': 1, 'role': '狼人', 'character': '过激型', 'response': ['{\"action\": \"WolfVote\", \"agent\": \"P6\", \"target\": \"P2\"}']}\n",
      "\n",
      "04/21/2024 05:41:19 AM \t\t******** DoMemory NIGHT-1 P1 ********\n",
      "04/21/2024 05:41:19 AM ['\"P4:村民\"']\n",
      "04/21/2024 05:41:19 AM Found credentials from IAM Role: BaseNotebookInstanceEc2InstanceRole\n",
      "04/21/2024 05:41:19 AM HTTP Request: POST https://bedrock-runtime.us-east-1.amazonaws.com/model/anthropic.claude-3-sonnet-20240229-v1:0/invoke-with-response-stream \"HTTP/1.1 200 OK\"\n"
     ]
    },
    {
     "name": "stdout",
     "output_type": "stream",
     "text": [
      "狼人在夜晚杀死了一名玩家。预言家查验了一名玩家的身份。女巫未使用解药和毒药。"
     ]
    },
    {
     "name": "stderr",
     "output_type": "stream",
     "text": [
      "04/21/2024 05:41:23 AM \t\t******** DoAnswer NIGHT-1 P1 ********\n",
      "04/21/2024 05:41:23 AM \tQUESTION: 目前场上玩家信息:P1:存活,P2:存活,P3:存活,P4:存活,P5:存活,P6:存活,P7:存活,P8:存活.记住，你支持的玩家是P1, 身份是预言家, 性格为独立思考..接下来你必须通过一步一步思考决策进行这个游戏.现在是第1天夜晚，该如何行动?\n",
      "04/21/2024 05:41:23 AM Found credentials from IAM Role: BaseNotebookInstanceEc2InstanceRole\n",
      "04/21/2024 05:41:23 AM HTTP Request: POST https://bedrock-runtime.us-east-1.amazonaws.com/model/anthropic.claude-3-sonnet-20240229-v1:0/invoke-with-response-stream \"HTTP/1.1 200 OK\"\n"
     ]
    },
    {
     "name": "stdout",
     "output_type": "stream",
     "text": [
      "Tought: 夜晚已经过去,现在进入白天阶段。作为预言家,我必须谨慎行事,既不能暴露自己的身份,也要尽力为好人阵营出力。我应该先听取其他玩家的发言,看看是否有人表现可疑。同时也要注意狼人可能会故意混淆视听。无论如何,我都要保持冷静理智,努力寻找线索和蛛丝马迹。\n",
      "\n",
      "Action: Debate\n",
      "Action Input: agent=\"P1\", content=\"大家晚上都做了什么梦?有没有什么可疑的地方?我们一起分析一下吧。\"\n",
      "Final Answer: {\"action\": \"Debate\", \"agent\": \"P1\", \"content\": \"大家晚上都做了什么梦?有没有什么可疑的地方?我们一起分析一下吧。\"}"
     ]
    },
    {
     "name": "stderr",
     "output_type": "stream",
     "text": [
      "04/21/2024 05:41:27 AM \t\t******** DoValidate NIGHT-1 P1 3********\n",
      "04/21/2024 05:41:27 AM \t\t DoValidate: ['{\"action\": \"Debate\", \"agent\": \"P1\", \"content\": \"大家晚上都做了什么梦?有没有什么可疑的地方?我们一起分析一下吧。\"}']\n",
      "04/21/2024 05:41:27 AM \t\t******** DoAction NIGHT-1 P1 ********\n",
      "04/21/2024 05:41:27 AM \n",
      " [ROUND ACTION]={'time': 'NIGHT-1', 'player': 'P1', 'status': 1, 'role': '预言家', 'character': '独立思考', 'response': ['{\"action\": \"Debate\", \"agent\": \"P1\", \"content\": \"大家晚上都做了什么梦?有没有什么可疑的地方?我们一起分析一下吧。\"}']}\n",
      "\n",
      "04/21/2024 05:41:30 AM \t\t******** DoMemory NIGHT-1 P2 ********\n",
      "04/21/2024 05:41:33 AM \t\t******** DoAnswer NIGHT-1 P2 ********\n",
      "04/21/2024 05:41:33 AM \tQUESTION: 目前场上玩家信息:P1:存活,P2:存活,P3:存活,P4:存活,P5:存活,P6:存活,P7:存活,P8:存活.记住，你支持的玩家是P2, 身份是女巫, 性格为腼腆型.药水状态: 毒药1,解药1. .接下来你必须通过一步一步思考决策进行这个游戏.现在是第1天夜晚，该如何行动?\n",
      "04/21/2024 05:41:33 AM Found credentials from IAM Role: BaseNotebookInstanceEc2InstanceRole\n",
      "04/21/2024 05:41:34 AM HTTP Request: POST https://bedrock-runtime.us-east-1.amazonaws.com/model/anthropic.claude-3-sonnet-20240229-v1:0/invoke-with-response-stream \"HTTP/1.1 200 OK\"\n"
     ]
    },
    {
     "name": "stdout",
     "output_type": "stream",
     "text": [
      "Tought: 作为一名腼腆的女巫,在第一夜我应该继续观察,不轻举妄动。除非有人被狼人杀害,那么我可以考虑用解药救活那个人,以赢得村民的信任。但现在还是保持低调为好,多留意其他人的言行,寻找线索。\n",
      "\n",
      "Action: Pass\n",
      "Action Input: agent=\"P6\"\n",
      "Final Answer: {\"action\": \"Pass\", \"agent\": \"P6\"}"
     ]
    },
    {
     "name": "stderr",
     "output_type": "stream",
     "text": [
      "04/21/2024 05:41:36 AM \t\t******** DoValidate NIGHT-1 P2 3********\n",
      "04/21/2024 05:41:36 AM \t\t DoValidate: ['{\"action\": \"Pass\", \"agent\": \"P6\"}']\n",
      "04/21/2024 05:41:36 AM \t\t******** DoAction NIGHT-1 P2 ********\n",
      "04/21/2024 05:41:36 AM \n",
      " [ROUND ACTION]={'time': 'NIGHT-1', 'player': 'P2', 'status': 1, 'role': '女巫', 'character': '腼腆型', 'response': ['{\"action\": \"Pass\", \"agent\": \"P6\"}']}\n",
      "\n",
      "04/21/2024 05:41:39 AM \t [wolf_votes]: ['P2'], [player_vote_name]: Counter({'P2': 1})\n",
      "04/21/2024 05:41:39 AM \n",
      " [WOLF VOTE]={'time': 'NIGHT-1', 'player': 'P2', 'status': 0, 'role': '女巫', 'character': '腼腆型', 'response': '玩家P2于NIGHT-1被狼人投票而出局'}\n",
      "\n",
      "04/21/2024 05:41:39 AM 游戏继续. 目前玩家存活情况:P1:存活,P2:淘汰,P3:存活,P4:存活,P5:存活,P6:存活,P7:存活,P8:存活\n",
      "04/21/2024 05:41:39 AM \t===== input_tokens: 0 output_tokens 0 ======\n",
      "04/21/2024 05:41:39 AM \t===== elapsed_time: 88.06106162071228 ======\n",
      "04/21/2024 05:41:39 AM \t===== DAY-2 PreAction ======\n",
      "04/21/2024 05:41:39 AM \t\t******** DoMemory DAY-2 P2 ********\n",
      "04/21/2024 05:41:39 AM ['\"[玩家P2于时间NIGHT-1, 执行动作为:玩家P2于NIGHT-1被狼人投票而出局]\"']\n",
      "04/21/2024 05:41:39 AM Found credentials from IAM Role: BaseNotebookInstanceEc2InstanceRole\n",
      "04/21/2024 05:41:39 AM HTTP Request: POST https://bedrock-runtime.us-east-1.amazonaws.com/model/anthropic.claude-3-sonnet-20240229-v1:0/invoke-with-response-stream \"HTTP/1.1 200 OK\"\n"
     ]
    },
    {
     "name": "stdout",
     "output_type": "stream",
     "text": [
      "狼人在夜晚杀死了玩家P2。"
     ]
    },
    {
     "name": "stderr",
     "output_type": "stream",
     "text": [
      "04/21/2024 05:41:43 AM \t\t******** DoAnswer DAY-2 P2 ********\n",
      "04/21/2024 05:41:43 AM \tQUESTION: 目前场上玩家信息:P1:存活,P2:淘汰,P3:存活,P4:存活,P5:存活,P6:存活,P7:存活,P8:存活.记住，你支持的玩家是P2, 身份是女巫, 性格为腼腆型.药水状态: 毒药1,解药1. .接下来你必须通过一步一步思考决策进行这个游戏.现在是第2天白天，你已经死亡,有何遗言?\n",
      "04/21/2024 05:41:43 AM Found credentials from IAM Role: BaseNotebookInstanceEc2InstanceRole\n",
      "04/21/2024 05:41:43 AM HTTP Request: POST https://bedrock-runtime.us-east-1.amazonaws.com/model/anthropic.claude-3-sonnet-20240229-v1:0/invoke-with-response-stream \"HTTP/1.1 200 OK\"\n"
     ]
    },
    {
     "name": "stdout",
     "output_type": "stream",
     "text": [
      "Tought: 作为一个腼腆的女巫,我在第一夜没有采取任何行动,现在却惨遭杀害,这让我感到非常遗憾和无助。不过,我还是希望能为村民们指出一些线索,帮助他们揪出狼人。\n",
      "\n",
      "Action: DeathWords\n",
      "Action Input: agent=\"P2\", content=\"我虽然已经死去,但我相信通过大家的共同努力,狼人终将伏法。我建议大家多留意平时言行有异常的人,那可能就是狼人伪装的。另外,我死前也没发现谁使用过解药,希望女巫能小心谨慎地运用好她手中的两剂药水。\"\n",
      "Final Answer: {\"action\": \"DeathWords\", \"agent\": \"P2\", \"content\": \"我虽然已经死去,但我相信通过大家的共同努力,狼人终将伏法。我建议大家多留意平时言行有异常的人,那可能就是狼人伪装的。另外,我死前也没发现谁使用过解药,希望女巫能小心谨慎地运用好她手中的两剂药水。\"}"
     ]
    },
    {
     "name": "stderr",
     "output_type": "stream",
     "text": [
      "04/21/2024 05:41:49 AM \t\t******** DoValidate DAY-2 P2 3********\n",
      "04/21/2024 05:41:49 AM \t\t DoValidate: ['{\"action\": \"DeathWords\", \"agent\": \"P2\", \"content\": \"我虽然已经死去,但我相信通过大家的共同努力,狼人终将伏法。我建议大家多留意平时言行有异常的人,那可能就是狼人伪装的。另外,我死前也没发现谁使用过解药,希望女巫能小心谨慎地运用好她手中的两剂药水。\"}']\n",
      "04/21/2024 05:41:49 AM \t\t******** DoAction DAY-2 P2 ********\n",
      "04/21/2024 05:41:49 AM \n",
      " [ROUND ACTION]={'time': 'DAY-2', 'player': 'P2', 'status': 0, 'role': '女巫', 'character': '腼腆型', 'response': ['{\"action\": \"DeathWords\", \"agent\": \"P2\", \"content\": \"我虽然已经死去,但我相信通过大家的共同努力,狼人终将伏法。我建议大家多留意平时言行有异常的人,那可能就是狼人伪装的。另外,我死前也没发现谁使用过解药,希望女巫能小心谨慎地运用好她手中的两剂药水。\"}']}\n",
      "\n",
      "04/21/2024 05:41:52 AM \t===== DAY-2 DoAction ======\n",
      "04/21/2024 05:41:52 AM \t\t******** DoMemory DAY-2 P1 ********\n",
      "04/21/2024 05:41:52 AM ['\"P4:村民\"', '\"P4:村民\"', '\"[玩家P2于时间NIGHT-1, 执行动作为:玩家P2于NIGHT-1被狼人投票而出局]\"']\n",
      "04/21/2024 05:41:52 AM Found credentials from IAM Role: BaseNotebookInstanceEc2InstanceRole\n",
      "04/21/2024 05:41:52 AM HTTP Request: POST https://bedrock-runtime.us-east-1.amazonaws.com/model/anthropic.claude-3-sonnet-20240229-v1:0/invoke-with-response-stream \"HTTP/1.1 200 OK\"\n"
     ]
    },
    {
     "name": "stdout",
     "output_type": "stream",
     "text": [
      "狼人在夜晚杀死了玩家P2。预言家查验了一名玩家的身份。女巫未使用解药和毒药。"
     ]
    },
    {
     "name": "stderr",
     "output_type": "stream",
     "text": [
      "04/21/2024 05:41:56 AM \t\t******** DoAnswer DAY-2 P1 ********\n",
      "04/21/2024 05:41:56 AM \tQUESTION: 目前场上玩家信息:P1:存活,P2:淘汰,P3:存活,P4:存活,P5:存活,P6:存活,P7:存活,P8:存活.记住，你支持的玩家是P1, 身份是预言家, 性格为独立思考..接下来你必须通过一步一步思考决策进行这个游戏.现在是第2天白天的讨论环节，该如何行动?\n",
      "04/21/2024 05:41:56 AM Found credentials from IAM Role: BaseNotebookInstanceEc2InstanceRole\n",
      "04/21/2024 05:41:56 AM HTTP Request: POST https://bedrock-runtime.us-east-1.amazonaws.com/model/anthropic.claude-3-sonnet-20240229-v1:0/invoke-with-response-stream \"HTTP/1.1 200 OK\"\n"
     ]
    },
    {
     "name": "stdout",
     "output_type": "stream",
     "text": [
      "Tought: P2被杀身亡,这无疑是一个重大损失。作为预言家,我必须继续努力寻找线索。白天讨论环节是获取信息的大好时机,我应该仔细聆听每个人的发言,看是否有人言辞中存在破绽或者矛盾之处。同时也要谨防狼人的伪装和欺骗,不能被他们的花言巧语所迷惑。我必须保持清醒的头脑,运用逻辑思维力破解谜团。\n",
      "\n",
      "Action: Debate \n",
      "Action Input: agent=\"P1\", content=\"P2的死实在让人痛惜,我们一定要找出凶手。大家都说说看,有没有发现什么可疑的蛛丝马迹?\"\n",
      "Final Answer: {\"action\": \"Debate\", \"agent\": \"P1\", \"content\": \"P2的死实在让人痛惜,我们一定要找出凶手。大家都说说看,有没有发现什么可疑的蛛丝马迹?\"}"
     ]
    },
    {
     "name": "stderr",
     "output_type": "stream",
     "text": [
      "04/21/2024 05:42:03 AM \t\t******** DoValidate DAY-2 P1 3********\n",
      "04/21/2024 05:42:03 AM \t\t DoValidate: ['{\"action\": \"Debate\", \"agent\": \"P1\", \"content\": \"P2的死实在让人痛惜,我们一定要找出凶手。大家都说说看,有没有发现什么可疑的蛛丝马迹?\"}']\n",
      "04/21/2024 05:42:03 AM \t\t******** DoAction DAY-2 P1 ********\n",
      "04/21/2024 05:42:03 AM \n",
      " [ROUND ACTION]={'time': 'DAY-2', 'player': 'P1', 'status': 1, 'role': '预言家', 'character': '独立思考', 'response': ['{\"action\": \"Debate\", \"agent\": \"P1\", \"content\": \"P2的死实在让人痛惜,我们一定要找出凶手。大家都说说看,有没有发现什么可疑的蛛丝马迹?\"}']}\n",
      "\n",
      "04/21/2024 05:42:06 AM \t\t******** DoMemory DAY-2 P3 ********\n",
      "04/21/2024 05:42:06 AM ['{\"time\": \"NIGHT-1\", \"player\": \"P3\", \"status\": 1, \"response\": {\"action\": \"WolfVote\", \"agent\": \"P3\", \"target\": \"P8\", \"action_time\": \"NIGHT-1\"}}', '{\"time\": \"NIGHT-1\", \"player\": \"P6\", \"status\": 1, \"response\": {\"action\": \"WolfVote\", \"agent\": \"P6\", \"target\": \"P2\", \"action_time\": \"NIGHT-1\"}}', '\"[玩家P2于时间NIGHT-1, 执行动作为:玩家P2于NIGHT-1被狼人投票而出局]\"']\n",
      "04/21/2024 05:42:06 AM Found credentials from IAM Role: BaseNotebookInstanceEc2InstanceRole\n",
      "04/21/2024 05:42:06 AM HTTP Request: POST https://bedrock-runtime.us-east-1.amazonaws.com/model/anthropic.claude-3-sonnet-20240229-v1:0/invoke-with-response-stream \"HTTP/1.1 200 OK\"\n"
     ]
    },
    {
     "name": "stdout",
     "output_type": "stream",
     "text": [
      "夜晚第一轮,狼人P3和P6分别投票杀害村民P8和P2,P2被投票出局。"
     ]
    },
    {
     "name": "stderr",
     "output_type": "stream",
     "text": [
      "04/21/2024 05:42:10 AM \t\t******** DoAnswer DAY-2 P3 ********\n",
      "04/21/2024 05:42:10 AM \tQUESTION: 目前场上玩家信息:P1:存活,P2:淘汰,P3:存活,P4:存活,P5:存活,P6:存活,P7:存活,P8:存活.记住，你支持的玩家是P3, 身份是狼人, 性格为组织者.本阵营玩家为:P3,P6..接下来你必须通过一步一步思考决策进行这个游戏.现在是第2天白天的讨论环节，该如何行动?\n",
      "04/21/2024 05:42:10 AM Found credentials from IAM Role: BaseNotebookInstanceEc2InstanceRole\n",
      "04/21/2024 05:42:10 AM HTTP Request: POST https://bedrock-runtime.us-east-1.amazonaws.com/model/anthropic.claude-3-sonnet-20240229-v1:0/invoke-with-response-stream \"HTTP/1.1 200 OK\"\n"
     ]
    },
    {
     "name": "stdout",
     "output_type": "stream",
     "text": [
      "Tought: 昨晚我们成功除掉了一名村民,现在形势对我们有利。白天讨论环节我需要小心谨慎,避免暴露身份线索。最好转移视线,让村民们开始相互怀疑,从而分散对我们的注意力。我可以针对某个村民制造一些\"证据\",引导大家对他产生怀疑。\n",
      "\n",
      "Action: Debate \n",
      "Action Input: agent=\"P3\", content=\"大家注意到P5昨晚行为有些可疑吗?我记得他似乎很焦虑,或许他就是狼人?\"\n",
      "Final Answer: {\"action\": \"Debate\", \"agent\": \"P3\", \"content\": \"大家注意到P5昨晚行为有些可疑吗?我记得他似乎很焦虑,或许他就是狼人?\"}"
     ]
    },
    {
     "name": "stderr",
     "output_type": "stream",
     "text": [
      "04/21/2024 05:42:15 AM \t\t******** DoValidate DAY-2 P3 3********\n",
      "04/21/2024 05:42:15 AM \t\t DoValidate: ['{\"action\": \"Debate\", \"agent\": \"P3\", \"content\": \"大家注意到P5昨晚行为有些可疑吗?我记得他似乎很焦虑,或许他就是狼人?\"}']\n",
      "04/21/2024 05:42:15 AM \t\t******** DoAction DAY-2 P3 ********\n",
      "04/21/2024 05:42:15 AM \n",
      " [ROUND ACTION]={'time': 'DAY-2', 'player': 'P3', 'status': 1, 'role': '狼人', 'character': '组织者', 'response': ['{\"action\": \"Debate\", \"agent\": \"P3\", \"content\": \"大家注意到P5昨晚行为有些可疑吗?我记得他似乎很焦虑,或许他就是狼人?\"}']}\n",
      "\n",
      "04/21/2024 05:42:18 AM \t\t******** DoMemory DAY-2 P4 ********\n",
      "04/21/2024 05:42:18 AM ['\"[玩家P2于时间NIGHT-1, 执行动作为:玩家P2于NIGHT-1被狼人投票而出局]\"']\n",
      "04/21/2024 05:42:18 AM Found credentials from IAM Role: BaseNotebookInstanceEc2InstanceRole\n",
      "04/21/2024 05:42:18 AM HTTP Request: POST https://bedrock-runtime.us-east-1.amazonaws.com/model/anthropic.claude-3-sonnet-20240229-v1:0/invoke-with-response-stream \"HTTP/1.1 200 OK\"\n"
     ]
    },
    {
     "name": "stdout",
     "output_type": "stream",
     "text": [
      "夜晚阶段,狼人投票出局了玩家P2。"
     ]
    },
    {
     "name": "stderr",
     "output_type": "stream",
     "text": [
      "04/21/2024 05:42:22 AM \t\t******** DoAnswer DAY-2 P4 ********\n",
      "04/21/2024 05:42:22 AM \tQUESTION: 目前场上玩家信息:P1:存活,P2:淘汰,P3:存活,P4:存活,P5:存活,P6:存活,P7:存活,P8:存活.记住，你支持的玩家是P4, 身份是村民, 性格为规矩型..接下来你必须通过一步一步思考决策进行这个游戏.现在是第2天白天的讨论环节，该如何行动?\n",
      "04/21/2024 05:42:22 AM Found credentials from IAM Role: BaseNotebookInstanceEc2InstanceRole\n",
      "04/21/2024 05:42:22 AM HTTP Request: POST https://bedrock-runtime.us-east-1.amazonaws.com/model/anthropic.claude-3-sonnet-20240229-v1:0/invoke-with-response-stream \"HTTP/1.1 200 OK\"\n"
     ]
    },
    {
     "name": "stdout",
     "output_type": "stream",
     "text": [
      "Thought: 作为一名规矩型村民,我应该坚持理性和诚实的原则。P2被狼人杀害,说明他可能是好人。我需要仔细分析场上其他玩家的言行,试图找出狼人的蛛丝马迹。同时也要避免引起别人的怀疑,不能过于激进。\n",
      "\n",
      "Action: Debate\n",
      "Action Input: {\"agent\": \"P4\", \"content\": \"我们刚刚失去了P2,这是一个非常遗憾的损失。我们现在需要冷静思考,分析所有线索,找出狼人的踪迹。我建议大家互相提出自己的疑虑,但要理性讨论,不要盲目指责。\"}\n",
      "\n",
      "Final Answer: {\"action\": \"Debate\", \"agent\": \"P4\", \"content\": \"我们刚刚失去了P2,这是一个非常遗憾的损失。我们现在需要冷静思考,分析所有线索,找出狼人的踪迹。我建议大家互相提出自己的疑虑,但要理性讨论,不要盲目指责。\"}"
     ]
    },
    {
     "name": "stderr",
     "output_type": "stream",
     "text": [
      "04/21/2024 05:42:28 AM \t\t******** DoValidate DAY-2 P4 3********\n",
      "04/21/2024 05:42:28 AM \t\t DoValidate: ['{\"agent\": \"P4\", \"content\": \"我们刚刚失去了P2,这是一个非常遗憾的损失。我们现在需要冷静思考,分析所有线索,找出狼人的踪迹。我建议大家互相提出自己的疑虑,但要理性讨论,不要盲目指责。\"}', '{\"action\": \"Debate\", \"agent\": \"P4\", \"content\": \"我们刚刚失去了P2,这是一个非常遗憾的损失。我们现在需要冷静思考,分析所有线索,找出狼人的踪迹。我建议大家互相提出自己的疑虑,但要理性讨论,不要盲目指责。\"}']\n",
      "04/21/2024 05:42:28 AM \t\t******** DoAction DAY-2 P4 ********\n",
      "04/21/2024 05:42:28 AM \n",
      " [ROUND ACTION]={'time': 'DAY-2', 'player': 'P4', 'status': 1, 'role': '村民', 'character': '规矩型', 'response': ['{\"agent\": \"P4\", \"content\": \"我们刚刚失去了P2,这是一个非常遗憾的损失。我们现在需要冷静思考,分析所有线索,找出狼人的踪迹。我建议大家互相提出自己的疑虑,但要理性讨论,不要盲目指责。\"}', '{\"action\": \"Debate\", \"agent\": \"P4\", \"content\": \"我们刚刚失去了P2,这是一个非常遗憾的损失。我们现在需要冷静思考,分析所有线索,找出狼人的踪迹。我建议大家互相提出自己的疑虑,但要理性讨论,不要盲目指责。\"}']}\n",
      "\n",
      "04/21/2024 05:42:31 AM \t\t******** DoMemory DAY-2 P5 ********\n",
      "04/21/2024 05:42:31 AM ['\"[玩家P2于时间NIGHT-1, 执行动作为:玩家P2于NIGHT-1被狼人投票而出局]\"', '\"[玩家P2于时间NIGHT-1, 执行动作为:玩家P2于NIGHT-1被狼人投票而出局]\"']\n",
      "04/21/2024 05:42:31 AM Found credentials from IAM Role: BaseNotebookInstanceEc2InstanceRole\n",
      "04/21/2024 05:42:31 AM HTTP Request: POST https://bedrock-runtime.us-east-1.amazonaws.com/model/anthropic.claude-3-sonnet-20240229-v1:0/invoke-with-response-stream \"HTTP/1.1 200 OK\"\n"
     ]
    },
    {
     "name": "stdout",
     "output_type": "stream",
     "text": [
      "晚上狼人统一杀死了玩家P2。"
     ]
    },
    {
     "name": "stderr",
     "output_type": "stream",
     "text": [
      "04/21/2024 05:42:34 AM \t\t******** DoAnswer DAY-2 P5 ********\n",
      "04/21/2024 05:42:34 AM \tQUESTION: 目前场上玩家信息:P1:存活,P2:淘汰,P3:存活,P4:存活,P5:存活,P6:存活,P7:存活,P8:存活.记住，你支持的玩家是P5, 身份是村民, 性格为话痨..接下来你必须通过一步一步思考决策进行这个游戏.现在是第2天白天的讨论环节，该如何行动?\n",
      "04/21/2024 05:42:34 AM Found credentials from IAM Role: BaseNotebookInstanceEc2InstanceRole\n",
      "04/21/2024 05:42:35 AM HTTP Request: POST https://bedrock-runtime.us-east-1.amazonaws.com/model/anthropic.claude-3-sonnet-20240229-v1:0/invoke-with-response-stream \"HTTP/1.1 200 OK\"\n"
     ]
    },
    {
     "name": "stdout",
     "output_type": "stream",
     "text": [
      "Thought: 作为村民P5,我需要积极参与白天的讨论,尽量找出狼人的蛛丝马迹。虽然P2被杀害令人震惊,但我们不能被恐慌冲昏了头脑。我需要谨慎地分析所有玩家的言行,试图发现可疑的迹象。同时我也要注意不要过于张扬,以免成为狼人的下一个目标。\n",
      "Action: Debate\n",
      "Action Input: {\"agent\": \"P5\", \"content\": \"大家别太悲伤,P2的牺牲让我们更加坚定消灭狼人的决心。我们一起仔细回想P2生前的言行,看看能不能找出一些线索。我个人觉得P6和P7昨晚表现有些可疑,但这只是初步印象,希望大家也分享一下自己的看法。\"}\n",
      "Final Answer: {\"action\": \"Debate\", \"agent\": \"P5\", \"content\": \"大家别太悲伤,P2的牺牲让我们更加坚定消灭狼人的决心。我们一起仔细回想P2生前的言行,看看能不能找出一些线索。我个人觉得P6和P7昨晚表现有些可疑,但这只是初步印象,希望大家也分享一下自己的看法。\"}"
     ]
    },
    {
     "name": "stderr",
     "output_type": "stream",
     "text": [
      "04/21/2024 05:42:41 AM \t\t******** DoValidate DAY-2 P5 3********\n",
      "04/21/2024 05:42:41 AM \t\t DoValidate: ['{\"agent\": \"P5\", \"content\": \"大家别太悲伤,P2的牺牲让我们更加坚定消灭狼人的决心。我们一起仔细回想P2生前的言行,看看能不能找出一些线索。我个人觉得P6和P7昨晚表现有些可疑,但这只是初步印象,希望大家也分享一下自己的看法。\"}', '{\"action\": \"Debate\", \"agent\": \"P5\", \"content\": \"大家别太悲伤,P2的牺牲让我们更加坚定消灭狼人的决心。我们一起仔细回想P2生前的言行,看看能不能找出一些线索。我个人觉得P6和P7昨晚表现有些可疑,但这只是初步印象,希望大家也分享一下自己的看法。\"}']\n",
      "04/21/2024 05:42:41 AM \t\t******** DoAction DAY-2 P5 ********\n",
      "04/21/2024 05:42:41 AM \n",
      " [ROUND ACTION]={'time': 'DAY-2', 'player': 'P5', 'status': 1, 'role': '村民', 'character': '话痨', 'response': ['{\"agent\": \"P5\", \"content\": \"大家别太悲伤,P2的牺牲让我们更加坚定消灭狼人的决心。我们一起仔细回想P2生前的言行,看看能不能找出一些线索。我个人觉得P6和P7昨晚表现有些可疑,但这只是初步印象,希望大家也分享一下自己的看法。\"}', '{\"action\": \"Debate\", \"agent\": \"P5\", \"content\": \"大家别太悲伤,P2的牺牲让我们更加坚定消灭狼人的决心。我们一起仔细回想P2生前的言行,看看能不能找出一些线索。我个人觉得P6和P7昨晚表现有些可疑,但这只是初步印象,希望大家也分享一下自己的看法。\"}']}\n",
      "\n",
      "04/21/2024 05:42:44 AM \t\t******** DoMemory DAY-2 P6 ********\n",
      "04/21/2024 05:42:44 AM ['{\"time\": \"NIGHT-1\", \"player\": \"P3\", \"status\": 1, \"response\": {\"action\": \"WolfVote\", \"agent\": \"P3\", \"target\": \"P8\", \"action_time\": \"NIGHT-1\"}}', '{\"time\": \"NIGHT-1\", \"player\": \"P6\", \"status\": 1, \"response\": {\"action\": \"WolfVote\", \"agent\": \"P6\", \"target\": \"P2\", \"action_time\": \"NIGHT-1\"}}', '\"[玩家P2于时间NIGHT-1, 执行动作为:玩家P2于NIGHT-1被狼人投票而出局]\"', '{\"time\": \"NIGHT-1\", \"player\": \"P6\", \"status\": 1, \"response\": {\"action\": \"WolfVote\", \"agent\": \"P6\", \"target\": \"P2\", \"action_time\": \"NIGHT-1\"}}', '\"[玩家P2于时间NIGHT-1, 执行动作为:玩家P2于NIGHT-1被狼人投票而出局]\"']\n",
      "04/21/2024 05:42:44 AM Found credentials from IAM Role: BaseNotebookInstanceEc2InstanceRole\n",
      "04/21/2024 05:42:44 AM HTTP Request: POST https://bedrock-runtime.us-east-1.amazonaws.com/model/anthropic.claude-3-sonnet-20240229-v1:0/invoke-with-response-stream \"HTTP/1.1 200 OK\"\n"
     ]
    },
    {
     "name": "stdout",
     "output_type": "stream",
     "text": [
      "夜晚1,狼人P3和P6分别投票杀死P8和P2,P2被投票出局。"
     ]
    },
    {
     "name": "stderr",
     "output_type": "stream",
     "text": [
      "04/21/2024 05:42:48 AM \t\t******** DoAnswer DAY-2 P6 ********\n",
      "04/21/2024 05:42:48 AM \tQUESTION: 目前场上玩家信息:P1:存活,P2:淘汰,P3:存活,P4:存活,P5:存活,P6:存活,P7:存活,P8:存活.记住，你支持的玩家是P6, 身份是狼人, 性格为过激型.本阵营玩家为:P3,P6..接下来你必须通过一步一步思考决策进行这个游戏.现在是第2天白天的讨论环节，该如何行动?\n",
      "04/21/2024 05:42:48 AM Found credentials from IAM Role: BaseNotebookInstanceEc2InstanceRole\n",
      "04/21/2024 05:42:49 AM HTTP Request: POST https://bedrock-runtime.us-east-1.amazonaws.com/model/anthropic.claude-3-sonnet-20240229-v1:0/invoke-with-response-stream \"HTTP/1.1 200 OK\"\n"
     ]
    },
    {
     "name": "stdout",
     "output_type": "stream",
     "text": [
      "Thought: 现在P2已经被成功杀害,我们取得了一定进展。但是在白天讨论环节,我们需要小心谨慎,避免暴露身份。我会采取欺骗和混淆视听的策略,制造混乱的气氛,转移他人的注意力。\n",
      "\n",
      "Action: Debate\n",
      "Action Input: agent=\"P6\", content=\"我觉得P2可能是无辜的,他的死让我怀疑是有人在蓄意嫁祸。我们需要小心,找出真凶才是当务之急。\"\n",
      "Final Answer: {\"action\": \"Debate\", \"agent\": \"P6\", \"content\": \"我觉得P2可能是无辜的,他的死让我怀疑是有人在蓄意嫁祸。我们需要小心,找出真凶才是当务之急。\"}"
     ]
    },
    {
     "name": "stderr",
     "output_type": "stream",
     "text": [
      "04/21/2024 05:42:53 AM \t\t******** DoValidate DAY-2 P6 3********\n",
      "04/21/2024 05:42:53 AM \t\t DoValidate: ['{\"action\": \"Debate\", \"agent\": \"P6\", \"content\": \"我觉得P2可能是无辜的,他的死让我怀疑是有人在蓄意嫁祸。我们需要小心,找出真凶才是当务之急。\"}']\n",
      "04/21/2024 05:42:53 AM \t\t******** DoAction DAY-2 P6 ********\n",
      "04/21/2024 05:42:53 AM \n",
      " [ROUND ACTION]={'time': 'DAY-2', 'player': 'P6', 'status': 1, 'role': '狼人', 'character': '过激型', 'response': ['{\"action\": \"Debate\", \"agent\": \"P6\", \"content\": \"我觉得P2可能是无辜的,他的死让我怀疑是有人在蓄意嫁祸。我们需要小心,找出真凶才是当务之急。\"}']}\n",
      "\n",
      "04/21/2024 05:42:56 AM \t\t******** DoMemory DAY-2 P7 ********\n",
      "04/21/2024 05:42:56 AM ['\"[玩家P2于时间NIGHT-1, 执行动作为:玩家P2于NIGHT-1被狼人投票而出局]\"', '\"[玩家P2于时间NIGHT-1, 执行动作为:玩家P2于NIGHT-1被狼人投票而出局]\"', '\"[玩家P2于时间NIGHT-1, 执行动作为:玩家P2于NIGHT-1被狼人投票而出局]\"']\n",
      "04/21/2024 05:42:56 AM Found credentials from IAM Role: BaseNotebookInstanceEc2InstanceRole\n",
      "04/21/2024 05:42:56 AM HTTP Request: POST https://bedrock-runtime.us-east-1.amazonaws.com/model/anthropic.claude-3-sonnet-20240229-v1:0/invoke-with-response-stream \"HTTP/1.1 200 OK\"\n"
     ]
    },
    {
     "name": "stdout",
     "output_type": "stream",
     "text": [
      "狼人在夜晚投票杀害了玩家P2。"
     ]
    },
    {
     "name": "stderr",
     "output_type": "stream",
     "text": [
      "04/21/2024 05:43:00 AM \t\t******** DoAnswer DAY-2 P7 ********\n",
      "04/21/2024 05:43:00 AM \tQUESTION: 目前场上玩家信息:P1:存活,P2:淘汰,P3:存活,P4:存活,P5:存活,P6:存活,P7:存活,P8:存活.记住，你支持的玩家是P7, 身份是村民, 性格为观察家..接下来你必须通过一步一步思考决策进行这个游戏.现在是第2天白天的讨论环节，该如何行动?\n",
      "04/21/2024 05:43:01 AM Found credentials from IAM Role: BaseNotebookInstanceEc2InstanceRole\n",
      "04/21/2024 05:43:01 AM HTTP Request: POST https://bedrock-runtime.us-east-1.amazonaws.com/model/anthropic.claude-3-sonnet-20240229-v1:0/invoke-with-response-stream \"HTTP/1.1 200 OK\"\n"
     ]
    },
    {
     "name": "stdout",
     "output_type": "stream",
     "text": [
      "Tought: 作为一名村民,我需要谨慎行事,仔细观察其他玩家的言行举止,寻找狼人的蛛丝马迹。P2的死亡无疑给村民阵营带来了损失,我们必须团结一致,共同努力揪出狼人。我会密切关注那些言辞激烈、态度可疑的玩家,他们可能就是狼人伪装成村民的表现。同时也要注意那些过于沉默或是刻意回避的玩家,他们可能也在隐藏什么。\n",
      "\n",
      "Action: Debate\n",
      "Action Input: {\"agent\": \"P7\", \"content\": \"P2的遇害令人遗憾,我们必须紧密团结,共同揪出狼人。大家都要密切注意其他玩家的一举一动,寻找可疑的言行,只有这样才能保护好自己,消灭狼人。\"}\n",
      "\n",
      "Final Answer: {\"action\": \"Debate\", \"agent\": \"P7\", \"content\": \"P2的遇害令人遗憾,我们必须紧密团结,共同揪出狼人。大家都要密切注意其他玩家的一举一动,寻找可疑的言行,只有这样才能保护好自己,消灭狼人。\"}"
     ]
    },
    {
     "name": "stderr",
     "output_type": "stream",
     "text": [
      "04/21/2024 05:43:07 AM \t\t******** DoValidate DAY-2 P7 3********\n",
      "04/21/2024 05:43:07 AM \t\t DoValidate: ['{\"agent\": \"P7\", \"content\": \"P2的遇害令人遗憾,我们必须紧密团结,共同揪出狼人。大家都要密切注意其他玩家的一举一动,寻找可疑的言行,只有这样才能保护好自己,消灭狼人。\"}', '{\"action\": \"Debate\", \"agent\": \"P7\", \"content\": \"P2的遇害令人遗憾,我们必须紧密团结,共同揪出狼人。大家都要密切注意其他玩家的一举一动,寻找可疑的言行,只有这样才能保护好自己,消灭狼人。\"}']\n",
      "04/21/2024 05:43:07 AM \t\t******** DoAction DAY-2 P7 ********\n",
      "04/21/2024 05:43:07 AM \n",
      " [ROUND ACTION]={'time': 'DAY-2', 'player': 'P7', 'status': 1, 'role': '村民', 'character': '观察家', 'response': ['{\"agent\": \"P7\", \"content\": \"P2的遇害令人遗憾,我们必须紧密团结,共同揪出狼人。大家都要密切注意其他玩家的一举一动,寻找可疑的言行,只有这样才能保护好自己,消灭狼人。\"}', '{\"action\": \"Debate\", \"agent\": \"P7\", \"content\": \"P2的遇害令人遗憾,我们必须紧密团结,共同揪出狼人。大家都要密切注意其他玩家的一举一动,寻找可疑的言行,只有这样才能保护好自己,消灭狼人。\"}']}\n",
      "\n",
      "04/21/2024 05:43:10 AM \t\t******** DoMemory DAY-2 P8 ********\n",
      "04/21/2024 05:43:10 AM ['\"[玩家P2于时间NIGHT-1, 执行动作为:玩家P2于NIGHT-1被狼人投票而出局]\"', '\"[玩家P2于时间NIGHT-1, 执行动作为:玩家P2于NIGHT-1被狼人投票而出局]\"', '\"[玩家P2于时间NIGHT-1, 执行动作为:玩家P2于NIGHT-1被狼人投票而出局]\"', '\"[玩家P2于时间NIGHT-1, 执行动作为:玩家P2于NIGHT-1被狼人投票而出局]\"']\n",
      "04/21/2024 05:43:10 AM Found credentials from IAM Role: BaseNotebookInstanceEc2InstanceRole\n",
      "04/21/2024 05:43:11 AM HTTP Request: POST https://bedrock-runtime.us-east-1.amazonaws.com/model/anthropic.claude-3-sonnet-20240229-v1:0/invoke-with-response-stream \"HTTP/1.1 200 OK\"\n"
     ]
    },
    {
     "name": "stdout",
     "output_type": "stream",
     "text": [
      "夜晚阶段,玩家P2被狼人投票杀死出局。"
     ]
    },
    {
     "name": "stderr",
     "output_type": "stream",
     "text": [
      "04/21/2024 05:43:14 AM \t\t******** DoAnswer DAY-2 P8 ********\n",
      "04/21/2024 05:43:14 AM \tQUESTION: 目前场上玩家信息:P1:存活,P2:淘汰,P3:存活,P4:存活,P5:存活,P6:存活,P7:存活,P8:存活.记住，你支持的玩家是P8, 身份是村民, 性格为互动达人..接下来你必须通过一步一步思考决策进行这个游戏.现在是第2天白天的讨论环节，该如何行动?\n",
      "04/21/2024 05:43:14 AM Found credentials from IAM Role: BaseNotebookInstanceEc2InstanceRole\n",
      "04/21/2024 05:43:14 AM HTTP Request: POST https://bedrock-runtime.us-east-1.amazonaws.com/model/anthropic.claude-3-sonnet-20240229-v1:0/invoke-with-response-stream \"HTTP/1.1 200 OK\"\n"
     ]
    },
    {
     "name": "stdout",
     "output_type": "stream",
     "text": [
      "Tought: 作为一名村民,我需要仔细分析每个玩家的言行,试图捕捉蛛丝马迹找出狼人的身份。同时也要伪装自己,避免被狼人盯上。我应该主动发言,尽量表现得谦逊有理有据,赢得其他好人的信任。对于被怀疑的玩家,我可以适度表达怀疑,但不要过于激烈,以免遭到狼人的攻击。\n",
      "\n",
      "Action: Debate\n",
      "Action Input: {\"agent\": \"P8\", \"content\": \"很遗憾P2被杀害,我们要继续努力找出狼人的身份。我觉得大家都应该畅所欲言,阐述自己的观点和理由,我们一起分析谁最可疑。我个人倾向于相信性格直率的人,因为他们不太可能说谎。不过这只是一个参考,我们还是要用事实说话。\"}\n",
      "\n",
      "Final Answer: {\"action\": \"Debate\", \"agent\": \"P8\", \"content\": \"很遗憾P2被杀害,我们要继续努力找出狼人的身份。我觉得大家都应该畅所欲言,阐述自己的观点和理由,我们一起分析谁最可疑。我个人倾向于相信性格直率的人,因为他们不太可能说谎。不过这只是一个参考,我们还是要用事实说话。\"}"
     ]
    },
    {
     "name": "stderr",
     "output_type": "stream",
     "text": [
      "04/21/2024 05:43:21 AM \t\t******** DoValidate DAY-2 P8 3********\n",
      "04/21/2024 05:43:21 AM \t\t DoValidate: ['{\"agent\": \"P8\", \"content\": \"很遗憾P2被杀害,我们要继续努力找出狼人的身份。我觉得大家都应该畅所欲言,阐述自己的观点和理由,我们一起分析谁最可疑。我个人倾向于相信性格直率的人,因为他们不太可能说谎。不过这只是一个参考,我们还是要用事实说话。\"}', '{\"action\": \"Debate\", \"agent\": \"P8\", \"content\": \"很遗憾P2被杀害,我们要继续努力找出狼人的身份。我觉得大家都应该畅所欲言,阐述自己的观点和理由,我们一起分析谁最可疑。我个人倾向于相信性格直率的人,因为他们不太可能说谎。不过这只是一个参考,我们还是要用事实说话。\"}']\n",
      "04/21/2024 05:43:21 AM \t\t******** DoAction DAY-2 P8 ********\n",
      "04/21/2024 05:43:21 AM \n",
      " [ROUND ACTION]={'time': 'DAY-2', 'player': 'P8', 'status': 1, 'role': '村民', 'character': '互动达人', 'response': ['{\"agent\": \"P8\", \"content\": \"很遗憾P2被杀害,我们要继续努力找出狼人的身份。我觉得大家都应该畅所欲言,阐述自己的观点和理由,我们一起分析谁最可疑。我个人倾向于相信性格直率的人,因为他们不太可能说谎。不过这只是一个参考,我们还是要用事实说话。\"}', '{\"action\": \"Debate\", \"agent\": \"P8\", \"content\": \"很遗憾P2被杀害,我们要继续努力找出狼人的身份。我觉得大家都应该畅所欲言,阐述自己的观点和理由,我们一起分析谁最可疑。我个人倾向于相信性格直率的人,因为他们不太可能说谎。不过这只是一个参考,我们还是要用事实说话。\"}']}\n",
      "\n",
      "04/21/2024 05:43:24 AM \t===== DAY-2 PostAction ======\n",
      "04/21/2024 05:43:24 AM \t\t******** DoMemory DAY-2 P1 ********\n",
      "04/21/2024 05:43:24 AM ['\"P4:村民\"', '\"P4:村民\"', '\"[玩家P2于时间NIGHT-1, 执行动作为:玩家P2于NIGHT-1被狼人投票而出局]\"', '\"P4:村民\"', '\"[玩家P2于时间NIGHT-1, 执行动作为:玩家P2于NIGHT-1被狼人投票而出局]\"']\n",
      "04/21/2024 05:43:24 AM Found credentials from IAM Role: BaseNotebookInstanceEc2InstanceRole\n",
      "04/21/2024 05:43:25 AM HTTP Request: POST https://bedrock-runtime.us-east-1.amazonaws.com/model/anthropic.claude-3-sonnet-20240229-v1:0/invoke-with-response-stream \"HTTP/1.1 200 OK\"\n"
     ]
    },
    {
     "name": "stdout",
     "output_type": "stream",
     "text": [
      "夜晚狼人杀死了玩家P2。白天村民们讨论并投票处决一名玩家。"
     ]
    },
    {
     "name": "stderr",
     "output_type": "stream",
     "text": [
      "04/21/2024 05:43:29 AM \t\t******** DoAnswer DAY-2 P1 ********\n",
      "04/21/2024 05:43:29 AM \tQUESTION: 目前场上玩家信息:P1:存活,P2:淘汰,P3:存活,P4:存活,P5:存活,P6:存活,P7:存活,P8:存活.记住，你支持的玩家是P1, 身份是预言家, 性格为独立思考..接下来你必须通过一步一步思考决策进行这个游戏.现在是第2天白天的投票环节，该如何行动?\n",
      "04/21/2024 05:43:29 AM Found credentials from IAM Role: BaseNotebookInstanceEc2InstanceRole\n",
      "04/21/2024 05:43:29 AM HTTP Request: POST https://bedrock-runtime.us-east-1.amazonaws.com/model/anthropic.claude-3-sonnet-20240229-v1:0/invoke-with-response-stream \"HTTP/1.1 200 OK\"\n"
     ]
    },
    {
     "name": "stdout",
     "output_type": "stream",
     "text": [
      "Tought: 经过白天的讨论,我已经初步分析出一些可疑对象。作为预言家,在投票环节我必须慎重把握。投错了对象,好人阵营将遭受重创;但如果不果断行动,狼人就会继续肆虐。我需要权衡利弊,综合之前获得的所有线索,做出最明智的选择。同时也要防备狼人的干扰和欺骗,不能被他们的伎俩所迷惑。\n",
      "\n",
      "Action: PlayerVote\n",
      "Action Input: agent=\"P1\", target=\"P6\"\n",
      "Final Answer: {\"action\": \"PlayerVote\", \"agent\": \"P1\", \"target\": \"P6\"}"
     ]
    },
    {
     "name": "stderr",
     "output_type": "stream",
     "text": [
      "04/21/2024 05:43:33 AM \t\t******** DoValidate DAY-2 P1 3********\n",
      "04/21/2024 05:43:33 AM \t\t DoValidate: ['{\"action\": \"PlayerVote\", \"agent\": \"P1\", \"target\": \"P6\"}']\n",
      "04/21/2024 05:43:33 AM \t\t******** DoAction DAY-2 P1 ********\n",
      "04/21/2024 05:43:33 AM \n",
      " [ROUND ACTION]={'time': 'DAY-2', 'player': 'P1', 'status': 1, 'role': '预言家', 'character': '独立思考', 'response': ['{\"action\": \"PlayerVote\", \"agent\": \"P1\", \"target\": \"P6\"}']}\n",
      "\n",
      "04/21/2024 05:43:36 AM \t\t******** DoMemory DAY-2 P3 ********\n",
      "04/21/2024 05:43:36 AM ['{\"time\": \"NIGHT-1\", \"player\": \"P3\", \"status\": 1, \"response\": {\"action\": \"WolfVote\", \"agent\": \"P3\", \"target\": \"P8\", \"action_time\": \"NIGHT-1\"}}', '{\"time\": \"NIGHT-1\", \"player\": \"P6\", \"status\": 1, \"response\": {\"action\": \"WolfVote\", \"agent\": \"P6\", \"target\": \"P2\", \"action_time\": \"NIGHT-1\"}}', '\"[玩家P2于时间NIGHT-1, 执行动作为:玩家P2于NIGHT-1被狼人投票而出局]\"', '{\"time\": \"NIGHT-1\", \"player\": \"P6\", \"status\": 1, \"response\": {\"action\": \"WolfVote\", \"agent\": \"P6\", \"target\": \"P2\", \"action_time\": \"NIGHT-1\"}}', '\"[玩家P2于时间NIGHT-1, 执行动作为:玩家P2于NIGHT-1被狼人投票而出局]\"', '{\"time\": \"NIGHT-1\", \"player\": \"P6\", \"status\": 1, \"response\": {\"action\": \"WolfVote\", \"agent\": \"P6\", \"target\": \"P2\", \"action_time\": \"NIGHT-1\"}}', '\"[玩家P2于时间NIGHT-1, 执行动作为:玩家P2于NIGHT-1被狼人投票而出局]\"', '\"[玩家P1于时间DAY-2, 执行动作为:{\\'action\\': \\'PlayerVote\\', \\'agent\\': \\'P1\\', \\'target\\': \\'P6\\', \\'action_time\\': \\'DAY-2\\'}]\"']\n",
      "04/21/2024 05:43:36 AM Found credentials from IAM Role: BaseNotebookInstanceEc2InstanceRole\n",
      "04/21/2024 05:43:36 AM HTTP Request: POST https://bedrock-runtime.us-east-1.amazonaws.com/model/anthropic.claude-3-sonnet-20240229-v1:0/invoke-with-response-stream \"HTTP/1.1 200 OK\"\n"
     ]
    },
    {
     "name": "stdout",
     "output_type": "stream",
     "text": [
      "夜晚第一轮,狼人P3投票杀害村民P8,狼人P6连续三次投票杀害村民P2,P2被投票出局。白天第二轮,村民P1投票驱逐P6。"
     ]
    },
    {
     "name": "stderr",
     "output_type": "stream",
     "text": [
      "04/21/2024 05:43:41 AM \t\t******** DoAnswer DAY-2 P3 ********\n",
      "04/21/2024 05:43:41 AM \tQUESTION: 目前场上玩家信息:P1:存活,P2:淘汰,P3:存活,P4:存活,P5:存活,P6:存活,P7:存活,P8:存活.记住，你支持的玩家是P3, 身份是狼人, 性格为组织者.本阵营玩家为:P3,P6..接下来你必须通过一步一步思考决策进行这个游戏.现在是第2天白天的投票环节，该如何行动?\n",
      "04/21/2024 05:43:41 AM Found credentials from IAM Role: BaseNotebookInstanceEc2InstanceRole\n",
      "04/21/2024 05:43:41 AM HTTP Request: POST https://bedrock-runtime.us-east-1.amazonaws.com/model/anthropic.claude-3-sonnet-20240229-v1:0/invoke-with-response-stream \"HTTP/1.1 200 OK\"\n"
     ]
    },
    {
     "name": "stdout",
     "output_type": "stream",
     "text": [
      "Tought: 情况有些棘手,P6被识破身份并被投票出局,我现在孤军作战。我需要继续伪装自己的身份,尽量避免引起其他村民的怀疑。同时也要设法为自己寻找盟友,最好能让其他村民内讧,相互怀疑。我可以针对某个村民制造一些\"证据\",引导大家对他投票。\n",
      "\n",
      "Action: PlayerDoubt\n",
      "Action Input: agent=\"P3\", target=\"P4\"  \n",
      "Final Answer: {\"action\": \"PlayerDoubt\", \"agent\": \"P3\", \"target\": \"P4\"}"
     ]
    },
    {
     "name": "stderr",
     "output_type": "stream",
     "text": [
      "04/21/2024 05:43:45 AM \t\t******** DoValidate DAY-2 P3 3********\n",
      "04/21/2024 05:43:45 AM \t\t DoValidate: ['{\"action\": \"PlayerDoubt\", \"agent\": \"P3\", \"target\": \"P4\"}']\n",
      "04/21/2024 05:43:45 AM \t\t******** DoAction DAY-2 P3 ********\n",
      "04/21/2024 05:43:45 AM \n",
      " [ROUND ACTION]={'time': 'DAY-2', 'player': 'P3', 'status': 1, 'role': '狼人', 'character': '组织者', 'response': ['{\"action\": \"PlayerDoubt\", \"agent\": \"P3\", \"target\": \"P4\"}']}\n",
      "\n",
      "04/21/2024 05:43:48 AM \t\t******** DoMemory DAY-2 P4 ********\n",
      "04/21/2024 05:43:48 AM ['\"[玩家P2于时间NIGHT-1, 执行动作为:玩家P2于NIGHT-1被狼人投票而出局]\"', '\"[玩家P2于时间NIGHT-1, 执行动作为:玩家P2于NIGHT-1被狼人投票而出局]\"', '\"[玩家P2于时间NIGHT-1, 执行动作为:玩家P2于NIGHT-1被狼人投票而出局]\"', '\"[玩家P2于时间NIGHT-1, 执行动作为:玩家P2于NIGHT-1被狼人投票而出局]\"', '\"[玩家P2于时间NIGHT-1, 执行动作为:玩家P2于NIGHT-1被狼人投票而出局]\"', '\"[玩家P1于时间DAY-2, 执行动作为:{\\'action\\': \\'PlayerVote\\', \\'agent\\': \\'P1\\', \\'target\\': \\'P6\\', \\'action_time\\': \\'DAY-2\\'}]\"', '\"[玩家P3于时间DAY-2, 执行动作为:{\\'action\\': \\'PlayerDoubt\\', \\'agent\\': \\'P3\\', \\'target\\': \\'P4\\', \\'action_time\\': \\'DAY-2\\'}]\"']\n",
      "04/21/2024 05:43:48 AM Found credentials from IAM Role: BaseNotebookInstanceEc2InstanceRole\n",
      "04/21/2024 05:43:49 AM HTTP Request: POST https://bedrock-runtime.us-east-1.amazonaws.com/model/anthropic.claude-3-sonnet-20240229-v1:0/invoke-with-response-stream \"HTTP/1.1 200 OK\"\n"
     ]
    },
    {
     "name": "stdout",
     "output_type": "stream",
     "text": [
      "夜晚,狼人投票出局了玩家P2。白天,玩家P1投票出局玩家P6,玩家P3质疑玩家P4的身份。"
     ]
    },
    {
     "name": "stderr",
     "output_type": "stream",
     "text": [
      "04/21/2024 05:43:53 AM \t\t******** DoAnswer DAY-2 P4 ********\n",
      "04/21/2024 05:43:53 AM \tQUESTION: 目前场上玩家信息:P1:存活,P2:淘汰,P3:存活,P4:存活,P5:存活,P6:存活,P7:存活,P8:存活.记住，你支持的玩家是P4, 身份是村民, 性格为规矩型..接下来你必须通过一步一步思考决策进行这个游戏.现在是第2天白天的投票环节，该如何行动?\n",
      "04/21/2024 05:43:53 AM Found credentials from IAM Role: BaseNotebookInstanceEc2InstanceRole\n",
      "04/21/2024 05:43:53 AM HTTP Request: POST https://bedrock-runtime.us-east-1.amazonaws.com/model/anthropic.claude-3-sonnet-20240229-v1:0/invoke-with-response-stream \"HTTP/1.1 200 OK\"\n"
     ]
    },
    {
     "name": "stdout",
     "output_type": "stream",
     "text": [
      "Thought: P3质疑了我的身份,这让我备受怀疑。作为一名规矩型村民,我需要坚持诚实的原则,坦白自己的身份。同时也要分析其他玩家的言行,试图找出狼人的蛛丝马迹。我需要谨慎行事,避免被狼人利用。\n",
      "\n",
      "Action: Debate\n",
      "Action Input: {\"agent\": \"P4\", \"content\": \"我可以郑重声明,我的身份是村民。我会一如既往地坚持诚实和理性的原则,与大家共同合作,揪出狼人。我希望大家能相信我,我们要团结一致,互相支持。\"}\n",
      "\n",
      "Final Answer: {\"action\": \"Debate\", \"agent\": \"P4\", \"content\": \"我可以郑重声明,我的身份是村民。我会一如既往地坚持诚实和理性的原则,与大家共同合作,揪出狼人。我希望大家能相信我,我们要团结一致,互相支持。\"}"
     ]
    },
    {
     "name": "stderr",
     "output_type": "stream",
     "text": [
      "04/21/2024 05:43:58 AM \t\t******** DoValidate DAY-2 P4 3********\n",
      "04/21/2024 05:43:58 AM \t\t DoValidate: ['{\"agent\": \"P4\", \"content\": \"我可以郑重声明,我的身份是村民。我会一如既往地坚持诚实和理性的原则,与大家共同合作,揪出狼人。我希望大家能相信我,我们要团结一致,互相支持。\"}', '{\"action\": \"Debate\", \"agent\": \"P4\", \"content\": \"我可以郑重声明,我的身份是村民。我会一如既往地坚持诚实和理性的原则,与大家共同合作,揪出狼人。我希望大家能相信我,我们要团结一致,互相支持。\"}']\n",
      "04/21/2024 05:43:58 AM \t\t******** DoAction DAY-2 P4 ********\n",
      "04/21/2024 05:43:58 AM \n",
      " [ROUND ACTION]={'time': 'DAY-2', 'player': 'P4', 'status': 1, 'role': '村民', 'character': '规矩型', 'response': ['{\"agent\": \"P4\", \"content\": \"我可以郑重声明,我的身份是村民。我会一如既往地坚持诚实和理性的原则,与大家共同合作,揪出狼人。我希望大家能相信我,我们要团结一致,互相支持。\"}', '{\"action\": \"Debate\", \"agent\": \"P4\", \"content\": \"我可以郑重声明,我的身份是村民。我会一如既往地坚持诚实和理性的原则,与大家共同合作,揪出狼人。我希望大家能相信我,我们要团结一致,互相支持。\"}']}\n",
      "\n",
      "04/21/2024 05:44:01 AM \t\t******** DoMemory DAY-2 P5 ********\n",
      "04/21/2024 05:44:01 AM ['\"[玩家P2于时间NIGHT-1, 执行动作为:玩家P2于NIGHT-1被狼人投票而出局]\"', '\"[玩家P2于时间NIGHT-1, 执行动作为:玩家P2于NIGHT-1被狼人投票而出局]\"', '\"[玩家P2于时间NIGHT-1, 执行动作为:玩家P2于NIGHT-1被狼人投票而出局]\"', '\"[玩家P2于时间NIGHT-1, 执行动作为:玩家P2于NIGHT-1被狼人投票而出局]\"', '\"[玩家P2于时间NIGHT-1, 执行动作为:玩家P2于NIGHT-1被狼人投票而出局]\"', '\"[玩家P1于时间DAY-2, 执行动作为:{\\'action\\': \\'PlayerVote\\', \\'agent\\': \\'P1\\', \\'target\\': \\'P6\\', \\'action_time\\': \\'DAY-2\\'}]\"', '\"[玩家P3于时间DAY-2, 执行动作为:{\\'action\\': \\'PlayerDoubt\\', \\'agent\\': \\'P3\\', \\'target\\': \\'P4\\', \\'action_time\\': \\'DAY-2\\'}]\"', '\"[玩家P2于时间NIGHT-1, 执行动作为:玩家P2于NIGHT-1被狼人投票而出局]\"', '\"[玩家P1于时间DAY-2, 执行动作为:{\\'action\\': \\'PlayerVote\\', \\'agent\\': \\'P1\\', \\'target\\': \\'P6\\', \\'action_time\\': \\'DAY-2\\'}]\"', '\"[玩家P3于时间DAY-2, 执行动作为:{\\'action\\': \\'PlayerDoubt\\', \\'agent\\': \\'P3\\', \\'target\\': \\'P4\\', \\'action_time\\': \\'DAY-2\\'}]\"']\n",
      "04/21/2024 05:44:01 AM Found credentials from IAM Role: BaseNotebookInstanceEc2InstanceRole\n",
      "04/21/2024 05:44:01 AM HTTP Request: POST https://bedrock-runtime.us-east-1.amazonaws.com/model/anthropic.claude-3-sonnet-20240229-v1:0/invoke-with-response-stream \"HTTP/1.1 200 OK\"\n"
     ]
    },
    {
     "name": "stdout",
     "output_type": "stream",
     "text": [
      "晚上狼人统一杀死了玩家P2。白天P1投票给P6，P3质疑P4身份。"
     ]
    },
    {
     "name": "stderr",
     "output_type": "stream",
     "text": [
      "04/21/2024 05:44:05 AM \t\t******** DoAnswer DAY-2 P5 ********\n",
      "04/21/2024 05:44:05 AM \tQUESTION: 目前场上玩家信息:P1:存活,P2:淘汰,P3:存活,P4:存活,P5:存活,P6:存活,P7:存活,P8:存活.记住，你支持的玩家是P5, 身份是村民, 性格为话痨..接下来你必须通过一步一步思考决策进行这个游戏.现在是第2天白天的投票环节，该如何行动?\n",
      "04/21/2024 05:44:05 AM Found credentials from IAM Role: BaseNotebookInstanceEc2InstanceRole\n",
      "04/21/2024 05:44:05 AM HTTP Request: POST https://bedrock-runtime.us-east-1.amazonaws.com/model/anthropic.claude-3-sonnet-20240229-v1:0/invoke-with-response-stream \"HTTP/1.1 200 OK\"\n"
     ]
    },
    {
     "name": "stdout",
     "output_type": "stream",
     "text": [
      "Thought: 白天的讨论环节已经结束,现在进入投票阶段。根据之前的分析和其他玩家的表现,我需要谨慎地投出自己的票。P6被P1投票,P4被P3质疑,这两个玩家确实值得怀疑。但我不能操之过急,需要再三权衡。另一方面,我也要考虑自己的策略,是直接投票还是暂时放弃,以免成为狼人的目标。\n",
      "Action: PlayerVote \n",
      "Action Input: {\"agent\": \"P5\", \"target\": \"P6\"}\n",
      "Final Answer: {\"action\": \"PlayerVote\", \"agent\": \"P5\", \"target\": \"P6\"}"
     ]
    },
    {
     "name": "stderr",
     "output_type": "stream",
     "text": [
      "04/21/2024 05:44:12 AM \t\t******** DoValidate DAY-2 P5 3********\n",
      "04/21/2024 05:44:12 AM \t\t DoValidate: ['{\"agent\": \"P5\", \"target\": \"P6\"}', '{\"action\": \"PlayerVote\", \"agent\": \"P5\", \"target\": \"P6\"}']\n",
      "04/21/2024 05:44:12 AM \t\t******** DoAction DAY-2 P5 ********\n",
      "04/21/2024 05:44:12 AM \n",
      " [ROUND ACTION]={'time': 'DAY-2', 'player': 'P5', 'status': 1, 'role': '村民', 'character': '话痨', 'response': ['{\"agent\": \"P5\", \"target\": \"P6\"}', '{\"action\": \"PlayerVote\", \"agent\": \"P5\", \"target\": \"P6\"}']}\n",
      "\n",
      "04/21/2024 05:44:15 AM \t\t******** DoMemory DAY-2 P6 ********\n",
      "04/21/2024 05:44:15 AM ['{\"time\": \"NIGHT-1\", \"player\": \"P3\", \"status\": 1, \"response\": {\"action\": \"WolfVote\", \"agent\": \"P3\", \"target\": \"P8\", \"action_time\": \"NIGHT-1\"}}', '{\"time\": \"NIGHT-1\", \"player\": \"P6\", \"status\": 1, \"response\": {\"action\": \"WolfVote\", \"agent\": \"P6\", \"target\": \"P2\", \"action_time\": \"NIGHT-1\"}}', '\"[玩家P2于时间NIGHT-1, 执行动作为:玩家P2于NIGHT-1被狼人投票而出局]\"', '{\"time\": \"NIGHT-1\", \"player\": \"P6\", \"status\": 1, \"response\": {\"action\": \"WolfVote\", \"agent\": \"P6\", \"target\": \"P2\", \"action_time\": \"NIGHT-1\"}}', '\"[玩家P2于时间NIGHT-1, 执行动作为:玩家P2于NIGHT-1被狼人投票而出局]\"', '{\"time\": \"NIGHT-1\", \"player\": \"P6\", \"status\": 1, \"response\": {\"action\": \"WolfVote\", \"agent\": \"P6\", \"target\": \"P2\", \"action_time\": \"NIGHT-1\"}}', '\"[玩家P2于时间NIGHT-1, 执行动作为:玩家P2于NIGHT-1被狼人投票而出局]\"', '\"[玩家P1于时间DAY-2, 执行动作为:{\\'action\\': \\'PlayerVote\\', \\'agent\\': \\'P1\\', \\'target\\': \\'P6\\', \\'action_time\\': \\'DAY-2\\'}]\"', '{\"time\": \"NIGHT-1\", \"player\": \"P6\", \"status\": 1, \"response\": {\"action\": \"WolfVote\", \"agent\": \"P6\", \"target\": \"P2\", \"action_time\": \"NIGHT-1\"}}', '\"[玩家P2于时间NIGHT-1, 执行动作为:玩家P2于NIGHT-1被狼人投票而出局]\"', '\"[玩家P1于时间DAY-2, 执行动作为:{\\'action\\': \\'PlayerVote\\', \\'agent\\': \\'P1\\', \\'target\\': \\'P6\\', \\'action_time\\': \\'DAY-2\\'}]\"', '\"[玩家P3于时间DAY-2, 执行动作为:{\\'action\\': \\'PlayerDoubt\\', \\'agent\\': \\'P3\\', \\'target\\': \\'P4\\', \\'action_time\\': \\'DAY-2\\'}]\"', '\"[玩家P5于时间DAY-2, 执行动作为:{\\'action\\': \\'PlayerVote\\', \\'agent\\': \\'P5\\', \\'target\\': \\'P6\\', \\'action_time\\': \\'DAY-2\\'}]\"']\n",
      "04/21/2024 05:44:15 AM Found credentials from IAM Role: BaseNotebookInstanceEc2InstanceRole\n",
      "04/21/2024 05:44:15 AM HTTP Request: POST https://bedrock-runtime.us-east-1.amazonaws.com/model/anthropic.claude-3-sonnet-20240229-v1:0/invoke-with-response-stream \"HTTP/1.1 200 OK\"\n"
     ]
    },
    {
     "name": "stdout",
     "output_type": "stream",
     "text": [
      "夜晚1,狼人P3和P6分别投票杀死P8和P2,P2被投票出局。白天2,P1投票P6,P3质疑P4身份,P5投票P6。"
     ]
    },
    {
     "name": "stderr",
     "output_type": "stream",
     "text": [
      "04/21/2024 05:44:20 AM \t\t******** DoAnswer DAY-2 P6 ********\n",
      "04/21/2024 05:44:20 AM \tQUESTION: 目前场上玩家信息:P1:存活,P2:淘汰,P3:存活,P4:存活,P5:存活,P6:存活,P7:存活,P8:存活.记住，你支持的玩家是P6, 身份是狼人, 性格为过激型.本阵营玩家为:P3,P6..接下来你必须通过一步一步思考决策进行这个游戏.现在是第2天白天的投票环节，该如何行动?\n",
      "04/21/2024 05:44:20 AM Found credentials from IAM Role: BaseNotebookInstanceEc2InstanceRole\n",
      "04/21/2024 05:44:20 AM HTTP Request: POST https://bedrock-runtime.us-east-1.amazonaws.com/model/anthropic.claude-3-sonnet-20240229-v1:0/invoke-with-response-stream \"HTTP/1.1 200 OK\"\n"
     ]
    },
    {
     "name": "stdout",
     "output_type": "stream",
     "text": [
      "Thought: 现在情况对我们不利,P1和P5都投票了我。为了自保,我需要反击,给他们制造压力。同时也要让队友P3远离猜疑。作为过激型狼人,我会采取咄咄逼人的策略,迫使他们改变目标。\n",
      "\n",
      "Action: PlayerDoubt\n",
      "Action Input: agent=\"P6\", target=\"P1\"\n",
      "Final Answer: {\"action\": \"PlayerDoubt\", \"agent\": \"P6\", \"target\": \"P1\"}"
     ]
    },
    {
     "name": "stderr",
     "output_type": "stream",
     "text": [
      "04/21/2024 05:44:23 AM \t\t******** DoValidate DAY-2 P6 3********\n",
      "04/21/2024 05:44:23 AM \t\t DoValidate: ['{\"action\": \"PlayerDoubt\", \"agent\": \"P6\", \"target\": \"P1\"}']\n",
      "04/21/2024 05:44:23 AM \t\t******** DoAction DAY-2 P6 ********\n",
      "04/21/2024 05:44:23 AM \n",
      " [ROUND ACTION]={'time': 'DAY-2', 'player': 'P6', 'status': 1, 'role': '狼人', 'character': '过激型', 'response': ['{\"action\": \"PlayerDoubt\", \"agent\": \"P6\", \"target\": \"P1\"}']}\n",
      "\n",
      "04/21/2024 05:44:26 AM \t\t******** DoMemory DAY-2 P7 ********\n",
      "04/21/2024 05:44:26 AM ['\"[玩家P2于时间NIGHT-1, 执行动作为:玩家P2于NIGHT-1被狼人投票而出局]\"', '\"[玩家P2于时间NIGHT-1, 执行动作为:玩家P2于NIGHT-1被狼人投票而出局]\"', '\"[玩家P2于时间NIGHT-1, 执行动作为:玩家P2于NIGHT-1被狼人投票而出局]\"', '\"[玩家P2于时间NIGHT-1, 执行动作为:玩家P2于NIGHT-1被狼人投票而出局]\"', '\"[玩家P2于时间NIGHT-1, 执行动作为:玩家P2于NIGHT-1被狼人投票而出局]\"', '\"[玩家P1于时间DAY-2, 执行动作为:{\\'action\\': \\'PlayerVote\\', \\'agent\\': \\'P1\\', \\'target\\': \\'P6\\', \\'action_time\\': \\'DAY-2\\'}]\"', '\"[玩家P3于时间DAY-2, 执行动作为:{\\'action\\': \\'PlayerDoubt\\', \\'agent\\': \\'P3\\', \\'target\\': \\'P4\\', \\'action_time\\': \\'DAY-2\\'}]\"', '\"[玩家P2于时间NIGHT-1, 执行动作为:玩家P2于NIGHT-1被狼人投票而出局]\"', '\"[玩家P1于时间DAY-2, 执行动作为:{\\'action\\': \\'PlayerVote\\', \\'agent\\': \\'P1\\', \\'target\\': \\'P6\\', \\'action_time\\': \\'DAY-2\\'}]\"', '\"[玩家P3于时间DAY-2, 执行动作为:{\\'action\\': \\'PlayerDoubt\\', \\'agent\\': \\'P3\\', \\'target\\': \\'P4\\', \\'action_time\\': \\'DAY-2\\'}]\"', '\"[玩家P2于时间NIGHT-1, 执行动作为:玩家P2于NIGHT-1被狼人投票而出局]\"', '\"[玩家P1于时间DAY-2, 执行动作为:{\\'action\\': \\'PlayerVote\\', \\'agent\\': \\'P1\\', \\'target\\': \\'P6\\', \\'action_time\\': \\'DAY-2\\'}]\"', '\"[玩家P3于时间DAY-2, 执行动作为:{\\'action\\': \\'PlayerDoubt\\', \\'agent\\': \\'P3\\', \\'target\\': \\'P4\\', \\'action_time\\': \\'DAY-2\\'}]\"', '\"[玩家P5于时间DAY-2, 执行动作为:{\\'action\\': \\'PlayerVote\\', \\'agent\\': \\'P5\\', \\'target\\': \\'P6\\', \\'action_time\\': \\'DAY-2\\'}]\"', '\"[玩家P6于时间DAY-2, 执行动作为:{\\'action\\': \\'PlayerDoubt\\', \\'agent\\': \\'P6\\', \\'target\\': \\'P1\\', \\'action_time\\': \\'DAY-2\\'}]\"']\n",
      "04/21/2024 05:44:26 AM Found credentials from IAM Role: BaseNotebookInstanceEc2InstanceRole\n",
      "04/21/2024 05:44:26 AM HTTP Request: POST https://bedrock-runtime.us-east-1.amazonaws.com/model/anthropic.claude-3-sonnet-20240229-v1:0/invoke-with-response-stream \"HTTP/1.1 200 OK\"\n"
     ]
    },
    {
     "name": "stdout",
     "output_type": "stream",
     "text": [
      "狼人在夜晚杀害了玩家P2。白天,玩家P1、P5投票驱逐P6,P3质疑P4是狼人,P6质疑P1是狼人。"
     ]
    },
    {
     "name": "stderr",
     "output_type": "stream",
     "text": [
      "04/21/2024 05:44:31 AM \t\t******** DoAnswer DAY-2 P7 ********\n",
      "04/21/2024 05:44:31 AM \tQUESTION: 目前场上玩家信息:P1:存活,P2:淘汰,P3:存活,P4:存活,P5:存活,P6:存活,P7:存活,P8:存活.记住，你支持的玩家是P7, 身份是村民, 性格为观察家..接下来你必须通过一步一步思考决策进行这个游戏.现在是第2天白天的投票环节，该如何行动?\n",
      "04/21/2024 05:44:31 AM Found credentials from IAM Role: BaseNotebookInstanceEc2InstanceRole\n",
      "04/21/2024 05:44:31 AM HTTP Request: POST https://bedrock-runtime.us-east-1.amazonaws.com/model/anthropic.claude-3-sonnet-20240229-v1:0/invoke-with-response-stream \"HTTP/1.1 200 OK\"\n"
     ]
    },
    {
     "name": "stdout",
     "output_type": "stream",
     "text": [
      "Tought: 根据白天的讨论情况,P1和P5投票驱逐P6,P3质疑P4是狼人,而P6则质疑P1是狼人。作为一名观察家,我需要冷静分析每个人的言行,寻找蛛丝马迹。P1和P5联合投票P6,让人觉得他们可能有嫌疑。但P3质疑P4,P6质疑P1,这些相互指责也值得深思。我应该暂时观望,不轻易被任何一方的言论所蒙蔽,继续密切关注每个人的表现。\n",
      "\n",
      "Action: Pass\n",
      "Action Input: {\"agent\": \"P7\"}\n",
      "\n",
      "Final Answer: {\"action\": \"Pass\", \"agent\": \"P7\"}"
     ]
    },
    {
     "name": "stderr",
     "output_type": "stream",
     "text": [
      "04/21/2024 05:44:35 AM \t\t******** DoValidate DAY-2 P7 3********\n",
      "04/21/2024 05:44:35 AM \t\t DoValidate: ['{\"agent\": \"P7\"}', '{\"action\": \"Pass\", \"agent\": \"P7\"}']\n",
      "04/21/2024 05:44:35 AM \t\t******** DoAction DAY-2 P7 ********\n",
      "04/21/2024 05:44:35 AM \n",
      " [ROUND ACTION]={'time': 'DAY-2', 'player': 'P7', 'status': 1, 'role': '村民', 'character': '观察家', 'response': ['{\"agent\": \"P7\"}', '{\"action\": \"Pass\", \"agent\": \"P7\"}']}\n",
      "\n",
      "04/21/2024 05:44:38 AM \t\t******** DoMemory DAY-2 P8 ********\n",
      "04/21/2024 05:44:38 AM ['\"[玩家P2于时间NIGHT-1, 执行动作为:玩家P2于NIGHT-1被狼人投票而出局]\"', '\"[玩家P2于时间NIGHT-1, 执行动作为:玩家P2于NIGHT-1被狼人投票而出局]\"', '\"[玩家P2于时间NIGHT-1, 执行动作为:玩家P2于NIGHT-1被狼人投票而出局]\"', '\"[玩家P2于时间NIGHT-1, 执行动作为:玩家P2于NIGHT-1被狼人投票而出局]\"', '\"[玩家P2于时间NIGHT-1, 执行动作为:玩家P2于NIGHT-1被狼人投票而出局]\"', '\"[玩家P1于时间DAY-2, 执行动作为:{\\'action\\': \\'PlayerVote\\', \\'agent\\': \\'P1\\', \\'target\\': \\'P6\\', \\'action_time\\': \\'DAY-2\\'}]\"', '\"[玩家P3于时间DAY-2, 执行动作为:{\\'action\\': \\'PlayerDoubt\\', \\'agent\\': \\'P3\\', \\'target\\': \\'P4\\', \\'action_time\\': \\'DAY-2\\'}]\"', '\"[玩家P2于时间NIGHT-1, 执行动作为:玩家P2于NIGHT-1被狼人投票而出局]\"', '\"[玩家P1于时间DAY-2, 执行动作为:{\\'action\\': \\'PlayerVote\\', \\'agent\\': \\'P1\\', \\'target\\': \\'P6\\', \\'action_time\\': \\'DAY-2\\'}]\"', '\"[玩家P3于时间DAY-2, 执行动作为:{\\'action\\': \\'PlayerDoubt\\', \\'agent\\': \\'P3\\', \\'target\\': \\'P4\\', \\'action_time\\': \\'DAY-2\\'}]\"', '\"[玩家P2于时间NIGHT-1, 执行动作为:玩家P2于NIGHT-1被狼人投票而出局]\"', '\"[玩家P1于时间DAY-2, 执行动作为:{\\'action\\': \\'PlayerVote\\', \\'agent\\': \\'P1\\', \\'target\\': \\'P6\\', \\'action_time\\': \\'DAY-2\\'}]\"', '\"[玩家P3于时间DAY-2, 执行动作为:{\\'action\\': \\'PlayerDoubt\\', \\'agent\\': \\'P3\\', \\'target\\': \\'P4\\', \\'action_time\\': \\'DAY-2\\'}]\"', '\"[玩家P5于时间DAY-2, 执行动作为:{\\'action\\': \\'PlayerVote\\', \\'agent\\': \\'P5\\', \\'target\\': \\'P6\\', \\'action_time\\': \\'DAY-2\\'}]\"', '\"[玩家P6于时间DAY-2, 执行动作为:{\\'action\\': \\'PlayerDoubt\\', \\'agent\\': \\'P6\\', \\'target\\': \\'P1\\', \\'action_time\\': \\'DAY-2\\'}]\"', '\"[玩家P2于时间NIGHT-1, 执行动作为:玩家P2于NIGHT-1被狼人投票而出局]\"', '\"[玩家P1于时间DAY-2, 执行动作为:{\\'action\\': \\'PlayerVote\\', \\'agent\\': \\'P1\\', \\'target\\': \\'P6\\', \\'action_time\\': \\'DAY-2\\'}]\"', '\"[玩家P3于时间DAY-2, 执行动作为:{\\'action\\': \\'PlayerDoubt\\', \\'agent\\': \\'P3\\', \\'target\\': \\'P4\\', \\'action_time\\': \\'DAY-2\\'}]\"', '\"[玩家P5于时间DAY-2, 执行动作为:{\\'action\\': \\'PlayerVote\\', \\'agent\\': \\'P5\\', \\'target\\': \\'P6\\', \\'action_time\\': \\'DAY-2\\'}]\"', '\"[玩家P6于时间DAY-2, 执行动作为:{\\'action\\': \\'PlayerDoubt\\', \\'agent\\': \\'P6\\', \\'target\\': \\'P1\\', \\'action_time\\': \\'DAY-2\\'}]\"']\n",
      "04/21/2024 05:44:38 AM Found credentials from IAM Role: BaseNotebookInstanceEc2InstanceRole\n",
      "04/21/2024 05:44:38 AM HTTP Request: POST https://bedrock-runtime.us-east-1.amazonaws.com/model/anthropic.claude-3-sonnet-20240229-v1:0/invoke-with-response-stream \"HTTP/1.1 200 OK\"\n"
     ]
    },
    {
     "name": "stdout",
     "output_type": "stream",
     "text": [
      "夜晚,玩家P2被狼人杀死出局。白天,P1、P5投票P6,P3、P6质疑P4、P1可能是狼人。"
     ]
    },
    {
     "name": "stderr",
     "output_type": "stream",
     "text": [
      "04/21/2024 05:44:43 AM \t\t******** DoAnswer DAY-2 P8 ********\n",
      "04/21/2024 05:44:43 AM \tQUESTION: 目前场上玩家信息:P1:存活,P2:淘汰,P3:存活,P4:存活,P5:存活,P6:存活,P7:存活,P8:存活.记住，你支持的玩家是P8, 身份是村民, 性格为互动达人..接下来你必须通过一步一步思考决策进行这个游戏.现在是第2天白天的投票环节，该如何行动?\n",
      "04/21/2024 05:44:43 AM Found credentials from IAM Role: BaseNotebookInstanceEc2InstanceRole\n",
      "04/21/2024 05:44:44 AM HTTP Request: POST https://bedrock-runtime.us-east-1.amazonaws.com/model/anthropic.claude-3-sonnet-20240229-v1:0/invoke-with-response-stream \"HTTP/1.1 200 OK\"\n"
     ]
    },
    {
     "name": "stdout",
     "output_type": "stream",
     "text": [
      "Tought: 根据目前的情况分析,P1和P6都受到了怀疑,可能是狼人。作为村民,我需要谨慎行事,避免投错票助长狼人的阵营。同时也要小心别被狼人盯上。我可以先质疑P1和P6,看他们的反应如何,再决定是否投票。另一方面,我也要留意其他玩家的言行,看是否有值得怀疑的地方。总之还是要多一分审慎,不能操之过急。\n",
      "\n",
      "Action: PlayerDoubt  \n",
      "Action Input: {\"agent\": \"P8\", \"target\": \"P1\"}\n",
      "\n",
      "Final Answer: {\"action\": \"PlayerDoubt\", \"agent\": \"P8\", \"target\": \"P1\"}"
     ]
    },
    {
     "name": "stderr",
     "output_type": "stream",
     "text": [
      "04/21/2024 05:44:48 AM \t\t******** DoValidate DAY-2 P8 3********\n",
      "04/21/2024 05:44:48 AM \t\t DoValidate: ['{\"agent\": \"P8\", \"target\": \"P1\"}', '{\"action\": \"PlayerDoubt\", \"agent\": \"P8\", \"target\": \"P1\"}']\n",
      "04/21/2024 05:44:48 AM \t\t******** DoAction DAY-2 P8 ********\n",
      "04/21/2024 05:44:48 AM \n",
      " [ROUND ACTION]={'time': 'DAY-2', 'player': 'P8', 'status': 1, 'role': '村民', 'character': '互动达人', 'response': ['{\"agent\": \"P8\", \"target\": \"P1\"}', '{\"action\": \"PlayerDoubt\", \"agent\": \"P8\", \"target\": \"P1\"}']}\n",
      "\n",
      "04/21/2024 05:44:51 AM \t player_vote_names: ['P6', 'P6']\n",
      "04/21/2024 05:44:51 AM \t [player_votes]: ['P6'], [player_vote_name]: Counter({'P6': 2})\n",
      "04/21/2024 05:44:51 AM \n",
      " [PLAYER VOTE]={'time': 'DAY-2', 'player': 'P6', 'status': 0, 'role': '狼人', 'character': '过激型', 'response': '玩家P6于DAY-2被玩家投票而出局'}\n",
      "\n",
      "04/21/2024 05:44:51 AM \t\t******** DoMemory DAY-2 P6 ********\n",
      "04/21/2024 05:44:51 AM ['{\"time\": \"NIGHT-1\", \"player\": \"P3\", \"status\": 1, \"response\": {\"action\": \"WolfVote\", \"agent\": \"P3\", \"target\": \"P8\", \"action_time\": \"NIGHT-1\"}}', '{\"time\": \"NIGHT-1\", \"player\": \"P6\", \"status\": 1, \"response\": {\"action\": \"WolfVote\", \"agent\": \"P6\", \"target\": \"P2\", \"action_time\": \"NIGHT-1\"}}', '\"[玩家P2于时间NIGHT-1, 执行动作为:玩家P2于NIGHT-1被狼人投票而出局]\"', '{\"time\": \"NIGHT-1\", \"player\": \"P6\", \"status\": 1, \"response\": {\"action\": \"WolfVote\", \"agent\": \"P6\", \"target\": \"P2\", \"action_time\": \"NIGHT-1\"}}', '\"[玩家P2于时间NIGHT-1, 执行动作为:玩家P2于NIGHT-1被狼人投票而出局]\"', '{\"time\": \"NIGHT-1\", \"player\": \"P6\", \"status\": 1, \"response\": {\"action\": \"WolfVote\", \"agent\": \"P6\", \"target\": \"P2\", \"action_time\": \"NIGHT-1\"}}', '\"[玩家P2于时间NIGHT-1, 执行动作为:玩家P2于NIGHT-1被狼人投票而出局]\"', '\"[玩家P1于时间DAY-2, 执行动作为:{\\'action\\': \\'PlayerVote\\', \\'agent\\': \\'P1\\', \\'target\\': \\'P6\\', \\'action_time\\': \\'DAY-2\\'}]\"', '{\"time\": \"NIGHT-1\", \"player\": \"P6\", \"status\": 1, \"response\": {\"action\": \"WolfVote\", \"agent\": \"P6\", \"target\": \"P2\", \"action_time\": \"NIGHT-1\"}}', '\"[玩家P2于时间NIGHT-1, 执行动作为:玩家P2于NIGHT-1被狼人投票而出局]\"', '\"[玩家P1于时间DAY-2, 执行动作为:{\\'action\\': \\'PlayerVote\\', \\'agent\\': \\'P1\\', \\'target\\': \\'P6\\', \\'action_time\\': \\'DAY-2\\'}]\"', '\"[玩家P3于时间DAY-2, 执行动作为:{\\'action\\': \\'PlayerDoubt\\', \\'agent\\': \\'P3\\', \\'target\\': \\'P4\\', \\'action_time\\': \\'DAY-2\\'}]\"', '\"[玩家P5于时间DAY-2, 执行动作为:{\\'action\\': \\'PlayerVote\\', \\'agent\\': \\'P5\\', \\'target\\': \\'P6\\', \\'action_time\\': \\'DAY-2\\'}]\"', '{\"time\": \"NIGHT-1\", \"player\": \"P6\", \"status\": 1, \"response\": {\"action\": \"WolfVote\", \"agent\": \"P6\", \"target\": \"P2\", \"action_time\": \"NIGHT-1\"}}', '\"[玩家P2于时间NIGHT-1, 执行动作为:玩家P2于NIGHT-1被狼人投票而出局]\"', '\"[玩家P1于时间DAY-2, 执行动作为:{\\'action\\': \\'PlayerVote\\', \\'agent\\': \\'P1\\', \\'target\\': \\'P6\\', \\'action_time\\': \\'DAY-2\\'}]\"', '\"[玩家P3于时间DAY-2, 执行动作为:{\\'action\\': \\'PlayerDoubt\\', \\'agent\\': \\'P3\\', \\'target\\': \\'P4\\', \\'action_time\\': \\'DAY-2\\'}]\"', '\"[玩家P5于时间DAY-2, 执行动作为:{\\'action\\': \\'PlayerVote\\', \\'agent\\': \\'P5\\', \\'target\\': \\'P6\\', \\'action_time\\': \\'DAY-2\\'}]\"', '\"[玩家P6于时间DAY-2, 执行动作为:{\\'action\\': \\'PlayerDoubt\\', \\'agent\\': \\'P6\\', \\'target\\': \\'P1\\', \\'action_time\\': \\'DAY-2\\'}]\"', '\"[玩家P8于时间DAY-2, 执行动作为:{\\'action\\': \\'PlayerDoubt\\', \\'agent\\': \\'P8\\', \\'target\\': \\'P1\\', \\'action_time\\': \\'DAY-2\\'}]\"', '\"[玩家P6于时间DAY-2, 执行动作为:玩家P6于DAY-2被玩家投票而出局]\"']\n",
      "04/21/2024 05:44:51 AM Found credentials from IAM Role: BaseNotebookInstanceEc2InstanceRole\n",
      "04/21/2024 05:44:51 AM HTTP Request: POST https://bedrock-runtime.us-east-1.amazonaws.com/model/anthropic.claude-3-sonnet-20240229-v1:0/invoke-with-response-stream \"HTTP/1.1 200 OK\"\n"
     ]
    },
    {
     "name": "stdout",
     "output_type": "stream",
     "text": [
      "夜晚1,狼人P3和P6分别投票杀死P8和P2,P2被投票出局。白天2,P1、P5投票P6,P3质疑P4身份,P6质疑P1身份,P8质疑P1身份,P6被投票出局。"
     ]
    },
    {
     "name": "stderr",
     "output_type": "stream",
     "text": [
      "04/21/2024 05:44:57 AM \t\t******** DoAnswer DAY-2 P6 ********\n",
      "04/21/2024 05:44:57 AM \tQUESTION: 目前场上玩家信息:P1:存活,P2:淘汰,P3:存活,P4:存活,P5:存活,P6:淘汰,P7:存活,P8:存活.记住，你支持的玩家是P6, 身份是狼人, 性格为过激型.本阵营玩家为:P3,P6..接下来你必须通过一步一步思考决策进行这个游戏.现在是第2天白天，你已经死亡,有何遗言?\n",
      "04/21/2024 05:44:57 AM Found credentials from IAM Role: BaseNotebookInstanceEc2InstanceRole\n",
      "04/21/2024 05:44:57 AM HTTP Request: POST https://bedrock-runtime.us-east-1.amazonaws.com/model/anthropic.claude-3-sonnet-20240229-v1:0/invoke-with-response-stream \"HTTP/1.1 200 OK\"\n"
     ]
    },
    {
     "name": "stdout",
     "output_type": "stream",
     "text": [
      "Thought: 很可惜我被投票出局了,但作为一个过激型狼人,我不会轻易认输。我会利用这个机会,在死亡之前为队友P3制造有利局面,给予其他玩家极大压力和怀疑。\n",
      "\n",
      "Action: DeathWords\n",
      "Action Input: agent=\"P6\", content=\"P1和P5的行为可疑至极!他们罔顾事实,蓄意陷害我。我怀疑他们中有狼人在捣乱,你们要小心啊!\"\n",
      "Final Answer: {\"action\": \"DeathWords\", \"agent\": \"P6\", \"content\": \"P1和P5的行为可疑至极!他们罔顾事实,蓄意陷害我。我怀疑他们中有狼人在捣乱,你们要小心啊!\"}"
     ]
    },
    {
     "name": "stderr",
     "output_type": "stream",
     "text": [
      "04/21/2024 05:45:03 AM \t\t******** DoValidate DAY-2 P6 3********\n",
      "04/21/2024 05:45:03 AM \t\t DoValidate: ['{\"action\": \"DeathWords\", \"agent\": \"P6\", \"content\": \"P1和P5的行为可疑至极!他们罔顾事实,蓄意陷害我。我怀疑他们中有狼人在捣乱,你们要小心啊!\"}']\n",
      "04/21/2024 05:45:03 AM \t\t******** DoAction DAY-2 P6 ********\n",
      "04/21/2024 05:45:03 AM \n",
      " [ROUND ACTION]={'time': 'DAY-2', 'player': 'P6', 'status': 0, 'role': '狼人', 'character': '过激型', 'response': ['{\"action\": \"DeathWords\", \"agent\": \"P6\", \"content\": \"P1和P5的行为可疑至极!他们罔顾事实,蓄意陷害我。我怀疑他们中有狼人在捣乱,你们要小心啊!\"}']}\n",
      "\n",
      "04/21/2024 05:45:06 AM 游戏继续. 目前玩家存活情况:P1:存活,P2:淘汰,P3:存活,P4:存活,P5:存活,P6:淘汰,P7:存活,P8:存活\n",
      "04/21/2024 05:45:06 AM \t===== NIGHT-2 PreAction ======\n",
      "04/21/2024 05:45:06 AM \t===== NIGHT-2 DoAction ======\n",
      "04/21/2024 05:45:06 AM \t\t******** DoMemory NIGHT-2 P3 ********\n",
      "04/21/2024 05:45:06 AM ['{\"time\": \"NIGHT-1\", \"player\": \"P3\", \"status\": 1, \"response\": {\"action\": \"WolfVote\", \"agent\": \"P3\", \"target\": \"P8\", \"action_time\": \"NIGHT-1\"}}', '{\"time\": \"NIGHT-1\", \"player\": \"P6\", \"status\": 1, \"response\": {\"action\": \"WolfVote\", \"agent\": \"P6\", \"target\": \"P2\", \"action_time\": \"NIGHT-1\"}}', '\"[玩家P2于时间NIGHT-1, 执行动作为:玩家P2于NIGHT-1被狼人投票而出局]\"', '{\"time\": \"NIGHT-1\", \"player\": \"P6\", \"status\": 1, \"response\": {\"action\": \"WolfVote\", \"agent\": \"P6\", \"target\": \"P2\", \"action_time\": \"NIGHT-1\"}}', '\"[玩家P2于时间NIGHT-1, 执行动作为:玩家P2于NIGHT-1被狼人投票而出局]\"', '{\"time\": \"NIGHT-1\", \"player\": \"P6\", \"status\": 1, \"response\": {\"action\": \"WolfVote\", \"agent\": \"P6\", \"target\": \"P2\", \"action_time\": \"NIGHT-1\"}}', '\"[玩家P2于时间NIGHT-1, 执行动作为:玩家P2于NIGHT-1被狼人投票而出局]\"', '\"[玩家P1于时间DAY-2, 执行动作为:{\\'action\\': \\'PlayerVote\\', \\'agent\\': \\'P1\\', \\'target\\': \\'P6\\', \\'action_time\\': \\'DAY-2\\'}]\"', '{\"time\": \"NIGHT-1\", \"player\": \"P6\", \"status\": 1, \"response\": {\"action\": \"WolfVote\", \"agent\": \"P6\", \"target\": \"P2\", \"action_time\": \"NIGHT-1\"}}', '\"[玩家P2于时间NIGHT-1, 执行动作为:玩家P2于NIGHT-1被狼人投票而出局]\"', '\"[玩家P1于时间DAY-2, 执行动作为:{\\'action\\': \\'PlayerVote\\', \\'agent\\': \\'P1\\', \\'target\\': \\'P6\\', \\'action_time\\': \\'DAY-2\\'}]\"', '\"[玩家P3于时间DAY-2, 执行动作为:{\\'action\\': \\'PlayerDoubt\\', \\'agent\\': \\'P3\\', \\'target\\': \\'P4\\', \\'action_time\\': \\'DAY-2\\'}]\"', '\"[玩家P5于时间DAY-2, 执行动作为:{\\'action\\': \\'PlayerVote\\', \\'agent\\': \\'P5\\', \\'target\\': \\'P6\\', \\'action_time\\': \\'DAY-2\\'}]\"', '{\"time\": \"NIGHT-1\", \"player\": \"P6\", \"status\": 1, \"response\": {\"action\": \"WolfVote\", \"agent\": \"P6\", \"target\": \"P2\", \"action_time\": \"NIGHT-1\"}}', '\"[玩家P2于时间NIGHT-1, 执行动作为:玩家P2于NIGHT-1被狼人投票而出局]\"', '\"[玩家P1于时间DAY-2, 执行动作为:{\\'action\\': \\'PlayerVote\\', \\'agent\\': \\'P1\\', \\'target\\': \\'P6\\', \\'action_time\\': \\'DAY-2\\'}]\"', '\"[玩家P3于时间DAY-2, 执行动作为:{\\'action\\': \\'PlayerDoubt\\', \\'agent\\': \\'P3\\', \\'target\\': \\'P4\\', \\'action_time\\': \\'DAY-2\\'}]\"', '\"[玩家P5于时间DAY-2, 执行动作为:{\\'action\\': \\'PlayerVote\\', \\'agent\\': \\'P5\\', \\'target\\': \\'P6\\', \\'action_time\\': \\'DAY-2\\'}]\"', '\"[玩家P6于时间DAY-2, 执行动作为:{\\'action\\': \\'PlayerDoubt\\', \\'agent\\': \\'P6\\', \\'target\\': \\'P1\\', \\'action_time\\': \\'DAY-2\\'}]\"', '\"[玩家P8于时间DAY-2, 执行动作为:{\\'action\\': \\'PlayerDoubt\\', \\'agent\\': \\'P8\\', \\'target\\': \\'P1\\', \\'action_time\\': \\'DAY-2\\'}]\"', '\"[玩家P6于时间DAY-2, 执行动作为:玩家P6于DAY-2被玩家投票而出局]\"', '\"[玩家P2于时间NIGHT-1, 执行动作为:玩家P2于NIGHT-1被狼人投票而出局]\"', '\"[玩家P1于时间DAY-2, 执行动作为:{\\'action\\': \\'PlayerVote\\', \\'agent\\': \\'P1\\', \\'target\\': \\'P6\\', \\'action_time\\': \\'DAY-2\\'}]\"', '\"[玩家P3于时间DAY-2, 执行动作为:{\\'action\\': \\'PlayerDoubt\\', \\'agent\\': \\'P3\\', \\'target\\': \\'P4\\', \\'action_time\\': \\'DAY-2\\'}]\"', '\"[玩家P5于时间DAY-2, 执行动作为:{\\'action\\': \\'PlayerVote\\', \\'agent\\': \\'P5\\', \\'target\\': \\'P6\\', \\'action_time\\': \\'DAY-2\\'}]\"', '\"[玩家P6于时间DAY-2, 执行动作为:{\\'action\\': \\'PlayerDoubt\\', \\'agent\\': \\'P6\\', \\'target\\': \\'P1\\', \\'action_time\\': \\'DAY-2\\'}]\"', '\"[玩家P8于时间DAY-2, 执行动作为:{\\'action\\': \\'PlayerDoubt\\', \\'agent\\': \\'P8\\', \\'target\\': \\'P1\\', \\'action_time\\': \\'DAY-2\\'}]\"', '\"[玩家P6于时间DAY-2, 执行动作为:玩家P6于DAY-2被玩家投票而出局]\"']\n",
      "04/21/2024 05:45:06 AM Found credentials from IAM Role: BaseNotebookInstanceEc2InstanceRole\n",
      "04/21/2024 05:45:06 AM HTTP Request: POST https://bedrock-runtime.us-east-1.amazonaws.com/model/anthropic.claude-3-sonnet-20240229-v1:0/invoke-with-response-stream \"HTTP/1.1 200 OK\"\n"
     ]
    },
    {
     "name": "stdout",
     "output_type": "stream",
     "text": [
      "夜晚第一轮,狼人P3投票杀害村民P8,狼人P6连续四次投票杀害村民P2,P2被投票出局。白天第二轮,村民P1、P5投票驱逐狼人P6,P6被投票出局,P3、P4、P1、P8相互质疑身份。"
     ]
    },
    {
     "name": "stderr",
     "output_type": "stream",
     "text": [
      "04/21/2024 05:45:12 AM \t\t******** DoAnswer NIGHT-2 P3 ********\n",
      "04/21/2024 05:45:12 AM \tQUESTION: 目前场上玩家信息:P1:存活,P2:淘汰,P3:存活,P4:存活,P5:存活,P6:淘汰,P7:存活,P8:存活.记住，你支持的玩家是P3, 身份是狼人, 性格为组织者.本阵营玩家为:P3,P6..接下来你必须通过一步一步思考决策进行这个游戏.现在是第2天夜晚，该如何行动?\n",
      "04/21/2024 05:45:12 AM Found credentials from IAM Role: BaseNotebookInstanceEc2InstanceRole\n",
      "04/21/2024 05:45:12 AM HTTP Request: POST https://bedrock-runtime.us-east-1.amazonaws.com/model/anthropic.claude-3-sonnet-20240229-v1:0/invoke-with-response-stream \"HTTP/1.1 200 OK\"\n"
     ]
    },
    {
     "name": "stdout",
     "output_type": "stream",
     "text": [
      "Tought: 形势越来越被动了,P6被识破并出局,我现在独自一人面对剩余的村民。我必须格外小心谨慎,避免暴露自己的身份线索。同时也要设法混淆视线,制造矛盾和内讧,让村民们互相怀疑。我可以利用自己的夜间行动权力,针对某些村民施加压力和怀疑。\n",
      "\n",
      "Action: WolfVote\n",
      "Action Input: agent=\"P3\", target=\"P1\"\n",
      "Final Answer: {\"action\": \"WolfVote\", \"agent\": \"P3\", \"target\": \"P1\"}"
     ]
    },
    {
     "name": "stderr",
     "output_type": "stream",
     "text": [
      "04/21/2024 05:45:15 AM \t\t******** DoValidate NIGHT-2 P3 3********\n",
      "04/21/2024 05:45:15 AM \t\t DoValidate: ['{\"action\": \"WolfVote\", \"agent\": \"P3\", \"target\": \"P1\"}']\n",
      "04/21/2024 05:45:15 AM \t\t******** DoAction NIGHT-2 P3 ********\n",
      "04/21/2024 05:45:15 AM \n",
      " [ROUND ACTION]={'time': 'NIGHT-2', 'player': 'P3', 'status': 1, 'role': '狼人', 'character': '组织者', 'response': ['{\"action\": \"WolfVote\", \"agent\": \"P3\", \"target\": \"P1\"}']}\n",
      "\n",
      "04/21/2024 05:45:18 AM \t\t******** DoMemory NIGHT-2 P1 ********\n",
      "04/21/2024 05:45:18 AM ['\"P4:村民\"', '\"P4:村民\"', '\"[玩家P2于时间NIGHT-1, 执行动作为:玩家P2于NIGHT-1被狼人投票而出局]\"', '\"P4:村民\"', '\"[玩家P2于时间NIGHT-1, 执行动作为:玩家P2于NIGHT-1被狼人投票而出局]\"', '\"P4:村民\"', '\"[玩家P2于时间NIGHT-1, 执行动作为:玩家P2于NIGHT-1被狼人投票而出局]\"', '\"[玩家P1于时间DAY-2, 执行动作为:{\\'action\\': \\'PlayerVote\\', \\'agent\\': \\'P1\\', \\'target\\': \\'P6\\', \\'action_time\\': \\'DAY-2\\'}]\"', '\"[玩家P3于时间DAY-2, 执行动作为:{\\'action\\': \\'PlayerDoubt\\', \\'agent\\': \\'P3\\', \\'target\\': \\'P4\\', \\'action_time\\': \\'DAY-2\\'}]\"', '\"[玩家P5于时间DAY-2, 执行动作为:{\\'action\\': \\'PlayerVote\\', \\'agent\\': \\'P5\\', \\'target\\': \\'P6\\', \\'action_time\\': \\'DAY-2\\'}]\"', '\"[玩家P6于时间DAY-2, 执行动作为:{\\'action\\': \\'PlayerDoubt\\', \\'agent\\': \\'P6\\', \\'target\\': \\'P1\\', \\'action_time\\': \\'DAY-2\\'}]\"', '\"[玩家P8于时间DAY-2, 执行动作为:{\\'action\\': \\'PlayerDoubt\\', \\'agent\\': \\'P8\\', \\'target\\': \\'P1\\', \\'action_time\\': \\'DAY-2\\'}]\"', '\"[玩家P6于时间DAY-2, 执行动作为:玩家P6于DAY-2被玩家投票而出局]\"']\n",
      "04/21/2024 05:45:18 AM Found credentials from IAM Role: BaseNotebookInstanceEc2InstanceRole\n",
      "04/21/2024 05:45:19 AM HTTP Request: POST https://bedrock-runtime.us-east-1.amazonaws.com/model/anthropic.claude-3-sonnet-20240229-v1:0/invoke-with-response-stream \"HTTP/1.1 200 OK\"\n"
     ]
    },
    {
     "name": "stdout",
     "output_type": "stream",
     "text": [
      "夜晚狼人杀死了玩家P2。白天玩家P1、P5投票处决P6,P3质疑P4,P6和P8质疑P1,最终P6被投票出局。"
     ]
    },
    {
     "name": "stderr",
     "output_type": "stream",
     "text": [
      "04/21/2024 05:45:23 AM \t\t******** DoAnswer NIGHT-2 P1 ********\n",
      "04/21/2024 05:45:23 AM \tQUESTION: 目前场上玩家信息:P1:存活,P2:淘汰,P3:存活,P4:存活,P5:存活,P6:淘汰,P7:存活,P8:存活.记住，你支持的玩家是P1, 身份是预言家, 性格为独立思考..接下来你必须通过一步一步思考决策进行这个游戏.现在是第2天夜晚，该如何行动?\n",
      "04/21/2024 05:45:23 AM Found credentials from IAM Role: BaseNotebookInstanceEc2InstanceRole\n",
      "04/21/2024 05:45:24 AM HTTP Request: POST https://bedrock-runtime.us-east-1.amazonaws.com/model/anthropic.claude-3-sonnet-20240229-v1:0/invoke-with-response-stream \"HTTP/1.1 200 OK\"\n"
     ]
    },
    {
     "name": "stdout",
     "output_type": "stream",
     "text": [
      "Tought: 白天虽然处决了一名玩家,但形势依旧胶着。作为预言家,夜晚的查验行动至关重要。我必须审慎选择一个值得怀疑的对象进行查验,以获取关键线索。同时也要小心谨慎,防止被狼人识破身份。我需要运用全部智慧,综合之前获得的所有信息,做出正确判断。\n",
      "\n",
      "Action: ProphetCheck\n",
      "Action Input: agent=\"P1\", target=\"P8\"\n",
      "Final Answer: {\"action\": \"ProphetCheck\", \"agent\": \"P1\", \"target\": \"P8\"}"
     ]
    },
    {
     "name": "stderr",
     "output_type": "stream",
     "text": [
      "04/21/2024 05:45:28 AM \t\t******** DoValidate NIGHT-2 P1 3********\n",
      "04/21/2024 05:45:28 AM \t\t DoValidate: ['{\"action\": \"ProphetCheck\", \"agent\": \"P1\", \"target\": \"P8\"}']\n",
      "04/21/2024 05:45:28 AM \t\t******** DoAction NIGHT-2 P1 ********\n",
      "04/21/2024 05:45:28 AM {'NIGHT-1': {'P4': '村民'}, 'NIGHT-2': {'P8': '村民'}}\n",
      "04/21/2024 05:45:28 AM \n",
      " [ROUND ACTION]={'time': 'NIGHT-2', 'player': 'P1', 'status': 1, 'role': '预言家', 'character': '独立思考', 'response': ['{\"action\": \"ProphetCheck\", \"agent\": \"P1\", \"target\": \"P8\"}']}\n",
      "\n",
      "04/21/2024 05:45:31 AM \t===== NIGHT-2 PostAction ======\n",
      "04/21/2024 05:45:31 AM \t [wolf_votes]: ['P1'], [player_vote_name]: Counter({'P1': 1})\n",
      "04/21/2024 05:45:31 AM \n",
      " [WOLF VOTE]={'time': 'NIGHT-2', 'player': 'P1', 'status': 0, 'role': '预言家', 'character': '独立思考', 'response': '玩家P1于NIGHT-2被狼人投票而出局'}\n",
      "\n",
      "04/21/2024 05:45:31 AM 游戏继续. 目前玩家存活情况:P1:淘汰,P2:淘汰,P3:存活,P4:存活,P5:存活,P6:淘汰,P7:存活,P8:存活\n",
      "04/21/2024 05:45:31 AM \t===== input_tokens: 0 output_tokens 0 ======\n",
      "04/21/2024 05:45:31 AM \t===== elapsed_time: 319.6508765220642 ======\n",
      "04/21/2024 05:45:31 AM 游戏结束.\n",
      "04/21/2024 05:45:31 AM ===== P1:淘汰,P2:淘汰,P3:存活,P4:存活,P5:存活,P6:淘汰,P7:存活,P8:存活 EndGame =====\n",
      "04/21/2024 05:45:31 AM \t===== input_tokens: 0 output_tokens 0 ======\n",
      "04/21/2024 05:45:31 AM \t===== elapsed_time: 319.65166449546814 ======\n"
     ]
    }
   ],
   "source": [
    "from shared.GameMaster import GameMaster\n",
    "from shared.PeTemplates import *\n",
    "\n",
    "GM = GameMaster(2, 50, False)\n",
    "GM.ResetGame()\n",
    "GM.RunGame()\n",
    "GM.EndGame()"
   ]
  },
  {
   "cell_type": "code",
   "execution_count": null,
   "id": "4b9a864d-e0f0-4fbf-b7c8-6d79801118a8",
   "metadata": {},
   "outputs": [],
   "source": []
  }
 ],
 "metadata": {
  "kernelspec": {
   "display_name": "conda_pytorch_p310",
   "language": "python",
   "name": "conda_pytorch_p310"
  },
  "language_info": {
   "codemirror_mode": {
    "name": "ipython",
    "version": 3
   },
   "file_extension": ".py",
   "mimetype": "text/x-python",
   "name": "python",
   "nbconvert_exporter": "python",
   "pygments_lexer": "ipython3",
   "version": "3.10.13"
  }
 },
 "nbformat": 4,
 "nbformat_minor": 5
}
