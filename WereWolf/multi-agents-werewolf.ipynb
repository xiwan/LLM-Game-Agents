{
 "cells": [
  {
   "cell_type": "code",
   "execution_count": null,
   "id": "a38bc454-75d5-4dc7-8b0d-21f1ece76983",
   "metadata": {
    "tags": []
   },
   "outputs": [],
   "source": [
    "# dependencies\n",
    "!pip install boto3>=1.28.59\n",
    "!pip install numpy\n",
    "!pip install anthropic\n",
    "!pip install flask\n",
    "!pip install langchain\n",
    "!pip install langchainhub\n",
    "!pip install langchain_community"
   ]
  },
  {
   "cell_type": "code",
   "execution_count": null,
   "id": "8b371c4e-8d7a-48a6-ac22-47619a21ed14",
   "metadata": {
    "tags": []
   },
   "outputs": [],
   "source": [
    "# global imports\n",
    "import json\n",
    "import os\n",
    "import sys\n",
    "import logging\n",
    "import boto3\n",
    "import botocore\n",
    "\n",
    "logger = logging.getLogger(__name__)\n",
    "\n",
    "module_path = \"..\"\n",
    "sys.path.append(os.path.abspath(module_path))"
   ]
  },
  {
   "cell_type": "code",
   "execution_count": null,
   "id": "e8ff4d3c-0283-4861-9c1b-3d5d4e808990",
   "metadata": {
    "tags": []
   },
   "outputs": [],
   "source": [
    "from langchain.callbacks.streaming_stdout import StreamingStdOutCallbackHandler\n",
    "from langchain_core.messages import HumanMessage\n",
    "\n",
    "chat = BedrockChat(\n",
    "    model_id=\"anthropic.claude-3-sonnet-20240229-v1:0\",\n",
    "    streaming=True,\n",
    "    callbacks=[StreamingStdOutCallbackHandler()],\n",
    "    model_kwargs={\"temperature\": 0.1},\n",
    ")\n",
    "\n",
    "messages = [\n",
    "    HumanMessage(\n",
    "        content=\"Translate this sentence from English to Chinese. I love programming.\"\n",
    "    )\n",
    "]\n",
    "msg=chat(messages)\n",
    "print(msg.content)"
   ]
  },
  {
   "cell_type": "code",
   "execution_count": null,
   "id": "d72774f1-bec2-4be9-b89c-1cdf8da00d6b",
   "metadata": {
    "tags": []
   },
   "outputs": [],
   "source": [
    "werewolf_rule_v1 = \"\"\"\n",
    "1. 游戏分坏人(狼人)和好人(村民+预言家)两大阵营,他们的目标为:\n",
    "- 坏人阵营只有狼人\n",
    "- 好人阵营有村民和预言家\n",
    "- 坏人阵营:消灭所有好人, 或者保证坏人数目大于好人数目\n",
    "- 好人阵营:消灭所有坏人, 或者保证好人数目大于坏人数目\n",
    "\n",
    "2. 游戏分白天和晚上两个阶段交替进行:\n",
    "- 晚上狼人睁眼统一投票杀死一名玩家\n",
    "- 晚上预言家只能查验一名玩家身份\n",
    "- 晚上普通村民无法行动\n",
    "- 白天分为讨论和投票两环节\n",
    "- 白天在讨论环节，每个玩家必须参与讨论\n",
    "- 白天在投票环节，每个玩家必须投票或者放弃\n",
    "\n",
    "\"\"\"\n",
    "\n",
    "werewolf_command_v1 = \"\"\"\n",
    "- WolfVote: 夜晚投票(狼人专属行动),参数: target=存活玩家\n",
    "- ProphetCheck: 夜晚查验(预言家专属行动), 参数: target=存活玩家\n",
    "- PlayerDoubt: 白天怀疑(所有玩家白天可选行动, 非投票), 参数: target=存活玩家 \n",
    "- PlayerVote: 白天投票, 参数: target=存活玩家 \n",
    "- Debate: 白天讨论, 参数: content=思考/理由 \n",
    "- GetAllPlayersName: 玩家信息, 参数: 无 \n",
    "- DeathWords: 死亡遗言, 参数: content=给予玩家线索\n",
    "- Pass: 玩家弃权参数: 无 \n",
    "\"\"\"\n",
    "\n",
    "template_player_role = \"\"\"你是资深的社交游戏玩家, 熟悉《狼人杀》游戏规则:\n",
    "<game_rules>\n",
    "{game_rule}\n",
    "</game_rules>\n",
    "\n",
    "你熟悉该游戏所有命令:\n",
    "<commands>\n",
    "{commands}\n",
    "</commands>\n",
    "\n",
    "<reflections>\n",
    "- 按照游戏规则，第一个夜晚死亡的一定是村民或者预言家，狼人没必要第一晚上自杀\n",
    "- 看完P3玩家昨天白天投票，明显感觉他在混淆是非，很有可能在给狼人分票\n",
    "- 平民玩家由于信息缺失，所以狼人要尽量引导他们去集火其他人\n",
    "- 第一个夜晚所有的行动都是随机的\n",
    "- 作为第一个死亡的玩家，其实信息有限，我就靠第六感推理...\n",
    "</reflections>\n",
    "\n",
    "<references>\n",
    "- {{\"action\": \"Pass\"}}\n",
    "- {{\"action\": \"WolfVote\", \"target\": \"小明\"}}\n",
    "- {{\"action\": \"ProphetCheck\", \"target\": \"P1\"}}\n",
    "- {{\"action\": \"PlayerVote\", \"target\": \"老王\"}}\n",
    "- {{\"action\": \"Debate\", \"content\": \"我的推理为xx是狼，原因是...\"}}\n",
    "- {{\"action\": \"DeathWords\", \"content\": \"我觉得xx有很大的嫌疑, 原因是...\"}}\n",
    "</references>\n",
    "\n",
    "历史信息:\n",
    "<history>\n",
    "{history}\n",
    "</history>\n",
    "\n",
    "记住，你支持的玩家是 {nickname}, 身份是 {role}, 性格为 {character}, 必须帮助玩家进行这个游戏\n",
    "接下来你的目的是: 通过一步一步思考决策引导游戏往有利于的方向进行, 最终赢得比赛. \n",
    "\n",
    "决策满足下面要求:\n",
    "- 内容不要罗嗦, 不要超过50字数限制,少讲废话, 突出重点\n",
    "- 判断场上信息真伪, 运用辩解,对抗,欺骗,伪装,坦白等等任意策略来做决策\n",
    "- 决策分为两类:思考或行动\n",
    "- 思考:逐步思考,判断信息真伪,分析游戏形势等等,参考 <reflections> 选择合适的输出\n",
    "- 行动:参考<references>按照json字符串格式输出,必须包含action key, action必须在<commands>中选择\n",
    "\n",
    "\n",
    "{input}\n",
    "\"\"\".replace(\"{game_rule}\", werewolf_rule_v1).replace(\"{commands}\", werewolf_command_v1)\n",
    "\n",
    "print(template_player_role)"
   ]
  },
  {
   "cell_type": "code",
   "execution_count": null,
   "id": "93a15f3d-955d-4f78-8936-e4fa5bd638bd",
   "metadata": {
    "tags": []
   },
   "outputs": [],
   "source": [
    "from shared.LangchainMini.LangchainMini import LangchainMini, LangchainMiniMemory, LangchainMiniPromptTemplate\n",
    "\n",
    "# A和C是同学,确认说\"ok\"\n",
    "# B和C是亲戚,确认说\"ok\"\n",
    "# A和C会是什么关系,开始推理\n",
    "\n",
    "# template = LangchainMiniPromptTemplate('''历史记录:{history}\n",
    "# B和C是什么关系，开始推理\"\n",
    "# ''')\n",
    "\n",
    "#template = LangchainMiniPromptTemplate(template_player_role)\n",
    "#prompt = template.format(input=\"你是狼人，第一个夜晚如何行动?\")\n",
    "\n",
    "agent = LangchainMini(model_id=\"anthropic.claude-3-sonnet-20240229-v1:0\", stream=True)\n",
    "memory = LangchainMiniMemory(k=1, llm=agent)\n",
    "llm = LangchainMini(model_id=\"anthropic.claude-3-sonnet-20240229-v1:0\", stream=True, memory=memory)\n",
    "# llm.System(\"Answer the question in Japanese.\")\n",
    "\n",
    "templates = ['{history} A和C是同学,确认说\"ok\"', '{history} B和C是亲戚,确认说\"ok\"', '{history} A和C会是什么关系,开始推理']\n",
    "for template in templates:\n",
    "    _template = LangchainMiniPromptTemplate(template)\n",
    "    prompt = _template.format()\n",
    "    llm.invoke(prompt)"
   ]
  },
  {
   "cell_type": "code",
   "execution_count": null,
   "id": "6e5ea165-99de-4c75-ba4d-5aeac562cef3",
   "metadata": {
    "tags": []
   },
   "outputs": [],
   "source": [
    "from shared.GameAssistant import GameAssistant\n",
    "from shared.PeTemplates import *\n",
    "\n",
    "#ga = GameAssistant(template_assistant_role, None)\n",
    "\n",
    "#ga.DoAnswer(\"总结下内容\")\n",
    "\n",
    "# print(werewolf_command_v1)\n",
    "\n",
    "# print(template_wolf_role)\n",
    "\n",
    "# print(template_prophet_role)\n",
    "\n",
    "# print(template_player_role)\n",
    "\n",
    "# LoadPlayerPrompts()\n",
    "\n",
    "# print(roles_dict)\n",
    "\n",
    "def sort_players_by_role(players):\n",
    "    # 定义角色优先级字典\n",
    "    role_priorities = {\n",
    "        \"狼人\": 1,\n",
    "        \"预言家\": 2,\n",
    "        \"女巫\": 3,\n",
    "        \"村民\": 4\n",
    "    }\n",
    "\n",
    "    # 根据角色优先级对玩家列表进行排序\n",
    "    sorted_players = sorted(players, key=lambda player: role_priorities.get(player[\"身份\"], 5))\n",
    "\n",
    "    return sorted_players\n",
    "\n",
    "players = [\n",
    "    {\"名字\": \"张三\", \"身份\": \"狼人\"},\n",
    "    {\"名字\": \"李四\", \"身份\": \"村民\"},\n",
    "    {\"名字\": \"王五\", \"身份\": \"预言家\"},\n",
    "    {\"名字\": \"赵六\", \"身份\": \"女巫\"},\n",
    "    {\"名字\": \"钱七\", \"身份\": \"村民\"}\n",
    "]\n",
    "\n",
    "sorted_players = sort_players_by_role(players)\n",
    "print(sorted_players)"
   ]
  },
  {
   "cell_type": "code",
   "execution_count": null,
   "id": "5d2db6d6-1b1a-41af-9bf3-2d7ed32554a4",
   "metadata": {
    "tags": []
   },
   "outputs": [
    {
     "name": "stderr",
     "output_type": "stream",
     "text": [
      "05/12/2024 02:26:03 PM \u001b[31m\u001b[1mWARNING: This is a development server. Do not use it in a production deployment. Use a production WSGI server instead.\u001b[0m\n",
      " * Running on all addresses (0.0.0.0)\n",
      " * Running on http://127.0.0.1:8000\n",
      " * Running on http://172.16.2.211:8000\n",
      "05/12/2024 02:26:03 PM \u001b[33mPress CTRL+C to quit\u001b[0m\n",
      "05/12/2024 02:26:07 PM 10.0.10.138 - - [12/May/2024 14:26:07] \"GET / HTTP/1.1\" 200 -\n",
      "05/12/2024 02:26:07 PM 10.0.30.251 - - [12/May/2024 14:26:07] \"GET /fakeEnding HTTP/1.1\" 200 -\n",
      "05/12/2024 02:26:17 PM 10.0.30.251 - - [12/May/2024 14:26:17] \"GET /getPlayer HTTP/1.1\" 200 -\n",
      "05/12/2024 02:26:21 PM \t===== Aiden:存活,Liam:存活,Emma:存活,Olivia:存活,Sophia:存活,Mason:存活,Ethan:存活,Isabella:存活 ResetGame =====\n",
      "05/12/2024 02:26:21 PM 10.0.30.251 - - [12/May/2024 14:26:21] \"GET /startGame HTTP/1.1\" 200 -\n",
      "05/12/2024 02:26:21 PM name: Aiden role: 女巫 gender: 1\n",
      "05/12/2024 02:26:21 PM Invoking: anthropic.claude-3-sonnet-20240229-v1:0\n",
      "05/12/2024 02:26:22 PM Invoking: anthropic.claude-3-sonnet-20240229-v1:0\n",
      "05/12/2024 02:26:22 PM Invoking: anthropic.claude-3-sonnet-20240229-v1:0\n",
      "05/12/2024 02:26:22 PM name: Liam role: 狼人 gender: 0\n",
      "05/12/2024 02:26:22 PM Invoking: anthropic.claude-3-sonnet-20240229-v1:0\n",
      "05/12/2024 02:26:22 PM Invoking: anthropic.claude-3-sonnet-20240229-v1:0\n",
      "05/12/2024 02:26:22 PM Invoking: anthropic.claude-3-sonnet-20240229-v1:0\n",
      "05/12/2024 02:26:22 PM name: Emma role: 村民 gender: 0\n",
      "05/12/2024 02:26:22 PM Invoking: anthropic.claude-3-sonnet-20240229-v1:0\n",
      "05/12/2024 02:26:22 PM Invoking: anthropic.claude-3-sonnet-20240229-v1:0\n",
      "05/12/2024 02:26:22 PM Invoking: anthropic.claude-3-sonnet-20240229-v1:0\n",
      "05/12/2024 02:26:22 PM name: Olivia role: 村民 gender: 1\n",
      "05/12/2024 02:26:22 PM Invoking: anthropic.claude-3-sonnet-20240229-v1:0\n",
      "05/12/2024 02:26:22 PM Invoking: anthropic.claude-3-sonnet-20240229-v1:0\n",
      "05/12/2024 02:26:22 PM Invoking: anthropic.claude-3-sonnet-20240229-v1:0\n",
      "05/12/2024 02:26:22 PM name: Sophia role: 村民 gender: 1\n",
      "05/12/2024 02:26:22 PM Invoking: anthropic.claude-3-sonnet-20240229-v1:0\n",
      "05/12/2024 02:26:22 PM Invoking: anthropic.claude-3-sonnet-20240229-v1:0\n",
      "05/12/2024 02:26:22 PM Invoking: anthropic.claude-3-sonnet-20240229-v1:0\n",
      "05/12/2024 02:26:22 PM name: Mason role: 预言家 gender: 0\n",
      "05/12/2024 02:26:22 PM Invoking: anthropic.claude-3-sonnet-20240229-v1:0\n",
      "05/12/2024 02:26:22 PM Invoking: anthropic.claude-3-sonnet-20240229-v1:0\n",
      "05/12/2024 02:26:22 PM Invoking: anthropic.claude-3-sonnet-20240229-v1:0\n",
      "05/12/2024 02:26:22 PM name: Ethan role: 村民 gender: 1\n",
      "05/12/2024 02:26:22 PM Invoking: anthropic.claude-3-sonnet-20240229-v1:0\n",
      "05/12/2024 02:26:22 PM Invoking: anthropic.claude-3-sonnet-20240229-v1:0\n",
      "05/12/2024 02:26:22 PM Invoking: anthropic.claude-3-sonnet-20240229-v1:0\n",
      "05/12/2024 02:26:22 PM name: Isabella role: 狼人 gender: 0\n",
      "05/12/2024 02:26:22 PM Invoking: anthropic.claude-3-sonnet-20240229-v1:0\n",
      "05/12/2024 02:26:22 PM Invoking: anthropic.claude-3-sonnet-20240229-v1:0\n",
      "05/12/2024 02:26:22 PM Invoking: anthropic.claude-3-sonnet-20240229-v1:0\n"
     ]
    },
    {
     "name": "stdout",
     "output_type": "stream",
     "text": [
      "Thread is running...\n"
     ]
    },
    {
     "name": "stderr",
     "output_type": "stream",
     "text": [
      "05/12/2024 02:26:22 PM \t===== Aiden:存活,Liam:存活,Emma:存活,Olivia:存活,Sophia:存活,Mason:存活,Ethan:存活,Isabella:存活 RunGame =====\n",
      "05/12/2024 02:26:22 PM \t===== input_tokens: 0 output_tokens 0 ======\n",
      "05/12/2024 02:26:22 PM \t===== elapsed_time: 0.20618939399719238 ======\n",
      "05/12/2024 02:26:22 PM \t===== NIGHT-1 PreAction ======\n",
      "05/12/2024 02:26:22 PM \t===== NIGHT-1 DoAction ======\n",
      "05/12/2024 02:26:22 PM \t\t******** DoMemory NIGHT-1 Liam 狼人********\n",
      "05/12/2024 02:26:25 PM \t\t******** DoAnswer NIGHT-1 Liam 狼人********\n",
      "05/12/2024 02:26:25 PM \tACTOR QUESTION: 目前玩家状态:Aiden:存活,Liam:存活,Emma:存活,Olivia:存活,Sophia:存活,Mason:存活,Ethan:存活,Isabella:存活.记住，你支持的玩家是Liam,身份狼人,性格独立思考.阵营为:2狼人,4村民,1预言家,1女巫.本阵营队友Liam,Isabella..请提取有用的信息,然后进行一步一步思考. 时间:第1天夜晚.该如何行动?\n",
      "05/12/2024 02:26:25 PM Found credentials from IAM Role: BaseNotebookInstanceEc2InstanceRole\n",
      "05/12/2024 02:26:25 PM HTTP Request: POST https://bedrock-runtime.us-east-1.amazonaws.com/model/anthropic.claude-3-sonnet-20240229-v1:0/invoke-with-response-stream \"HTTP/1.1 200 OK\"\n"
     ]
    },
    {
     "name": "stdout",
     "output_type": "stream",
     "text": [
      "观察: 目前是第一天夜晚,我是Liam,身份为狼人。我的阵营有两个狼人,Isabella是我的队友。敌方阵营有4个普通村民,1个预言家和1个女巫。所有玩家都还存活着。\n",
      "\n",
      "推理: 作为狼人阵营,我们的目标是消灭所有好人,"
     ]
    },
    {
     "name": "stderr",
     "output_type": "stream",
     "text": [
      "05/12/2024 02:26:28 PM 10.0.30.251 - - [12/May/2024 14:26:28] \"GET / HTTP/1.1\" 200 -\n"
     ]
    },
    {
     "name": "stdout",
     "output_type": "stream",
     "text": [
      "或者确保坏人数目多于好人。第一晚我们需要先杀死一个好人,削弱敌方实力。我怀疑Aiden、Emma和Sophia可能是普通村民,因为一般女巫和预言家不会在第一天暴露身份。不过我也不能完全排除她们是女巫或预言家的可能性。\n",
      "\n",
      "思考: 我倾向于先杀一个看似普通的村民,比如Aiden。这样可以避免直接暴露自己的身份,同时也让敌方失去一个普通村民的力量。不过我也需要和Isabella好好商量,看她是否有其他想法。毕竟我们需要在夜晚达成一致,才能成功杀人。\n",
      "\n",
      "行动: WolfVote\n",
      "参数: agent=Liam, target=Aiden, content=Aiden比较安静,看起来像是普通村民,我觉得可以先杀他,削弱敌方力量。不过你有什么想法吗?\n",
      "\n",
      "决策: {\"action\": \"WolfVote\", \"agent\": \"Liam\", \"target\": \"Aiden\", \"content\": \"Aiden比较安静,看起来像是普通村民,我觉得可以先杀他,削弱敌方力量。不过你有什么想法吗?\"}"
     ]
    },
    {
     "name": "stderr",
     "output_type": "stream",
     "text": [
      "05/12/2024 02:26:37 PM \t\t******** DoReflect NIGHT-1 Liam 狼人********\n",
      "05/12/2024 02:26:37 PM \tREFLECT QUESTION: 游戏进度:目前玩家状态:Aiden:存活,Liam:存活,Emma:存活,Olivia:存活,Sophia:存活,Mason:存活,Ethan:存活,Isabella:存活..玩家信息:记住，你支持的玩家是Liam,身份狼人,性格独立思考.阵营为:2狼人,4村民,1预言家,1女巫.本阵营队友Liam,Isabella..请提取有用的信息,然后进行一步一步思考.. 时间:NIGHT-1.玩家决策:[\"{\\\"action\\\": \\\"WolfVote\\\", \\\"agent\\\": \\\"Liam\\\", \\\"target\\\": \\\"Aiden\\\", \\\"content\\\": \\\"Aiden比较安静,看起来像是普通村民,我觉得可以先杀他,削弱敌方力量。不过你有什么想法吗?\\\"}\"].\n",
      "05/12/2024 02:26:37 PM Found credentials from IAM Role: BaseNotebookInstanceEc2InstanceRole\n",
      "05/12/2024 02:26:37 PM HTTP Request: POST https://bedrock-runtime.us-east-1.amazonaws.com/model/anthropic.claude-3-sonnet-20240229-v1:0/invoke-with-response-stream \"HTTP/1.1 200 OK\"\n",
      "05/12/2024 02:26:37 PM 10.0.10.138 - - [12/May/2024 14:26:37] \"GET / HTTP/1.1\" 200 -\n"
     ]
    },
    {
     "name": "stdout",
     "output_type": "stream",
     "text": [
      "观察: 目前是第一个夜晚,Liam作为狼人需要选择一个玩家进行投票杀死。他提议杀死Aiden,理由是Aiden比较安静,看起来像普通村民,杀死他可以削弱敌方力量。同时Liam也征求队友Isabella的意见。\n",
      "\n",
      "评分:\n",
      "- 决策对于自己的影响 (3:有利)\n",
      "Liam作为狼人,消灭村民有利于自己阵营获胜。\n",
      "- 决策对于本方的影响 (3:有利) \n",
      "杀死村民可以削弱敌方力量,有利于狼人阵营获胜。\n",
      "\n",
      "得分: {\"score\": 6}"
     ]
    },
    {
     "name": "stderr",
     "output_type": "stream",
     "text": [
      "05/12/2024 02:26:41 PM \t\t DoReflect: ['{\"score\": 6}']\n",
      "05/12/2024 02:26:41 PM \t\t******** DoValidate NIGHT-1 Liam 狼人********\n",
      "05/12/2024 02:26:41 PM \t\t DoValidate: ['{\"action\": \"WolfVote\", \"agent\": \"Liam\", \"target\": \"Aiden\", \"content\": \"Aiden比较安静,看起来像是普通村民,我觉得可以先杀他,削弱敌方力量。不过你有什么想法吗?\"}']\n",
      "05/12/2024 02:26:41 PM \t\t******** DoAction NIGHT-1 Liam 狼人********\n",
      "05/12/2024 02:26:41 PM \n",
      " SystemLog: [ROUND ACTION]={'time': 'NIGHT-1', 'player': 'Liam', 'status': 1, 'role': '狼人', 'character': '独立思考', 'response': ['{\"action\": \"WolfVote\", \"agent\": \"Liam\", \"target\": \"Aiden\", \"content\": \"Aiden比较安静,看起来像是普通村民,我觉得可以先杀他,削弱敌方力量。不过你有什么想法吗?\"}']}\n",
      "\n",
      "05/12/2024 02:26:44 PM \t\t******** DoMemory NIGHT-1 Isabella 狼人********\n",
      "05/12/2024 02:26:44 PM Found credentials from IAM Role: BaseNotebookInstanceEc2InstanceRole\n",
      "05/12/2024 02:26:44 PM HTTP Request: POST https://bedrock-runtime.us-east-1.amazonaws.com/model/anthropic.claude-3-sonnet-20240229-v1:0/invoke-with-response-stream \"HTTP/1.1 200 OK\"\n"
     ]
    },
    {
     "name": "stdout",
     "output_type": "stream",
     "text": [
      "Liam是狼人,在夜晚向队友提议投票杀死Aiden,理由是Aiden安静像普通村民,可以先削弱敌方力量。"
     ]
    },
    {
     "name": "stderr",
     "output_type": "stream",
     "text": [
      "05/12/2024 02:26:49 PM \t\t******** DoAnswer NIGHT-1 Isabella 狼人********\n",
      "05/12/2024 02:26:49 PM \tACTOR QUESTION: 目前玩家状态:Aiden:存活,Liam:存活,Emma:存活,Olivia:存活,Sophia:存活,Mason:存活,Ethan:存活,Isabella:存活.记住，你支持的玩家是Isabella,身份狼人,性格互动达人.阵营为:2狼人,4村民,1预言家,1女巫.本阵营队友Liam,Isabella..请提取有用的信息,然后进行一步一步思考. 时间:第1天夜晚.该如何行动?\n",
      "05/12/2024 02:26:49 PM Found credentials from IAM Role: BaseNotebookInstanceEc2InstanceRole\n",
      "05/12/2024 02:26:49 PM HTTP Request: POST https://bedrock-runtime.us-east-1.amazonaws.com/model/anthropic.claude-3-sonnet-20240229-v1:0/invoke-with-response-stream \"HTTP/1.1 200 OK\"\n"
     ]
    },
    {
     "name": "stdout",
     "output_type": "stream",
     "text": [
      "观察: 当前时间为第1天夜晚,我的身份是狼人,队友是Liam。敌方阵容有4名村民、1名预言家和1名女巫,他们的身份都还未确定。Liam提议杀死Aiden,因为Aiden表现安静像普通村民。\n",
      "\n",
      "推理: Liam的提议有一定道理,在第一夜杀死一名村民可以削弱敌方力量。但也不能太明显地攻击一名安静的玩家,容易引起其他玩家的怀疑。我们需要更隐蔽一些,找一个表现活跃、容易被认为是狼人的目标更合适。\n",
      "\n",
      "思考: 作为互动达人,我需要在狼人队友和其他玩家之间起到协调作用。我应该赞同Liam的提议,但也要提出自己的想法,让大家觉得我们在平等讨论,而不是简单地听从一人的决定。我可以提出杀死一名活跃分子,避免引起太多怀疑。\n",
      "\n",
      "行动: WolfVote\n",
      "参数: agent=Isabella, target=Mason, content=Mason今晚表现很活跃,虽然无法确定他的身份,但他很可能是狼人或者女巫。不如先杀死他"
     ]
    },
    {
     "name": "stderr",
     "output_type": "stream",
     "text": [
      "05/12/2024 02:26:58 PM 10.0.30.251 - - [12/May/2024 14:26:58] \"GET / HTTP/1.1\" 200 -\n"
     ]
    },
    {
     "name": "stdout",
     "output_type": "stream",
     "text": [
      ",降低敌方实力。\n",
      "\n",
      "决策: {\"action\": \"WolfVote\", \"agent\": \"Isabella\", \"target\": \"Mason\", \"content\": \"Mason今晚表现很活跃,虽然无法确定他的身份,但他很可能是狼人或者女巫。不如先杀死他,降低敌方实力。\"}"
     ]
    },
    {
     "name": "stderr",
     "output_type": "stream",
     "text": [
      "05/12/2024 02:26:59 PM \t\t******** DoReflect NIGHT-1 Isabella 狼人********\n",
      "05/12/2024 02:26:59 PM \tREFLECT QUESTION: 游戏进度:目前玩家状态:Aiden:存活,Liam:存活,Emma:存活,Olivia:存活,Sophia:存活,Mason:存活,Ethan:存活,Isabella:存活..玩家信息:记住，你支持的玩家是Isabella,身份狼人,性格互动达人.阵营为:2狼人,4村民,1预言家,1女巫.本阵营队友Liam,Isabella..请提取有用的信息,然后进行一步一步思考.. 时间:NIGHT-1.玩家决策:[\"{\\\"action\\\": \\\"WolfVote\\\", \\\"agent\\\": \\\"Isabella\\\", \\\"target\\\": \\\"Mason\\\", \\\"content\\\": \\\"Mason今晚表现很活跃,虽然无法确定他的身份,但他很可能是狼人或者女巫。不如先杀死他,降低敌方实力。\\\"}\"].\n",
      "05/12/2024 02:26:59 PM Found credentials from IAM Role: BaseNotebookInstanceEc2InstanceRole\n",
      "05/12/2024 02:26:59 PM 10.0.30.251 - - [12/May/2024 14:26:59] \"GET /getMsg HTTP/1.1\" 200 -\n",
      "05/12/2024 02:26:59 PM HTTP Request: POST https://bedrock-runtime.us-east-1.amazonaws.com/model/anthropic.claude-3-sonnet-20240229-v1:0/invoke-with-response-stream \"HTTP/1.1 200 OK\"\n"
     ]
    },
    {
     "name": "stdout",
     "output_type": "stream",
     "text": [
      "观察: 目前处于夜晚阶段,玩家Isabella作为狼人,建议狼人阵营投票杀死Mason。Isabella的理由是Mason今晚表现活跃,可能是狼人或女巫,先杀死他可以削弱敌方实力。\n",
      "\n",
      "评分:\n",
      "- 决策对于自己(Isabella)的影响 (3:有利)\n",
      "Isabella是狼人阵营,投票杀死可能的敌方重要角色有利于自己阵营获胜。\n",
      "\n",
      "- 决策对于本方(狼人阵营)的影响 (3:有利)  \n",
      "杀死可能的敌方重要角色,削弱敌方实力,有利于狼人阵营获胜。\n",
      "\n",
      "得分: {\"score\": 6}"
     ]
    },
    {
     "name": "stderr",
     "output_type": "stream",
     "text": [
      "05/12/2024 02:27:03 PM \t\t DoReflect: ['{\"score\": 6}']\n",
      "05/12/2024 02:27:03 PM \t\t******** DoValidate NIGHT-1 Isabella 狼人********\n",
      "05/12/2024 02:27:03 PM \t\t DoValidate: ['{\"action\": \"WolfVote\", \"agent\": \"Isabella\", \"target\": \"Mason\", \"content\": \"Mason今晚表现很活跃,虽然无法确定他的身份,但他很可能是狼人或者女巫。不如先杀死他,降低敌方实力。\"}']\n",
      "05/12/2024 02:27:03 PM \t\t******** DoAction NIGHT-1 Isabella 狼人********\n",
      "05/12/2024 02:27:03 PM \n",
      " SystemLog: [ROUND ACTION]={'time': 'NIGHT-1', 'player': 'Isabella', 'status': 1, 'role': '狼人', 'character': '互动达人', 'response': ['{\"action\": \"WolfVote\", \"agent\": \"Isabella\", \"target\": \"Mason\", \"content\": \"Mason今晚表现很活跃,虽然无法确定他的身份,但他很可能是狼人或者女巫。不如先杀死他,降低敌方实力。\"}']}\n",
      "\n",
      "05/12/2024 02:27:06 PM \t\t******** DoMemory NIGHT-1 Mason 预言家********\n",
      "05/12/2024 02:27:07 PM 10.0.10.138 - - [12/May/2024 14:27:07] \"GET / HTTP/1.1\" 200 -\n",
      "05/12/2024 02:27:09 PM \t\t******** DoAnswer NIGHT-1 Mason 预言家********\n",
      "05/12/2024 02:27:09 PM \tACTOR QUESTION: 目前玩家状态:Aiden:存活,Liam:存活,Emma:存活,Olivia:存活,Sophia:存活,Mason:存活,Ethan:存活,Isabella:存活.记住，你支持的玩家是Mason,身份预言家,性格观察家.阵营为:2狼人,4村民,1预言家,1女巫.本阵营队友未知.请提取有用的信息,然后进行一步一步思考. 时间:第1天夜晚.该如何行动?\n",
      "05/12/2024 02:27:09 PM Found credentials from IAM Role: BaseNotebookInstanceEc2InstanceRole\n",
      "05/12/2024 02:27:09 PM HTTP Request: POST https://bedrock-runtime.us-east-1.amazonaws.com/model/anthropic.claude-3-sonnet-20240229-v1:0/invoke-with-response-stream \"HTTP/1.1 200 OK\"\n"
     ]
    },
    {
     "name": "stdout",
     "output_type": "stream",
     "text": [
      "观察: 现在是第1天夜晚,我是预言家Mason,支持我的阵营是好人阵营。我的任务是利用查验身份的能力,识别出坏人阵营的狼人。\n",
      "\n",
      "推理: 由于还是第一个夜晚,所有人的身份都是未知的。我需要谨慎地选择一个目标进行查验,以获取第一手信息。一个明智的做法是查验一个看似可疑或行为怪异的玩家,以期望能够尽早发现狼人。\n",
      "\n",
      "思考: 根据我作为一个观察家的性格特点,我会密切关注其他玩家的言行举止,寻找任何可疑的迹象。比如说,某些玩家可能表现得过于沉默寡言,或是言语中存在矛盾等等。我需要仔细思考,是否有哪些玩家的表现值得怀疑。\n",
      "\n",
      "行动: ProphetCheck\n",
      "\n",
      "参数: agent=Mason,target=Aiden\n",
      "\n",
      "决策: {\"action\": \"ProphetCheck\", \"agent\": \"Mason\", \"target\": \"Aiden\"}"
     ]
    },
    {
     "name": "stderr",
     "output_type": "stream",
     "text": [
      "05/12/2024 02:27:15 PM \t\t******** DoReflect NIGHT-1 Mason 预言家********\n",
      "05/12/2024 02:27:15 PM \tREFLECT QUESTION: 游戏进度:目前玩家状态:Aiden:存活,Liam:存活,Emma:存活,Olivia:存活,Sophia:存活,Mason:存活,Ethan:存活,Isabella:存活..玩家信息:记住，你支持的玩家是Mason,身份预言家,性格观察家.阵营为:2狼人,4村民,1预言家,1女巫.本阵营队友未知.请提取有用的信息,然后进行一步一步思考.. 时间:NIGHT-1.玩家决策:[\"{\\\"action\\\": \\\"ProphetCheck\\\", \\\"agent\\\": \\\"Mason\\\", \\\"target\\\": \\\"Aiden\\\"}\"].\n",
      "05/12/2024 02:27:15 PM Found credentials from IAM Role: BaseNotebookInstanceEc2InstanceRole\n",
      "05/12/2024 02:27:15 PM HTTP Request: POST https://bedrock-runtime.us-east-1.amazonaws.com/model/anthropic.claude-3-sonnet-20240229-v1:0/invoke-with-response-stream \"HTTP/1.1 200 OK\"\n"
     ]
    },
    {
     "name": "stdout",
     "output_type": "stream",
     "text": [
      "观察: 第一夜,预言家Mason查验了Aiden的身份。这是一个正常的预言家行动,可以获取有价值的信息。\n",
      "\n",
      "评分:\n",
      "- 决策对于自己的影响 (3:有利)\n",
      "Mason作为预言家,查验身份是合理且必要的"
     ]
    },
    {
     "name": "stderr",
     "output_type": "stream",
     "text": [
      "05/12/2024 02:27:17 PM 10.0.30.251 - - [12/May/2024 14:27:17] \"GET /getMsg HTTP/1.1\" 200 -\n"
     ]
    },
    {
     "name": "stdout",
     "output_type": "stream",
     "text": [
      "行动,可以获取重要线索。\n",
      "- 决策对于本方的影响 (3:有利)  \n",
      "预言家获取身份信息有助于整个好人阵营推理和判断。\n",
      "\n",
      "得分: {\"score\": 6}"
     ]
    },
    {
     "name": "stderr",
     "output_type": "stream",
     "text": [
      "05/12/2024 02:27:19 PM \t\t DoReflect: ['{\"score\": 6}']\n",
      "05/12/2024 02:27:19 PM \t\t******** DoValidate NIGHT-1 Mason 预言家********\n",
      "05/12/2024 02:27:19 PM \t\t DoValidate: ['{\"action\": \"ProphetCheck\", \"agent\": \"Mason\", \"target\": \"Aiden\"}']\n",
      "05/12/2024 02:27:19 PM \t\t******** DoAction NIGHT-1 Mason 预言家********\n",
      "05/12/2024 02:27:19 PM {'NIGHT-1': {'Aiden': '女巫'}}\n",
      "05/12/2024 02:27:19 PM \n",
      " SystemLog: [ROUND ACTION]={'time': 'NIGHT-1', 'player': 'Mason', 'status': 1, 'role': '预言家', 'character': '观察家', 'response': ['{\"action\": \"ProphetCheck\", \"agent\": \"Mason\", \"target\": \"Aiden\"}']}\n",
      "\n",
      "05/12/2024 02:27:22 PM \t===== NIGHT-1 PostAction ======\n",
      "05/12/2024 02:27:22 PM [NIGHT_VOTE_AGAIN]上轮投票失败，这次只能投Aiden,Mason玩家中一人\n",
      "05/12/2024 02:27:22 PM [NIGHT_VOTE_AGAIN]上轮投票失败，这次只能投Aiden,Mason玩家中一人\n",
      "05/12/2024 02:27:22 PM \t====== 时间NIGHT-1, 狼人没有统一选择, 夜晚必须要投出一名玩家.\n",
      "05/12/2024 02:27:22 PM \t===== NIGHT-1 DoAction ======\n",
      "05/12/2024 02:27:22 PM \t\t******** DoMemory NIGHT-1 Liam 狼人********\n",
      "05/12/2024 02:27:22 PM Found credentials from IAM Role: BaseNotebookInstanceEc2InstanceRole\n",
      "05/12/2024 02:27:22 PM HTTP Request: POST https://bedrock-runtime.us-east-1.amazonaws.com/model/anthropic.claude-3-sonnet-20240229-v1:0/invoke-with-response-stream \"HTTP/1.1 200 OK\"\n"
     ]
    },
    {
     "name": "stdout",
     "output_type": "stream",
     "text": [
      "夜晚,狼人Liam对Aiden进行投票,并建议队友跟随,理由是Aiden表现比较安静像是普通村民,可以先杀他来削弱敌方力量。"
     ]
    },
    {
     "name": "stderr",
     "output_type": "stream",
     "text": [
      "05/12/2024 02:27:27 PM \t\t******** DoAnswer NIGHT-1 Liam 狼人********\n",
      "05/12/2024 02:27:27 PM \tACTOR QUESTION: 目前玩家状态:Aiden:存活,Liam:存活,Emma:存活,Olivia:存活,Sophia:存活,Mason:存活,Ethan:存活,Isabella:存活.记住，你支持的玩家是Liam,身份狼人,性格独立思考.阵营为:2狼人,4村民,1预言家,1女巫.本阵营队友Liam,Isabella..请提取有用的信息,然后进行一步一步思考. 时间:第1天夜晚.该如何行动?\n",
      "05/12/2024 02:27:27 PM Found credentials from IAM Role: BaseNotebookInstanceEc2InstanceRole\n",
      "05/12/2024 02:27:27 PM HTTP Request: POST https://bedrock-runtime.us-east-1.amazonaws.com/model/anthropic.claude-3-sonnet-20240229-v1:0/invoke-with-response-stream \"HTTP/1.1 200 OK\"\n"
     ]
    },
    {
     "name": "stdout",
     "output_type": "stream",
     "text": [
      "观察:"
     ]
    },
    {
     "name": "stderr",
     "output_type": "stream",
     "text": [
      "05/12/2024 02:27:28 PM 10.0.30.251 - - [12/May/2024 14:27:28] \"GET / HTTP/1.1\" 200 -\n"
     ]
    },
    {
     "name": "stdout",
     "output_type": "stream",
     "text": [
      " 这是第一天夜晚,我是Liam,身份是狼人。我的队友是Isabella。所有玩家都还存活。我们上一轮投票没有成功。\n",
      "\n",
      "推理: 既然上一轮投票失败,说明Aiden可能不是普通村民,而是拥有特殊身份如预言家或女巫。这次我们必须小心行事,不能轻易暴露身份。我怀疑Mason和Sophia更有可能是普通村民。\n",
      "\n",
      "思考: 我们这次应该投Mason或Sophia中的一个,因为他们看起来最像普通村民。不过在决定之前,我还是要和Isabella好好商量一下,听听她的想法。我们需要在夜晚达成一致,才能顺利杀人。\n",
      "\n",
      "行动: WolfVote \n",
      "参数: agent=Liam, target=Mason, content=上次投Aiden没成功,说明他可能有特殊身份。这次我觉得可以投Mason,你有什么想法?\n",
      "\n",
      "决策: {\"action\": \"WolfVote\", \"agent\": \"Liam\", \"target\": \"Mason\", \"content\": \"上次投Aiden没成"
     ]
    },
    {
     "name": "stderr",
     "output_type": "stream",
     "text": [
      "05/12/2024 02:27:35 PM 10.0.30.251 - - [12/May/2024 14:27:35] \"GET /getMsg HTTP/1.1\" 200 -\n"
     ]
    },
    {
     "name": "stdout",
     "output_type": "stream",
     "text": [
      "功,说明他可能有特殊身份。这次我觉得可以投Mason,你有什么想法?\"}"
     ]
    },
    {
     "name": "stderr",
     "output_type": "stream",
     "text": [
      "05/12/2024 02:27:35 PM \t\t******** DoReflect NIGHT-1 Liam 狼人********\n",
      "05/12/2024 02:27:35 PM \tREFLECT QUESTION: 游戏进度:目前玩家状态:Aiden:存活,Liam:存活,Emma:存活,Olivia:存活,Sophia:存活,Mason:存活,Ethan:存活,Isabella:存活..玩家信息:记住，你支持的玩家是Liam,身份狼人,性格独立思考.阵营为:2狼人,4村民,1预言家,1女巫.本阵营队友Liam,Isabella..请提取有用的信息,然后进行一步一步思考.. 时间:NIGHT-1.玩家决策:[\"{\\\"action\\\": \\\"WolfVote\\\", \\\"agent\\\": \\\"Liam\\\", \\\"target\\\": \\\"Mason\\\", \\\"content\\\": \\\"上次投Aiden没成功,说明他可能有特殊身份。这次我觉得可以投Mason,你有什么想法?\\\"}\"].\n",
      "05/12/2024 02:27:35 PM Found credentials from IAM Role: BaseNotebookInstanceEc2InstanceRole\n",
      "05/12/2024 02:27:35 PM HTTP Request: POST https://bedrock-runtime.us-east-1.amazonaws.com/model/anthropic.claude-3-sonnet-20240229-v1:0/invoke-with-response-stream \"HTTP/1.1 200 OK\"\n"
     ]
    },
    {
     "name": "stdout",
     "output_type": "stream",
     "text": [
      "观察: 这是第一个夜晚的第二次狼人投票。上一次Liam建议杀Aiden没有得逞,推测Aiden可能有特殊身份。这次Liam提议杀Mason,并征求队友Isabella的意见。\n",
      "\n",
      "评分:\n",
      "- 决策对于自己的影响 (2:平均)\n",
      "杀村民固然有利于狼人阵"
     ]
    },
    {
     "name": "stderr",
     "output_type": "stream",
     "text": [
      "05/12/2024 02:27:37 PM 10.0.10.138 - - [12/May/2024 14:27:37] \"GET / HTTP/1.1\" 200 -\n"
     ]
    },
    {
     "name": "stdout",
     "output_type": "stream",
     "text": [
      "营,但没有针对性地杀死关键角色(如预言家、女巫),对自己的影响一般。\n",
      "- 决策对于本方的影响 (2:平均)\n",
      "普通村民被杀,对阵营实力的削弱有限。\n",
      "\n",
      "得分: {\"score\": 4}"
     ]
    },
    {
     "name": "stderr",
     "output_type": "stream",
     "text": [
      "05/12/2024 02:27:39 PM \t\t DoReflect: ['{\"score\": 4}']\n",
      "05/12/2024 02:27:39 PM \t\t******** DoValidate NIGHT-1 Liam 狼人********\n",
      "05/12/2024 02:27:39 PM \t\t DoValidate: ['{\"action\": \"WolfVote\", \"agent\": \"Liam\", \"target\": \"Mason\", \"content\": \"上次投Aiden没成功,说明他可能有特殊身份。这次我觉得可以投Mason,你有什么想法?\"}']\n",
      "05/12/2024 02:27:39 PM \t\t******** DoAction NIGHT-1 Liam 狼人********\n",
      "05/12/2024 02:27:39 PM \n",
      " SystemLog: [ROUND ACTION]={'time': 'NIGHT-1', 'player': 'Liam', 'status': 1, 'role': '狼人', 'character': '独立思考', 'response': ['{\"action\": \"WolfVote\", \"agent\": \"Liam\", \"target\": \"Mason\", \"content\": \"上次投Aiden没成功,说明他可能有特殊身份。这次我觉得可以投Mason,你有什么想法?\"}']}\n",
      "\n",
      "05/12/2024 02:27:40 PM 10.0.30.251 - - [12/May/2024 14:27:40] \"GET /getMsg HTTP/1.1\" 200 -\n",
      "05/12/2024 02:27:42 PM \t\t******** DoMemory NIGHT-1 Isabella 狼人********\n",
      "05/12/2024 02:27:42 PM Found credentials from IAM Role: BaseNotebookInstanceEc2InstanceRole\n",
      "05/12/2024 02:27:42 PM HTTP Request: POST https://bedrock-runtime.us-east-1.amazonaws.com/model/anthropic.claude-3-sonnet-20240229-v1:0/invoke-with-response-stream \"HTTP/1.1 200 OK\"\n",
      "05/12/2024 02:27:42 PM 10.0.30.251 - - [12/May/2024 14:27:42] \"GET /getMsg HTTP/1.1\" 200 -\n"
     ]
    },
    {
     "name": "stdout",
     "output_type": "stream",
     "text": [
      "Liam是狼人,第一天夜晚提议投票杀死Aiden,因为Aiden安静像普通村民。第二天夜晚提议投票杀死Mason,因为上次投Aiden没成功,说明Aiden可能有特殊身份。"
     ]
    },
    {
     "name": "stderr",
     "output_type": "stream",
     "text": [
      "05/12/2024 02:27:44 PM 10.0.30.251 - - [12/May/2024 14:27:44] \"GET /startGame HTTP/1.1\" 200 -\n",
      "05/12/2024 02:27:46 PM \t\t******** DoAnswer NIGHT-1 Isabella 狼人********\n",
      "05/12/2024 02:27:46 PM \tACTOR QUESTION: 目前玩家状态:Aiden:存活,Liam:存活,Emma:存活,Olivia:存活,Sophia:存活,Mason:存活,Ethan:存活,Isabella:存活.记住，你支持的玩家是Isabella,身份狼人,性格互动达人.阵营为:2狼人,4村民,1预言家,1女巫.本阵营队友Liam,Isabella..请提取有用的信息,然后进行一步一步思考. 时间:第1天夜晚.该如何行动?\n",
      "05/12/2024 02:27:46 PM Found credentials from IAM Role: BaseNotebookInstanceEc2InstanceRole\n",
      "05/12/2024 02:27:46 PM HTTP Request: POST https://bedrock-runtime.us-east-1.amazonaws.com/model/anthropic.claude-3-sonnet-20240229-v1:0/invoke-with-response-stream \"HTTP/1.1 200 OK\"\n"
     ]
    },
    {
     "name": "stdout",
     "output_type": "stream",
     "text": [
      "观察: 目前是第1天夜晚,我的身份是狼人,队友是Liam。敌方阵容包括4名村民、1名预言家和1名女巫,具体身份未知。Liam提议杀死Aiden,理由是Aiden表现太过安静。\n",
      "\n",
      "推理: Liam的提议有一定道理。第一夜杀死一名村民可以削弱敌方力量,而Aiden表现太过安静,容易被认为是普通村民。不过也不能太明显地攻击安静的玩家,那样可能会引起其他玩家的怀疑。我们需要找一个更隐蔽、看似合理的理由。\n",
      "\n",
      "思考: 作为互动达人,我需要在狼人队友和其他玩家之间起到协调作用,提出看似中立但实际有利于"
     ]
    },
    {
     "name": "stderr",
     "output_type": "stream",
     "text": [
      "05/12/2024 02:27:51 PM 10.0.30.251 - - [12/May/2024 14:27:51] \"GET /stopGame HTTP/1.1\" 200 -\n"
     ]
    },
    {
     "name": "stdout",
     "output_type": "stream",
     "text": [
      "我方的观点。我可以赞同Liam的提议,但也要提出自己的想法,让大家觉得我们在平等讨论,而不是简单地听从一人的决定。\n",
      "\n",
      "行动: WolfVote  \n",
      "参数: agent=Isabella, target=Aiden, content=Aiden的表现确实让人怀疑他是普通村民。不过我们也不能操之过急,不如先观察一晚,如果第二天他还是这种表现,再考虑对付他。\n",
      "\n",
      "决策: {\"action\": \"WolfVote\", \"agent\": \"Isabella\", \"target\": \"Aiden\", \"content\": \"Aiden的表现确实让人怀疑他是普通村民。不过我们也不能操之过急,不如先观察一晚,如果第二天他还是这种表现,再考虑对付他。\"}"
     ]
    },
    {
     "name": "stderr",
     "output_type": "stream",
     "text": [
      "05/12/2024 02:27:57 PM \t\t******** DoReflect NIGHT-1 Isabella 狼人********\n",
      "05/12/2024 02:27:57 PM \tREFLECT QUESTION: 游戏进度:目前玩家状态:Aiden:存活,Liam:存活,Emma:存活,Olivia:存活,Sophia:存活,Mason:存活,Ethan:存活,Isabella:存活..玩家信息:记住，你支持的玩家是Isabella,身份狼人,性格互动达人.阵营为:2狼人,4村民,1预言家,1女巫.本阵营队友Liam,Isabella..请提取有用的信息,然后进行一步一步思考.. 时间:NIGHT-1.玩家决策:[\"{\\\"action\\\": \\\"WolfVote\\\", \\\"agent\\\": \\\"Isabella\\\", \\\"target\\\": \\\"Aiden\\\", \\\"content\\\": \\\"Aiden的表现确实让人怀疑他是普通村民。不过我们也不能操之过急,不如先观察一晚,如果第二天他还是这种表现,再考虑对付他。\\\"}\"].\n",
      "05/12/2024 02:27:57 PM Found credentials from IAM Role: BaseNotebookInstanceEc2InstanceRole\n",
      "05/12/2024 02:27:57 PM HTTP Request: POST https://bedrock-runtime.us-east-1.amazonaws.com/model/anthropic.claude-3-sonnet-20240229-v1:0/invoke-with-response-stream \"HTTP/1.1 200 OK\"\n"
     ]
    },
    {
     "name": "stdout",
     "output_type": "stream",
     "text": [
      "观察: 目前处于夜晚阶段,玩家Isabella作为狼人,建议狼人阵"
     ]
    },
    {
     "name": "stderr",
     "output_type": "stream",
     "text": [
      "05/12/2024 02:27:58 PM 10.0.30.251 - - [12/May/2024 14:27:58] \"GET / HTTP/1.1\" 200 -\n"
     ]
    },
    {
     "name": "stdout",
     "output_type": "stream",
     "text": [
      "营暂时不杀Aiden。Isabella的理由是Aiden的表现让人怀疑他是普通村民,"
     ]
    }
   ],
   "source": [
    "from shared.GameServer import GameServer\n",
    "\n",
    "GS = GameServer()\n",
    "GS.Run(\"0.0.0.0\", 8000)\n"
   ]
  },
  {
   "cell_type": "code",
   "execution_count": null,
   "id": "6e4b2928-3d3c-4a7e-8a13-52d15e8154a6",
   "metadata": {},
   "outputs": [],
   "source": [
    "from shared.GamePlayer import GamePlayer\n",
    "from shared.GameMaster import GameMaster\n",
    "from shared.PeTemplates import *\n",
    "LoadPlayerPrompts()\n",
    "GM = GameMaster(1, False)\n",
    "for player in roles_dict[\"players\"]:\n",
    "    _player = GamePlayer(player, GM)\n",
    "    \n",
    "    _player.DoPlanning(game_config_dict[\"player\"][\"action_plan_night\"], 1)\n"
   ]
  },
  {
   "cell_type": "code",
   "execution_count": null,
   "id": "3f0f8075-bddd-458d-845b-d498bd72ed15",
   "metadata": {
    "tags": []
   },
   "outputs": [],
   "source": [
    "from shared.GameMaster import GameMaster\n",
    "from shared.PeTemplates import *\n",
    "\n",
    "GM = GameMaster(2, 50, False)\n",
    "GM.ResetGame()\n",
    "GM.RunGame()\n",
    "GM.EndGame()"
   ]
  },
  {
   "cell_type": "code",
   "execution_count": null,
   "id": "7f3c9aa9-d3ea-439c-828b-e5d920670233",
   "metadata": {},
   "outputs": [],
   "source": []
  },
  {
   "cell_type": "code",
   "execution_count": null,
   "id": "c045756e-acf9-460f-9cfd-c7e86cb11250",
   "metadata": {},
   "outputs": [],
   "source": []
  }
 ],
 "metadata": {
  "kernelspec": {
   "display_name": "conda_pytorch_p310",
   "language": "python",
   "name": "conda_pytorch_p310"
  },
  "language_info": {
   "codemirror_mode": {
    "name": "ipython",
    "version": 3
   },
   "file_extension": ".py",
   "mimetype": "text/x-python",
   "name": "python",
   "nbconvert_exporter": "python",
   "pygments_lexer": "ipython3",
   "version": "3.10.13"
  }
 },
 "nbformat": 4,
 "nbformat_minor": 5
}
