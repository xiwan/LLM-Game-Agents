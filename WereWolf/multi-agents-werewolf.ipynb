{
 "cells": [
  {
   "cell_type": "code",
   "execution_count": null,
   "id": "a38bc454-75d5-4dc7-8b0d-21f1ece76983",
   "metadata": {
    "tags": []
   },
   "outputs": [],
   "source": [
    "# dependencies\n",
    "!pip install boto3>=1.28.59\n",
    "!pip install numpy\n",
    "!pip install anthropic\n",
    "!pip install flask\n",
    "!pip install langchain\n",
    "!pip install langchainhub\n",
    "!pip install langchain_community"
   ]
  },
  {
   "cell_type": "code",
   "execution_count": null,
   "id": "8b371c4e-8d7a-48a6-ac22-47619a21ed14",
   "metadata": {
    "tags": []
   },
   "outputs": [],
   "source": [
    "# global imports\n",
    "import json\n",
    "import os\n",
    "import sys\n",
    "import logging\n",
    "import boto3\n",
    "import botocore\n",
    "\n",
    "logger = logging.getLogger(__name__)\n",
    "\n",
    "module_path = \"..\"\n",
    "sys.path.append(os.path.abspath(module_path))"
   ]
  },
  {
   "cell_type": "code",
   "execution_count": null,
   "id": "e8ff4d3c-0283-4861-9c1b-3d5d4e808990",
   "metadata": {
    "tags": []
   },
   "outputs": [],
   "source": [
    "from langchain.callbacks.streaming_stdout import StreamingStdOutCallbackHandler\n",
    "from langchain_core.messages import HumanMessage\n",
    "\n",
    "chat = BedrockChat(\n",
    "    model_id=\"anthropic.claude-3-sonnet-20240229-v1:0\",\n",
    "    streaming=True,\n",
    "    callbacks=[StreamingStdOutCallbackHandler()],\n",
    "    model_kwargs={\"temperature\": 0.1},\n",
    ")\n",
    "\n",
    "messages = [\n",
    "    HumanMessage(\n",
    "        content=\"Translate this sentence from English to Chinese. I love programming.\"\n",
    "    )\n",
    "]\n",
    "msg=chat(messages)\n",
    "print(msg.content)"
   ]
  },
  {
   "cell_type": "code",
   "execution_count": null,
   "id": "d72774f1-bec2-4be9-b89c-1cdf8da00d6b",
   "metadata": {
    "tags": []
   },
   "outputs": [],
   "source": [
    "werewolf_rule_v1 = \"\"\"\n",
    "1. 游戏分坏人(狼人)和好人(村民+预言家)两大阵营,他们的目标为:\n",
    "- 坏人阵营只有狼人\n",
    "- 好人阵营有村民和预言家\n",
    "- 坏人阵营:消灭所有好人, 或者保证坏人数目大于好人数目\n",
    "- 好人阵营:消灭所有坏人, 或者保证好人数目大于坏人数目\n",
    "\n",
    "2. 游戏分白天和晚上两个阶段交替进行:\n",
    "- 晚上狼人睁眼统一投票杀死一名玩家\n",
    "- 晚上预言家只能查验一名玩家身份\n",
    "- 晚上普通村民无法行动\n",
    "- 白天分为讨论和投票两环节\n",
    "- 白天在讨论环节，每个玩家必须参与讨论\n",
    "- 白天在投票环节，每个玩家必须投票或者放弃\n",
    "\n",
    "\"\"\"\n",
    "\n",
    "werewolf_command_v1 = \"\"\"\n",
    "- WolfVote: 夜晚投票(狼人专属行动),参数: target=存活玩家\n",
    "- ProphetCheck: 夜晚查验(预言家专属行动), 参数: target=存活玩家\n",
    "- PlayerDoubt: 白天怀疑(所有玩家白天可选行动, 非投票), 参数: target=存活玩家 \n",
    "- PlayerVote: 白天投票, 参数: target=存活玩家 \n",
    "- Debate: 白天讨论, 参数: content=思考/理由 \n",
    "- GetAllPlayersName: 玩家信息, 参数: 无 \n",
    "- DeathWords: 死亡遗言, 参数: content=给予玩家线索\n",
    "- Pass: 玩家弃权参数: 无 \n",
    "\"\"\"\n",
    "\n",
    "template_player_role = \"\"\"你是资深的社交游戏玩家, 熟悉《狼人杀》游戏规则:\n",
    "<game_rules>\n",
    "{game_rule}\n",
    "</game_rules>\n",
    "\n",
    "你熟悉该游戏所有命令:\n",
    "<commands>\n",
    "{commands}\n",
    "</commands>\n",
    "\n",
    "<reflections>\n",
    "- 按照游戏规则，第一个夜晚死亡的一定是村民或者预言家，狼人没必要第一晚上自杀\n",
    "- 看完P3玩家昨天白天投票，明显感觉他在混淆是非，很有可能在给狼人分票\n",
    "- 平民玩家由于信息缺失，所以狼人要尽量引导他们去集火其他人\n",
    "- 第一个夜晚所有的行动都是随机的\n",
    "- 作为第一个死亡的玩家，其实信息有限，我就靠第六感推理...\n",
    "</reflections>\n",
    "\n",
    "<references>\n",
    "- {{\"action\": \"Pass\"}}\n",
    "- {{\"action\": \"WolfVote\", \"target\": \"小明\"}}\n",
    "- {{\"action\": \"ProphetCheck\", \"target\": \"P1\"}}\n",
    "- {{\"action\": \"PlayerVote\", \"target\": \"老王\"}}\n",
    "- {{\"action\": \"Debate\", \"content\": \"我的推理为xx是狼，原因是...\"}}\n",
    "- {{\"action\": \"DeathWords\", \"content\": \"我觉得xx有很大的嫌疑, 原因是...\"}}\n",
    "</references>\n",
    "\n",
    "历史信息:\n",
    "<history>\n",
    "{history}\n",
    "</history>\n",
    "\n",
    "记住，你支持的玩家是 {nickname}, 身份是 {role}, 性格为 {character}, 必须帮助玩家进行这个游戏\n",
    "接下来你的目的是: 通过一步一步思考决策引导游戏往有利于的方向进行, 最终赢得比赛. \n",
    "\n",
    "决策满足下面要求:\n",
    "- 内容不要罗嗦, 不要超过50字数限制,少讲废话, 突出重点\n",
    "- 判断场上信息真伪, 运用辩解,对抗,欺骗,伪装,坦白等等任意策略来做决策\n",
    "- 决策分为两类:思考或行动\n",
    "- 思考:逐步思考,判断信息真伪,分析游戏形势等等,参考 <reflections> 选择合适的输出\n",
    "- 行动:参考<references>按照json字符串格式输出,必须包含action key, action必须在<commands>中选择\n",
    "\n",
    "\n",
    "{input}\n",
    "\"\"\".replace(\"{game_rule}\", werewolf_rule_v1).replace(\"{commands}\", werewolf_command_v1)\n",
    "\n",
    "print(template_player_role)"
   ]
  },
  {
   "cell_type": "code",
   "execution_count": null,
   "id": "93a15f3d-955d-4f78-8936-e4fa5bd638bd",
   "metadata": {
    "tags": []
   },
   "outputs": [],
   "source": [
    "from shared.LangchainMini.LangchainMini import LangchainMini, LangchainMiniMemory, LangchainMiniPromptTemplate\n",
    "\n",
    "# A和C是同学,确认说\"ok\"\n",
    "# B和C是亲戚,确认说\"ok\"\n",
    "# A和C会是什么关系,开始推理\n",
    "\n",
    "# template = LangchainMiniPromptTemplate('''历史记录:{history}\n",
    "# B和C是什么关系，开始推理\"\n",
    "# ''')\n",
    "\n",
    "#template = LangchainMiniPromptTemplate(template_player_role)\n",
    "#prompt = template.format(input=\"你是狼人，第一个夜晚如何行动?\")\n",
    "\n",
    "agent = LangchainMini(model_id=\"anthropic.claude-3-sonnet-20240229-v1:0\", stream=True)\n",
    "memory = LangchainMiniMemory(k=1, llm=agent)\n",
    "llm = LangchainMini(model_id=\"anthropic.claude-3-sonnet-20240229-v1:0\", stream=True, memory=memory)\n",
    "# llm.System(\"Answer the question in Japanese.\")\n",
    "\n",
    "templates = ['{history} A和C是同学,确认说\"ok\"', '{history} B和C是亲戚,确认说\"ok\"', '{history} A和C会是什么关系,开始推理']\n",
    "for template in templates:\n",
    "    _template = LangchainMiniPromptTemplate(template)\n",
    "    prompt = _template.format()\n",
    "    llm.invoke(prompt)"
   ]
  },
  {
   "cell_type": "code",
   "execution_count": null,
   "id": "6e5ea165-99de-4c75-ba4d-5aeac562cef3",
   "metadata": {
    "tags": []
   },
   "outputs": [],
   "source": [
    "from shared.GameAssistant import GameAssistant\n",
    "from shared.PeTemplates import *\n",
    "\n",
    "#ga = GameAssistant(template_assistant_role, None)\n",
    "\n",
    "#ga.DoAnswer(\"总结下内容\")\n",
    "\n",
    "# print(werewolf_command_v1)\n",
    "\n",
    "# print(template_wolf_role)\n",
    "\n",
    "# print(template_prophet_role)\n",
    "\n",
    "# print(template_player_role)\n",
    "\n",
    "# LoadPlayerPrompts()\n",
    "\n",
    "# print(roles_dict)\n",
    "\n",
    "def sort_players_by_role(players):\n",
    "    # 定义角色优先级字典\n",
    "    role_priorities = {\n",
    "        \"狼人\": 1,\n",
    "        \"预言家\": 2,\n",
    "        \"女巫\": 3,\n",
    "        \"村民\": 4\n",
    "    }\n",
    "\n",
    "    # 根据角色优先级对玩家列表进行排序\n",
    "    sorted_players = sorted(players, key=lambda player: role_priorities.get(player[\"身份\"], 5))\n",
    "\n",
    "    return sorted_players\n",
    "\n",
    "players = [\n",
    "    {\"名字\": \"张三\", \"身份\": \"狼人\"},\n",
    "    {\"名字\": \"李四\", \"身份\": \"村民\"},\n",
    "    {\"名字\": \"王五\", \"身份\": \"预言家\"},\n",
    "    {\"名字\": \"赵六\", \"身份\": \"女巫\"},\n",
    "    {\"名字\": \"钱七\", \"身份\": \"村民\"}\n",
    "]\n",
    "\n",
    "sorted_players = sort_players_by_role(players)\n",
    "print(sorted_players)"
   ]
  },
  {
   "cell_type": "code",
   "execution_count": null,
   "id": "5d2db6d6-1b1a-41af-9bf3-2d7ed32554a4",
   "metadata": {
    "tags": []
   },
   "outputs": [],
   "source": [
    "from shared.GameServer import GameServer\n",
    "\n",
    "GS = GameServer()\n",
    "GS.Run(\"0.0.0.0\", 8000)\n"
   ]
  },
  {
   "cell_type": "code",
   "execution_count": null,
   "id": "6e4b2928-3d3c-4a7e-8a13-52d15e8154a6",
   "metadata": {},
   "outputs": [],
   "source": [
    "from shared.GamePlayer import GamePlayer\n",
    "from shared.GameMaster import GameMaster\n",
    "from shared.PeTemplates import *\n",
    "LoadPlayerPrompts()\n",
    "GM = GameMaster(1, False)\n",
    "for player in roles_dict[\"players\"]:\n",
    "    _player = GamePlayer(player, GM)\n",
    "    \n",
    "    _player.DoPlanning(game_config_dict[\"player\"][\"action_plan_night\"], 1)\n"
   ]
  },
  {
   "cell_type": "code",
   "execution_count": null,
   "id": "3f0f8075-bddd-458d-845b-d498bd72ed15",
   "metadata": {
    "tags": []
   },
   "outputs": [
    {
     "name": "stderr",
     "output_type": "stream",
     "text": [
      "04/17/2024 11:14:29 AM \t===== P1:存活,P2:存活,P3:存活,P4:存活,P5:存活,P6:存活,P7:存活,P8:淘汰 ResetGame =====\n",
      "04/17/2024 11:14:29 AM P1 is 预言家\n",
      "04/17/2024 11:14:29 AM Invoking: anthropic.claude-3-sonnet-20240229-v1:0\n",
      "04/17/2024 11:14:29 AM Invoking: anthropic.claude-3-sonnet-20240229-v1:0\n",
      "04/17/2024 11:14:29 AM P2 is 女巫\n",
      "04/17/2024 11:14:29 AM Invoking: anthropic.claude-3-sonnet-20240229-v1:0\n",
      "04/17/2024 11:14:29 AM Invoking: anthropic.claude-3-sonnet-20240229-v1:0\n",
      "04/17/2024 11:14:29 AM P3 is 狼人\n",
      "04/17/2024 11:14:29 AM Invoking: anthropic.claude-3-sonnet-20240229-v1:0\n",
      "04/17/2024 11:14:29 AM Invoking: anthropic.claude-3-sonnet-20240229-v1:0\n",
      "04/17/2024 11:14:29 AM P4 is 村民\n",
      "04/17/2024 11:14:29 AM Invoking: anthropic.claude-3-sonnet-20240229-v1:0\n",
      "04/17/2024 11:14:29 AM Invoking: anthropic.claude-3-sonnet-20240229-v1:0\n",
      "04/17/2024 11:14:29 AM P5 is 村民\n",
      "04/17/2024 11:14:29 AM Invoking: anthropic.claude-3-sonnet-20240229-v1:0\n",
      "04/17/2024 11:14:29 AM Invoking: anthropic.claude-3-sonnet-20240229-v1:0\n",
      "04/17/2024 11:14:29 AM P6 is 狼人\n",
      "04/17/2024 11:14:29 AM Invoking: anthropic.claude-3-sonnet-20240229-v1:0\n",
      "04/17/2024 11:14:29 AM Invoking: anthropic.claude-3-sonnet-20240229-v1:0\n",
      "04/17/2024 11:14:29 AM P7 is 村民\n",
      "04/17/2024 11:14:29 AM Invoking: anthropic.claude-3-sonnet-20240229-v1:0\n",
      "04/17/2024 11:14:29 AM Invoking: anthropic.claude-3-sonnet-20240229-v1:0\n",
      "04/17/2024 11:14:29 AM P8 is 村民\n",
      "04/17/2024 11:14:29 AM Invoking: anthropic.claude-3-sonnet-20240229-v1:0\n",
      "04/17/2024 11:14:29 AM Invoking: anthropic.claude-3-sonnet-20240229-v1:0\n",
      "04/17/2024 11:14:29 AM \t===== P1:存活,P2:存活,P3:存活,P4:存活,P5:存活,P6:存活,P7:存活,P8:存活 RunGame =====\n",
      "04/17/2024 11:14:29 AM \t===== input_tokens: 0 output_tokens 0 ======\n",
      "04/17/2024 11:14:29 AM \t===== elapsed_time: 0.13776922225952148 ======\n",
      "04/17/2024 11:14:29 AM \t===== NIGHT-1 PreAction ======\n",
      "04/17/2024 11:14:29 AM \t===== NIGHT-1 DoAction ======\n",
      "04/17/2024 11:14:29 AM \t\t******** DoMemory NIGHT-1 P3 ********\n",
      "04/17/2024 11:14:34 AM \t\t******** DoAnswer NIGHT-1 P3 ********\n",
      "04/17/2024 11:14:34 AM \tQUESTION: 目前场上玩家信息:P1:存活,P2:存活,P3:存活,P4:存活,P5:存活,P6:存活,P7:存活,P8:存活.记住，你支持的玩家是P3, 身份是狼人, 性格为组织者.接下来你必须通过一步一步思考决策进行这个游戏.本阵营玩家为:P3,P6.现在是第1天夜晚，该如何行动?\n",
      "04/17/2024 11:14:34 AM Found credentials from IAM Role: BaseNotebookInstanceEc2InstanceRole\n",
      "04/17/2024 11:14:34 AM HTTP Request: POST https://bedrock-runtime.us-east-1.amazonaws.com/model/anthropic.claude-3-sonnet-20240229-v1:0/invoke-with-response-stream \"HTTP/1.1 200 OK\"\n"
     ]
    },
    {
     "name": "stdout",
     "output_type": "stream",
     "text": [
      "Tought: 作为狼人阵营的组织者,我需要谨慎行动,制定周密的策略。首先要与队友P6达成共识,确保统一投票目标。我们应该针对那些可能是预言家或女巫的玩家先行出击,削弱好人阵营的力量。同时也要注意不被其他玩家识破身份。最佳策略或许是先杀掉一名普通村民,以免过于明显引起怀疑。\n",
      "\n",
      "Action: WolfVote\n",
      "Action Input: agent=\"P3\", target=\"P8\"  \n",
      "Final Answer: {\"action\": \"WolfVote\", \"agent\": \"P3\", \"target\": \"P8\"}"
     ]
    },
    {
     "name": "stderr",
     "output_type": "stream",
     "text": [
      "04/17/2024 11:14:40 AM \t\t******** DoValidate NIGHT-1 P3 3********\n",
      "04/17/2024 11:14:40 AM \t\t DoValidate result: ['{\"action\": \"WolfVote\", \"agent\": \"P3\", \"target\": \"P8\"}']\n",
      "04/17/2024 11:14:40 AM \t\t******** DoAction NIGHT-1 P3 ********\n",
      "04/17/2024 11:14:40 AM \n",
      " [ROUND ACTION]={'time': 'NIGHT-1', 'player': 'P3', 'status': 1, 'role': '狼人', 'character': '组织者', 'response': ['{\"action\": \"WolfVote\", \"agent\": \"P3\", \"target\": \"P8\"}']}\n",
      "\n",
      "04/17/2024 11:14:43 AM \t\t******** DoMemory NIGHT-1 P6 ********\n",
      "04/17/2024 11:14:43 AM ['{\"time\": \"NIGHT-1\", \"player\": \"P3\", \"status\": 1, \"response\": {\"action\": \"WolfVote\", \"agent\": \"P3\", \"target\": \"P8\", \"action_time\": \"NIGHT-1\"}}']\n",
      "04/17/2024 11:14:43 AM Found credentials from IAM Role: BaseNotebookInstanceEc2InstanceRole\n",
      "04/17/2024 11:14:43 AM HTTP Request: POST https://bedrock-runtime.us-east-1.amazonaws.com/model/anthropic.claude-3-sonnet-20240229-v1:0/invoke-with-response-stream \"HTTP/1.1 200 OK\"\n"
     ]
    },
    {
     "name": "stdout",
     "output_type": "stream",
     "text": [
      "第一晚,狼人P3投票杀死了P8。女巫有机会救活P8或者毒死另一名玩家。预言家可以查验一名玩家的身份。其他村民在夜间无法行动。"
     ]
    },
    {
     "name": "stderr",
     "output_type": "stream",
     "text": [
      "04/17/2024 11:14:52 AM \t\t******** DoAnswer NIGHT-1 P6 ********\n",
      "04/17/2024 11:14:52 AM \tQUESTION: 目前场上玩家信息:P1:存活,P2:存活,P3:存活,P4:存活,P5:存活,P6:存活,P7:存活,P8:存活.记住，你支持的玩家是P6, 身份是狼人, 性格为过激型.接下来你必须通过一步一步思考决策进行这个游戏.本阵营玩家为:P3,P6.现在是第1天夜晚，该如何行动?\n",
      "04/17/2024 11:14:52 AM Found credentials from IAM Role: BaseNotebookInstanceEc2InstanceRole\n",
      "04/17/2024 11:14:52 AM HTTP Request: POST https://bedrock-runtime.us-east-1.amazonaws.com/model/anthropic.claude-3-sonnet-20240229-v1:0/invoke-with-response-stream \"HTTP/1.1 200 OK\"\n"
     ]
    },
    {
     "name": "stdout",
     "output_type": "stream",
     "text": [
      "Thought: 作为过激型狼人P6,我应该继续消灭好人,不让好人占据优势。我应该与同伙P3达成共识,投票杀死另一名可疑的好人村民。同时要小心预言家和女巫的行动,他们可能会识破我们并反击。\n",
      "\n",
      "Action: WolfVote\n",
      "Action Input: {\"agent\": \"P6\", \"target\": \"P2\"}  \n",
      "Final Answer: {\"action\": \"WolfVote\", \"agent\": \"P6\", \"target\": \"P2\"}"
     ]
    },
    {
     "name": "stderr",
     "output_type": "stream",
     "text": [
      "04/17/2024 11:14:55 AM \t\t******** DoValidate NIGHT-1 P6 3********\n",
      "04/17/2024 11:14:55 AM \t\t DoValidate result: ['{\"agent\": \"P6\", \"target\": \"P2\"}', '{\"action\": \"WolfVote\", \"agent\": \"P6\", \"target\": \"P2\"}']\n",
      "04/17/2024 11:14:55 AM \t\t******** DoAction NIGHT-1 P6 ********\n",
      "04/17/2024 11:14:55 AM \n",
      " [ROUND ACTION]={'time': 'NIGHT-1', 'player': 'P6', 'status': 1, 'role': '狼人', 'character': '过激型', 'response': ['{\"agent\": \"P6\", \"target\": \"P2\"}', '{\"action\": \"WolfVote\", \"agent\": \"P6\", \"target\": \"P2\"}']}\n",
      "\n",
      "04/17/2024 11:14:58 AM \t\t******** DoMemory NIGHT-1 P1 ********\n",
      "04/17/2024 11:15:03 AM \t\t******** DoAnswer NIGHT-1 P1 ********\n",
      "04/17/2024 11:15:03 AM \tQUESTION: 目前场上玩家信息:P1:存活,P2:存活,P3:存活,P4:存活,P5:存活,P6:存活,P7:存活,P8:存活.记住，你支持的玩家是P1, 身份是预言家, 性格为独立思考.接下来你必须通过一步一步思考决策进行这个游戏.现在是第1天夜晚，该如何行动?\n",
      "04/17/2024 11:15:03 AM Found credentials from IAM Role: BaseNotebookInstanceEc2InstanceRole\n",
      "04/17/2024 11:15:04 AM HTTP Request: POST https://bedrock-runtime.us-east-1.amazonaws.com/model/anthropic.claude-3-sonnet-20240229-v1:0/invoke-with-response-stream \"HTTP/1.1 200 OK\"\n"
     ]
    },
    {
     "name": "stdout",
     "output_type": "stream",
     "text": [
      "Tought: 作为预言家,我需要合理利用查验身份的机会来获取关键信息。查验可疑玩家的身份有助于我在白天讨论时指出狼人,但也需要权衡查验对象。首先我应该排除掉自己比较信任的玩家,把注意力集中在行为较为可疑的玩家身上。我会密切关注白天讨论时各人的言行举止,对可疑程度较高的玩家进行查验。\n",
      "\n",
      "Action: ProphetCheck\n",
      "Action Input: agent=\"P1\", target=\"P4\"\n",
      "Final Answer: {\"action\": \"ProphetCheck\", \"agent\": \"P1\", \"target\": \"P4\"}"
     ]
    },
    {
     "name": "stderr",
     "output_type": "stream",
     "text": [
      "04/17/2024 11:15:08 AM \t\t******** DoValidate NIGHT-1 P1 3********\n",
      "04/17/2024 11:15:08 AM \t\t DoValidate result: ['{\"action\": \"ProphetCheck\", \"agent\": \"P1\", \"target\": \"P4\"}']\n",
      "04/17/2024 11:15:08 AM \t\t******** DoAction NIGHT-1 P1 ********\n",
      "04/17/2024 11:15:08 AM {'NIGHT-1': {'P4': '村民'}}\n",
      "04/17/2024 11:15:08 AM \n",
      " [ROUND ACTION]={'time': 'NIGHT-1', 'player': 'P1', 'status': 1, 'role': '预言家', 'character': '独立思考', 'response': ['{\"action\": \"ProphetCheck\", \"agent\": \"P1\", \"target\": \"P4\"}']}\n",
      "\n",
      "04/17/2024 11:15:11 AM \t\t******** DoMemory NIGHT-1 P2 ********\n",
      "04/17/2024 11:15:16 AM \t\t******** DoAnswer NIGHT-1 P2 ********\n",
      "04/17/2024 11:15:16 AM \tQUESTION: 目前场上玩家信息:P1:存活,P2:存活,P3:存活,P4:存活,P5:存活,P6:存活,P7:存活,P8:存活.记住，你支持的玩家是P2, 身份是女巫, 性格为腼腆型.接下来你必须通过一步一步思考决策进行这个游戏.药水道具状态: 毒药1,解药1. 现在是第1天夜晚，该如何行动?\n",
      "04/17/2024 11:15:16 AM Found credentials from IAM Role: BaseNotebookInstanceEc2InstanceRole\n",
      "04/17/2024 11:15:16 AM HTTP Request: POST https://bedrock-runtime.us-east-1.amazonaws.com/model/anthropic.claude-3-sonnet-20240229-v1:0/invoke-with-response-stream \"HTTP/1.1 200 OK\"\n"
     ]
    },
    {
     "name": "stdout",
     "output_type": "stream",
     "text": [
      "Tought: 作为一个腼腆的女巫,我应该保持低调,不引起别人的注意。第一晚我最好什么都不做,因为现在还不清楚谁是狼人。我应该耐心等待,观察白天的讨论,看看能不能从中发现一些线索。现在草率使用毒药或解药都有很大风险,不值得冒这个险。\n",
      "\n",
      "Action: Pass\n",
      "Action Input: agent=\"P6\"\n",
      "Final Answer: {\"action\": \"Pass\", \"agent\": \"P6\"}"
     ]
    },
    {
     "name": "stderr",
     "output_type": "stream",
     "text": [
      "04/17/2024 11:15:20 AM \t\t******** DoValidate NIGHT-1 P2 3********\n",
      "04/17/2024 11:15:20 AM \t\t DoValidate result: ['{\"action\": \"Pass\", \"agent\": \"P6\"}']\n",
      "04/17/2024 11:15:20 AM \t\t******** DoAction NIGHT-1 P2 ********\n",
      "04/17/2024 11:15:20 AM \n",
      " [ROUND ACTION]={'time': 'NIGHT-1', 'player': 'P2', 'status': 1, 'role': '女巫', 'character': '腼腆型', 'response': ['{\"action\": \"Pass\", \"agent\": \"P6\"}']}\n",
      "\n",
      "04/17/2024 11:15:23 AM \t===== NIGHT-1 PostAction ======\n",
      "04/17/2024 11:15:23 AM 上轮投票失败，这次只能投P8,P2玩家中一人\n",
      "04/17/2024 11:15:23 AM 上轮投票失败，这次只能投P8,P2玩家中一人\n",
      "04/17/2024 11:15:23 AM \t====== 时间NIGHT-1, 狼人没有统一选择, 夜晚必须要投出一名玩家.\n",
      "04/17/2024 11:15:23 AM \t===== NIGHT-1 DoAction ======\n",
      "04/17/2024 11:15:23 AM \t\t******** DoMemory NIGHT-1 P3 ********\n",
      "04/17/2024 11:15:28 AM \t\t******** DoAnswer NIGHT-1 P3 ********\n",
      "04/17/2024 11:15:28 AM \tQUESTION: 目前场上玩家信息:P1:存活,P2:存活,P3:存活,P4:存活,P5:存活,P6:存活,P7:存活,P8:存活.记住，你支持的玩家是P3, 身份是狼人, 性格为组织者.接下来你必须通过一步一步思考决策进行这个游戏.本阵营玩家为:P3,P6.现在是第1天夜晚，该如何行动?\n",
      "04/17/2024 11:15:28 AM Found credentials from IAM Role: BaseNotebookInstanceEc2InstanceRole\n",
      "04/17/2024 11:15:28 AM HTTP Request: POST https://bedrock-runtime.us-east-1.amazonaws.com/model/anthropic.claude-3-sonnet-20240229-v1:0/invoke-with-response-stream \"HTTP/1.1 200 OK\"\n"
     ]
    },
    {
     "name": "stdout",
     "output_type": "stream",
     "text": [
      "Tought: 既然上一轮投票失败,我们需要重新评估目标。P8作为普通村民,杀掉他风险较小,但对好人阵营影响也不太大。相比之下,杀掉P2可能会造成更大打击。不过我们需要小心,不能将自己的身份暴露得太明显。或许可以先杀P8,以掩人耳目,下一轮再对付P2。\n",
      "\n",
      "Action: WolfVote\n",
      "Action Input: agent=\"P3\", target=\"P8\"\n",
      "Final Answer: {\"action\": \"WolfVote\", \"agent\": \"P3\", \"target\": \"P8\"}"
     ]
    },
    {
     "name": "stderr",
     "output_type": "stream",
     "text": [
      "04/17/2024 11:15:32 AM \t\t******** DoValidate NIGHT-1 P3 3********\n",
      "04/17/2024 11:15:32 AM \t\t DoValidate result: ['{\"action\": \"WolfVote\", \"agent\": \"P3\", \"target\": \"P8\"}']\n",
      "04/17/2024 11:15:32 AM \t\t******** DoAction NIGHT-1 P3 ********\n",
      "04/17/2024 11:15:32 AM \n",
      " [ROUND ACTION]={'time': 'NIGHT-1', 'player': 'P3', 'status': 1, 'role': '狼人', 'character': '组织者', 'response': ['{\"action\": \"WolfVote\", \"agent\": \"P3\", \"target\": \"P8\"}']}\n",
      "\n",
      "04/17/2024 11:15:35 AM \t\t******** DoMemory NIGHT-1 P6 ********\n",
      "04/17/2024 11:15:35 AM ['{\"time\": \"NIGHT-1\", \"player\": \"P3\", \"status\": 1, \"response\": {\"action\": \"WolfVote\", \"agent\": \"P3\", \"target\": \"P8\", \"action_time\": \"NIGHT-1\"}}']\n",
      "04/17/2024 11:15:35 AM Found credentials from IAM Role: BaseNotebookInstanceEc2InstanceRole\n",
      "04/17/2024 11:15:36 AM HTTP Request: POST https://bedrock-runtime.us-east-1.amazonaws.com/model/anthropic.claude-3-sonnet-20240229-v1:0/invoke-with-response-stream \"HTTP/1.1 200 OK\"\n"
     ]
    },
    {
     "name": "stdout",
     "output_type": "stream",
     "text": [
      "第一晚,狼人达成一致,投票杀死村民P8。"
     ]
    },
    {
     "name": "stderr",
     "output_type": "stream",
     "text": [
      "04/17/2024 11:15:41 AM \t\t******** DoAnswer NIGHT-1 P6 ********\n",
      "04/17/2024 11:15:41 AM \tQUESTION: 目前场上玩家信息:P1:存活,P2:存活,P3:存活,P4:存活,P5:存活,P6:存活,P7:存活,P8:存活.记住，你支持的玩家是P6, 身份是狼人, 性格为过激型.接下来你必须通过一步一步思考决策进行这个游戏.本阵营玩家为:P3,P6.现在是第1天夜晚，该如何行动?\n",
      "04/17/2024 11:15:41 AM Found credentials from IAM Role: BaseNotebookInstanceEc2InstanceRole\n",
      "04/17/2024 11:15:42 AM HTTP Request: POST https://bedrock-runtime.us-east-1.amazonaws.com/model/anthropic.claude-3-sonnet-20240229-v1:0/invoke-with-response-stream \"HTTP/1.1 200 OK\"\n"
     ]
    },
    {
     "name": "stdout",
     "output_type": "stream",
     "text": [
      "Thought: 作为过激型狼人P6,昨晚我们已经成功杀死了一名"
     ]
    }
   ],
   "source": [
    "from shared.GameMaster import GameMaster\n",
    "from shared.PeTemplates import *\n",
    "\n",
    "GM = GameMaster(1, 50, False)\n",
    "GM.ResetGame()\n",
    "GM.RunGame()\n",
    "GM.EndGame()"
   ]
  },
  {
   "cell_type": "code",
   "execution_count": null,
   "id": "4b9a864d-e0f0-4fbf-b7c8-6d79801118a8",
   "metadata": {},
   "outputs": [],
   "source": []
  }
 ],
 "metadata": {
  "kernelspec": {
   "display_name": "conda_pytorch_p310",
   "language": "python",
   "name": "conda_pytorch_p310"
  },
  "language_info": {
   "codemirror_mode": {
    "name": "ipython",
    "version": 3
   },
   "file_extension": ".py",
   "mimetype": "text/x-python",
   "name": "python",
   "nbconvert_exporter": "python",
   "pygments_lexer": "ipython3",
   "version": "3.10.13"
  }
 },
 "nbformat": 4,
 "nbformat_minor": 5
}
