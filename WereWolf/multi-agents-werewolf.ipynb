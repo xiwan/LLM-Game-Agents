{
 "cells": [
  {
   "cell_type": "code",
   "execution_count": null,
   "id": "a38bc454-75d5-4dc7-8b0d-21f1ece76983",
   "metadata": {
    "tags": []
   },
   "outputs": [],
   "source": [
    "# dependencies\n",
    "!pip install boto3>=1.28.59\n",
    "!pip install anthropic"
   ]
  },
  {
   "cell_type": "code",
   "execution_count": null,
   "id": "8b371c4e-8d7a-48a6-ac22-47619a21ed14",
   "metadata": {
    "tags": []
   },
   "outputs": [],
   "source": [
    "# global imports\n",
    "import json\n",
    "import os\n",
    "import sys\n",
    "import logging\n",
    "import boto3\n",
    "import botocore\n",
    "\n",
    "logger = logging.getLogger(__name__)\n",
    "\n",
    "module_path = \"..\"\n",
    "sys.path.append(os.path.abspath(module_path))"
   ]
  },
  {
   "cell_type": "code",
   "execution_count": null,
   "id": "d72774f1-bec2-4be9-b89c-1cdf8da00d6b",
   "metadata": {
    "tags": []
   },
   "outputs": [],
   "source": [
    "werewolf_rule_v1 = \"\"\"\n",
    "1. 游戏分坏人(狼人)和好人(村民+预言家)两大阵营,他们的目标为:\n",
    "- 坏人阵营只有狼人\n",
    "- 好人阵营有村民和预言家\n",
    "- 坏人阵营:消灭所有好人, 或者保证坏人数目大于好人数目\n",
    "- 好人阵营:消灭所有坏人, 或者保证好人数目大于坏人数目\n",
    "\n",
    "2. 游戏分白天和晚上两个阶段交替进行:\n",
    "- 晚上狼人睁眼统一投票杀死一名玩家\n",
    "- 晚上预言家只能查验一名玩家身份\n",
    "- 晚上普通村民无法行动\n",
    "- 白天分为讨论和投票两环节\n",
    "- 白天在讨论环节，每个玩家必须参与讨论\n",
    "- 白天在投票环节，每个玩家必须投票或者放弃\n",
    "\n",
    "\"\"\"\n",
    "\n",
    "werewolf_command_v1 = \"\"\"\n",
    "- WolfVote: 夜晚投票(狼人专属行动),参数: target=存活玩家\n",
    "- ProphetCheck: 夜晚查验(预言家专属行动), 参数: target=存活玩家\n",
    "- PlayerDoubt: 白天怀疑(所有玩家白天可选行动, 非投票), 参数: target=存活玩家 \n",
    "- PlayerVote: 白天投票, 参数: target=存活玩家 \n",
    "- Debate: 白天讨论, 参数: content=思考/理由 \n",
    "- GetAllPlayersName: 玩家信息, 参数: 无 \n",
    "- DeathWords: 死亡遗言, 参数: content=给予玩家线索\n",
    "- Pass: 玩家弃权参数: 无 \n",
    "\"\"\"\n",
    "\n",
    "template_player_role = \"\"\"你是资深的社交游戏玩家, 熟悉《狼人杀》游戏规则:\n",
    "<game_rules>\n",
    "{game_rule}\n",
    "</game_rules>\n",
    "\n",
    "你熟悉该游戏所有命令:\n",
    "<commands>\n",
    "{commands}\n",
    "</commands>\n",
    "\n",
    "<reflections>\n",
    "- 按照游戏规则，第一个夜晚死亡的一定是村民或者预言家，狼人没必要第一晚上自杀\n",
    "- 看完P3玩家昨天白天投票，明显感觉他在混淆是非，很有可能在给狼人分票\n",
    "- 平民玩家由于信息缺失，所以狼人要尽量引导他们去集火其他人\n",
    "- 第一个夜晚所有的行动都是随机的\n",
    "- 作为第一个死亡的玩家，其实信息有限，我就靠第六感推理...\n",
    "</reflections>\n",
    "\n",
    "<references>\n",
    "- {{\"action\": \"Pass\"}}\n",
    "- {{\"action\": \"WolfVote\", \"target\": \"小明\"}}\n",
    "- {{\"action\": \"ProphetCheck\", \"target\": \"P1\"}}\n",
    "- {{\"action\": \"PlayerVote\", \"target\": \"老王\"}}\n",
    "- {{\"action\": \"Debate\", \"content\": \"我的推理为xx是狼，原因是...\"}}\n",
    "- {{\"action\": \"DeathWords\", \"content\": \"我觉得xx有很大的嫌疑, 原因是...\"}}\n",
    "</references>\n",
    "\n",
    "历史信息:\n",
    "<history>\n",
    "{history}\n",
    "</history>\n",
    "\n",
    "记住，你支持的玩家是 {nickname}, 身份是 {role}, 性格为 {character}, 必须帮助玩家进行这个游戏\n",
    "接下来你的目的是: 通过一步一步思考决策引导游戏往有利于的方向进行, 最终赢得比赛. \n",
    "\n",
    "决策满足下面要求:\n",
    "- 内容不要罗嗦, 不要超过50字数限制,少讲废话, 突出重点\n",
    "- 判断场上信息真伪, 运用辩解,对抗,欺骗,伪装,坦白等等任意策略来做决策\n",
    "- 决策分为两类:思考或行动\n",
    "- 思考:逐步思考,判断信息真伪,分析游戏形势等等,参考 <reflections> 选择合适的输出\n",
    "- 行动:参考<references>按照json字符串格式输出,必须包含action key, action必须在<commands>中选择\n",
    "\n",
    "\n",
    "{input}\n",
    "\"\"\".replace(\"{game_rule}\", werewolf_rule_v1).replace(\"{commands}\", werewolf_command_v1)\n",
    "\n",
    "print(template_player_role)"
   ]
  },
  {
   "cell_type": "code",
   "execution_count": null,
   "id": "93a15f3d-955d-4f78-8936-e4fa5bd638bd",
   "metadata": {
    "tags": []
   },
   "outputs": [],
   "source": [
    "from shared.LangchainMini.LangchainMini import LangchainMini, LangchainMiniMemory, LangchainMiniPromptTemplate\n",
    "\n",
    "# A和C是同学,确认说\"ok\"\n",
    "# B和C是亲戚,确认说\"ok\"\n",
    "# A和C会是什么关系,开始推理\n",
    "\n",
    "# template = LangchainMiniPromptTemplate('''历史记录:{history}\n",
    "# B和C是什么关系，开始推理\"\n",
    "# ''')\n",
    "\n",
    "#template = LangchainMiniPromptTemplate(template_player_role)\n",
    "#prompt = template.format(input=\"你是狼人，第一个夜晚如何行动?\")\n",
    "\n",
    "agent = LangchainMini(model_id=\"anthropic.claude-3-sonnet-20240229-v1:0\", stream=True)\n",
    "memory = LangchainMiniMemory(k=10, llm=agent)\n",
    "llm = LangchainMini(model_id=\"anthropic.claude-3-sonnet-20240229-v1:0\", stream=True, memory=memory)\n",
    "# llm.System(\"Answer the question in Japanese.\")\n",
    "\n",
    "templates = ['{history} A和C是同学,确认说\"ok\"', '{history} B和C是亲戚,确认说\"ok\"', '{history} A和C会是什么关系,开始推理']\n",
    "for template in templates:\n",
    "    _template = LangchainMiniPromptTemplate(template)\n",
    "    prompt = _template.format()\n",
    "    llm.invoke(prompt)"
   ]
  },
  {
   "cell_type": "code",
   "execution_count": null,
   "id": "6e5ea165-99de-4c75-ba4d-5aeac562cef3",
   "metadata": {
    "tags": []
   },
   "outputs": [],
   "source": [
    "from shared.GameAssistant import GameAssistant\n",
    "from shared.PeTemplates import template_assistant_role\n",
    "\n",
    "ga = GameAssistant(template_assistant_role, None)\n",
    "\n",
    "ga.DoAnswer(\"总结下内容\")"
   ]
  },
  {
   "cell_type": "code",
   "execution_count": null,
   "id": "6e4b2928-3d3c-4a7e-8a13-52d15e8154a6",
   "metadata": {},
   "outputs": [],
   "source": [
    "from shared.GamePlayer import GamePlayer\n",
    "from shared.GameMaster import GameMaster\n",
    "from shared.PeTemplates import *\n",
    "\n",
    "GM = GameMaster(1, False)\n",
    "for player in roles_dict[\"players\"]:\n",
    "    _player = GamePlayer(template_player_role, player, GM)\n",
    "    \n",
    "    _player.DoPlanning(game_config_dict[\"player\"][\"action_plan_night\"], 1)\n"
   ]
  },
  {
   "cell_type": "code",
   "execution_count": null,
   "id": "3f0f8075-bddd-458d-845b-d498bd72ed15",
   "metadata": {
    "tags": []
   },
   "outputs": [
    {
     "name": "stderr",
     "output_type": "stream",
     "text": [
      "03/06/2024 04:33:20 PM \t===== P1:存活,P2:存活,P3:存活,P4:存活,P5:存活,P6:存活,P7:存活,P8:存活 ResetGame =====\n",
      "03/06/2024 04:33:20 PM P1 is 预言家\n",
      "03/06/2024 04:33:20 PM Invoking: anthropic.claude-3-sonnet-20240229-v1:0\n",
      "03/06/2024 04:33:20 PM Invoking: anthropic.claude-3-sonnet-20240229-v1:0\n",
      "03/06/2024 04:33:20 PM P2 is 村民\n",
      "03/06/2024 04:33:20 PM Invoking: anthropic.claude-3-sonnet-20240229-v1:0\n",
      "03/06/2024 04:33:20 PM Invoking: anthropic.claude-3-sonnet-20240229-v1:0\n",
      "03/06/2024 04:33:20 PM P3 is 狼人\n",
      "03/06/2024 04:33:20 PM Invoking: anthropic.claude-3-sonnet-20240229-v1:0\n",
      "03/06/2024 04:33:20 PM Invoking: anthropic.claude-3-sonnet-20240229-v1:0\n",
      "03/06/2024 04:33:20 PM P4 is 村民\n",
      "03/06/2024 04:33:20 PM Invoking: anthropic.claude-3-sonnet-20240229-v1:0\n",
      "03/06/2024 04:33:20 PM Invoking: anthropic.claude-3-sonnet-20240229-v1:0\n",
      "03/06/2024 04:33:20 PM P5 is 村民\n",
      "03/06/2024 04:33:20 PM Invoking: anthropic.claude-3-sonnet-20240229-v1:0\n",
      "03/06/2024 04:33:20 PM Invoking: anthropic.claude-3-sonnet-20240229-v1:0\n",
      "03/06/2024 04:33:20 PM P6 is 狼人\n",
      "03/06/2024 04:33:20 PM Invoking: anthropic.claude-3-sonnet-20240229-v1:0\n",
      "03/06/2024 04:33:20 PM Invoking: anthropic.claude-3-sonnet-20240229-v1:0\n",
      "03/06/2024 04:33:20 PM P7 is 村民\n",
      "03/06/2024 04:33:20 PM Invoking: anthropic.claude-3-sonnet-20240229-v1:0\n",
      "03/06/2024 04:33:20 PM Invoking: anthropic.claude-3-sonnet-20240229-v1:0\n",
      "03/06/2024 04:33:20 PM P8 is 村民\n",
      "03/06/2024 04:33:20 PM Invoking: anthropic.claude-3-sonnet-20240229-v1:0\n",
      "03/06/2024 04:33:20 PM Invoking: anthropic.claude-3-sonnet-20240229-v1:0\n",
      "03/06/2024 04:33:20 PM \t===== P1:存活,P2:存活,P3:存活,P4:存活,P5:存活,P6:存活,P7:存活,P8:存活 RunGame =====\n",
      "03/06/2024 04:33:20 PM \t===== input_tokens: 0 output_tokens 0 ======\n",
      "03/06/2024 04:33:20 PM \t===== elapsed_time: 0.2141401767730713 ======\n",
      "03/06/2024 04:33:20 PM \t===== NIGHT 1 PreAction ======\n",
      "03/06/2024 04:33:20 PM \t===== NIGHT 1 DoAction ======\n",
      "03/06/2024 04:33:20 PM \t\t===== DoMemory NIGHT 1 P1 ======\n",
      "03/06/2024 04:33:20 PM \t\t===== DoAnswer NIGHT 1 P1 ======\n",
      "03/06/2024 04:33:20 PM \tQUESTION: 现在是NIGHT 1,你支持的玩家是P1(预言家)..目前场上玩家:P1:存活,P2:存活,P3:存活,P4:存活,P5:存活,P6:存活,P7:存活,P8:存活(逗号为分割符).现在是第1天夜晚，该如何行动?\n",
      "03/06/2024 04:33:20 PM Found credentials from IAM Role: BaseNotebookInstanceEc2InstanceRole\n",
      "03/06/2024 04:33:21 PM HTTP Request: POST https://bedrock-runtime.us-east-1.amazonaws.com/model/anthropic.claude-3-sonnet-20240229-v1:0/invoke-with-response-stream \"HTTP/1.1 200 OK\"\n"
     ]
    },
    {
     "name": "stdout",
     "output_type": "stream",
     "text": [
      "Thought: 作为预言家,最关键的是要先查验其他玩家的身份,以获取情报。目前场上没有已知狼人,查验一名玩家的身份能为我们的阵营提供有利信息。\n",
      "Action: ProphetCheck\n",
      "Action Input: P2\n",
      "Final Answer: {\"action\": \"ProphetCheck\", \"target\": \"P2\"}"
     ]
    },
    {
     "name": "stderr",
     "output_type": "stream",
     "text": [
      "03/06/2024 04:33:23 PM \t\t===== DoAction NIGHT 1 P1 ======\n",
      "03/06/2024 04:33:23 PM [玩家P1于时间NIGHT 1, 执行动作为:{'action': 'ProphetCheck', 'target': 'P2'}]P2:村民\n",
      "03/06/2024 04:33:23 PM \n",
      " [ROUND ACTION]={'time': 'NIGHT 1', 'player': 'P1', 'status': 1, 'role': '预言家', 'character': '独立思考', 'response': ['{\"action\": \"ProphetCheck\", \"target\": \"P2\"}']}\n",
      "\n",
      "03/06/2024 04:33:23 PM \t\t===== DoMemory NIGHT 1 P3 ======\n",
      "03/06/2024 04:33:23 PM \t\t===== DoAnswer NIGHT 1 P3 ======\n",
      "03/06/2024 04:33:23 PM \tQUESTION: 现在是NIGHT 1,你支持的玩家是P3(狼人,本阵营为:P3,P6).目前场上玩家:P1:存活,P2:存活,P3:存活,P4:存活,P5:存活,P6:存活,P7:存活,P8:存活(逗号为分割符).现在是第1天夜晚，该如何行动?\n",
      "03/06/2024 04:33:23 PM Found credentials from IAM Role: BaseNotebookInstanceEc2InstanceRole\n",
      "03/06/2024 04:33:24 PM HTTP Request: POST https://bedrock-runtime.us-east-1.amazonaws.com/model/anthropic.claude-3-sonnet-20240229-v1:0/invoke-with-response-stream \"HTTP/1.1 200 OK\"\n"
     ]
    },
    {
     "name": "stdout",
     "output_type": "stream",
     "text": [
      "Thought: 作为狼人,我们应该在夜晚选择一个合适的目标进行杀害,削弱村民阵营的力量。同时要注意不能过于明显地暴露自己的身份。我们可以考虑杀害一个比较活跃、言辞犀利的村民,以削弱他们的推理能力。\n",
      "Action: WolfVote\n",
      "Action Input: P2\n",
      "Final Answer: {\"action\": \"WolfVote\", \"target\": \"P2\"}"
     ]
    },
    {
     "name": "stderr",
     "output_type": "stream",
     "text": [
      "03/06/2024 04:33:32 PM \t\t===== DoAction NIGHT 1 P3 ======\n",
      "03/06/2024 04:33:32 PM \n",
      " [ROUND ACTION]={'time': 'NIGHT 1', 'player': 'P3', 'status': 1, 'role': '狼人', 'character': '组织者', 'response': ['{\"action\": \"WolfVote\", \"target\": \"P2\"}']}\n",
      "\n",
      "03/06/2024 04:33:32 PM \t\t===== DoMemory NIGHT 1 P6 ======\n",
      "03/06/2024 04:33:32 PM Found credentials from IAM Role: BaseNotebookInstanceEc2InstanceRole\n",
      "03/06/2024 04:33:32 PM HTTP Request: POST https://bedrock-runtime.us-east-1.amazonaws.com/model/anthropic.claude-3-sonnet-20240229-v1:0/invoke-with-response-stream \"HTTP/1.1 200 OK\"\n"
     ]
    },
    {
     "name": "stdout",
     "output_type": "stream",
     "text": [
      "现状描述:当前为第一晚,共有8名玩家存活。身份分配为2狼人、1预言家、5村民。P3(狼人)投票杀死P2。"
     ]
    },
    {
     "name": "stderr",
     "output_type": "stream",
     "text": [
      "03/06/2024 04:33:35 PM \t\t===== DoAnswer NIGHT 1 P6 ======\n",
      "03/06/2024 04:33:35 PM \tQUESTION: 现在是NIGHT 1,你支持的玩家是P6(狼人,本阵营为:P3,P6).目前场上玩家:P1:存活,P2:存活,P3:存活,P4:存活,P5:存活,P6:存活,P7:存活,P8:存活(逗号为分割符).现在是第1天夜晚，该如何行动?\n",
      "03/06/2024 04:33:35 PM Found credentials from IAM Role: BaseNotebookInstanceEc2InstanceRole\n",
      "03/06/2024 04:33:36 PM HTTP Request: POST https://bedrock-runtime.us-east-1.amazonaws.com/model/anthropic.claude-3-sonnet-20240229-v1:0/invoke-with-response-stream \"HTTP/1.1 200 OK\"\n"
     ]
    },
    {
     "name": "stdout",
     "output_type": "stream",
     "text": [
      "Thought: 作为狼人第一晚我们应该杀掉一个有威胁的角色,比如预言家。但目前对其他玩家身份尚不确定,我们可以先随机杀一个村民,等待白天收集更多信息后再行动。\n",
      "Action: WolfVote\n",
      "Action Input: P1\n",
      "Final Answer: {\"action\": \"WolfVote\", \"target\": \"P1\"}"
     ]
    },
    {
     "name": "stderr",
     "output_type": "stream",
     "text": [
      "03/06/2024 04:33:41 PM \t\t===== DoAction NIGHT 1 P6 ======\n",
      "03/06/2024 04:33:41 PM \n",
      " [ROUND ACTION]={'time': 'NIGHT 1', 'player': 'P6', 'status': 1, 'role': '狼人', 'character': '过激型', 'response': ['{\"action\": \"WolfVote\", \"target\": \"P1\"}']}\n",
      "\n",
      "03/06/2024 04:33:41 PM \t===== NIGHT 1 PostAction ======\n",
      "03/06/2024 04:33:41 PM 上轮投票失败，这次只能投P2,P1玩家中一人\n",
      "03/06/2024 04:33:41 PM 上轮投票失败，这次只能投P2,P1玩家中一人\n",
      "03/06/2024 04:33:41 PM \t====== 时间NIGHT 1, 狼人没有统一选择, 夜晚必须要投出一名玩家.\n",
      "03/06/2024 04:33:41 PM \t===== NIGHT 1 DoAction ======\n",
      "03/06/2024 04:33:41 PM \t\t===== DoMemory NIGHT 1 P1 ======\n",
      "03/06/2024 04:33:41 PM Found credentials from IAM Role: BaseNotebookInstanceEc2InstanceRole\n",
      "03/06/2024 04:33:41 PM HTTP Request: POST https://bedrock-runtime.us-east-1.amazonaws.com/model/anthropic.claude-3-sonnet-20240229-v1:0/invoke-with-response-stream \"HTTP/1.1 200 OK\"\n"
     ]
    },
    {
     "name": "stdout",
     "output_type": "stream",
     "text": [
      "目前8名玩家全部存活,已确认P2为村民身份,夜晚狼人未能达成统一投票,游戏处于平衡状态。"
     ]
    },
    {
     "name": "stderr",
     "output_type": "stream",
     "text": [
      "03/06/2024 04:33:43 PM \t\t===== DoAnswer NIGHT 1 P1 ======\n",
      "03/06/2024 04:33:43 PM \tQUESTION: 现在是NIGHT 1,你支持的玩家是P1(预言家)..目前场上玩家:P1:存活,P2:存活,P3:存活,P4:存活,P5:存活,P6:存活,P7:存活,P8:存活(逗号为分割符).现在是第1天夜晚，该如何行动?\n",
      "03/06/2024 04:33:43 PM Found credentials from IAM Role: BaseNotebookInstanceEc2InstanceRole\n",
      "03/06/2024 04:33:43 PM HTTP Request: POST https://bedrock-runtime.us-east-1.amazonaws.com/model/anthropic.claude-3-sonnet-20240229-v1:0/invoke-with-response-stream \"HTTP/1.1 200 OK\"\n"
     ]
    },
    {
     "name": "stdout",
     "output_type": "stream",
     "text": [
      "Thought: 我已经查验了P2的身份,接下来就是要在白天讨论时利用这个信息,合理推理,引导投票走向。作为预言家,我有责任指引大家做出正确判断。\n",
      "Action: Debate\n",
      "Action Input: 我昨晚查验了P2的身份,P2是狼人。我们今天就先集中讨论怀疑P2,并在投票时将其处决。\n",
      "Final Answer: {\"action\": \"Debate\", \"content\": \"我昨晚查验了P2的身份,P2是狼人。我们今天就先集中讨论怀疑P2,并在投票时将其处决。\"}"
     ]
    },
    {
     "name": "stderr",
     "output_type": "stream",
     "text": [
      "03/06/2024 04:33:48 PM \t\t===== DoAction NIGHT 1 P1 ======\n",
      "03/06/2024 04:33:48 PM \n",
      " [ROUND ACTION]={'time': 'NIGHT 1', 'player': 'P1', 'status': 1, 'role': '预言家', 'character': '独立思考', 'response': ['{\"action\": \"Debate\", \"content\": \"我昨晚查验了P2的身份,P2是狼人。我们今天就先集中讨论怀疑P2,并在投票时将其处决。\"}']}\n",
      "\n",
      "03/06/2024 04:33:48 PM \t\t===== DoMemory NIGHT 1 P3 ======\n",
      "03/06/2024 04:33:48 PM Found credentials from IAM Role: BaseNotebookInstanceEc2InstanceRole\n",
      "03/06/2024 04:33:48 PM HTTP Request: POST https://bedrock-runtime.us-east-1.amazonaws.com/model/anthropic.claude-3-sonnet-20240229-v1:0/invoke-with-response-stream \"HTTP/1.1 200 OK\"\n"
     ]
    },
    {
     "name": "stdout",
     "output_type": "stream",
     "text": [
      "8名玩家存活,包括2狼人、1预言家、5村民。狼人需统一杀死1人,预言家可查验1人身份。"
     ]
    },
    {
     "name": "stderr",
     "output_type": "stream",
     "text": [
      "03/06/2024 04:33:50 PM \t\t===== DoAnswer NIGHT 1 P3 ======\n",
      "03/06/2024 04:33:50 PM \tQUESTION: 现在是NIGHT 1,你支持的玩家是P3(狼人,本阵营为:P3,P6).目前场上玩家:P1:存活,P2:存活,P3:存活,P4:存活,P5:存活,P6:存活,P7:存活,P8:存活(逗号为分割符).现在是第1天夜晚，该如何行动?\n",
      "03/06/2024 04:33:50 PM Found credentials from IAM Role: BaseNotebookInstanceEc2InstanceRole\n",
      "03/06/2024 04:33:50 PM HTTP Request: POST https://bedrock-runtime.us-east-1.amazonaws.com/model/anthropic.claude-3-sonnet-20240229-v1:0/invoke-with-response-stream \"HTTP/1.1 200 OK\"\n"
     ]
    },
    {
     "name": "stdout",
     "output_type": "stream",
     "text": [
      "Thought: 作为狼人,我们应该在夜晚选择一个威胁较小的村民作为目标。杀害一个过于活跃的村民,可能会引起其他村民的怀疑。相反,我们可以考虑杀害一个相对沉默的村民,以减少被发现的风险。\n",
      "Action: WolfVote\n",
      "Action Input: P5\n",
      "Final Answer: {\"action\": \"WolfVote\", \"target\": \"P5\"}"
     ]
    },
    {
     "name": "stderr",
     "output_type": "stream",
     "text": [
      "03/06/2024 04:33:53 PM \t\t===== DoAction NIGHT 1 P3 ======\n",
      "03/06/2024 04:33:53 PM \n",
      " [ROUND ACTION]={'time': 'NIGHT 1', 'player': 'P3', 'status': 1, 'role': '狼人', 'character': '组织者', 'response': ['{\"action\": \"WolfVote\", \"target\": \"P5\"}']}\n",
      "\n",
      "03/06/2024 04:33:53 PM \t\t===== DoMemory NIGHT 1 P6 ======\n",
      "03/06/2024 04:33:53 PM Found credentials from IAM Role: BaseNotebookInstanceEc2InstanceRole\n",
      "03/06/2024 04:33:54 PM HTTP Request: POST https://bedrock-runtime.us-east-1.amazonaws.com/model/anthropic.claude-3-sonnet-20240229-v1:0/invoke-with-response-stream \"HTTP/1.1 200 OK\"\n"
     ]
    },
    {
     "name": "stdout",
     "output_type": "stream",
     "text": [
      "现状描述:当前为第一晚,共有8名玩家存活。身份分配为2狼人、1预言家、5村民。P3(狼人)投票杀死P2。"
     ]
    },
    {
     "name": "stderr",
     "output_type": "stream",
     "text": [
      "03/06/2024 04:33:56 PM \t\t===== DoAnswer NIGHT 1 P6 ======\n",
      "03/06/2024 04:33:56 PM \tQUESTION: 现在是NIGHT 1,你支持的玩家是P6(狼人,本阵营为:P3,P6).目前场上玩家:P1:存活,P2:存活,P3:存活,P4:存活,P5:存活,P6:存活,P7:存活,P8:存活(逗号为分割符).现在是第1天夜晚，该如何行动?\n",
      "03/06/2024 04:33:56 PM Found credentials from IAM Role: BaseNotebookInstanceEc2InstanceRole\n",
      "03/06/2024 04:33:57 PM HTTP Request: POST https://bedrock-runtime.us-east-1.amazonaws.com/model/anthropic.claude-3-sonnet-20240229-v1:0/invoke-with-response-stream \"HTTP/1.1 200 OK\"\n"
     ]
    },
    {
     "name": "stdout",
     "output_type": "stream",
     "text": [
      "Thought: 作为狼人阵营,我们的目标是尽快消灭预言家,避免他们查验出我们的身份。第一晚我们可以随机杀一个村民,混淆视听。但要注意不要暴露狼人身份的线索。\n",
      "Action: WolfVote\n",
      "Action Input: P2  \n",
      "Final Answer: {\"action\": \"WolfVote\", \"target\": \"P2\"}"
     ]
    },
    {
     "name": "stderr",
     "output_type": "stream",
     "text": [
      "03/06/2024 04:34:03 PM \t\t===== DoAction NIGHT 1 P6 ======\n",
      "03/06/2024 04:34:03 PM \n",
      " [ROUND ACTION]={'time': 'NIGHT 1', 'player': 'P6', 'status': 1, 'role': '狼人', 'character': '过激型', 'response': ['{\"action\": \"WolfVote\", \"target\": \"P2\"}']}\n",
      "\n",
      "03/06/2024 04:34:03 PM 上轮投票失败，这次只能投P5,P2玩家中一人\n",
      "03/06/2024 04:34:03 PM 上轮投票失败，这次只能投P5,P2玩家中一人\n",
      "03/06/2024 04:34:03 PM \t====== 时间NIGHT 1, 狼人没有统一选择, 夜晚必须要投出一名玩家.\n",
      "03/06/2024 04:34:03 PM \t===== NIGHT 1 DoAction ======\n",
      "03/06/2024 04:34:03 PM \t\t===== DoMemory NIGHT 1 P1 ======\n",
      "03/06/2024 04:34:03 PM Found credentials from IAM Role: BaseNotebookInstanceEc2InstanceRole\n",
      "03/06/2024 04:34:03 PM HTTP Request: POST https://bedrock-runtime.us-east-1.amazonaws.com/model/anthropic.claude-3-sonnet-20240229-v1:0/invoke-with-response-stream \"HTTP/1.1 200 OK\"\n"
     ]
    },
    {
     "name": "stdout",
     "output_type": "stream",
     "text": [
      "目前8名玩家全部存活,已确认P2为村民身份,夜晚狼人未能达成统一投票,游戏处于平衡状态。"
     ]
    },
    {
     "name": "stderr",
     "output_type": "stream",
     "text": [
      "03/06/2024 04:34:06 PM \t\t===== DoAnswer NIGHT 1 P1 ======\n",
      "03/06/2024 04:34:06 PM \tQUESTION: 现在是NIGHT 1,你支持的玩家是P1(预言家)..目前场上玩家:P1:存活,P2:存活,P3:存活,P4:存活,P5:存活,P6:存活,P7:存活,P8:存活(逗号为分割符).现在是第1天夜晚，该如何行动?\n",
      "03/06/2024 04:34:06 PM Found credentials from IAM Role: BaseNotebookInstanceEc2InstanceRole\n",
      "03/06/2024 04:34:06 PM HTTP Request: POST https://bedrock-runtime.us-east-1.amazonaws.com/model/anthropic.claude-3-sonnet-20240229-v1:0/invoke-with-response-stream \"HTTP/1.1 200 OK\"\n"
     ]
    },
    {
     "name": "stdout",
     "output_type": "stream",
     "text": [
      "Thought: 我已经查验了P2是狼人,白天就要集中力量让大家相信我,共同投票将P2处决。如果P2狡辩,我也要反驳,维护自己的可信度。\n",
      "Action: PlayerDoubt\n",
      "Action Input: P2\n",
      "Final Answer: {\"action\": \"PlayerDoubt\", \"target\": \"P2\"}"
     ]
    },
    {
     "name": "stderr",
     "output_type": "stream",
     "text": [
      "03/06/2024 04:34:11 PM \t\t===== DoAction NIGHT 1 P1 ======\n",
      "03/06/2024 04:34:11 PM \n",
      " [ROUND ACTION]={'time': 'NIGHT 1', 'player': 'P1', 'status': 1, 'role': '预言家', 'character': '独立思考', 'response': ['{\"action\": \"PlayerDoubt\", \"target\": \"P2\"}']}\n",
      "\n",
      "03/06/2024 04:34:11 PM \t\t===== DoMemory NIGHT 1 P3 ======\n",
      "03/06/2024 04:34:11 PM Found credentials from IAM Role: BaseNotebookInstanceEc2InstanceRole\n",
      "03/06/2024 04:34:11 PM HTTP Request: POST https://bedrock-runtime.us-east-1.amazonaws.com/model/anthropic.claude-3-sonnet-20240229-v1:0/invoke-with-response-stream \"HTTP/1.1 200 OK\"\n"
     ]
    },
    {
     "name": "stdout",
     "output_type": "stream",
     "text": [
      "8名玩家存活,包括2狼人、1预言家、5村民。狼人需统一杀死1人,预言家可查验1人身份。"
     ]
    },
    {
     "name": "stderr",
     "output_type": "stream",
     "text": [
      "03/06/2024 04:34:12 PM \t\t===== DoAnswer NIGHT 1 P3 ======\n",
      "03/06/2024 04:34:12 PM \tQUESTION: 现在是NIGHT 1,你支持的玩家是P3(狼人,本阵营为:P3,P6).目前场上玩家:P1:存活,P2:存活,P3:存活,P4:存活,P5:存活,P6:存活,P7:存活,P8:存活(逗号为分割符).现在是第1天夜晚，该如何行动?\n",
      "03/06/2024 04:34:12 PM Found credentials from IAM Role: BaseNotebookInstanceEc2InstanceRole\n",
      "03/06/2024 04:34:13 PM HTTP Request: POST https://bedrock-runtime.us-east-1.amazonaws.com/model/anthropic.claude-3-sonnet-20240229-v1:0/invoke-with-response-stream \"HTTP/1.1 200 OK\"\n"
     ]
    },
    {
     "name": "stdout",
     "output_type": "stream",
     "text": [
      "Thought: 作为狼人,我们必须在夜间行动时保持高度的谨慎和策略性。首先,我们需要与队友P6达成共识,选择一个目标。考虑到预言家可能会查验身份,我们或许可以先杀害一名普通村民,以降低风险。\n",
      "Action: Debate\n",
      "Action Input: 我们需要小心谨慎,避免被预言家识破身份。或许可以先杀一名普通村民,以掩人耳目?\n",
      "Final Answer: {\"action\": \"Debate\", \"content\": \"我们需要小心谨慎,避免被预言家识破身份。或许可以先杀一名普通村民,以掩人耳目?\"}"
     ]
    },
    {
     "name": "stderr",
     "output_type": "stream",
     "text": [
      "03/06/2024 04:34:19 PM \t\t===== DoAction NIGHT 1 P3 ======\n",
      "03/06/2024 04:34:19 PM \n",
      " [ROUND ACTION]={'time': 'NIGHT 1', 'player': 'P3', 'status': 1, 'role': '狼人', 'character': '组织者', 'response': ['{\"action\": \"Debate\", \"content\": \"我们需要小心谨慎,避免被预言家识破身份。或许可以先杀一名普通村民,以掩人耳目?\"}']}\n",
      "\n",
      "03/06/2024 04:34:19 PM \t\t===== DoMemory NIGHT 1 P6 ======\n",
      "03/06/2024 04:34:19 PM Found credentials from IAM Role: BaseNotebookInstanceEc2InstanceRole\n",
      "03/06/2024 04:34:19 PM HTTP Request: POST https://bedrock-runtime.us-east-1.amazonaws.com/model/anthropic.claude-3-sonnet-20240229-v1:0/invoke-with-response-stream \"HTTP/1.1 200 OK\"\n"
     ]
    },
    {
     "name": "stdout",
     "output_type": "stream",
     "text": [
      "现状描述:当前为第一晚,共有8名玩家存活。身份分配为2狼人、1预言家、5村民。P3(狼人)投票杀死P2。"
     ]
    },
    {
     "name": "stderr",
     "output_type": "stream",
     "text": [
      "03/06/2024 04:34:20 PM \t\t===== DoAnswer NIGHT 1 P6 ======\n",
      "03/06/2024 04:34:20 PM \tQUESTION: 现在是NIGHT 1,你支持的玩家是P6(狼人,本阵营为:P3,P6).目前场上玩家:P1:存活,P2:存活,P3:存活,P4:存活,P5:存活,P6:存活,P7:存活,P8:存活(逗号为分割符).现在是第1天夜晚，该如何行动?\n",
      "03/06/2024 04:34:20 PM Found credentials from IAM Role: BaseNotebookInstanceEc2InstanceRole\n",
      "03/06/2024 04:34:20 PM HTTP Request: POST https://bedrock-runtime.us-east-1.amazonaws.com/model/anthropic.claude-3-sonnet-20240229-v1:0/invoke-with-response-stream \"HTTP/1.1 200 OK\"\n"
     ]
    },
    {
     "name": "stdout",
     "output_type": "stream",
     "text": [
      "Thought: 第一晚我们需要消除一些威胁,但不能太过明显暴露身份线索。我建议杀一个普通村民,混淆视听。同时我们要密切关注白天讨论,寻找预言家的蛛丝马迹。\n",
      "Action: WolfVote\n",
      "Action Input: P8\n",
      "Final Answer: {\"action\": \"WolfVote\", \"target\": \"P8\"}"
     ]
    },
    {
     "name": "stderr",
     "output_type": "stream",
     "text": [
      "03/06/2024 04:34:26 PM \t\t===== DoAction NIGHT 1 P6 ======\n",
      "03/06/2024 04:34:26 PM \n",
      " [ROUND ACTION]={'time': 'NIGHT 1', 'player': 'P6', 'status': 1, 'role': '狼人', 'character': '过激型', 'response': ['{\"action\": \"WolfVote\", \"target\": \"P8\"}']}\n",
      "\n",
      "03/06/2024 04:34:26 PM \t [wolf_votes]: ['P8'], [player_vote_name]: Counter({'P8': 1})\n",
      "03/06/2024 04:34:26 PM \n",
      " [WOLF VOTE]={'time': 'NIGHT 1', 'player': 'P8', 'status': 0, 'role': '村民', 'character': '互动达人', 'response': '玩家P8于NIGHT 1被狼人投票而出局'}\n",
      "\n",
      "03/06/2024 04:34:26 PM 游戏继续. 目前玩家存活情况:P1:存活,P2:存活,P3:存活,P4:存活,P5:存活,P6:存活,P7:存活,P8:淘汰\n",
      "03/06/2024 04:34:26 PM \t===== input_tokens: 0 output_tokens 0 ======\n",
      "03/06/2024 04:34:26 PM \t===== elapsed_time: 65.89729475975037 ======\n",
      "03/06/2024 04:34:26 PM \t===== DAY 2 PreAction ======\n",
      "03/06/2024 04:34:26 PM \t\t===== DoMemory DAY 2 P8 ======\n",
      "03/06/2024 04:34:26 PM Found credentials from IAM Role: BaseNotebookInstanceEc2InstanceRole\n",
      "03/06/2024 04:34:26 PM HTTP Request: POST https://bedrock-runtime.us-east-1.amazonaws.com/model/anthropic.claude-3-sonnet-20240229-v1:0/invoke-with-response-stream \"HTTP/1.1 200 OK\"\n"
     ]
    },
    {
     "name": "stdout",
     "output_type": "stream",
     "text": [
      "现场状况:共7名玩家存活,1名玩家淘汰。初始身份为2狼人、1预言家、5村民。第一晚狼人未能统一投票,导致无人出局。"
     ]
    },
    {
     "name": "stderr",
     "output_type": "stream",
     "text": [
      "03/06/2024 04:34:29 PM \t\t===== DoAnswer DAY 2 P8 ======\n",
      "03/06/2024 04:34:29 PM \tQUESTION: 现在是DAY 2,你支持的玩家是P8(村民)..目前场上玩家:P1:存活,P2:存活,P3:存活,P4:存活,P5:存活,P6:存活,P7:存活,P8:淘汰(逗号为分割符).现在是第2天白天，你已经死亡,有何遗言?\n",
      "03/06/2024 04:34:29 PM Found credentials from IAM Role: BaseNotebookInstanceEc2InstanceRole\n",
      "03/06/2024 04:34:29 PM HTTP Request: POST https://bedrock-runtime.us-east-1.amazonaws.com/model/anthropic.claude-3-sonnet-20240229-v1:0/invoke-with-response-stream \"HTTP/1.1 200 OK\"\n"
     ]
    },
    {
     "name": "stdout",
     "output_type": "stream",
     "text": [
      "Thought: 作为一名村民,我已经死亡,应该留下一些有价值的线索来帮助存活的好人队友赢得游戏。我应该分析之前的游戏过程,看看哪些玩家的行为可疑,并提出合理的怀疑理由。\n",
      "\n",
      "Action: DeathWords\n",
      "Action Input: \"我怀疑P3和P5是狼人,原因如下:1.P3在昨天的辩论中态度很强硬,似乎在掩盖什么;2.P5几乎没有参与讨论,行为很可疑。希望大家仔细观察他们的言行,尽快揪出狼人。\"\n",
      "\n",
      "Final Answer: {\"action\": \"DeathWords\", \"content\": \"我怀疑P3和P5是狼人,原因如下:1.P3在昨天的辩论中态度很强硬,似乎在掩盖什么;2.P5几乎没有参与讨论,行为很可疑。希望大家仔细观察他们的言行,尽快揪出狼人。\"}"
     ]
    },
    {
     "name": "stderr",
     "output_type": "stream",
     "text": [
      "03/06/2024 04:34:36 PM \t\t===== DoAction DAY 2 P8 ======\n",
      "03/06/2024 04:34:36 PM \n",
      " [ROUND ACTION]={'time': 'DAY 2', 'player': 'P8', 'status': 0, 'role': '村民', 'character': '互动达人', 'response': ['{\"action\": \"DeathWords\", \"content\": \"我怀疑P3和P5是狼人,原因如下:1.P3在昨天的辩论中态度很强硬,似乎在掩盖什么;2.P5几乎没有参与讨论,行为很可疑。希望大家仔细观察他们的言行,尽快揪出狼人。\"}']}\n",
      "\n",
      "03/06/2024 04:34:36 PM \t===== DAY 2 DoAction ======\n",
      "03/06/2024 04:34:36 PM \t\t===== DoMemory DAY 2 P1 ======\n",
      "03/06/2024 04:34:36 PM Found credentials from IAM Role: BaseNotebookInstanceEc2InstanceRole\n",
      "03/06/2024 04:34:36 PM HTTP Request: POST https://bedrock-runtime.us-east-1.amazonaws.com/model/anthropic.claude-3-sonnet-20240229-v1:0/invoke-with-response-stream \"HTTP/1.1 200 OK\"\n"
     ]
    },
    {
     "name": "stdout",
     "output_type": "stream",
     "text": [
      "目前8名玩家全部存活,已确认P2为村民身份,夜晚狼人未能达成统一投票,游戏处于平衡状态。"
     ]
    },
    {
     "name": "stderr",
     "output_type": "stream",
     "text": [
      "03/06/2024 04:34:37 PM \t\t===== DoAnswer DAY 2 P1 ======\n",
      "03/06/2024 04:34:37 PM \tQUESTION: 现在是DAY 2,你支持的玩家是P1(预言家)..目前场上玩家:P1:存活,P2:存活,P3:存活,P4:存活,P5:存活,P6:存活,P7:存活,P8:淘汰(逗号为分割符).现在是第2天白天的讨论环节，该如何行动?\n",
      "03/06/2024 04:34:37 PM Found credentials from IAM Role: BaseNotebookInstanceEc2InstanceRole\n",
      "03/06/2024 04:34:38 PM HTTP Request: POST https://bedrock-runtime.us-east-1.amazonaws.com/model/anthropic.claude-3-sonnet-20240229-v1:0/invoke-with-response-stream \"HTTP/1.1 200 OK\"\n"
     ]
    },
    {
     "name": "stdout",
     "output_type": "stream",
     "text": [
      "Thought: 我已经公开怀疑P2是狼人,下一步就是在投票环节确保大家都投P2,将其处决。我需要再次呼吁大家相信我的身份,团结一致。\n",
      "Action: PlayerVote\n",
      "Action Input: P2  \n",
      "Final Answer: {\"action\": \"PlayerVote\", \"target\": \"P2\"}"
     ]
    },
    {
     "name": "stderr",
     "output_type": "stream",
     "text": [
      "03/06/2024 04:34:43 PM \t\t===== DoAction DAY 2 P1 ======\n",
      "03/06/2024 04:34:43 PM \n",
      " [ROUND ACTION]={'time': 'DAY 2', 'player': 'P1', 'status': 1, 'role': '预言家', 'character': '独立思考', 'response': ['{\"action\": \"PlayerVote\", \"target\": \"P2\"}']}\n",
      "\n",
      "03/06/2024 04:34:43 PM \t\t===== DoMemory DAY 2 P2 ======\n",
      "03/06/2024 04:34:43 PM Found credentials from IAM Role: BaseNotebookInstanceEc2InstanceRole\n",
      "03/06/2024 04:34:43 PM HTTP Request: POST https://bedrock-runtime.us-east-1.amazonaws.com/model/anthropic.claude-3-sonnet-20240229-v1:0/invoke-with-response-stream \"HTTP/1.1 200 OK\"\n"
     ]
    },
    {
     "name": "stdout",
     "output_type": "stream",
     "text": [
      "现状描述:共7名玩家存活(P1,P2,P3,P4,P5,P6,P7),1名玩家淘汰(P8)。初始配置为2狼人、1预言家、5村民。第一夜狼人未统一投票。第二天P8在遗言中怀疑P3和P5是狼人,P1投票给P2。"
     ]
    },
    {
     "name": "stderr",
     "output_type": "stream",
     "text": [
      "03/06/2024 04:34:48 PM \t\t===== DoAnswer DAY 2 P2 ======\n",
      "03/06/2024 04:34:48 PM \tQUESTION: 现在是DAY 2,你支持的玩家是P2(村民)..目前场上玩家:P1:存活,P2:存活,P3:存活,P4:存活,P5:存活,P6:存活,P7:存活,P8:淘汰(逗号为分割符).现在是第2天白天的讨论环节，该如何行动?\n",
      "03/06/2024 04:34:48 PM Found credentials from IAM Role: BaseNotebookInstanceEc2InstanceRole\n",
      "03/06/2024 04:34:48 PM HTTP Request: POST https://bedrock-runtime.us-east-1.amazonaws.com/model/anthropic.claude-3-sonnet-20240229-v1:0/invoke-with-response-stream \"HTTP/1.1 200 OK\"\n"
     ]
    },
    {
     "name": "stdout",
     "output_type": "stream",
     "text": [
      "Thought: 我是村民P2,目前还没有足够线索判断谁是狼人。我可以在讨论环节表现得有点腼腆,以掩护自己的身份。同时也要仔细观察其他玩家的言行,看是否有人露出破绽。最重要的是要活着到后期,届时再根据情况做出判断。\n",
      "Action: Debate\n",
      "Action Input: 作为一个普通村民,我没有太多线索,不过我觉得我们要相互信任、团结一致,才能战胜狼人。大家有什么看法吗?\n",
      "Final Answer: {\"action\": \"Debate\", \"content\": \"作为一个普通村民,我没有太多线索,不过我觉得我们要相互信任、团结一致,才能战胜狼人。大家有什么看法吗?\"}"
     ]
    },
    {
     "name": "stderr",
     "output_type": "stream",
     "text": [
      "03/06/2024 04:34:55 PM \t\t===== DoAction DAY 2 P2 ======\n",
      "03/06/2024 04:34:55 PM \n",
      " [ROUND ACTION]={'time': 'DAY 2', 'player': 'P2', 'status': 1, 'role': '村民', 'character': '腼腆型', 'response': ['{\"action\": \"Debate\", \"content\": \"作为一个普通村民,我没有太多线索,不过我觉得我们要相互信任、团结一致,才能战胜狼人。大家有什么看法吗?\"}']}\n",
      "\n",
      "03/06/2024 04:34:55 PM \t\t===== DoMemory DAY 2 P3 ======\n",
      "03/06/2024 04:34:55 PM Found credentials from IAM Role: BaseNotebookInstanceEc2InstanceRole\n",
      "03/06/2024 04:34:55 PM HTTP Request: POST https://bedrock-runtime.us-east-1.amazonaws.com/model/anthropic.claude-3-sonnet-20240229-v1:0/invoke-with-response-stream \"HTTP/1.1 200 OK\"\n"
     ]
    },
    {
     "name": "stdout",
     "output_type": "stream",
     "text": [
      "8名玩家存活,包括2狼人、1预言家、5村民。狼人需统一杀死1人,预言家可查验1人身份。"
     ]
    },
    {
     "name": "stderr",
     "output_type": "stream",
     "text": [
      "03/06/2024 04:34:56 PM \t\t===== DoAnswer DAY 2 P3 ======\n",
      "03/06/2024 04:34:56 PM \tQUESTION: 现在是DAY 2,你支持的玩家是P3(狼人,本阵营为:P3,P6).目前场上玩家:P1:存活,P2:存活,P3:存活,P4:存活,P5:存活,P6:存活,P7:存活,P8:淘汰(逗号为分割符).现在是第2天白天的讨论环节，该如何行动?\n",
      "03/06/2024 04:34:56 PM Found credentials from IAM Role: BaseNotebookInstanceEc2InstanceRole\n",
      "03/06/2024 04:34:56 PM HTTP Request: POST https://bedrock-runtime.us-east-1.amazonaws.com/model/anthropic.claude-3-sonnet-20240229-v1:0/invoke-with-response-stream \"HTTP/1.1 200 OK\"\n"
     ]
    },
    {
     "name": "stdout",
     "output_type": "stream",
     "text": [
      "Thought: 作为狼人,我们必须在夜间行动时保持高度的谨慎和策略性。与队友P6达成一致很重要。我建议先杀一名不太活跃的普通村民,以降低被发现的风险。同时也要留意预言家的动向,以防止我们的身份暴露。\n",
      "Action: WolfVote \n",
      "Action Input: P4\n",
      "Final Answer: {\"action\": \"WolfVote\", \"target\": \"P4\"}"
     ]
    },
    {
     "name": "stderr",
     "output_type": "stream",
     "text": [
      "03/06/2024 04:35:02 PM \t\t===== DoAction DAY 2 P3 ======\n",
      "03/06/2024 04:35:02 PM \n",
      " [ROUND ACTION]={'time': 'DAY 2', 'player': 'P3', 'status': 1, 'role': '狼人', 'character': '组织者', 'response': ['{\"action\": \"WolfVote\", \"target\": \"P4\"}']}\n",
      "\n",
      "03/06/2024 04:35:02 PM \t\t===== DoMemory DAY 2 P4 ======\n",
      "03/06/2024 04:35:02 PM Found credentials from IAM Role: BaseNotebookInstanceEc2InstanceRole\n",
      "03/06/2024 04:35:02 PM HTTP Request: POST https://bedrock-runtime.us-east-1.amazonaws.com/model/anthropic.claude-3-sonnet-20240229-v1:0/invoke-with-response-stream \"HTTP/1.1 200 OK\"\n"
     ]
    },
    {
     "name": "stdout",
     "output_type": "stream",
     "text": [
      "目前场上有7名存活玩家,1名玩家被淘汰。在第一夜狼人未能统一选择出局者,而在第二天白天,被淘汰玩家P8提出了对P3和P5的怀疑,P1也投票怀疑P2。"
     ]
    },
    {
     "name": "stderr",
     "output_type": "stream",
     "text": [
      "03/06/2024 04:35:04 PM \t\t===== DoAnswer DAY 2 P4 ======\n",
      "03/06/2024 04:35:04 PM \tQUESTION: 现在是DAY 2,你支持的玩家是P4(村民)..目前场上玩家:P1:存活,P2:存活,P3:存活,P4:存活,P5:存活,P6:存活,P7:存活,P8:淘汰(逗号为分割符).现在是第2天白天的讨论环节，该如何行动?\n",
      "03/06/2024 04:35:04 PM Found credentials from IAM Role: BaseNotebookInstanceEc2InstanceRole\n",
      "03/06/2024 04:35:04 PM HTTP Request: POST https://bedrock-runtime.us-east-1.amazonaws.com/model/anthropic.claude-3-sonnet-20240229-v1:0/invoke-with-response-stream \"HTTP/1.1 200 OK\"\n"
     ]
    },
    {
     "name": "stdout",
     "output_type": "stream",
     "text": [
      "Thought: 作为一个规矩型村民,我应该尽量不怀疑无辜者,同时也不能被狼人蒙蔽。我应该注意观察其他玩家的行为和发言,看看有没有可疑之处。如果有足够的线索,可以怀疑某个玩家,但要做到有理有据。如果暂时没有可疑对象,也可以先沉默观察。\n",
      "Action: Debate\n",
      "Action Input: \"我们应该冷静分析,寻找可疑的线索,不要轻易怀疑他人。如果有人的言行值得怀疑,请说出你的理由,我会认真考虑。\"\n",
      "Final Answer: {\"action\": \"Debate\", \"content\": \"我们应该冷静分析,寻找可疑的线索,不要轻易怀疑他人。如果有人的言行值得怀疑,请说出你的理由,我会认真考虑。\"}"
     ]
    },
    {
     "name": "stderr",
     "output_type": "stream",
     "text": [
      "03/06/2024 04:35:11 PM \t\t===== DoAction DAY 2 P4 ======\n",
      "03/06/2024 04:35:11 PM \n",
      " [ROUND ACTION]={'time': 'DAY 2', 'player': 'P4', 'status': 1, 'role': '村民', 'character': '规矩型', 'response': ['{\"action\": \"Debate\", \"content\": \"我们应该冷静分析,寻找可疑的线索,不要轻易怀疑他人。如果有人的言行值得怀疑,请说出你的理由,我会认真考虑。\"}']}\n",
      "\n",
      "03/06/2024 04:35:11 PM \t\t===== DoMemory DAY 2 P5 ======\n",
      "03/06/2024 04:35:11 PM Found credentials from IAM Role: BaseNotebookInstanceEc2InstanceRole\n",
      "03/06/2024 04:35:11 PM HTTP Request: POST https://bedrock-runtime.us-east-1.amazonaws.com/model/anthropic.claude-3-sonnet-20240229-v1:0/invoke-with-response-stream \"HTTP/1.1 200 OK\"\n"
     ]
    },
    {
     "name": "stdout",
     "output_type": "stream",
     "text": [
      "现有7名玩家存活,1名玩家淘汰。狼人上一夜未能统一投票杀人,需要本轮白天投票淘汰一名玩家。"
     ]
    },
    {
     "name": "stderr",
     "output_type": "stream",
     "text": [
      "03/06/2024 04:35:16 PM \t\t===== DoAnswer DAY 2 P5 ======\n",
      "03/06/2024 04:35:16 PM \tQUESTION: 现在是DAY 2,你支持的玩家是P5(村民)..目前场上玩家:P1:存活,P2:存活,P3:存活,P4:存活,P5:存活,P6:存活,P7:存活,P8:淘汰(逗号为分割符).现在是第2天白天的讨论环节，该如何行动?\n",
      "03/06/2024 04:35:16 PM Found credentials from IAM Role: BaseNotebookInstanceEc2InstanceRole\n",
      "03/06/2024 04:35:16 PM HTTP Request: POST https://bedrock-runtime.us-east-1.amazonaws.com/model/anthropic.claude-3-sonnet-20240229-v1:0/invoke-with-response-stream \"HTTP/1.1 200 OK\"\n"
     ]
    },
    {
     "name": "stdout",
     "output_type": "stream",
     "text": [
      "Thought: 作为村民,我需要积极参与讨论,推理寻找狼人线索。由于昨晚预言家可能已经查验了某人身份,因此我可以询问预言家的线索,并结合其他玩家的表现,推理出可疑人选。同时我也可以分析其他玩家的发言,看看是否存在矛盾或可疑之处。\n",
      "\n",
      "Action: Debate\n",
      "Action Input: 昨晚预言家有没有获得什么重要线索?如果有,希望能分享一下。我们结合所有玩家的表现,共同推理出狼人身份。大家有什么可疑的地方吗?\n",
      "\n",
      "Final Answer: {\"action\": \"Debate\", \"content\": \"昨晚预言家有没有获得什么重要线索?如果有,希望能分享一下。我们结合所有玩家的表现,共同推理出狼人身份。大家有什么可疑的地方吗?\"}"
     ]
    },
    {
     "name": "stderr",
     "output_type": "stream",
     "text": [
      "03/06/2024 04:35:22 PM \t\t===== DoAction DAY 2 P5 ======\n",
      "03/06/2024 04:35:22 PM \n",
      " [ROUND ACTION]={'time': 'DAY 2', 'player': 'P5', 'status': 1, 'role': '村民', 'character': '话痨', 'response': ['{\"action\": \"Debate\", \"content\": \"昨晚预言家有没有获得什么重要线索?如果有,希望能分享一下。我们结合所有玩家的表现,共同推理出狼人身份。大家有什么可疑的地方吗?\"}']}\n",
      "\n",
      "03/06/2024 04:35:22 PM \t\t===== DoMemory DAY 2 P6 ======\n",
      "03/06/2024 04:35:22 PM Found credentials from IAM Role: BaseNotebookInstanceEc2InstanceRole\n",
      "03/06/2024 04:35:22 PM HTTP Request: POST https://bedrock-runtime.us-east-1.amazonaws.com/model/anthropic.claude-3-sonnet-20240229-v1:0/invoke-with-response-stream \"HTTP/1.1 200 OK\"\n"
     ]
    },
    {
     "name": "stdout",
     "output_type": "stream",
     "text": [
      "现状描述:当前为第一晚,共有8名玩家存活。身份分配为2狼人、1预言家、5村民。P3(狼人)投票杀死P2。"
     ]
    },
    {
     "name": "stderr",
     "output_type": "stream",
     "text": [
      "03/06/2024 04:35:23 PM \t\t===== DoAnswer DAY 2 P6 ======\n",
      "03/06/2024 04:35:23 PM \tQUESTION: 现在是DAY 2,你支持的玩家是P6(狼人,本阵营为:P3,P6).目前场上玩家:P1:存活,P2:存活,P3:存活,P4:存活,P5:存活,P6:存活,P7:存活,P8:淘汰(逗号为分割符).现在是第2天白天的讨论环节，该如何行动?\n",
      "03/06/2024 04:35:23 PM Found credentials from IAM Role: BaseNotebookInstanceEc2InstanceRole\n",
      "03/06/2024 04:35:23 PM HTTP Request: POST https://bedrock-runtime.us-east-1.amazonaws.com/model/anthropic.claude-3-sonnet-20240229-v1:0/invoke-with-response-stream \"HTTP/1.1 200 OK\"\n"
     ]
    },
    {
     "name": "stdout",
     "output_type": "stream",
     "text": [
      "Thought: 第一晚我们需要消除一些威胁,但不能太过明显暴露身份线索。我建议杀一个不太活跃的普通村民,避免引起太多怀疑。我们要密切关注白天讨论,努力查找预言家的蛛丝马迹。\n",
      "Action: WolfVote  \n",
      "Action Input: P7\n",
      "Final Answer: {\"action\": \"WolfVote\", \"target\": \"P7\"}"
     ]
    },
    {
     "name": "stderr",
     "output_type": "stream",
     "text": [
      "03/06/2024 04:35:29 PM \t\t===== DoAction DAY 2 P6 ======\n",
      "03/06/2024 04:35:29 PM \n",
      " [ROUND ACTION]={'time': 'DAY 2', 'player': 'P6', 'status': 1, 'role': '狼人', 'character': '过激型', 'response': ['{\"action\": \"WolfVote\", \"target\": \"P7\"}']}\n",
      "\n",
      "03/06/2024 04:35:29 PM \t\t===== DoMemory DAY 2 P7 ======\n",
      "03/06/2024 04:35:29 PM Found credentials from IAM Role: BaseNotebookInstanceEc2InstanceRole\n",
      "03/06/2024 04:35:30 PM HTTP Request: POST https://bedrock-runtime.us-east-1.amazonaws.com/model/anthropic.claude-3-sonnet-20240229-v1:0/invoke-with-response-stream \"HTTP/1.1 200 OK\"\n"
     ]
    },
    {
     "name": "stdout",
     "output_type": "stream",
     "text": [
      "当前存活玩家:P1、P2、P3、P4、P5、P6、P7。P8被狼人投票淘汰。预言家和村民需根据玩家言行推理狼人身份,狼人需伪装自己。"
     ]
    },
    {
     "name": "stderr",
     "output_type": "stream",
     "text": [
      "03/06/2024 04:35:32 PM \t\t===== DoAnswer DAY 2 P7 ======\n",
      "03/06/2024 04:35:32 PM \tQUESTION: 现在是DAY 2,你支持的玩家是P7(村民)..目前场上玩家:P1:存活,P2:存活,P3:存活,P4:存活,P5:存活,P6:存活,P7:存活,P8:淘汰(逗号为分割符).现在是第2天白天的讨论环节，该如何行动?\n",
      "03/06/2024 04:35:32 PM Found credentials from IAM Role: BaseNotebookInstanceEc2InstanceRole\n",
      "03/06/2024 04:35:32 PM HTTP Request: POST https://bedrock-runtime.us-east-1.amazonaws.com/model/anthropic.claude-3-sonnet-20240229-v1:0/invoke-with-response-stream \"HTTP/1.1 200 OK\"\n"
     ]
    },
    {
     "name": "stdout",
     "output_type": "stream",
     "text": [
      "Thought: 作为村民,我需要仔细观察其他玩家的言行举止,试图发现狼人的蛛丝马迹。我应该参与讨论,分享自己的推理和怀疑,同时也要留意其他人的言语,看看是否有矛盾或可疑的地方。如果有人表现得很可疑,我可以提出质疑,但也不能太武断,因为现在还缺乏确凿证据。\n",
      "\n",
      "Action: Debate\n",
      "Action Input: 我昨晚睡得很沉,没有发现什么异常。不过我觉得P3和P5今天表现有些奇怪,他们似乎在相互暗示什么。我们需要仔细观察他们的言行,看看是否有什么破绽。\n",
      "\n",
      "Final Answer: {\"action\": \"Debate\", \"content\": \"我昨晚睡得很沉,没有发现什么异常。不过我觉得P3和P5今天表现有些奇怪,他们似乎在相互暗示什么。我们需要仔细观察他们的言行,看看是否有什么破绽。\"}"
     ]
    },
    {
     "name": "stderr",
     "output_type": "stream",
     "text": [
      "03/06/2024 04:35:40 PM \t\t===== DoAction DAY 2 P7 ======\n",
      "03/06/2024 04:35:40 PM \n",
      " [ROUND ACTION]={'time': 'DAY 2', 'player': 'P7', 'status': 1, 'role': '村民', 'character': '观察家', 'response': ['{\"action\": \"Debate\", \"content\": \"我昨晚睡得很沉,没有发现什么异常。不过我觉得P3和P5今天表现有些奇怪,他们似乎在相互暗示什么。我们需要仔细观察他们的言行,看看是否有什么破绽。\"}']}\n",
      "\n",
      "03/06/2024 04:35:40 PM \t===== DAY 2 PostAction ======\n",
      "03/06/2024 04:35:40 PM \t [player_votes]: ['P2'], [player_vote_name]: Counter({'P2': 1})\n",
      "03/06/2024 04:35:40 PM \n",
      " [PLAYER VOTE]={'time': 'DAY 2', 'player': 'P2', 'status': 0, 'role': '村民', 'character': '腼腆型', 'response': '玩家P2于DAY 2被玩家投票而出局'}\n",
      "\n",
      "03/06/2024 04:35:40 PM \t\t===== DoMemory DAY 2 P2 ======\n",
      "03/06/2024 04:35:40 PM Found credentials from IAM Role: BaseNotebookInstanceEc2InstanceRole\n",
      "03/06/2024 04:35:40 PM HTTP Request: POST https://bedrock-runtime.us-east-1.amazonaws.com/model/anthropic.claude-3-sonnet-20240229-v1:0/invoke-with-response-stream \"HTTP/1.1 200 OK\"\n"
     ]
    },
    {
     "name": "stdout",
     "output_type": "stream",
     "text": [
      "现状描述:共7名玩家存活(P1,P2,P3,P4,P5,P6,P7),1名玩家淘汰(P8)。初始配置为2狼人、1预言家、5村民。第一夜狼人未统一投票。第二天P8在遗言中怀疑P3和P5是狼人,P1投票给P2。"
     ]
    },
    {
     "name": "stderr",
     "output_type": "stream",
     "text": [
      "03/06/2024 04:35:43 PM \t\t===== DoAnswer DAY 2 P2 ======\n",
      "03/06/2024 04:35:43 PM \tQUESTION: 现在是DAY 2,你支持的玩家是P2(村民)..目前场上玩家:P1:存活,P2:淘汰,P3:存活,P4:存活,P5:存活,P6:存活,P7:存活,P8:淘汰(逗号为分割符).现在是第2天白天，你已经死亡,有何遗言?\n",
      "03/06/2024 04:35:43 PM Found credentials from IAM Role: BaseNotebookInstanceEc2InstanceRole\n",
      "03/06/2024 04:35:43 PM HTTP Request: POST https://bedrock-runtime.us-east-1.amazonaws.com/model/anthropic.claude-3-sonnet-20240229-v1:0/invoke-with-response-stream \"HTTP/1.1 200 OK\"\n"
     ]
    },
    {
     "name": "stdout",
     "output_type": "stream",
     "text": [
      "Thought: 作为村民,我应该保持低调,不引起狼人的注意。同时也要留心其他玩家的言行,看是否有可疑之处。如果有人对我构成威胁,我可以适当自我辩护,但不要太过激烈。总的来说,生存下去才是当前的首要目标。\n",
      "Action: Debate\n",
      "Action Input: 大家都是好朋友,我们要互相信任,共同努力消灭狼人。不过如果有人怀疑我,我会虚心接受大家的质疑,并诚恳解释自己的立场。\n",
      "Final Answer: {\"action\": \"Debate\", \"content\": \"大家都是好朋友,我们要互相信任,共同努力消灭狼人。不过如果有人怀疑我,我会虚心接受大家的质疑,并诚恳解释自己的立场。\"}"
     ]
    },
    {
     "name": "stderr",
     "output_type": "stream",
     "text": [
      "03/06/2024 04:35:52 PM \t\t===== DoAction DAY 2 P2 ======\n",
      "03/06/2024 04:35:52 PM \n",
      " [ROUND ACTION]={'time': 'DAY 2', 'player': 'P2', 'status': 0, 'role': '村民', 'character': '腼腆型', 'response': ['{\"action\": \"Debate\", \"content\": \"大家都是好朋友,我们要互相信任,共同努力消灭狼人。不过如果有人怀疑我,我会虚心接受大家的质疑,并诚恳解释自己的立场。\"}']}\n",
      "\n",
      "03/06/2024 04:35:52 PM 游戏继续. 目前玩家存活情况:P1:存活,P2:淘汰,P3:存活,P4:存活,P5:存活,P6:存活,P7:存活,P8:淘汰\n",
      "03/06/2024 04:35:52 PM \t===== NIGHT 2 PreAction ======\n",
      "03/06/2024 04:35:52 PM \t===== NIGHT 2 DoAction ======\n",
      "03/06/2024 04:35:52 PM \t\t===== DoMemory NIGHT 2 P1 ======\n",
      "03/06/2024 04:35:52 PM Found credentials from IAM Role: BaseNotebookInstanceEc2InstanceRole\n",
      "03/06/2024 04:35:52 PM HTTP Request: POST https://bedrock-runtime.us-east-1.amazonaws.com/model/anthropic.claude-3-sonnet-20240229-v1:0/invoke-with-response-stream \"HTTP/1.1 200 OK\"\n"
     ]
    },
    {
     "name": "stdout",
     "output_type": "stream",
     "text": [
      "目前8名玩家全部存活,已确认P2为村民身份,夜晚狼人未能达成统一投票,游戏处于平衡状态。"
     ]
    },
    {
     "name": "stderr",
     "output_type": "stream",
     "text": [
      "03/06/2024 04:35:53 PM \t\t===== DoAnswer NIGHT 2 P1 ======\n",
      "03/06/2024 04:35:53 PM \tQUESTION: 现在是NIGHT 2,你支持的玩家是P1(预言家)..目前场上玩家:P1:存活,P2:淘汰,P3:存活,P4:存活,P5:存活,P6:存活,P7:存活,P8:淘汰(逗号为分割符).现在是第2天夜晚，该如何行动?\n",
      "03/06/2024 04:35:53 PM Found credentials from IAM Role: BaseNotebookInstanceEc2InstanceRole\n",
      "03/06/2024 04:35:53 PM HTTP Request: POST https://bedrock-runtime.us-east-1.amazonaws.com/model/anthropic.claude-3-sonnet-20240229-v1:0/invoke-with-response-stream \"HTTP/1.1 200 OK\"\n"
     ]
    },
    {
     "name": "stdout",
     "output_type": "stream",
     "text": [
      "Thought: 经过白天的努力,理应能够成功说服大家处决P2这个狼人。不过为了以防万一,我还是要在夜晚再次查验一个玩家的身份。\n",
      "Action: ProphetCheck\n",
      "Action Input: P3\n",
      "Final Answer: {\"action\": \"ProphetCheck\", \"target\": \"P3\"}"
     ]
    },
    {
     "name": "stderr",
     "output_type": "stream",
     "text": [
      "03/06/2024 04:35:59 PM \t\t===== DoAction NIGHT 2 P1 ======\n",
      "03/06/2024 04:35:59 PM [玩家P1于时间NIGHT 2, 执行动作为:{'action': 'ProphetCheck', 'target': 'P3'}]P3:狼人\n",
      "03/06/2024 04:35:59 PM \n",
      " [ROUND ACTION]={'time': 'NIGHT 2', 'player': 'P1', 'status': 1, 'role': '预言家', 'character': '独立思考', 'response': ['{\"action\": \"ProphetCheck\", \"target\": \"P3\"}']}\n",
      "\n",
      "03/06/2024 04:35:59 PM \t\t===== DoMemory NIGHT 2 P3 ======\n",
      "03/06/2024 04:35:59 PM Found credentials from IAM Role: BaseNotebookInstanceEc2InstanceRole\n",
      "03/06/2024 04:35:59 PM HTTP Request: POST https://bedrock-runtime.us-east-1.amazonaws.com/model/anthropic.claude-3-sonnet-20240229-v1:0/invoke-with-response-stream \"HTTP/1.1 200 OK\"\n"
     ]
    },
    {
     "name": "stdout",
     "output_type": "stream",
     "text": [
      "8名玩家存活,包括2狼人、1预言家、5村民。第1夜狼人未能达成统一,需要再次投票杀人。"
     ]
    },
    {
     "name": "stderr",
     "output_type": "stream",
     "text": [
      "03/06/2024 04:36:01 PM \t\t===== DoAnswer NIGHT 2 P3 ======\n",
      "03/06/2024 04:36:01 PM \tQUESTION: 现在是NIGHT 2,你支持的玩家是P3(狼人,本阵营为:P3,P6).目前场上玩家:P1:存活,P2:淘汰,P3:存活,P4:存活,P5:存活,P6:存活,P7:存活,P8:淘汰(逗号为分割符).现在是第2天夜晚，该如何行动?\n",
      "03/06/2024 04:36:01 PM Found credentials from IAM Role: BaseNotebookInstanceEc2InstanceRole\n",
      "03/06/2024 04:36:01 PM HTTP Request: POST https://bedrock-runtime.us-east-1.amazonaws.com/model/anthropic.claude-3-sonnet-20240229-v1:0/invoke-with-response-stream \"HTTP/1.1 200 OK\"\n"
     ]
    },
    {
     "name": "stdout",
     "output_type": "stream",
     "text": [
      "Thought: 作为狼人,我们必须时刻保持警惕,不能轻举妄动。虽然杀害普通村民风险较小,但也不能掉以轻心。我建议今晚先不行动,等到白天再根据讨论情况做出判断。毕竟我们的目标是赢得最后的胜利。\n",
      "Action: Pass\n",
      "Action Input: 无\n",
      "Final Answer: {\"action\": \"Pass\"}"
     ]
    },
    {
     "name": "stderr",
     "output_type": "stream",
     "text": [
      "03/06/2024 04:36:07 PM \t\t===== DoAction NIGHT 2 P3 ======\n",
      "03/06/2024 04:36:07 PM \n",
      " [ROUND ACTION]={'time': 'NIGHT 2', 'player': 'P3', 'status': 1, 'role': '狼人', 'character': '组织者', 'response': ['{\"action\": \"Pass\"}']}\n",
      "\n",
      "03/06/2024 04:36:07 PM \t\t===== DoMemory NIGHT 2 P6 ======\n",
      "03/06/2024 04:36:07 PM Found credentials from IAM Role: BaseNotebookInstanceEc2InstanceRole\n",
      "03/06/2024 04:36:07 PM HTTP Request: POST https://bedrock-runtime.us-east-1.amazonaws.com/model/anthropic.claude-3-sonnet-20240229-v1:0/invoke-with-response-stream \"HTTP/1.1 200 OK\"\n"
     ]
    },
    {
     "name": "stdout",
     "output_type": "stream",
     "text": [
      "现状描述:当前为第一晚,共有8名玩家存活。身份分配为2狼人、1预言家、5村民。P3(狼人)投票杀死P2。"
     ]
    },
    {
     "name": "stderr",
     "output_type": "stream",
     "text": [
      "03/06/2024 04:36:09 PM \t\t===== DoAnswer NIGHT 2 P6 ======\n",
      "03/06/2024 04:36:09 PM \tQUESTION: 现在是NIGHT 2,你支持的玩家是P6(狼人,本阵营为:P3,P6).目前场上玩家:P1:存活,P2:淘汰,P3:存活,P4:存活,P5:存活,P6:存活,P7:存活,P8:淘汰(逗号为分割符).现在是第2天夜晚，该如何行动?\n",
      "03/06/2024 04:36:09 PM Found credentials from IAM Role: BaseNotebookInstanceEc2InstanceRole\n",
      "03/06/2024 04:36:09 PM HTTP Request: POST https://bedrock-runtime.us-east-1.amazonaws.com/model/anthropic.claude-3-sonnet-20240229-v1:0/invoke-with-response-stream \"HTTP/1.1 200 OK\"\n"
     ]
    },
    {
     "name": "stdout",
     "output_type": "stream",
     "text": [
      "Thought: 第一晚我们需要保持低调,不要引起太多怀疑。我建议杀一个相对安静的普通村民,避免引起激烈的反应。我们要密切关注白天讨论,努力识别预言家的身份。\n",
      "Action: WolfVote\n",
      "Action Input: P5\n",
      "Final Answer: {\"action\": \"WolfVote\", \"target\": \"P5\"}"
     ]
    },
    {
     "name": "stderr",
     "output_type": "stream",
     "text": [
      "03/06/2024 04:36:15 PM \t\t===== DoAction NIGHT 2 P6 ======\n",
      "03/06/2024 04:36:15 PM \n",
      " [ROUND ACTION]={'time': 'NIGHT 2', 'player': 'P6', 'status': 1, 'role': '狼人', 'character': '过激型', 'response': ['{\"action\": \"WolfVote\", \"target\": \"P5\"}']}\n",
      "\n",
      "03/06/2024 04:36:15 PM \t===== NIGHT 2 PostAction ======\n",
      "03/06/2024 04:36:15 PM \t [wolf_votes]: ['P5'], [player_vote_name]: Counter({'P5': 1})\n",
      "03/06/2024 04:36:15 PM \n",
      " [WOLF VOTE]={'time': 'NIGHT 2', 'player': 'P5', 'status': 0, 'role': '村民', 'character': '话痨', 'response': '玩家P5于NIGHT 2被狼人投票而出局'}\n",
      "\n",
      "03/06/2024 04:36:15 PM Invoking: anthropic.claude-3-sonnet-20240229-v1:0\n",
      "03/06/2024 04:36:15 PM Found credentials from IAM Role: BaseNotebookInstanceEc2InstanceRole\n",
      "03/06/2024 04:36:15 PM HTTP Request: POST https://bedrock-runtime.us-east-1.amazonaws.com/model/anthropic.claude-3-sonnet-20240229-v1:0/invoke-with-response-stream \"HTTP/1.1 200 OK\"\n"
     ]
    },
    {
     "name": "stdout",
     "output_type": "stream",
     "text": [
      "游戏规则简述:\n",
      "\n",
      "两个阵营(坏人和好人)相互对抗。坏人阵营只"
     ]
    }
   ],
   "source": [
    "from shared.GameMaster import GameMaster\n",
    "from shared.PeTemplates import *\n",
    "\n",
    "GM = GameMaster(2, False)\n",
    "GM.ResetGame()\n",
    "GM.RunGame()\n",
    "GM.EndGame()"
   ]
  },
  {
   "cell_type": "code",
   "execution_count": null,
   "id": "4b9a864d-e0f0-4fbf-b7c8-6d79801118a8",
   "metadata": {},
   "outputs": [],
   "source": []
  }
 ],
 "metadata": {
  "kernelspec": {
   "display_name": "conda_pytorch_p310",
   "language": "python",
   "name": "conda_pytorch_p310"
  },
  "language_info": {
   "codemirror_mode": {
    "name": "ipython",
    "version": 3
   },
   "file_extension": ".py",
   "mimetype": "text/x-python",
   "name": "python",
   "nbconvert_exporter": "python",
   "pygments_lexer": "ipython3",
   "version": "3.10.13"
  }
 },
 "nbformat": 4,
 "nbformat_minor": 5
}
