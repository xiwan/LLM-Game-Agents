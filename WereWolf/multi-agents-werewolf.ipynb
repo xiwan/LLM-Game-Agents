{
 "cells": [
  {
   "cell_type": "code",
   "execution_count": null,
   "id": "a38bc454-75d5-4dc7-8b0d-21f1ece76983",
   "metadata": {
    "tags": []
   },
   "outputs": [],
   "source": [
    "# dependencies\n",
    "!pip install boto3>=1.28.59\n",
    "!pip install anthropic"
   ]
  },
  {
   "cell_type": "code",
   "execution_count": null,
   "id": "8b371c4e-8d7a-48a6-ac22-47619a21ed14",
   "metadata": {
    "tags": []
   },
   "outputs": [],
   "source": [
    "# global imports\n",
    "import json\n",
    "import os\n",
    "import sys\n",
    "import logging\n",
    "import boto3\n",
    "import botocore\n",
    "\n",
    "logger = logging.getLogger(__name__)\n",
    "\n",
    "module_path = \"..\"\n",
    "sys.path.append(os.path.abspath(module_path))"
   ]
  },
  {
   "cell_type": "code",
   "execution_count": null,
   "id": "d72774f1-bec2-4be9-b89c-1cdf8da00d6b",
   "metadata": {
    "tags": []
   },
   "outputs": [],
   "source": [
    "werewolf_rule_v1 = \"\"\"\n",
    "1. 游戏分坏人(狼人)和好人(村民+预言家)两大阵营,他们的目标为:\n",
    "- 坏人阵营只有狼人\n",
    "- 好人阵营有村民和预言家\n",
    "- 坏人阵营:消灭所有好人, 或者保证坏人数目大于好人数目\n",
    "- 好人阵营:消灭所有坏人, 或者保证好人数目大于坏人数目\n",
    "\n",
    "2. 游戏分白天和晚上两个阶段交替进行:\n",
    "- 晚上狼人睁眼统一投票杀死一名玩家\n",
    "- 晚上预言家只能查验一名玩家身份\n",
    "- 晚上普通村民无法行动\n",
    "- 白天分为讨论和投票两环节\n",
    "- 白天在讨论环节，每个玩家必须参与讨论\n",
    "- 白天在投票环节，每个玩家必须投票或者放弃\n",
    "\n",
    "\"\"\"\n",
    "\n",
    "werewolf_command_v1 = \"\"\"\n",
    "- WolfVote: 夜晚投票(狼人专属行动),参数: target=存活玩家\n",
    "- ProphetCheck: 夜晚查验(预言家专属行动), 参数: target=存活玩家\n",
    "- PlayerDoubt: 白天怀疑(所有玩家白天可选行动, 非投票), 参数: target=存活玩家 \n",
    "- PlayerVote: 白天投票, 参数: target=存活玩家 \n",
    "- Debate: 白天讨论, 参数: content=思考/理由 \n",
    "- GetAllPlayersName: 玩家信息, 参数: 无 \n",
    "- DeathWords: 死亡遗言, 参数: content=给予玩家线索\n",
    "- Pass: 玩家弃权参数: 无 \n",
    "\"\"\"\n",
    "\n",
    "template_player_role = \"\"\"你是资深的社交游戏玩家, 熟悉《狼人杀》游戏规则:\n",
    "<game_rules>\n",
    "{game_rule}\n",
    "</game_rules>\n",
    "\n",
    "你熟悉该游戏所有命令:\n",
    "<commands>\n",
    "{commands}\n",
    "</commands>\n",
    "\n",
    "<reflections>\n",
    "- 按照游戏规则，第一个夜晚死亡的一定是村民或者预言家，狼人没必要第一晚上自杀\n",
    "- 看完P3玩家昨天白天投票，明显感觉他在混淆是非，很有可能在给狼人分票\n",
    "- 平民玩家由于信息缺失，所以狼人要尽量引导他们去集火其他人\n",
    "- 第一个夜晚所有的行动都是随机的\n",
    "- 作为第一个死亡的玩家，其实信息有限，我就靠第六感推理...\n",
    "</reflections>\n",
    "\n",
    "<references>\n",
    "- {{\"action\": \"Pass\"}}\n",
    "- {{\"action\": \"WolfVote\", \"target\": \"小明\"}}\n",
    "- {{\"action\": \"ProphetCheck\", \"target\": \"P1\"}}\n",
    "- {{\"action\": \"PlayerVote\", \"target\": \"老王\"}}\n",
    "- {{\"action\": \"Debate\", \"content\": \"我的推理为xx是狼，原因是...\"}}\n",
    "- {{\"action\": \"DeathWords\", \"content\": \"我觉得xx有很大的嫌疑, 原因是...\"}}\n",
    "</references>\n",
    "\n",
    "历史信息:\n",
    "<history>\n",
    "{history}\n",
    "</history>\n",
    "\n",
    "记住，你支持的玩家是 {nickname}, 身份是 {role}, 性格为 {character}, 必须帮助玩家进行这个游戏\n",
    "接下来你的目的是: 通过一步一步思考决策引导游戏往有利于的方向进行, 最终赢得比赛. \n",
    "\n",
    "决策满足下面要求:\n",
    "- 内容不要罗嗦, 不要超过50字数限制,少讲废话, 突出重点\n",
    "- 判断场上信息真伪, 运用辩解,对抗,欺骗,伪装,坦白等等任意策略来做决策\n",
    "- 决策分为两类:思考或行动\n",
    "- 思考:逐步思考,判断信息真伪,分析游戏形势等等,参考 <reflections> 选择合适的输出\n",
    "- 行动:参考<references>按照json字符串格式输出,必须包含action key, action必须在<commands>中选择\n",
    "\n",
    "\n",
    "{input}\n",
    "\"\"\".replace(\"{game_rule}\", werewolf_rule_v1).replace(\"{commands}\", werewolf_command_v1)\n",
    "\n",
    "print(template_player_role)"
   ]
  },
  {
   "cell_type": "code",
   "execution_count": null,
   "id": "93a15f3d-955d-4f78-8936-e4fa5bd638bd",
   "metadata": {
    "tags": []
   },
   "outputs": [],
   "source": [
    "from shared.LangchainMini.LangchainMini import LangchainMini, LangchainMiniMemory, LangchainMiniPromptTemplate\n",
    "\n",
    "# A和C是同学,确认说\"ok\"\n",
    "# B和C是亲戚,确认说\"ok\"\n",
    "# A和C会是什么关系,开始推理\n",
    "\n",
    "# template = LangchainMiniPromptTemplate('''历史记录:{history}\n",
    "# B和C是什么关系，开始推理\"\n",
    "# ''')\n",
    "\n",
    "#template = LangchainMiniPromptTemplate(template_player_role)\n",
    "#prompt = template.format(input=\"你是狼人，第一个夜晚如何行动?\")\n",
    "\n",
    "agent = LangchainMini(model_id=\"anthropic.claude-3-sonnet-20240229-v1:0\", stream=True)\n",
    "memory = LangchainMiniMemory(k=1, llm=agent)\n",
    "llm = LangchainMini(model_id=\"anthropic.claude-3-sonnet-20240229-v1:0\", stream=True, memory=memory)\n",
    "# llm.System(\"Answer the question in Japanese.\")\n",
    "\n",
    "templates = ['{history} A和C是同学,确认说\"ok\"', '{history} B和C是亲戚,确认说\"ok\"', '{history} A和C会是什么关系,开始推理']\n",
    "for template in templates:\n",
    "    _template = LangchainMiniPromptTemplate(template)\n",
    "    prompt = _template.format()\n",
    "    llm.invoke(prompt)"
   ]
  },
  {
   "cell_type": "code",
   "execution_count": null,
   "id": "6e5ea165-99de-4c75-ba4d-5aeac562cef3",
   "metadata": {
    "tags": []
   },
   "outputs": [],
   "source": [
    "from shared.GameAssistant import GameAssistant\n",
    "from shared.PeTemplates import *\n",
    "\n",
    "#ga = GameAssistant(template_assistant_role, None)\n",
    "\n",
    "#ga.DoAnswer(\"总结下内容\")\n",
    "\n",
    "# print(werewolf_command_v1)\n",
    "\n",
    "# print(template_wolf_role)\n",
    "\n",
    "# print(template_prophet_role)\n",
    "\n",
    "# print(template_player_role)\n",
    "\n",
    "LoadPlayerPrompts()\n",
    "\n",
    "# print(roles_dict)"
   ]
  },
  {
   "cell_type": "code",
   "execution_count": null,
   "id": "6e4b2928-3d3c-4a7e-8a13-52d15e8154a6",
   "metadata": {},
   "outputs": [],
   "source": [
    "from shared.GamePlayer import GamePlayer\n",
    "from shared.GameMaster import GameMaster\n",
    "from shared.PeTemplates import *\n",
    "LoadPlayerPrompts()\n",
    "GM = GameMaster(1, False)\n",
    "for player in roles_dict[\"players\"]:\n",
    "    _player = GamePlayer(player, GM)\n",
    "    \n",
    "    _player.DoPlanning(game_config_dict[\"player\"][\"action_plan_night\"], 1)\n"
   ]
  },
  {
   "cell_type": "code",
   "execution_count": null,
   "id": "3f0f8075-bddd-458d-845b-d498bd72ed15",
   "metadata": {
    "tags": []
   },
   "outputs": [
    {
     "name": "stderr",
     "output_type": "stream",
     "text": [
      "03/08/2024 03:54:20 PM \t===== P1:存活,P2:存活,P3:存活,P4:存活,P5:存活,P6:存活,P7:存活,P8:存活 ResetGame =====\n",
      "03/08/2024 03:54:20 PM P1 is 预言家\n",
      "03/08/2024 03:54:20 PM Invoking: anthropic.claude-3-sonnet-20240229-v1:0\n",
      "03/08/2024 03:54:21 PM Invoking: anthropic.claude-3-sonnet-20240229-v1:0\n",
      "03/08/2024 03:54:21 PM P2 is 村民\n",
      "03/08/2024 03:54:21 PM Invoking: anthropic.claude-3-sonnet-20240229-v1:0\n",
      "03/08/2024 03:54:21 PM Invoking: anthropic.claude-3-sonnet-20240229-v1:0\n",
      "03/08/2024 03:54:21 PM P3 is 狼人\n",
      "03/08/2024 03:54:21 PM Invoking: anthropic.claude-3-sonnet-20240229-v1:0\n",
      "03/08/2024 03:54:21 PM Invoking: anthropic.claude-3-sonnet-20240229-v1:0\n",
      "03/08/2024 03:54:21 PM P4 is 村民\n",
      "03/08/2024 03:54:21 PM Invoking: anthropic.claude-3-sonnet-20240229-v1:0\n",
      "03/08/2024 03:54:21 PM Invoking: anthropic.claude-3-sonnet-20240229-v1:0\n",
      "03/08/2024 03:54:21 PM P5 is 村民\n",
      "03/08/2024 03:54:21 PM Invoking: anthropic.claude-3-sonnet-20240229-v1:0\n",
      "03/08/2024 03:54:21 PM Invoking: anthropic.claude-3-sonnet-20240229-v1:0\n",
      "03/08/2024 03:54:21 PM P6 is 狼人\n",
      "03/08/2024 03:54:21 PM Invoking: anthropic.claude-3-sonnet-20240229-v1:0\n",
      "03/08/2024 03:54:21 PM Invoking: anthropic.claude-3-sonnet-20240229-v1:0\n",
      "03/08/2024 03:54:21 PM P7 is 村民\n",
      "03/08/2024 03:54:21 PM Invoking: anthropic.claude-3-sonnet-20240229-v1:0\n",
      "03/08/2024 03:54:21 PM Invoking: anthropic.claude-3-sonnet-20240229-v1:0\n",
      "03/08/2024 03:54:21 PM P8 is 村民\n",
      "03/08/2024 03:54:21 PM Invoking: anthropic.claude-3-sonnet-20240229-v1:0\n",
      "03/08/2024 03:54:21 PM Invoking: anthropic.claude-3-sonnet-20240229-v1:0\n",
      "03/08/2024 03:54:21 PM \t===== P1:存活,P2:存活,P3:存活,P4:存活,P5:存活,P6:存活,P7:存活,P8:存活 RunGame =====\n",
      "03/08/2024 03:54:21 PM \t===== input_tokens: 0 output_tokens 0 ======\n",
      "03/08/2024 03:54:21 PM \t===== elapsed_time: 0.21461749076843262 ======\n",
      "03/08/2024 03:54:21 PM \t===== NIGHT 1 PreAction ======\n",
      "03/08/2024 03:54:21 PM \t===== NIGHT 1 DoAction ======\n",
      "03/08/2024 03:54:21 PM \t\t===== DoMemory NIGHT 1 P1 ======\n",
      "03/08/2024 03:54:21 PM \t\t===== DoAnswer NIGHT 1 P1 ======\n",
      "03/08/2024 03:54:21 PM \tQUESTION: 现在是NIGHT 1,你支持的玩家是P1(预言家)..目前场上玩家:P1:存活,P2:存活,P3:存活,P4:存活,P5:存活,P6:存活,P7:存活,P8:存活(逗号为分割符).现在是第1天夜晚，该如何行动?\n",
      "03/08/2024 03:54:21 PM Found credentials from IAM Role: BaseNotebookInstanceEc2InstanceRole\n",
      "03/08/2024 03:54:21 PM HTTP Request: POST https://bedrock-runtime.us-east-1.amazonaws.com/model/anthropic.claude-3-sonnet-20240229-v1:0/invoke-with-response-stream \"HTTP/1.1 200 OK\"\n"
     ]
    },
    {
     "name": "stdout",
     "output_type": "stream",
     "text": [
      "Thought: 作为预言家,我需要在第一晚查验一个玩家的身份,以获取有利信息。我应该查验一个可疑的玩家,比如平时说话不太积极的,或者表现有一些异常的。不过也不能过于武断,因为第一晚查验结果可能存在误差。\n",
      "\n",
      "Action: ProphetCheck\n",
      "Action Input: target=P3\n",
      "\n",
      "Final Answer: {\"action\": \"ProphetCheck\", \"target\": \"P3\"}"
     ]
    },
    {
     "name": "stderr",
     "output_type": "stream",
     "text": [
      "03/08/2024 03:54:24 PM \t\t===== DoAction NIGHT 1 P1 ======\n",
      "03/08/2024 03:54:24 PM [玩家P1于时间NIGHT 1, 执行动作为:{'action': 'ProphetCheck', 'target': 'P3'}]P3:狼人\n",
      "03/08/2024 03:54:24 PM \n",
      " [ROUND ACTION]={'time': 'NIGHT 1', 'player': 'P1', 'status': 1, 'role': '预言家', 'character': '独立思考', 'response': ['{\"action\": \"ProphetCheck\", \"target\": \"P3\"}']}\n",
      "\n",
      "03/08/2024 03:54:24 PM \t\t===== DoMemory NIGHT 1 P3 ======\n",
      "03/08/2024 03:54:24 PM \t\t===== DoAnswer NIGHT 1 P3 ======\n",
      "03/08/2024 03:54:24 PM \tQUESTION: 现在是NIGHT 1,你支持的玩家是P3(狼人,本阵营为:P3,P6).目前场上玩家:P1:存活,P2:存活,P3:存活,P4:存活,P5:存活,P6:存活,P7:存活,P8:存活(逗号为分割符).现在是第1天夜晚，该如何行动?\n",
      "03/08/2024 03:54:24 PM Found credentials from IAM Role: BaseNotebookInstanceEc2InstanceRole\n",
      "03/08/2024 03:54:24 PM HTTP Request: POST https://bedrock-runtime.us-east-1.amazonaws.com/model/anthropic.claude-3-sonnet-20240229-v1:0/invoke-with-response-stream \"HTTP/1.1 200 OK\"\n"
     ]
    },
    {
     "name": "stdout",
     "output_type": "stream",
     "text": [
      "Thought: 作为狼人阵营,我们需要在夜晚消灭一名好人玩家,以削弱对方力量。我们应该选择一个看起来比较软弱、不太可疑的玩家下手,以避免引起太多怀疑。同时,我们也要注意不暴露自己的身份。\n",
      "Action: WolfVote\n",
      "Action Input: target=P8\n",
      "Final Answer: {\"action\": \"WolfVote\", \"target\": \"P8\"}"
     ]
    },
    {
     "name": "stderr",
     "output_type": "stream",
     "text": [
      "03/08/2024 03:54:27 PM \t\t===== DoAction NIGHT 1 P3 ======\n",
      "03/08/2024 03:54:27 PM \n",
      " [ROUND ACTION]={'time': 'NIGHT 1', 'player': 'P3', 'status': 1, 'role': '狼人', 'character': '组织者', 'response': ['{\"action\": \"WolfVote\", \"target\": \"P8\"}']}\n",
      "\n",
      "03/08/2024 03:54:27 PM \t\t===== DoMemory NIGHT 1 P6 ======\n",
      "03/08/2024 03:54:27 PM Found credentials from IAM Role: BaseNotebookInstanceEc2InstanceRole\n",
      "03/08/2024 03:54:27 PM HTTP Request: POST https://bedrock-runtime.us-east-1.amazonaws.com/model/anthropic.claude-3-sonnet-20240229-v1:0/invoke-with-response-stream \"HTTP/1.1 200 OK\"\n"
     ]
    },
    {
     "name": "stdout",
     "output_type": "stream",
     "text": [
      "目前8名玩家全部存活。根据规则,夜晚狼人需要投票杀死一名玩家,这一轮狼人投票杀死P8。"
     ]
    },
    {
     "name": "stderr",
     "output_type": "stream",
     "text": [
      "03/08/2024 03:54:29 PM \t\t===== DoAnswer NIGHT 1 P6 ======\n",
      "03/08/2024 03:54:29 PM \tQUESTION: 现在是NIGHT 1,你支持的玩家是P6(狼人,本阵营为:P3,P6).目前场上玩家:P1:存活,P2:存活,P3:存活,P4:存活,P5:存活,P6:存活,P7:存活,P8:存活(逗号为分割符).现在是第1天夜晚，该如何行动?\n",
      "03/08/2024 03:54:29 PM Found credentials from IAM Role: BaseNotebookInstanceEc2InstanceRole\n",
      "03/08/2024 03:54:29 PM HTTP Request: POST https://bedrock-runtime.us-east-1.amazonaws.com/model/anthropic.claude-3-sonnet-20240229-v1:0/invoke-with-response-stream \"HTTP/1.1 200 OK\"\n"
     ]
    },
    {
     "name": "stdout",
     "output_type": "stream",
     "text": [
      "Thought: 作为狼人,我需要消灭好人,并且隐藏自己的身份。第一晚最重要的是杀掉预言家,防止他查出我的身份。同时也要考虑杀害一些容易引起怀疑的村民,为以后的游戏做铺垫。\n",
      "\n",
      "Action: WolfVote\n",
      "Action Input: target=P1\n",
      "\n",
      "Final Answer: {\"action\": \"WolfVote\", \"target\": \"P1\"}"
     ]
    },
    {
     "name": "stderr",
     "output_type": "stream",
     "text": [
      "03/08/2024 03:54:32 PM \t\t===== DoAction NIGHT 1 P6 ======\n",
      "03/08/2024 03:54:32 PM \n",
      " [ROUND ACTION]={'time': 'NIGHT 1', 'player': 'P6', 'status': 1, 'role': '狼人', 'character': '过激型', 'response': ['{\"action\": \"WolfVote\", \"target\": \"P1\"}']}\n",
      "\n",
      "03/08/2024 03:54:32 PM \t===== NIGHT 1 PostAction ======\n",
      "03/08/2024 03:54:32 PM 上轮投票失败，这次只能投P8,P1玩家中一人\n",
      "03/08/2024 03:54:32 PM 上轮投票失败，这次只能投P8,P1玩家中一人\n",
      "03/08/2024 03:54:32 PM \t====== 时间NIGHT 1, 狼人没有统一选择, 夜晚必须要投出一名玩家.\n",
      "03/08/2024 03:54:32 PM \t===== NIGHT 1 DoAction ======\n",
      "03/08/2024 03:54:32 PM \t\t===== DoMemory NIGHT 1 P1 ======\n",
      "03/08/2024 03:54:32 PM Found credentials from IAM Role: BaseNotebookInstanceEc2InstanceRole\n",
      "03/08/2024 03:54:32 PM HTTP Request: POST https://bedrock-runtime.us-east-1.amazonaws.com/model/anthropic.claude-3-sonnet-20240229-v1:0/invoke-with-response-stream \"HTTP/1.1 200 OK\"\n"
     ]
    },
    {
     "name": "stdout",
     "output_type": "stream",
     "text": [
      "当前8名玩家均存活,2名狼人、1名预言家、5名村民。上一轮晚上预言家查验P3为狼人身份,狼人未能成功杀人。"
     ]
    },
    {
     "name": "stderr",
     "output_type": "stream",
     "text": [
      "03/08/2024 03:54:34 PM \t\t===== DoAnswer NIGHT 1 P1 ======\n",
      "03/08/2024 03:54:34 PM \tQUESTION: 现在是NIGHT 1,你支持的玩家是P1(预言家)..目前场上玩家:P1:存活,P2:存活,P3:存活,P4:存活,P5:存活,P6:存活,P7:存活,P8:存活(逗号为分割符).现在是第1天夜晚，该如何行动?\n",
      "03/08/2024 03:54:34 PM Found credentials from IAM Role: BaseNotebookInstanceEc2InstanceRole\n",
      "03/08/2024 03:54:35 PM HTTP Request: POST https://bedrock-runtime.us-east-1.amazonaws.com/model/anthropic.claude-3-sonnet-20240229-v1:0/invoke-with-response-stream \"HTTP/1.1 200 OK\"\n"
     ]
    },
    {
     "name": "stdout",
     "output_type": "stream",
     "text": [
      "Thought: 第一晚作为预言家,查验一个可疑玩家的身份是明智之举。我应该选择一个比较安静、表现异常或可疑的玩家进行查验,以获取有利信息。但同时也要意识到第一晚的查验结果可能存在误差,不能过于武断。\n",
      "\n",
      "Action: ProphetCheck\n",
      "Action Input: target=P5\n",
      "\n",
      "Final Answer: {\"action\": \"ProphetCheck\", \"target\": \"P5\"}"
     ]
    },
    {
     "name": "stderr",
     "output_type": "stream",
     "text": [
      "03/08/2024 03:54:39 PM \t\t===== DoAction NIGHT 1 P1 ======\n",
      "03/08/2024 03:54:39 PM [玩家P1于时间NIGHT 1, 执行动作为:{'action': 'ProphetCheck', 'target': 'P5'}]P5:村民\n",
      "03/08/2024 03:54:39 PM \n",
      " [ROUND ACTION]={'time': 'NIGHT 1', 'player': 'P1', 'status': 1, 'role': '预言家', 'character': '独立思考', 'response': ['{\"action\": \"ProphetCheck\", \"target\": \"P5\"}']}\n",
      "\n",
      "03/08/2024 03:54:39 PM \t\t===== DoMemory NIGHT 1 P3 ======\n",
      "03/08/2024 03:54:39 PM Found credentials from IAM Role: BaseNotebookInstanceEc2InstanceRole\n",
      "03/08/2024 03:54:39 PM HTTP Request: POST https://bedrock-runtime.us-east-1.amazonaws.com/model/anthropic.claude-3-sonnet-20240229-v1:0/invoke-with-response-stream \"HTTP/1.1 200 OK\"\n"
     ]
    },
    {
     "name": "stdout",
     "output_type": "stream",
     "text": [
      "8名玩家全部存活,包含2名狼人、1名预言家和5名村民。第一夜狼人未能统一投票杀人,违反了游戏规则。"
     ]
    },
    {
     "name": "stderr",
     "output_type": "stream",
     "text": [
      "03/08/2024 03:54:40 PM \t\t===== DoAnswer NIGHT 1 P3 ======\n",
      "03/08/2024 03:54:40 PM \tQUESTION: 现在是NIGHT 1,你支持的玩家是P3(狼人,本阵营为:P3,P6).目前场上玩家:P1:存活,P2:存活,P3:存活,P4:存活,P5:存活,P6:存活,P7:存活,P8:存活(逗号为分割符).现在是第1天夜晚，该如何行动?\n",
      "03/08/2024 03:54:40 PM Found credentials from IAM Role: BaseNotebookInstanceEc2InstanceRole\n",
      "03/08/2024 03:54:41 PM HTTP Request: POST https://bedrock-runtime.us-east-1.amazonaws.com/model/anthropic.claude-3-sonnet-20240229-v1:0/invoke-with-response-stream \"HTTP/1.1 200 OK\"\n"
     ]
    },
    {
     "name": "stdout",
     "output_type": "stream",
     "text": [
      "Thought: 在第一夜, 我们需要谨慎行事,不要引起太多怀疑。我们可以选择一个相对沉默、低调的玩家下手,避免引起其他人的注意。同时,我们要互相掩护,避免暴露自己的身份。\n",
      "Action: WolfVote\n",
      "Action Input: target=P5\n",
      "Final Answer: {\"action\": \"WolfVote\", \"target\": \"P5\"}"
     ]
    },
    {
     "name": "stderr",
     "output_type": "stream",
     "text": [
      "03/08/2024 03:54:44 PM \t\t===== DoAction NIGHT 1 P3 ======\n",
      "03/08/2024 03:54:44 PM \n",
      " [ROUND ACTION]={'time': 'NIGHT 1', 'player': 'P3', 'status': 1, 'role': '狼人', 'character': '组织者', 'response': ['{\"action\": \"WolfVote\", \"target\": \"P5\"}']}\n",
      "\n",
      "03/08/2024 03:54:44 PM \t\t===== DoMemory NIGHT 1 P6 ======\n",
      "03/08/2024 03:54:44 PM Found credentials from IAM Role: BaseNotebookInstanceEc2InstanceRole\n",
      "03/08/2024 03:54:44 PM HTTP Request: POST https://bedrock-runtime.us-east-1.amazonaws.com/model/anthropic.claude-3-sonnet-20240229-v1:0/invoke-with-response-stream \"HTTP/1.1 200 OK\"\n"
     ]
    },
    {
     "name": "stdout",
     "output_type": "stream",
     "text": [
      "目前8名玩家全部存活。根据规则,夜晚狼人需要投票杀死一名玩家,这一轮狼人投票杀死P8。"
     ]
    },
    {
     "name": "stderr",
     "output_type": "stream",
     "text": [
      "03/08/2024 03:54:45 PM \t\t===== DoAnswer NIGHT 1 P6 ======\n",
      "03/08/2024 03:54:45 PM \tQUESTION: 现在是NIGHT 1,你支持的玩家是P6(狼人,本阵营为:P3,P6).目前场上玩家:P1:存活,P2:存活,P3:存活,P4:存活,P5:存活,P6:存活,P7:存活,P8:存活(逗号为分割符).现在是第1天夜晚，该如何行动?\n",
      "03/08/2024 03:54:45 PM Found credentials from IAM Role: BaseNotebookInstanceEc2InstanceRole\n",
      "03/08/2024 03:54:46 PM HTTP Request: POST https://bedrock-runtime.us-east-1.amazonaws.com/model/anthropic.claude-3-sonnet-20240229-v1:0/invoke-with-response-stream \"HTTP/1.1 200 OK\"\n"
     ]
    },
    {
     "name": "stdout",
     "output_type": "stream",
     "text": [
      "Thought: 第一晚最关键的是先除掉预言家,防止他查出我的身份。同时也要考虑杀掉一些可疑的村民,为以后的游戏制造混乱和猜忌。我会投票杀掉看起来最可疑的村民P2。\n",
      "\n",
      "Action: WolfVote  \n",
      "Action Input: target=P2\n",
      "\n",
      "Final Answer: {\"action\": \"WolfVote\", \"target\": \"P2\"}"
     ]
    },
    {
     "name": "stderr",
     "output_type": "stream",
     "text": [
      "03/08/2024 03:54:50 PM \t\t===== DoAction NIGHT 1 P6 ======\n",
      "03/08/2024 03:54:50 PM \n",
      " [ROUND ACTION]={'time': 'NIGHT 1', 'player': 'P6', 'status': 1, 'role': '狼人', 'character': '过激型', 'response': ['{\"action\": \"WolfVote\", \"target\": \"P2\"}']}\n",
      "\n",
      "03/08/2024 03:54:50 PM 上轮投票失败，这次只能投P5,P2玩家中一人\n",
      "03/08/2024 03:54:50 PM 上轮投票失败，这次只能投P5,P2玩家中一人\n",
      "03/08/2024 03:54:50 PM \t====== 时间NIGHT 1, 狼人没有统一选择, 夜晚必须要投出一名玩家.\n",
      "03/08/2024 03:54:50 PM \t===== NIGHT 1 DoAction ======\n",
      "03/08/2024 03:54:50 PM \t\t===== DoMemory NIGHT 1 P1 ======\n",
      "03/08/2024 03:54:50 PM Found credentials from IAM Role: BaseNotebookInstanceEc2InstanceRole\n",
      "03/08/2024 03:54:50 PM HTTP Request: POST https://bedrock-runtime.us-east-1.amazonaws.com/model/anthropic.claude-3-sonnet-20240229-v1:0/invoke-with-response-stream \"HTTP/1.1 200 OK\"\n"
     ]
    },
    {
     "name": "stdout",
     "output_type": "stream",
     "text": [
      "当前8名玩家均存活,已确认P3为狼人身份,狼人上一轮夜晚未能成功杀人。"
     ]
    },
    {
     "name": "stderr",
     "output_type": "stream",
     "text": [
      "03/08/2024 03:54:52 PM \t\t===== DoAnswer NIGHT 1 P1 ======\n",
      "03/08/2024 03:54:52 PM \tQUESTION: 现在是NIGHT 1,你支持的玩家是P1(预言家)..目前场上玩家:P1:存活,P2:存活,P3:存活,P4:存活,P5:存活,P6:存活,P7:存活,P8:存活(逗号为分割符).现在是第1天夜晚，该如何行动?\n",
      "03/08/2024 03:54:52 PM Found credentials from IAM Role: BaseNotebookInstanceEc2InstanceRole\n",
      "03/08/2024 03:54:52 PM HTTP Request: POST https://bedrock-runtime.us-east-1.amazonaws.com/model/anthropic.claude-3-sonnet-20240229-v1:0/invoke-with-response-stream \"HTTP/1.1 200 OK\"\n"
     ]
    },
    {
     "name": "stdout",
     "output_type": "stream",
     "text": [
      "Thought: 作为预言家,第一晚我需要审慎地选择一个可疑玩家进行身份查验。我会观察那些在游戏开始时表现较为沉默或行为举止有异常之处的玩家,他们可能更值得怀疑。但同时也要意识到第一晚的查验结果可能存在误差,不能操之过急。\n",
      "\n",
      "Action: ProphetCheck\n",
      "Action Input: target=P7\n",
      "\n",
      "Final Answer: {\"action\": \"ProphetCheck\", \"target\": \"P7\"}"
     ]
    },
    {
     "name": "stderr",
     "output_type": "stream",
     "text": [
      "03/08/2024 03:54:57 PM \t\t===== DoAction NIGHT 1 P1 ======\n",
      "03/08/2024 03:54:57 PM [玩家P1于时间NIGHT 1, 执行动作为:{'action': 'ProphetCheck', 'target': 'P7'}]P7:村民\n",
      "03/08/2024 03:54:57 PM \n",
      " [ROUND ACTION]={'time': 'NIGHT 1', 'player': 'P1', 'status': 1, 'role': '预言家', 'character': '独立思考', 'response': ['{\"action\": \"ProphetCheck\", \"target\": \"P7\"}']}\n",
      "\n",
      "03/08/2024 03:54:57 PM \t\t===== DoMemory NIGHT 1 P3 ======\n",
      "03/08/2024 03:54:57 PM Found credentials from IAM Role: BaseNotebookInstanceEc2InstanceRole\n",
      "03/08/2024 03:54:57 PM HTTP Request: POST https://bedrock-runtime.us-east-1.amazonaws.com/model/anthropic.claude-3-sonnet-20240229-v1:0/invoke-with-response-stream \"HTTP/1.1 200 OK\"\n"
     ]
    },
    {
     "name": "stdout",
     "output_type": "stream",
     "text": [
      "8名玩家全部存活,包含2名狼人、1名预言家和5名村民。第一夜狼人未能统一投票杀人,违反了游戏规则。"
     ]
    },
    {
     "name": "stderr",
     "output_type": "stream",
     "text": [
      "03/08/2024 03:54:58 PM \t\t===== DoAnswer NIGHT 1 P3 ======\n",
      "03/08/2024 03:54:58 PM \tQUESTION: 现在是NIGHT 1,你支持的玩家是P3(狼人,本阵营为:P3,P6).目前场上玩家:P1:存活,P2:存活,P3:存活,P4:存活,P5:存活,P6:存活,P7:存活,P8:存活(逗号为分割符).现在是第1天夜晚，该如何行动?\n",
      "03/08/2024 03:54:58 PM Found credentials from IAM Role: BaseNotebookInstanceEc2InstanceRole\n",
      "03/08/2024 03:54:59 PM HTTP Request: POST https://bedrock-runtime.us-east-1.amazonaws.com/model/anthropic.claude-3-sonnet-20240229-v1:0/invoke-with-response-stream \"HTTP/1.1 200 OK\"\n"
     ]
    },
    {
     "name": "stdout",
     "output_type": "stream",
     "text": [
      "Thought: 第一夜我们需要谨慎行事,选择一个不太引人注目的玩家下手。同时,我们要互相掩护,避免暴露身份。让我们杀掉P7,他一直没有太多发言,不太可疑。\n",
      "Action: WolfVote\n",
      "Action Input: target=P7\n",
      "Final Answer: {\"action\": \"WolfVote\", \"target\": \"P7\"}"
     ]
    },
    {
     "name": "stderr",
     "output_type": "stream",
     "text": [
      "03/08/2024 03:55:03 PM \t\t===== DoAction NIGHT 1 P3 ======\n",
      "03/08/2024 03:55:03 PM \n",
      " [ROUND ACTION]={'time': 'NIGHT 1', 'player': 'P3', 'status': 1, 'role': '狼人', 'character': '组织者', 'response': ['{\"action\": \"WolfVote\", \"target\": \"P7\"}']}\n",
      "\n",
      "03/08/2024 03:55:03 PM \t\t===== DoMemory NIGHT 1 P6 ======\n",
      "03/08/2024 03:55:03 PM Found credentials from IAM Role: BaseNotebookInstanceEc2InstanceRole\n",
      "03/08/2024 03:55:03 PM HTTP Request: POST https://bedrock-runtime.us-east-1.amazonaws.com/model/anthropic.claude-3-sonnet-20240229-v1:0/invoke-with-response-stream \"HTTP/1.1 200 OK\"\n"
     ]
    },
    {
     "name": "stdout",
     "output_type": "stream",
     "text": [
      "目前8名玩家全部存活。根据规则,夜晚狼人需要投票杀死一名玩家,这一轮狼人投票杀死P8。"
     ]
    },
    {
     "name": "stderr",
     "output_type": "stream",
     "text": [
      "03/08/2024 03:55:04 PM \t\t===== DoAnswer NIGHT 1 P6 ======\n",
      "03/08/2024 03:55:04 PM \tQUESTION: 现在是NIGHT 1,你支持的玩家是P6(狼人,本阵营为:P3,P6).目前场上玩家:P1:存活,P2:存活,P3:存活,P4:存活,P5:存活,P6:存活,P7:存活,P8:存活(逗号为分割符).现在是第1天夜晚，该如何行动?\n",
      "03/08/2024 03:55:04 PM Found credentials from IAM Role: BaseNotebookInstanceEc2InstanceRole\n",
      "03/08/2024 03:55:04 PM HTTP Request: POST https://bedrock-runtime.us-east-1.amazonaws.com/model/anthropic.claude-3-sonnet-20240229-v1:0/invoke-with-response-stream \"HTTP/1.1 200 OK\"\n"
     ]
    },
    {
     "name": "stdout",
     "output_type": "stream",
     "text": [
      "Thought: 作为狼人,我需要消灭预言家,防止被查出身份。同时也要考虑杀掉一些可疑的村民,制造混乱和猜忌。我会先投票杀掉P1,因为他看起来最可疑。\n",
      "\n",
      "Action: WolfVote\n",
      "Action Input: target=P1  \n",
      "\n",
      "Final Answer: {\"action\": \"WolfVote\", \"target\": \"P1\"}"
     ]
    },
    {
     "name": "stderr",
     "output_type": "stream",
     "text": [
      "03/08/2024 03:55:08 PM \t\t===== DoAction NIGHT 1 P6 ======\n",
      "03/08/2024 03:55:08 PM \n",
      " [ROUND ACTION]={'time': 'NIGHT 1', 'player': 'P6', 'status': 1, 'role': '狼人', 'character': '过激型', 'response': ['{\"action\": \"WolfVote\", \"target\": \"P1\"}']}\n",
      "\n",
      "03/08/2024 03:55:08 PM 上轮投票失败，这次只能投P7,P1玩家中一人\n",
      "03/08/2024 03:55:08 PM 上轮投票失败，这次只能投P7,P1玩家中一人\n",
      "03/08/2024 03:55:08 PM \t====== 时间NIGHT 1, 狼人没有统一选择, 夜晚必须要投出一名玩家.\n",
      "03/08/2024 03:55:08 PM \t===== NIGHT 1 DoAction ======\n",
      "03/08/2024 03:55:08 PM \t\t===== DoMemory NIGHT 1 P1 ======\n",
      "03/08/2024 03:55:08 PM Found credentials from IAM Role: BaseNotebookInstanceEc2InstanceRole\n",
      "03/08/2024 03:55:09 PM HTTP Request: POST https://bedrock-runtime.us-east-1.amazonaws.com/model/anthropic.claude-3-sonnet-20240229-v1:0/invoke-with-response-stream \"HTTP/1.1 200 OK\"\n"
     ]
    },
    {
     "name": "stdout",
     "output_type": "stream",
     "text": [
      "当前8名玩家均存活,已确认P3为狼人身份,狼人上一轮夜晚未能成功杀人。"
     ]
    },
    {
     "name": "stderr",
     "output_type": "stream",
     "text": [
      "03/08/2024 03:55:10 PM \t\t===== DoAnswer NIGHT 1 P1 ======\n",
      "03/08/2024 03:55:10 PM \tQUESTION: 现在是NIGHT 1,你支持的玩家是P1(预言家)..目前场上玩家:P1:存活,P2:存活,P3:存活,P4:存活,P5:存活,P6:存活,P7:存活,P8:存活(逗号为分割符).现在是第1天夜晚，该如何行动?\n",
      "03/08/2024 03:55:10 PM Found credentials from IAM Role: BaseNotebookInstanceEc2InstanceRole\n",
      "03/08/2024 03:55:10 PM HTTP Request: POST https://bedrock-runtime.us-east-1.amazonaws.com/model/anthropic.claude-3-sonnet-20240229-v1:0/invoke-with-response-stream \"HTTP/1.1 200 OK\"\n"
     ]
    },
    {
     "name": "stdout",
     "output_type": "stream",
     "text": [
      "Thought: 第一晚作为预言家,我需要审慎地选择一名可疑玩家进行身份查验。我会观察那些在游戏开始时表现异常、说话较少或行为怪异的玩家,他们更值得怀疑。但同时也要谨记第一晚的查验结果可能存在偏差,不能操之过急下定论。\n",
      "\n",
      "Action: ProphetCheck\n",
      "Action Input: target=P8\n",
      "\n",
      "Final Answer: {\"action\": \"ProphetCheck\", \"target\": \"P8\"}"
     ]
    },
    {
     "name": "stderr",
     "output_type": "stream",
     "text": [
      "03/08/2024 03:55:16 PM \t\t===== DoAction NIGHT 1 P1 ======\n",
      "03/08/2024 03:55:16 PM [玩家P1于时间NIGHT 1, 执行动作为:{'action': 'ProphetCheck', 'target': 'P8'}]P8:村民\n",
      "03/08/2024 03:55:16 PM \n",
      " [ROUND ACTION]={'time': 'NIGHT 1', 'player': 'P1', 'status': 1, 'role': '预言家', 'character': '独立思考', 'response': ['{\"action\": \"ProphetCheck\", \"target\": \"P8\"}']}\n",
      "\n",
      "03/08/2024 03:55:16 PM \t\t===== DoMemory NIGHT 1 P3 ======\n",
      "03/08/2024 03:55:16 PM Found credentials from IAM Role: BaseNotebookInstanceEc2InstanceRole\n",
      "03/08/2024 03:55:16 PM HTTP Request: POST https://bedrock-runtime.us-east-1.amazonaws.com/model/anthropic.claude-3-sonnet-20240229-v1:0/invoke-with-response-stream \"HTTP/1.1 200 OK\"\n"
     ]
    },
    {
     "name": "stdout",
     "output_type": "stream",
     "text": [
      "8名玩家全部存活,包含2名狼人、1名预言家和5名村民。第一夜狼人未能统一投票杀人,违反了游戏规则。"
     ]
    },
    {
     "name": "stderr",
     "output_type": "stream",
     "text": [
      "03/08/2024 03:55:17 PM \t\t===== DoAnswer NIGHT 1 P3 ======\n",
      "03/08/2024 03:55:17 PM \tQUESTION: 现在是NIGHT 1,你支持的玩家是P3(狼人,本阵营为:P3,P6).目前场上玩家:P1:存活,P2:存活,P3:存活,P4:存活,P5:存活,P6:存活,P7:存活,P8:存活(逗号为分割符).现在是第1天夜晚，该如何行动?\n",
      "03/08/2024 03:55:17 PM Found credentials from IAM Role: BaseNotebookInstanceEc2InstanceRole\n",
      "03/08/2024 03:55:17 PM HTTP Request: POST https://bedrock-runtime.us-east-1.amazonaws.com/model/anthropic.claude-3-sonnet-20240229-v1:0/invoke-with-response-stream \"HTTP/1.1 200 OK\"\n"
     ]
    },
    {
     "name": "stdout",
     "output_type": "stream",
     "text": [
      "Thought: 第一夜我们需要谨慎行动,选择一个不太活跃、不引人注目的玩家下手。这样可以避免立即引起其他人的怀疑。让我们杀掉P8,他一直没什么发言,应该不会太惹眼。\n",
      "Action: WolfVote\n",
      "Action Input: target=P8\n",
      "Final Answer: {\"action\": \"WolfVote\", \"target\": \"P8\"}"
     ]
    },
    {
     "name": "stderr",
     "output_type": "stream",
     "text": [
      "03/08/2024 03:55:21 PM \t\t===== DoAction NIGHT 1 P3 ======\n",
      "03/08/2024 03:55:21 PM \n",
      " [ROUND ACTION]={'time': 'NIGHT 1', 'player': 'P3', 'status': 1, 'role': '狼人', 'character': '组织者', 'response': ['{\"action\": \"WolfVote\", \"target\": \"P8\"}']}\n",
      "\n",
      "03/08/2024 03:55:21 PM \t\t===== DoMemory NIGHT 1 P6 ======\n",
      "03/08/2024 03:55:21 PM Found credentials from IAM Role: BaseNotebookInstanceEc2InstanceRole\n",
      "03/08/2024 03:55:22 PM HTTP Request: POST https://bedrock-runtime.us-east-1.amazonaws.com/model/anthropic.claude-3-sonnet-20240229-v1:0/invoke-with-response-stream \"HTTP/1.1 200 OK\"\n"
     ]
    },
    {
     "name": "stdout",
     "output_type": "stream",
     "text": [
      "目前8名玩家全部存活。根据规则,夜晚狼人需要投票杀死一名玩家,这一轮狼人投票杀死P8。"
     ]
    },
    {
     "name": "stderr",
     "output_type": "stream",
     "text": [
      "03/08/2024 03:55:23 PM \t\t===== DoAnswer NIGHT 1 P6 ======\n",
      "03/08/2024 03:55:23 PM \tQUESTION: 现在是NIGHT 1,你支持的玩家是P6(狼人,本阵营为:P3,P6).目前场上玩家:P1:存活,P2:存活,P3:存活,P4:存活,P5:存活,P6:存活,P7:存活,P8:存活(逗号为分割符).现在是第1天夜晚，该如何行动?\n",
      "03/08/2024 03:55:23 PM Found credentials from IAM Role: BaseNotebookInstanceEc2InstanceRole\n",
      "03/08/2024 03:55:23 PM HTTP Request: POST https://bedrock-runtime.us-east-1.amazonaws.com/model/anthropic.claude-3-sonnet-20240229-v1:0/invoke-with-response-stream \"HTTP/1.1 200 OK\"\n"
     ]
    },
    {
     "name": "stdout",
     "output_type": "stream",
     "text": [
      "Thought: 作为狼人,我需要先排除预言家的威胁,防止被查出身份。同时也要考虑除掉一些行为可疑的村民,为后面的游戏制造混乱。我会先投票杀P1,因为他看起来最可疑。\n",
      "\n",
      "Action: WolfVote\n",
      "Action Input: target=P1\n",
      "\n",
      "Final Answer: {\"action\": \"WolfVote\", \"target\": \"P1\"}"
     ]
    },
    {
     "name": "stderr",
     "output_type": "stream",
     "text": [
      "03/08/2024 03:55:27 PM \t\t===== DoAction NIGHT 1 P6 ======\n",
      "03/08/2024 03:55:27 PM \n",
      " [ROUND ACTION]={'time': 'NIGHT 1', 'player': 'P6', 'status': 1, 'role': '狼人', 'character': '过激型', 'response': ['{\"action\": \"WolfVote\", \"target\": \"P1\"}']}\n",
      "\n",
      "03/08/2024 03:55:27 PM 上轮投票失败，这次只能投P8,P1玩家中一人\n",
      "03/08/2024 03:55:27 PM 上轮投票失败，这次只能投P8,P1玩家中一人\n",
      "03/08/2024 03:55:27 PM \t====== 时间NIGHT 1, 狼人没有统一选择, 夜晚必须要投出一名玩家.\n",
      "03/08/2024 03:55:27 PM \t===== NIGHT 1 DoAction ======\n",
      "03/08/2024 03:55:27 PM \t\t===== DoMemory NIGHT 1 P1 ======\n",
      "03/08/2024 03:55:27 PM Found credentials from IAM Role: BaseNotebookInstanceEc2InstanceRole\n",
      "03/08/2024 03:55:28 PM HTTP Request: POST https://bedrock-runtime.us-east-1.amazonaws.com/model/anthropic.claude-3-sonnet-20240229-v1:0/invoke-with-response-stream \"HTTP/1.1 200 OK\"\n"
     ]
    },
    {
     "name": "stdout",
     "output_type": "stream",
     "text": [
      "当前8名玩家均存活,已确认P3为狼人身份,狼人上一轮夜晚未能成功杀人。"
     ]
    },
    {
     "name": "stderr",
     "output_type": "stream",
     "text": [
      "03/08/2024 03:55:29 PM \t\t===== DoAnswer NIGHT 1 P1 ======\n",
      "03/08/2024 03:55:29 PM \tQUESTION: 现在是NIGHT 1,你支持的玩家是P1(预言家)..目前场上玩家:P1:存活,P2:存活,P3:存活,P4:存活,P5:存活,P6:存活,P7:存活,P8:存活(逗号为分割符).现在是第1天夜晚，该如何行动?\n",
      "03/08/2024 03:55:29 PM Found credentials from IAM Role: BaseNotebookInstanceEc2InstanceRole\n",
      "03/08/2024 03:55:29 PM HTTP Request: POST https://bedrock-runtime.us-east-1.amazonaws.com/model/anthropic.claude-3-sonnet-20240229-v1:0/invoke-with-response-stream \"HTTP/1.1 200 OK\"\n"
     ]
    },
    {
     "name": "stdout",
     "output_type": "stream",
     "text": [
      "Thought: 第一晚作为预言家,我需要谨慎地选择一名可疑玩家进行身份查验。我会密切观察每个玩家的言行举止,特别是那些表现较为沉默、反常或可疑的人。但同时也要意识到第一晚的查验结果可能存在偏差,不能操之过急下定论。\n",
      "\n",
      "Action: ProphetCheck\n",
      "Action Input: target=P4\n",
      "\n",
      "Final Answer: {\"action\": \"ProphetCheck\", \"target\": \"P4\"}"
     ]
    },
    {
     "name": "stderr",
     "output_type": "stream",
     "text": [
      "03/08/2024 03:55:34 PM \t\t===== DoAction NIGHT 1 P1 ======\n",
      "03/08/2024 03:55:34 PM [玩家P1于时间NIGHT 1, 执行动作为:{'action': 'ProphetCheck', 'target': 'P4'}]P4:村民\n",
      "03/08/2024 03:55:34 PM \n",
      " [ROUND ACTION]={'time': 'NIGHT 1', 'player': 'P1', 'status': 1, 'role': '预言家', 'character': '独立思考', 'response': ['{\"action\": \"ProphetCheck\", \"target\": \"P4\"}']}\n",
      "\n",
      "03/08/2024 03:55:34 PM \t\t===== DoMemory NIGHT 1 P3 ======\n",
      "03/08/2024 03:55:34 PM Found credentials from IAM Role: BaseNotebookInstanceEc2InstanceRole\n",
      "03/08/2024 03:55:35 PM HTTP Request: POST https://bedrock-runtime.us-east-1.amazonaws.com/model/anthropic.claude-3-sonnet-20240229-v1:0/invoke-with-response-stream \"HTTP/1.1 200 OK\"\n"
     ]
    },
    {
     "name": "stdout",
     "output_type": "stream",
     "text": [
      "8名玩家全部存活,包含2名狼人、1名预言家和5名村民。第一夜狼人未能统一投票杀人,违反了游戏规则。"
     ]
    },
    {
     "name": "stderr",
     "output_type": "stream",
     "text": [
      "03/08/2024 03:55:36 PM \t\t===== DoAnswer NIGHT 1 P3 ======\n",
      "03/08/2024 03:55:36 PM \tQUESTION: 现在是NIGHT 1,你支持的玩家是P3(狼人,本阵营为:P3,P6).目前场上玩家:P1:存活,P2:存活,P3:存活,P4:存活,P5:存活,P6:存活,P7:存活,P8:存活(逗号为分割符).现在是第1天夜晚，该如何行动?\n",
      "03/08/2024 03:55:36 PM Found credentials from IAM Role: BaseNotebookInstanceEc2InstanceRole\n",
      "03/08/2024 03:55:36 PM HTTP Request: POST https://bedrock-runtime.us-east-1.amazonaws.com/model/anthropic.claude-3-sonnet-20240229-v1:0/invoke-with-response-stream \"HTTP/1.1 200 OK\"\n"
     ]
    },
    {
     "name": "stdout",
     "output_type": "stream",
     "text": [
      "Thought: 作为狼人阵营,我们需要在第一夜谨慎行事,选择一个低调、不太活跃的玩家下手,以避免立即引起其他人的怀疑。让我们把目标锁定在P8身上,他几乎没有任何发言,不太可能引起其他人的注意。\n",
      "Action: WolfVote\n",
      "Action Input: target=P8\n",
      "Final Answer: {\"action\": \"WolfVote\", \"target\": \"P8\"}"
     ]
    },
    {
     "name": "stderr",
     "output_type": "stream",
     "text": [
      "03/08/2024 03:55:41 PM \t\t===== DoAction NIGHT 1 P3 ======\n",
      "03/08/2024 03:55:41 PM \n",
      " [ROUND ACTION]={'time': 'NIGHT 1', 'player': 'P3', 'status': 1, 'role': '狼人', 'character': '组织者', 'response': ['{\"action\": \"WolfVote\", \"target\": \"P8\"}']}\n",
      "\n",
      "03/08/2024 03:55:41 PM \t\t===== DoMemory NIGHT 1 P6 ======\n",
      "03/08/2024 03:55:41 PM Found credentials from IAM Role: BaseNotebookInstanceEc2InstanceRole\n",
      "03/08/2024 03:55:41 PM HTTP Request: POST https://bedrock-runtime.us-east-1.amazonaws.com/model/anthropic.claude-3-sonnet-20240229-v1:0/invoke-with-response-stream \"HTTP/1.1 200 OK\"\n"
     ]
    },
    {
     "name": "stdout",
     "output_type": "stream",
     "text": [
      "目前8名玩家全部存活。根据规则,夜晚狼人需要投票杀死一名玩家,这一轮狼人投票杀死P8。"
     ]
    },
    {
     "name": "stderr",
     "output_type": "stream",
     "text": [
      "03/08/2024 03:55:42 PM \t\t===== DoAnswer NIGHT 1 P6 ======\n",
      "03/08/2024 03:55:42 PM \tQUESTION: 现在是NIGHT 1,你支持的玩家是P6(狼人,本阵营为:P3,P6).目前场上玩家:P1:存活,P2:存活,P3:存活,P4:存活,P5:存活,P6:存活,P7:存活,P8:存活(逗号为分割符).现在是第1天夜晚，该如何行动?\n",
      "03/08/2024 03:55:42 PM Found credentials from IAM Role: BaseNotebookInstanceEc2InstanceRole\n",
      "03/08/2024 03:55:42 PM HTTP Request: POST https://bedrock-runtime.us-east-1.amazonaws.com/model/anthropic.claude-3-sonnet-20240229-v1:0/invoke-with-response-stream \"HTTP/1.1 200 OK\"\n"
     ]
    }
   ],
   "source": [
    "from shared.GameMaster import GameMaster\n",
    "from shared.PeTemplates import *\n",
    "\n",
    "GM = GameMaster(5, False)\n",
    "GM.ResetGame()\n",
    "GM.RunGame()\n",
    "GM.EndGame()"
   ]
  },
  {
   "cell_type": "code",
   "execution_count": null,
   "id": "4b9a864d-e0f0-4fbf-b7c8-6d79801118a8",
   "metadata": {},
   "outputs": [],
   "source": []
  }
 ],
 "metadata": {
  "kernelspec": {
   "display_name": "conda_pytorch_p310",
   "language": "python",
   "name": "conda_pytorch_p310"
  },
  "language_info": {
   "codemirror_mode": {
    "name": "ipython",
    "version": 3
   },
   "file_extension": ".py",
   "mimetype": "text/x-python",
   "name": "python",
   "nbconvert_exporter": "python",
   "pygments_lexer": "ipython3",
   "version": "3.10.13"
  }
 },
 "nbformat": 4,
 "nbformat_minor": 5
}
