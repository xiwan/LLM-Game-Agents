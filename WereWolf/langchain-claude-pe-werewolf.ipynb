{
 "cells": [
  {
   "cell_type": "markdown",
   "id": "35db18b4-3f20-4090-9402-69ec7c684739",
   "metadata": {},
   "source": [
    "# Bedrock with LangChain using a Prompt that includes Context\n",
    "\n",
    "please refer the detail : https://github.com/aws-samples/amazon-bedrock-workshop/blob/main/01_Generation/02_contextual_generation.ipynb"
   ]
  },
  {
   "cell_type": "markdown",
   "id": "6fe8c40c-20fe-4af0-864e-8e6c828de6b4",
   "metadata": {},
   "source": [
    "## install dependencies"
   ]
  },
  {
   "cell_type": "code",
   "execution_count": 1,
   "id": "ca77056f-30e2-4871-8d34-9574db3ea726",
   "metadata": {
    "tags": []
   },
   "outputs": [
    {
     "name": "stdout",
     "output_type": "stream",
     "text": [
      "Requirement already satisfied: boto3 in /home/ec2-user/anaconda3/envs/pytorch_p310/lib/python3.10/site-packages (1.34.55)\n",
      "Requirement already satisfied: botocore<1.35.0,>=1.34.55 in /home/ec2-user/anaconda3/envs/pytorch_p310/lib/python3.10/site-packages (from boto3) (1.34.55)\n",
      "Requirement already satisfied: jmespath<2.0.0,>=0.7.1 in /home/ec2-user/anaconda3/envs/pytorch_p310/lib/python3.10/site-packages (from boto3) (1.0.1)\n",
      "Requirement already satisfied: s3transfer<0.11.0,>=0.10.0 in /home/ec2-user/anaconda3/envs/pytorch_p310/lib/python3.10/site-packages (from boto3) (0.10.0)\n",
      "Requirement already satisfied: python-dateutil<3.0.0,>=2.1 in /home/ec2-user/anaconda3/envs/pytorch_p310/lib/python3.10/site-packages (from botocore<1.35.0,>=1.34.55->boto3) (2.8.2)\n",
      "Requirement already satisfied: urllib3<2.1,>=1.25.4 in /home/ec2-user/anaconda3/envs/pytorch_p310/lib/python3.10/site-packages (from botocore<1.35.0,>=1.34.55->boto3) (2.0.7)\n",
      "Requirement already satisfied: six>=1.5 in /home/ec2-user/anaconda3/envs/pytorch_p310/lib/python3.10/site-packages (from python-dateutil<3.0.0,>=2.1->botocore<1.35.0,>=1.34.55->boto3) (1.16.0)\n",
      "Requirement already satisfied: langchain in /home/ec2-user/anaconda3/envs/pytorch_p310/lib/python3.10/site-packages (0.1.7)\n",
      "Requirement already satisfied: PyYAML>=5.3 in /home/ec2-user/anaconda3/envs/pytorch_p310/lib/python3.10/site-packages (from langchain) (6.0.1)\n",
      "Requirement already satisfied: SQLAlchemy<3,>=1.4 in /home/ec2-user/anaconda3/envs/pytorch_p310/lib/python3.10/site-packages (from langchain) (2.0.27)\n",
      "Requirement already satisfied: aiohttp<4.0.0,>=3.8.3 in /home/ec2-user/anaconda3/envs/pytorch_p310/lib/python3.10/site-packages (from langchain) (3.9.3)\n",
      "Requirement already satisfied: async-timeout<5.0.0,>=4.0.0 in /home/ec2-user/anaconda3/envs/pytorch_p310/lib/python3.10/site-packages (from langchain) (4.0.3)\n",
      "Requirement already satisfied: dataclasses-json<0.7,>=0.5.7 in /home/ec2-user/anaconda3/envs/pytorch_p310/lib/python3.10/site-packages (from langchain) (0.6.4)\n",
      "Requirement already satisfied: jsonpatch<2.0,>=1.33 in /home/ec2-user/anaconda3/envs/pytorch_p310/lib/python3.10/site-packages (from langchain) (1.33)\n",
      "Requirement already satisfied: langchain-community<0.1,>=0.0.20 in /home/ec2-user/anaconda3/envs/pytorch_p310/lib/python3.10/site-packages (from langchain) (0.0.20)\n",
      "Requirement already satisfied: langchain-core<0.2,>=0.1.22 in /home/ec2-user/anaconda3/envs/pytorch_p310/lib/python3.10/site-packages (from langchain) (0.1.23)\n",
      "Requirement already satisfied: langsmith<0.1,>=0.0.83 in /home/ec2-user/anaconda3/envs/pytorch_p310/lib/python3.10/site-packages (from langchain) (0.0.87)\n",
      "Requirement already satisfied: numpy<2,>=1 in /home/ec2-user/anaconda3/envs/pytorch_p310/lib/python3.10/site-packages (from langchain) (1.26.1)\n",
      "Requirement already satisfied: pydantic<3,>=1 in /home/ec2-user/anaconda3/envs/pytorch_p310/lib/python3.10/site-packages (from langchain) (2.4.2)\n",
      "Requirement already satisfied: requests<3,>=2 in /home/ec2-user/anaconda3/envs/pytorch_p310/lib/python3.10/site-packages (from langchain) (2.31.0)\n",
      "Requirement already satisfied: tenacity<9.0.0,>=8.1.0 in /home/ec2-user/anaconda3/envs/pytorch_p310/lib/python3.10/site-packages (from langchain) (8.2.3)\n",
      "Requirement already satisfied: aiosignal>=1.1.2 in /home/ec2-user/anaconda3/envs/pytorch_p310/lib/python3.10/site-packages (from aiohttp<4.0.0,>=3.8.3->langchain) (1.3.1)\n",
      "Requirement already satisfied: attrs>=17.3.0 in /home/ec2-user/anaconda3/envs/pytorch_p310/lib/python3.10/site-packages (from aiohttp<4.0.0,>=3.8.3->langchain) (23.1.0)\n",
      "Requirement already satisfied: frozenlist>=1.1.1 in /home/ec2-user/anaconda3/envs/pytorch_p310/lib/python3.10/site-packages (from aiohttp<4.0.0,>=3.8.3->langchain) (1.4.1)\n",
      "Requirement already satisfied: multidict<7.0,>=4.5 in /home/ec2-user/anaconda3/envs/pytorch_p310/lib/python3.10/site-packages (from aiohttp<4.0.0,>=3.8.3->langchain) (6.0.5)\n",
      "Requirement already satisfied: yarl<2.0,>=1.0 in /home/ec2-user/anaconda3/envs/pytorch_p310/lib/python3.10/site-packages (from aiohttp<4.0.0,>=3.8.3->langchain) (1.9.4)\n",
      "Requirement already satisfied: marshmallow<4.0.0,>=3.18.0 in /home/ec2-user/anaconda3/envs/pytorch_p310/lib/python3.10/site-packages (from dataclasses-json<0.7,>=0.5.7->langchain) (3.20.2)\n",
      "Requirement already satisfied: typing-inspect<1,>=0.4.0 in /home/ec2-user/anaconda3/envs/pytorch_p310/lib/python3.10/site-packages (from dataclasses-json<0.7,>=0.5.7->langchain) (0.9.0)\n",
      "Requirement already satisfied: jsonpointer>=1.9 in /home/ec2-user/anaconda3/envs/pytorch_p310/lib/python3.10/site-packages (from jsonpatch<2.0,>=1.33->langchain) (2.4)\n",
      "Requirement already satisfied: anyio<5,>=3 in /home/ec2-user/anaconda3/envs/pytorch_p310/lib/python3.10/site-packages (from langchain-core<0.2,>=0.1.22->langchain) (4.0.0)\n",
      "Requirement already satisfied: packaging<24.0,>=23.2 in /home/ec2-user/anaconda3/envs/pytorch_p310/lib/python3.10/site-packages (from langchain-core<0.2,>=0.1.22->langchain) (23.2)\n",
      "Requirement already satisfied: annotated-types>=0.4.0 in /home/ec2-user/anaconda3/envs/pytorch_p310/lib/python3.10/site-packages (from pydantic<3,>=1->langchain) (0.6.0)\n",
      "Requirement already satisfied: pydantic-core==2.10.1 in /home/ec2-user/anaconda3/envs/pytorch_p310/lib/python3.10/site-packages (from pydantic<3,>=1->langchain) (2.10.1)\n",
      "Requirement already satisfied: typing-extensions>=4.6.1 in /home/ec2-user/anaconda3/envs/pytorch_p310/lib/python3.10/site-packages (from pydantic<3,>=1->langchain) (4.8.0)\n",
      "Requirement already satisfied: charset-normalizer<4,>=2 in /home/ec2-user/anaconda3/envs/pytorch_p310/lib/python3.10/site-packages (from requests<3,>=2->langchain) (3.3.1)\n",
      "Requirement already satisfied: idna<4,>=2.5 in /home/ec2-user/anaconda3/envs/pytorch_p310/lib/python3.10/site-packages (from requests<3,>=2->langchain) (3.4)\n",
      "Requirement already satisfied: urllib3<3,>=1.21.1 in /home/ec2-user/anaconda3/envs/pytorch_p310/lib/python3.10/site-packages (from requests<3,>=2->langchain) (2.0.7)\n",
      "Requirement already satisfied: certifi>=2017.4.17 in /home/ec2-user/anaconda3/envs/pytorch_p310/lib/python3.10/site-packages (from requests<3,>=2->langchain) (2023.7.22)\n",
      "Requirement already satisfied: greenlet!=0.4.17 in /home/ec2-user/anaconda3/envs/pytorch_p310/lib/python3.10/site-packages (from SQLAlchemy<3,>=1.4->langchain) (3.0.3)\n",
      "Requirement already satisfied: sniffio>=1.1 in /home/ec2-user/anaconda3/envs/pytorch_p310/lib/python3.10/site-packages (from anyio<5,>=3->langchain-core<0.2,>=0.1.22->langchain) (1.3.0)\n",
      "Requirement already satisfied: exceptiongroup>=1.0.2 in /home/ec2-user/anaconda3/envs/pytorch_p310/lib/python3.10/site-packages (from anyio<5,>=3->langchain-core<0.2,>=0.1.22->langchain) (1.1.3)\n",
      "Requirement already satisfied: mypy-extensions>=0.3.0 in /home/ec2-user/anaconda3/envs/pytorch_p310/lib/python3.10/site-packages (from typing-inspect<1,>=0.4.0->dataclasses-json<0.7,>=0.5.7->langchain) (1.0.0)\n",
      "Requirement already satisfied: langchainhub in /home/ec2-user/anaconda3/envs/pytorch_p310/lib/python3.10/site-packages (0.1.14)\n",
      "Requirement already satisfied: requests<3,>=2 in /home/ec2-user/anaconda3/envs/pytorch_p310/lib/python3.10/site-packages (from langchainhub) (2.31.0)\n",
      "Requirement already satisfied: types-requests<3.0.0.0,>=2.31.0.2 in /home/ec2-user/anaconda3/envs/pytorch_p310/lib/python3.10/site-packages (from langchainhub) (2.31.0.20240125)\n",
      "Requirement already satisfied: charset-normalizer<4,>=2 in /home/ec2-user/anaconda3/envs/pytorch_p310/lib/python3.10/site-packages (from requests<3,>=2->langchainhub) (3.3.1)\n",
      "Requirement already satisfied: idna<4,>=2.5 in /home/ec2-user/anaconda3/envs/pytorch_p310/lib/python3.10/site-packages (from requests<3,>=2->langchainhub) (3.4)\n",
      "Requirement already satisfied: urllib3<3,>=1.21.1 in /home/ec2-user/anaconda3/envs/pytorch_p310/lib/python3.10/site-packages (from requests<3,>=2->langchainhub) (2.0.7)\n",
      "Requirement already satisfied: certifi>=2017.4.17 in /home/ec2-user/anaconda3/envs/pytorch_p310/lib/python3.10/site-packages (from requests<3,>=2->langchainhub) (2023.7.22)\n",
      "Requirement already satisfied: anthropic in /home/ec2-user/anaconda3/envs/pytorch_p310/lib/python3.10/site-packages (0.16.0)\n",
      "Requirement already satisfied: anyio<5,>=3.5.0 in /home/ec2-user/anaconda3/envs/pytorch_p310/lib/python3.10/site-packages (from anthropic) (4.0.0)\n",
      "Requirement already satisfied: distro<2,>=1.7.0 in /home/ec2-user/anaconda3/envs/pytorch_p310/lib/python3.10/site-packages (from anthropic) (1.9.0)\n",
      "Requirement already satisfied: httpx<1,>=0.23.0 in /home/ec2-user/anaconda3/envs/pytorch_p310/lib/python3.10/site-packages (from anthropic) (0.26.0)\n",
      "Requirement already satisfied: pydantic<3,>=1.9.0 in /home/ec2-user/anaconda3/envs/pytorch_p310/lib/python3.10/site-packages (from anthropic) (2.4.2)\n",
      "Requirement already satisfied: sniffio in /home/ec2-user/anaconda3/envs/pytorch_p310/lib/python3.10/site-packages (from anthropic) (1.3.0)\n",
      "Requirement already satisfied: tokenizers>=0.13.0 in /home/ec2-user/anaconda3/envs/pytorch_p310/lib/python3.10/site-packages (from anthropic) (0.15.2)\n",
      "Requirement already satisfied: typing-extensions<5,>=4.7 in /home/ec2-user/anaconda3/envs/pytorch_p310/lib/python3.10/site-packages (from anthropic) (4.8.0)\n",
      "Requirement already satisfied: idna>=2.8 in /home/ec2-user/anaconda3/envs/pytorch_p310/lib/python3.10/site-packages (from anyio<5,>=3.5.0->anthropic) (3.4)\n",
      "Requirement already satisfied: exceptiongroup>=1.0.2 in /home/ec2-user/anaconda3/envs/pytorch_p310/lib/python3.10/site-packages (from anyio<5,>=3.5.0->anthropic) (1.1.3)\n",
      "Requirement already satisfied: certifi in /home/ec2-user/anaconda3/envs/pytorch_p310/lib/python3.10/site-packages (from httpx<1,>=0.23.0->anthropic) (2023.7.22)\n",
      "Requirement already satisfied: httpcore==1.* in /home/ec2-user/anaconda3/envs/pytorch_p310/lib/python3.10/site-packages (from httpx<1,>=0.23.0->anthropic) (1.0.2)\n",
      "Requirement already satisfied: h11<0.15,>=0.13 in /home/ec2-user/anaconda3/envs/pytorch_p310/lib/python3.10/site-packages (from httpcore==1.*->httpx<1,>=0.23.0->anthropic) (0.14.0)\n",
      "Requirement already satisfied: annotated-types>=0.4.0 in /home/ec2-user/anaconda3/envs/pytorch_p310/lib/python3.10/site-packages (from pydantic<3,>=1.9.0->anthropic) (0.6.0)\n",
      "Requirement already satisfied: pydantic-core==2.10.1 in /home/ec2-user/anaconda3/envs/pytorch_p310/lib/python3.10/site-packages (from pydantic<3,>=1.9.0->anthropic) (2.10.1)\n",
      "Requirement already satisfied: huggingface_hub<1.0,>=0.16.4 in /home/ec2-user/anaconda3/envs/pytorch_p310/lib/python3.10/site-packages (from tokenizers>=0.13.0->anthropic) (0.20.3)\n",
      "Requirement already satisfied: filelock in /home/ec2-user/anaconda3/envs/pytorch_p310/lib/python3.10/site-packages (from huggingface_hub<1.0,>=0.16.4->tokenizers>=0.13.0->anthropic) (3.12.4)\n",
      "Requirement already satisfied: fsspec>=2023.5.0 in /home/ec2-user/anaconda3/envs/pytorch_p310/lib/python3.10/site-packages (from huggingface_hub<1.0,>=0.16.4->tokenizers>=0.13.0->anthropic) (2023.10.0)\n",
      "Requirement already satisfied: requests in /home/ec2-user/anaconda3/envs/pytorch_p310/lib/python3.10/site-packages (from huggingface_hub<1.0,>=0.16.4->tokenizers>=0.13.0->anthropic) (2.31.0)\n",
      "Requirement already satisfied: tqdm>=4.42.1 in /home/ec2-user/anaconda3/envs/pytorch_p310/lib/python3.10/site-packages (from huggingface_hub<1.0,>=0.16.4->tokenizers>=0.13.0->anthropic) (4.66.1)\n",
      "Requirement already satisfied: pyyaml>=5.1 in /home/ec2-user/anaconda3/envs/pytorch_p310/lib/python3.10/site-packages (from huggingface_hub<1.0,>=0.16.4->tokenizers>=0.13.0->anthropic) (6.0.1)\n",
      "Requirement already satisfied: packaging>=20.9 in /home/ec2-user/anaconda3/envs/pytorch_p310/lib/python3.10/site-packages (from huggingface_hub<1.0,>=0.16.4->tokenizers>=0.13.0->anthropic) (23.2)\n",
      "Requirement already satisfied: charset-normalizer<4,>=2 in /home/ec2-user/anaconda3/envs/pytorch_p310/lib/python3.10/site-packages (from requests->huggingface_hub<1.0,>=0.16.4->tokenizers>=0.13.0->anthropic) (3.3.1)\n",
      "Requirement already satisfied: urllib3<3,>=1.21.1 in /home/ec2-user/anaconda3/envs/pytorch_p310/lib/python3.10/site-packages (from requests->huggingface_hub<1.0,>=0.16.4->tokenizers>=0.13.0->anthropic) (2.0.7)\n"
     ]
    }
   ],
   "source": [
    "# dependencies\n",
    "!pip install --upgrade boto3\n",
    "!pip install langchain\n",
    "!pip install langchainhub\n",
    "!pip install anthropic"
   ]
  },
  {
   "cell_type": "markdown",
   "id": "65343449-e808-4e95-8085-db8cbf2cda73",
   "metadata": {},
   "source": [
    "## check bedrock availability"
   ]
  },
  {
   "cell_type": "code",
   "execution_count": 2,
   "id": "c8040cab-2932-4308-9ff7-4bc07ec3b904",
   "metadata": {
    "tags": []
   },
   "outputs": [],
   "source": [
    "def usage_demo():\n",
    "    \"\"\"\n",
    "    Shows how to list the available foundation models.\n",
    "    This demonstration gets the list of available foundation models and\n",
    "    prints their respective summaries.\n",
    "    \"\"\"\n",
    "    logging.basicConfig(level=logging.INFO)\n",
    "    print(\"-\" * 88)\n",
    "    print(\"Welcome to the Amazon Bedrock demo.\")\n",
    "    print(\"-\" * 88)\n",
    "\n",
    "    bedrock_client = boto3.client(service_name=\"bedrock\", region_name=\"us-east-1\")\n",
    "\n",
    "    wrapper = BedrockWrapper(bedrock_client)\n",
    "\n",
    "    print(\"Listing the available foundation models.\")\n",
    "\n",
    "    try:\n",
    "        for model in wrapper.list_foundation_models():\n",
    "            print_model_details(model)\n",
    "    except ClientError:\n",
    "        logger.exception(\"Couldn't list foundation models.\")\n",
    "        raise\n",
    "\n",
    "    print(\"Getting the details of an individual foundation model.\")\n",
    "\n",
    "    model_id = \"amazon.titan-embed-text-v1\"\n",
    "\n",
    "    try:\n",
    "        print_model_details(wrapper.get_foundation_model(model_id))\n",
    "    except ClientError:\n",
    "        logger.exception(f\"Couldn't get foundation model {model_id}.\")\n",
    "        raise"
   ]
  },
  {
   "cell_type": "code",
   "execution_count": 4,
   "id": "197fdf1e-f0cb-4fd1-a89c-6ba7296176da",
   "metadata": {
    "tags": []
   },
   "outputs": [
    {
     "name": "stderr",
     "output_type": "stream",
     "text": [
      "03/05/2024 02:32:45 AM Got 45 foundation models.\n"
     ]
    },
    {
     "name": "stdout",
     "output_type": "stream",
     "text": [
      "----------------------------------------------------------------------------------------\n",
      "Welcome to the Amazon Bedrock demo.\n",
      "----------------------------------------------------------------------------------------\n",
      "Listing the available foundation models.\n",
      "\n",
      "==========================================\n",
      " Model: amazon.titan-tg1-large\n",
      "------------------------------------------\n",
      " Name: Titan Text Large\n",
      " Provider: Amazon\n",
      " Model ARN: arn:aws:bedrock:us-east-1::foundation-model/amazon.titan-tg1-large\n",
      " Lifecycle status: ACTIVE\n",
      " Input modalities: ['TEXT']\n",
      " Output modalities: ['TEXT']\n",
      " Supported customizations: []\n",
      " Supported inference types: ['ON_DEMAND']\n",
      " Response streaming supported: True\n",
      "==========================================\n",
      "\n",
      "==========================================\n",
      " Model: amazon.titan-image-generator-v1:0\n",
      "------------------------------------------\n",
      " Name: Titan Image Generator G1\n",
      " Provider: Amazon\n",
      " Model ARN: arn:aws:bedrock:us-east-1::foundation-model/amazon.titan-image-generator-v1:0\n",
      " Lifecycle status: ACTIVE\n",
      " Input modalities: ['TEXT', 'IMAGE']\n",
      " Output modalities: ['IMAGE']\n",
      " Supported customizations: ['FINE_TUNING']\n",
      " Supported inference types: ['ON_DEMAND', 'PROVISIONED']\n",
      "==========================================\n",
      "\n",
      "==========================================\n",
      " Model: amazon.titan-image-generator-v1\n",
      "------------------------------------------\n",
      " Name: Titan Image Generator G1\n",
      " Provider: Amazon\n",
      " Model ARN: arn:aws:bedrock:us-east-1::foundation-model/amazon.titan-image-generator-v1\n",
      " Lifecycle status: ACTIVE\n",
      " Input modalities: ['TEXT', 'IMAGE']\n",
      " Output modalities: ['IMAGE']\n",
      " Supported customizations: []\n",
      " Supported inference types: ['ON_DEMAND']\n",
      "==========================================\n",
      "\n",
      "==========================================\n",
      " Model: amazon.titan-embed-g1-text-02\n",
      "------------------------------------------\n",
      " Name: Titan Text Embeddings v2\n",
      " Provider: Amazon\n",
      " Model ARN: arn:aws:bedrock:us-east-1::foundation-model/amazon.titan-embed-g1-text-02\n",
      " Lifecycle status: ACTIVE\n",
      " Input modalities: ['TEXT']\n",
      " Output modalities: ['EMBEDDING']\n",
      " Supported customizations: []\n",
      " Supported inference types: ['ON_DEMAND']\n",
      "==========================================\n",
      "\n",
      "==========================================\n",
      " Model: amazon.titan-text-lite-v1:0:4k\n",
      "------------------------------------------\n",
      " Name: Titan Text G1 - Lite\n",
      " Provider: Amazon\n",
      " Model ARN: arn:aws:bedrock:us-east-1::foundation-model/amazon.titan-text-lite-v1:0:4k\n",
      " Lifecycle status: ACTIVE\n",
      " Input modalities: ['TEXT']\n",
      " Output modalities: ['TEXT']\n",
      " Supported customizations: ['FINE_TUNING', 'CONTINUED_PRE_TRAINING']\n",
      " Supported inference types: ['PROVISIONED']\n",
      " Response streaming supported: True\n",
      "==========================================\n",
      "\n",
      "==========================================\n",
      " Model: amazon.titan-text-lite-v1\n",
      "------------------------------------------\n",
      " Name: Titan Text G1 - Lite\n",
      " Provider: Amazon\n",
      " Model ARN: arn:aws:bedrock:us-east-1::foundation-model/amazon.titan-text-lite-v1\n",
      " Lifecycle status: ACTIVE\n",
      " Input modalities: ['TEXT']\n",
      " Output modalities: ['TEXT']\n",
      " Supported customizations: []\n",
      " Supported inference types: ['ON_DEMAND']\n",
      " Response streaming supported: True\n",
      "==========================================\n",
      "\n",
      "==========================================\n",
      " Model: amazon.titan-text-express-v1:0:8k\n",
      "------------------------------------------\n",
      " Name: Titan Text G1 - Express\n",
      " Provider: Amazon\n",
      " Model ARN: arn:aws:bedrock:us-east-1::foundation-model/amazon.titan-text-express-v1:0:8k\n",
      " Lifecycle status: ACTIVE\n",
      " Input modalities: ['TEXT']\n",
      " Output modalities: ['TEXT']\n",
      " Supported customizations: ['FINE_TUNING', 'CONTINUED_PRE_TRAINING']\n",
      " Supported inference types: ['PROVISIONED']\n",
      " Response streaming supported: True\n",
      "==========================================\n",
      "\n",
      "==========================================\n",
      " Model: amazon.titan-text-express-v1\n",
      "------------------------------------------\n",
      " Name: Titan Text G1 - Express\n",
      " Provider: Amazon\n",
      " Model ARN: arn:aws:bedrock:us-east-1::foundation-model/amazon.titan-text-express-v1\n",
      " Lifecycle status: ACTIVE\n",
      " Input modalities: ['TEXT']\n",
      " Output modalities: ['TEXT']\n",
      " Supported customizations: []\n",
      " Supported inference types: ['ON_DEMAND']\n",
      " Response streaming supported: True\n",
      "==========================================\n",
      "\n",
      "==========================================\n",
      " Model: amazon.titan-embed-text-v1:2:8k\n",
      "------------------------------------------\n",
      " Name: Titan Embeddings G1 - Text\n",
      " Provider: Amazon\n",
      " Model ARN: arn:aws:bedrock:us-east-1::foundation-model/amazon.titan-embed-text-v1:2:8k\n",
      " Lifecycle status: ACTIVE\n",
      " Input modalities: ['TEXT']\n",
      " Output modalities: ['EMBEDDING']\n",
      " Supported customizations: []\n",
      " Supported inference types: ['PROVISIONED']\n",
      " Response streaming supported: False\n",
      "==========================================\n",
      "\n",
      "==========================================\n",
      " Model: amazon.titan-embed-text-v1\n",
      "------------------------------------------\n",
      " Name: Titan Embeddings G1 - Text\n",
      " Provider: Amazon\n",
      " Model ARN: arn:aws:bedrock:us-east-1::foundation-model/amazon.titan-embed-text-v1\n",
      " Lifecycle status: ACTIVE\n",
      " Input modalities: ['TEXT']\n",
      " Output modalities: ['EMBEDDING']\n",
      " Supported customizations: []\n",
      " Supported inference types: ['ON_DEMAND']\n",
      " Response streaming supported: False\n",
      "==========================================\n",
      "\n",
      "==========================================\n",
      " Model: amazon.titan-embed-image-v1:0\n",
      "------------------------------------------\n",
      " Name: Titan Multimodal Embeddings G1\n",
      " Provider: Amazon\n",
      " Model ARN: arn:aws:bedrock:us-east-1::foundation-model/amazon.titan-embed-image-v1:0\n",
      " Lifecycle status: ACTIVE\n",
      " Input modalities: ['TEXT', 'IMAGE']\n",
      " Output modalities: ['EMBEDDING']\n",
      " Supported customizations: ['FINE_TUNING']\n",
      " Supported inference types: ['ON_DEMAND', 'PROVISIONED']\n",
      "==========================================\n",
      "\n",
      "==========================================\n",
      " Model: amazon.titan-embed-image-v1\n",
      "------------------------------------------\n",
      " Name: Titan Multimodal Embeddings G1\n",
      " Provider: Amazon\n",
      " Model ARN: arn:aws:bedrock:us-east-1::foundation-model/amazon.titan-embed-image-v1\n",
      " Lifecycle status: ACTIVE\n",
      " Input modalities: ['TEXT', 'IMAGE']\n",
      " Output modalities: ['EMBEDDING']\n",
      " Supported customizations: []\n",
      " Supported inference types: ['ON_DEMAND']\n",
      "==========================================\n",
      "\n",
      "==========================================\n",
      " Model: stability.stable-diffusion-xl\n",
      "------------------------------------------\n",
      " Name: SDXL 0.8\n",
      " Provider: Stability AI\n",
      " Model ARN: arn:aws:bedrock:us-east-1::foundation-model/stability.stable-diffusion-xl\n",
      " Lifecycle status: LEGACY\n",
      " Input modalities: ['TEXT', 'IMAGE']\n",
      " Output modalities: ['IMAGE']\n",
      " Supported customizations: []\n",
      " Supported inference types: ['ON_DEMAND']\n",
      "==========================================\n",
      "\n",
      "==========================================\n",
      " Model: stability.stable-diffusion-xl-v0\n",
      "------------------------------------------\n",
      " Name: SDXL 0.8\n",
      " Provider: Stability AI\n",
      " Model ARN: arn:aws:bedrock:us-east-1::foundation-model/stability.stable-diffusion-xl-v0\n",
      " Lifecycle status: LEGACY\n",
      " Input modalities: ['TEXT', 'IMAGE']\n",
      " Output modalities: ['IMAGE']\n",
      " Supported customizations: []\n",
      " Supported inference types: ['ON_DEMAND']\n",
      "==========================================\n",
      "\n",
      "==========================================\n",
      " Model: stability.stable-diffusion-xl-v1:0\n",
      "------------------------------------------\n",
      " Name: SDXL 1.0\n",
      " Provider: Stability AI\n",
      " Model ARN: arn:aws:bedrock:us-east-1::foundation-model/stability.stable-diffusion-xl-v1:0\n",
      " Lifecycle status: ACTIVE\n",
      " Input modalities: ['TEXT', 'IMAGE']\n",
      " Output modalities: ['IMAGE']\n",
      " Supported customizations: []\n",
      " Supported inference types: ['PROVISIONED']\n",
      "==========================================\n",
      "\n",
      "==========================================\n",
      " Model: stability.stable-diffusion-xl-v1\n",
      "------------------------------------------\n",
      " Name: SDXL 1.0\n",
      " Provider: Stability AI\n",
      " Model ARN: arn:aws:bedrock:us-east-1::foundation-model/stability.stable-diffusion-xl-v1\n",
      " Lifecycle status: ACTIVE\n",
      " Input modalities: ['TEXT', 'IMAGE']\n",
      " Output modalities: ['IMAGE']\n",
      " Supported customizations: []\n",
      " Supported inference types: ['ON_DEMAND']\n",
      "==========================================\n",
      "\n",
      "==========================================\n",
      " Model: ai21.j2-grande-instruct\n",
      "------------------------------------------\n",
      " Name: J2 Grande Instruct\n",
      " Provider: AI21 Labs\n",
      " Model ARN: arn:aws:bedrock:us-east-1::foundation-model/ai21.j2-grande-instruct\n",
      " Lifecycle status: ACTIVE\n",
      " Input modalities: ['TEXT']\n",
      " Output modalities: ['TEXT']\n",
      " Supported customizations: []\n",
      " Supported inference types: ['ON_DEMAND']\n",
      " Response streaming supported: False\n",
      "==========================================\n",
      "\n",
      "==========================================\n",
      " Model: ai21.j2-jumbo-instruct\n",
      "------------------------------------------\n",
      " Name: J2 Jumbo Instruct\n",
      " Provider: AI21 Labs\n",
      " Model ARN: arn:aws:bedrock:us-east-1::foundation-model/ai21.j2-jumbo-instruct\n",
      " Lifecycle status: ACTIVE\n",
      " Input modalities: ['TEXT']\n",
      " Output modalities: ['TEXT']\n",
      " Supported customizations: []\n",
      " Supported inference types: ['ON_DEMAND']\n",
      " Response streaming supported: False\n",
      "==========================================\n",
      "\n",
      "==========================================\n",
      " Model: ai21.j2-mid\n",
      "------------------------------------------\n",
      " Name: Jurassic-2 Mid\n",
      " Provider: AI21 Labs\n",
      " Model ARN: arn:aws:bedrock:us-east-1::foundation-model/ai21.j2-mid\n",
      " Lifecycle status: ACTIVE\n",
      " Input modalities: ['TEXT']\n",
      " Output modalities: ['TEXT']\n",
      " Supported customizations: []\n",
      " Supported inference types: ['ON_DEMAND']\n",
      " Response streaming supported: False\n",
      "==========================================\n",
      "\n",
      "==========================================\n",
      " Model: ai21.j2-mid-v1\n",
      "------------------------------------------\n",
      " Name: Jurassic-2 Mid\n",
      " Provider: AI21 Labs\n",
      " Model ARN: arn:aws:bedrock:us-east-1::foundation-model/ai21.j2-mid-v1\n",
      " Lifecycle status: ACTIVE\n",
      " Input modalities: ['TEXT']\n",
      " Output modalities: ['TEXT']\n",
      " Supported customizations: []\n",
      " Supported inference types: ['ON_DEMAND']\n",
      " Response streaming supported: False\n",
      "==========================================\n",
      "\n",
      "==========================================\n",
      " Model: ai21.j2-ultra\n",
      "------------------------------------------\n",
      " Name: Jurassic-2 Ultra\n",
      " Provider: AI21 Labs\n",
      " Model ARN: arn:aws:bedrock:us-east-1::foundation-model/ai21.j2-ultra\n",
      " Lifecycle status: ACTIVE\n",
      " Input modalities: ['TEXT']\n",
      " Output modalities: ['TEXT']\n",
      " Supported customizations: []\n",
      " Supported inference types: ['ON_DEMAND']\n",
      " Response streaming supported: False\n",
      "==========================================\n",
      "\n",
      "==========================================\n",
      " Model: ai21.j2-ultra-v1\n",
      "------------------------------------------\n",
      " Name: Jurassic-2 Ultra\n",
      " Provider: AI21 Labs\n",
      " Model ARN: arn:aws:bedrock:us-east-1::foundation-model/ai21.j2-ultra-v1\n",
      " Lifecycle status: ACTIVE\n",
      " Input modalities: ['TEXT']\n",
      " Output modalities: ['TEXT']\n",
      " Supported customizations: []\n",
      " Supported inference types: ['ON_DEMAND']\n",
      " Response streaming supported: False\n",
      "==========================================\n",
      "\n",
      "==========================================\n",
      " Model: anthropic.claude-instant-v1:2:100k\n",
      "------------------------------------------\n",
      " Name: Claude Instant\n",
      " Provider: Anthropic\n",
      " Model ARN: arn:aws:bedrock:us-east-1::foundation-model/anthropic.claude-instant-v1:2:100k\n",
      " Lifecycle status: ACTIVE\n",
      " Input modalities: ['TEXT']\n",
      " Output modalities: ['TEXT']\n",
      " Supported customizations: []\n",
      " Supported inference types: ['PROVISIONED']\n",
      " Response streaming supported: True\n",
      "==========================================\n",
      "\n",
      "==========================================\n",
      " Model: anthropic.claude-instant-v1\n",
      "------------------------------------------\n",
      " Name: Claude Instant\n",
      " Provider: Anthropic\n",
      " Model ARN: arn:aws:bedrock:us-east-1::foundation-model/anthropic.claude-instant-v1\n",
      " Lifecycle status: ACTIVE\n",
      " Input modalities: ['TEXT']\n",
      " Output modalities: ['TEXT']\n",
      " Supported customizations: []\n",
      " Supported inference types: ['ON_DEMAND']\n",
      " Response streaming supported: True\n",
      "==========================================\n",
      "\n",
      "==========================================\n",
      " Model: anthropic.claude-v2:0:18k\n",
      "------------------------------------------\n",
      " Name: Claude\n",
      " Provider: Anthropic\n",
      " Model ARN: arn:aws:bedrock:us-east-1::foundation-model/anthropic.claude-v2:0:18k\n",
      " Lifecycle status: ACTIVE\n",
      " Input modalities: ['TEXT']\n",
      " Output modalities: ['TEXT']\n",
      " Supported customizations: []\n",
      " Supported inference types: ['PROVISIONED']\n",
      " Response streaming supported: True\n",
      "==========================================\n",
      "\n",
      "==========================================\n",
      " Model: anthropic.claude-v2:0:100k\n",
      "------------------------------------------\n",
      " Name: Claude\n",
      " Provider: Anthropic\n",
      " Model ARN: arn:aws:bedrock:us-east-1::foundation-model/anthropic.claude-v2:0:100k\n",
      " Lifecycle status: ACTIVE\n",
      " Input modalities: ['TEXT']\n",
      " Output modalities: ['TEXT']\n",
      " Supported customizations: []\n",
      " Supported inference types: ['PROVISIONED']\n",
      " Response streaming supported: True\n",
      "==========================================\n",
      "\n",
      "==========================================\n",
      " Model: anthropic.claude-v2:1:18k\n",
      "------------------------------------------\n",
      " Name: Claude\n",
      " Provider: Anthropic\n",
      " Model ARN: arn:aws:bedrock:us-east-1::foundation-model/anthropic.claude-v2:1:18k\n",
      " Lifecycle status: ACTIVE\n",
      " Input modalities: ['TEXT']\n",
      " Output modalities: ['TEXT']\n",
      " Supported customizations: []\n",
      " Supported inference types: ['PROVISIONED']\n",
      " Response streaming supported: True\n",
      "==========================================\n",
      "\n",
      "==========================================\n",
      " Model: anthropic.claude-v2:1:200k\n",
      "------------------------------------------\n",
      " Name: Claude\n",
      " Provider: Anthropic\n",
      " Model ARN: arn:aws:bedrock:us-east-1::foundation-model/anthropic.claude-v2:1:200k\n",
      " Lifecycle status: ACTIVE\n",
      " Input modalities: ['TEXT']\n",
      " Output modalities: ['TEXT']\n",
      " Supported customizations: []\n",
      " Supported inference types: ['PROVISIONED']\n",
      " Response streaming supported: True\n",
      "==========================================\n",
      "\n",
      "==========================================\n",
      " Model: anthropic.claude-v2:1\n",
      "------------------------------------------\n",
      " Name: Claude\n",
      " Provider: Anthropic\n",
      " Model ARN: arn:aws:bedrock:us-east-1::foundation-model/anthropic.claude-v2:1\n",
      " Lifecycle status: ACTIVE\n",
      " Input modalities: ['TEXT']\n",
      " Output modalities: ['TEXT']\n",
      " Supported customizations: []\n",
      " Supported inference types: ['ON_DEMAND']\n",
      " Response streaming supported: True\n",
      "==========================================\n",
      "\n",
      "==========================================\n",
      " Model: anthropic.claude-v2\n",
      "------------------------------------------\n",
      " Name: Claude\n",
      " Provider: Anthropic\n",
      " Model ARN: arn:aws:bedrock:us-east-1::foundation-model/anthropic.claude-v2\n",
      " Lifecycle status: ACTIVE\n",
      " Input modalities: ['TEXT']\n",
      " Output modalities: ['TEXT']\n",
      " Supported customizations: []\n",
      " Supported inference types: ['ON_DEMAND']\n",
      " Response streaming supported: True\n",
      "==========================================\n",
      "\n",
      "==========================================\n",
      " Model: anthropic.claude-3-sonnet-20240229-v1:0\n",
      "------------------------------------------\n",
      " Name: Claude 3 Sonnet\n",
      " Provider: Anthropic\n",
      " Model ARN: arn:aws:bedrock:us-east-1::foundation-model/anthropic.claude-3-sonnet-20240229-v1:0\n",
      " Lifecycle status: ACTIVE\n",
      " Input modalities: ['TEXT', 'IMAGE']\n",
      " Output modalities: ['TEXT']\n",
      " Supported customizations: []\n",
      " Supported inference types: ['ON_DEMAND']\n",
      " Response streaming supported: True\n",
      "==========================================\n",
      "\n",
      "==========================================\n",
      " Model: cohere.command-text-v14:7:4k\n",
      "------------------------------------------\n",
      " Name: Command\n",
      " Provider: Cohere\n",
      " Model ARN: arn:aws:bedrock:us-east-1::foundation-model/cohere.command-text-v14:7:4k\n",
      " Lifecycle status: ACTIVE\n",
      " Input modalities: ['TEXT']\n",
      " Output modalities: ['TEXT']\n",
      " Supported customizations: ['FINE_TUNING']\n",
      " Supported inference types: ['PROVISIONED']\n",
      " Response streaming supported: True\n",
      "==========================================\n",
      "\n",
      "==========================================\n",
      " Model: cohere.command-text-v14\n",
      "------------------------------------------\n",
      " Name: Command\n",
      " Provider: Cohere\n",
      " Model ARN: arn:aws:bedrock:us-east-1::foundation-model/cohere.command-text-v14\n",
      " Lifecycle status: ACTIVE\n",
      " Input modalities: ['TEXT']\n",
      " Output modalities: ['TEXT']\n",
      " Supported customizations: []\n",
      " Supported inference types: ['ON_DEMAND']\n",
      " Response streaming supported: True\n",
      "==========================================\n",
      "\n",
      "==========================================\n",
      " Model: cohere.command-light-text-v14:7:4k\n",
      "------------------------------------------\n",
      " Name: Command Light\n",
      " Provider: Cohere\n",
      " Model ARN: arn:aws:bedrock:us-east-1::foundation-model/cohere.command-light-text-v14:7:4k\n",
      " Lifecycle status: ACTIVE\n",
      " Input modalities: ['TEXT']\n",
      " Output modalities: ['TEXT']\n",
      " Supported customizations: ['FINE_TUNING']\n",
      " Supported inference types: ['PROVISIONED']\n",
      " Response streaming supported: True\n",
      "==========================================\n",
      "\n",
      "==========================================\n",
      " Model: cohere.command-light-text-v14\n",
      "------------------------------------------\n",
      " Name: Command Light\n",
      " Provider: Cohere\n",
      " Model ARN: arn:aws:bedrock:us-east-1::foundation-model/cohere.command-light-text-v14\n",
      " Lifecycle status: ACTIVE\n",
      " Input modalities: ['TEXT']\n",
      " Output modalities: ['TEXT']\n",
      " Supported customizations: []\n",
      " Supported inference types: ['ON_DEMAND']\n",
      " Response streaming supported: True\n",
      "==========================================\n",
      "\n",
      "==========================================\n",
      " Model: cohere.embed-english-v3\n",
      "------------------------------------------\n",
      " Name: Embed English\n",
      " Provider: Cohere\n",
      " Model ARN: arn:aws:bedrock:us-east-1::foundation-model/cohere.embed-english-v3\n",
      " Lifecycle status: ACTIVE\n",
      " Input modalities: ['TEXT']\n",
      " Output modalities: ['EMBEDDING']\n",
      " Supported customizations: []\n",
      " Supported inference types: ['ON_DEMAND']\n",
      " Response streaming supported: False\n",
      "==========================================\n",
      "\n",
      "==========================================\n",
      " Model: cohere.embed-multilingual-v3\n",
      "------------------------------------------\n",
      " Name: Embed Multilingual\n",
      " Provider: Cohere\n",
      " Model ARN: arn:aws:bedrock:us-east-1::foundation-model/cohere.embed-multilingual-v3\n",
      " Lifecycle status: ACTIVE\n",
      " Input modalities: ['TEXT']\n",
      " Output modalities: ['EMBEDDING']\n",
      " Supported customizations: []\n",
      " Supported inference types: ['ON_DEMAND']\n",
      " Response streaming supported: False\n",
      "==========================================\n",
      "\n",
      "==========================================\n",
      " Model: meta.llama2-13b-chat-v1:0:4k\n",
      "------------------------------------------\n",
      " Name: Llama 2 Chat 13B\n",
      " Provider: Meta\n",
      " Model ARN: arn:aws:bedrock:us-east-1::foundation-model/meta.llama2-13b-chat-v1:0:4k\n",
      " Lifecycle status: ACTIVE\n",
      " Input modalities: ['TEXT']\n",
      " Output modalities: ['TEXT']\n",
      " Supported customizations: []\n",
      " Supported inference types: ['PROVISIONED']\n",
      " Response streaming supported: True\n",
      "==========================================\n",
      "\n",
      "==========================================\n",
      " Model: meta.llama2-13b-chat-v1\n",
      "------------------------------------------\n",
      " Name: Llama 2 Chat 13B\n",
      " Provider: Meta\n",
      " Model ARN: arn:aws:bedrock:us-east-1::foundation-model/meta.llama2-13b-chat-v1\n",
      " Lifecycle status: ACTIVE\n",
      " Input modalities: ['TEXT']\n",
      " Output modalities: ['TEXT']\n",
      " Supported customizations: []\n",
      " Supported inference types: ['ON_DEMAND']\n",
      " Response streaming supported: True\n",
      "==========================================\n",
      "\n",
      "==========================================\n",
      " Model: meta.llama2-70b-chat-v1:0:4k\n",
      "------------------------------------------\n",
      " Name: Llama 2 Chat 70B\n",
      " Provider: Meta\n",
      " Model ARN: arn:aws:bedrock:us-east-1::foundation-model/meta.llama2-70b-chat-v1:0:4k\n",
      " Lifecycle status: ACTIVE\n",
      " Input modalities: ['TEXT']\n",
      " Output modalities: ['TEXT']\n",
      " Supported customizations: []\n",
      " Supported inference types: []\n",
      " Response streaming supported: True\n",
      "==========================================\n",
      "\n",
      "==========================================\n",
      " Model: meta.llama2-70b-chat-v1\n",
      "------------------------------------------\n",
      " Name: Llama 2 Chat 70B\n",
      " Provider: Meta\n",
      " Model ARN: arn:aws:bedrock:us-east-1::foundation-model/meta.llama2-70b-chat-v1\n",
      " Lifecycle status: ACTIVE\n",
      " Input modalities: ['TEXT']\n",
      " Output modalities: ['TEXT']\n",
      " Supported customizations: []\n",
      " Supported inference types: ['ON_DEMAND']\n",
      " Response streaming supported: True\n",
      "==========================================\n",
      "\n",
      "==========================================\n",
      " Model: meta.llama2-13b-v1:0:4k\n",
      "------------------------------------------\n",
      " Name: Llama 2 13B\n",
      " Provider: Meta\n",
      " Model ARN: arn:aws:bedrock:us-east-1::foundation-model/meta.llama2-13b-v1:0:4k\n",
      " Lifecycle status: ACTIVE\n",
      " Input modalities: ['TEXT']\n",
      " Output modalities: ['TEXT']\n",
      " Supported customizations: ['FINE_TUNING']\n",
      " Supported inference types: []\n",
      " Response streaming supported: True\n",
      "==========================================\n",
      "\n",
      "==========================================\n",
      " Model: meta.llama2-13b-v1\n",
      "------------------------------------------\n",
      " Name: Llama 2 13B\n",
      " Provider: Meta\n",
      " Model ARN: arn:aws:bedrock:us-east-1::foundation-model/meta.llama2-13b-v1\n",
      " Lifecycle status: ACTIVE\n",
      " Input modalities: ['TEXT']\n",
      " Output modalities: ['TEXT']\n",
      " Supported customizations: []\n",
      " Supported inference types: []\n",
      " Response streaming supported: True\n",
      "==========================================\n",
      "\n",
      "==========================================\n",
      " Model: meta.llama2-70b-v1:0:4k\n",
      "------------------------------------------\n",
      " Name: Llama 2 70B\n",
      " Provider: Meta\n",
      " Model ARN: arn:aws:bedrock:us-east-1::foundation-model/meta.llama2-70b-v1:0:4k\n",
      " Lifecycle status: ACTIVE\n",
      " Input modalities: ['TEXT']\n",
      " Output modalities: ['TEXT']\n",
      " Supported customizations: ['FINE_TUNING']\n",
      " Supported inference types: []\n",
      " Response streaming supported: True\n",
      "==========================================\n",
      "\n",
      "==========================================\n",
      " Model: meta.llama2-70b-v1\n",
      "------------------------------------------\n",
      " Name: Llama 2 70B\n",
      " Provider: Meta\n",
      " Model ARN: arn:aws:bedrock:us-east-1::foundation-model/meta.llama2-70b-v1\n",
      " Lifecycle status: ACTIVE\n",
      " Input modalities: ['TEXT']\n",
      " Output modalities: ['TEXT']\n",
      " Supported customizations: []\n",
      " Supported inference types: []\n",
      " Response streaming supported: True\n",
      "==========================================\n",
      "Getting the details of an individual foundation model.\n",
      "\n",
      "==========================================\n",
      " Model: amazon.titan-embed-text-v1\n",
      "------------------------------------------\n",
      " Name: Titan Embeddings G1 - Text\n",
      " Provider: Amazon\n",
      " Model ARN: arn:aws:bedrock:us-east-1::foundation-model/amazon.titan-embed-text-v1\n",
      " Lifecycle status: ACTIVE\n",
      " Input modalities: ['TEXT']\n",
      " Output modalities: ['EMBEDDING']\n",
      " Supported customizations: []\n",
      " Supported inference types: ['ON_DEMAND']\n",
      " Response streaming supported: False\n",
      "==========================================\n"
     ]
    }
   ],
   "source": [
    "import json\n",
    "import os\n",
    "import sys\n",
    "import logging\n",
    "import boto3\n",
    "import botocore\n",
    "\n",
    "logger = logging.getLogger(__name__)\n",
    "\n",
    "module_path = \"..\"\n",
    "sys.path.append(os.path.abspath(module_path))\n",
    "from utils import bedrock\n",
    "from utils.BedrockWrapper import BedrockWrapper\n",
    "from utils.GamePlayer import GamePlayer\n",
    "from utils.GameAssistant import GameAssistant\n",
    "from utils.GameMaster import GameMaster\n",
    "from utils.PeTemplates import *\n",
    "from utils import ParseJson, print_ww, Print, Info, Debug, Warn, Error\n",
    "from utils import print_model_details\n",
    "        \n",
    "from botocore.exceptions import ClientError\n",
    "\n",
    "usage_demo()\n",
    "#boto3_bedrock = bedrock.get_bedrock_client()\n",
    "\n",
    "#listModels = bedrock.list_foundation_models(byProvider='meta')\n",
    "\n",
    "# print_ww(\"hello\")\n",
    "# Info(\"hello\")\n",
    "\n",
    "# GA = GameAssistant(template_assistant_role, 1000)\n",
    "# print(GA.agent.prompt.template)"
   ]
  },
  {
   "cell_type": "markdown",
   "id": "c8ca9a03-5f1f-46fc-915a-0fa6d0801335",
   "metadata": {},
   "source": [
    "## Test Part"
   ]
  },
  {
   "cell_type": "code",
   "execution_count": null,
   "id": "0576123a-855f-4322-9770-d8d1504b0898",
   "metadata": {
    "tags": []
   },
   "outputs": [],
   "source": [
    "from collections import Counter\n",
    "\n",
    "def find_most_frequent(arr):\n",
    "  freq = Counter(arr)\n",
    "  max_count = max(freq.values())\n",
    "  \n",
    "  return [k for k, v in freq.items() if v == max_count]\n",
    "\n",
    "vote_names = ['p1','p1','p2','p2','p3','p5','p4','p4']\n",
    "AA = Counter(vote_names)\n",
    "print(AA.most_common())\n",
    "\n",
    "print(find_most_frequent(vote_names))\n",
    "\n",
    "aa = []\n",
    "\n",
    "if len(aa) != 1:\n",
    "    print(1)"
   ]
  },
  {
   "cell_type": "code",
   "execution_count": 5,
   "id": "77c9faaf-0fcc-4389-bb51-1d93031b93bf",
   "metadata": {
    "tags": []
   },
   "outputs": [
    {
     "name": "stdout",
     "output_type": "stream",
     "text": [
      "input_variables=['query'] partial_variables={'format_instructions': 'The output should be formatted as a JSON instance that conforms to the JSON schema below.\\n\\nAs an example, for the schema {\"properties\": {\"foo\": {\"title\": \"Foo\", \"description\": \"a list of strings\", \"type\": \"array\", \"items\": {\"type\": \"string\"}}}, \"required\": [\"foo\"]}\\nthe object {\"foo\": [\"bar\", \"baz\"]} is a well-formatted instance of the schema. The object {\"properties\": {\"foo\": [\"bar\", \"baz\"]}} is not well-formatted.\\n\\nHere is the output schema:\\n```\\n{\"properties\": {\"setup\": {\"title\": \"Setup\", \"description\": \"question to set up a joke\", \"type\": \"string\"}, \"punchline\": {\"title\": \"Punchline\", \"description\": \"answer to resolve the joke\", \"type\": \"string\"}}, \"required\": [\"setup\", \"punchline\"]}\\n```'} template='Answer the user query.\\n{format_instructions}\\n{query}\\n'\n",
      " Here is a joke formatted to the given JSON schema:\n",
      "\n",
      "```json\n",
      "{\"setup\": \"Why can't a bicycle stand on its own?\", \"punchline\": \"It's too tired!\"}\n",
      "```"
     ]
    },
    {
     "data": {
      "text/plain": [
       "Joke(setup=\"Why can't a bicycle stand on its own?\", punchline=\"It's too tired!\")"
      ]
     },
     "execution_count": 5,
     "metadata": {},
     "output_type": "execute_result"
    }
   ],
   "source": [
    "from utils.PeTemplates import *\n",
    "from langchain.agents import tool\n",
    "from langchain.output_parsers import PydanticOutputParser\n",
    "from langchain.prompts import PromptTemplate\n",
    "from langchain_core.pydantic_v1 import BaseModel, Field, validator\n",
    "\n",
    "# Define your desired data structure.\n",
    "class Joke(BaseModel):\n",
    "    setup: str = Field(description=\"question to set up a joke\")\n",
    "    punchline: str = Field(description=\"answer to resolve the joke\")\n",
    "\n",
    "    # You can add custom validation logic easily with Pydantic.\n",
    "    @validator(\"setup\")\n",
    "    def question_ends_with_question_mark(cls, field):\n",
    "        if field[-1] != \"?\":\n",
    "            raise ValueError(\"Badly formed question!\")\n",
    "        return field\n",
    "    \n",
    "# Set up a parser + inject instructions into the prompt template.\n",
    "parser = PydanticOutputParser(pydantic_object=Joke)\n",
    "\n",
    "prompt = PromptTemplate(\n",
    "    template=\"Answer the user query.\\n{format_instructions}\\n{query}\\n\",\n",
    "    input_variables=[\"query\"],\n",
    "    partial_variables={\"format_instructions\": parser.get_format_instructions()},\n",
    ")\n",
    "\n",
    "print(prompt)\n",
    "\n",
    "model = claude3_Sonnet\n",
    "# And a query intended to prompt a language model to populate the data structure.\n",
    "prompt_and_model = prompt | model\n",
    "output = prompt_and_model.invoke({\"query\": \"Tell me a joke.\"})\n",
    "parser.invoke(output)"
   ]
  },
  {
   "cell_type": "code",
   "execution_count": null,
   "id": "898dab35-0dd0-49ee-bf88-b795a73cc607",
   "metadata": {
    "tags": []
   },
   "outputs": [],
   "source": [
    "from utils.CustomTools import *\n",
    "from utils.PeTemplates import *\n",
    "from langchain.agents import tool\n",
    "\n",
    "# - 夜晚投票(狼人专属行动): WolfVote 参数: target=存活玩家\n",
    "# - 夜晚查验(预言家专属行动): ProphetCheck 参数: target=存活玩家\n",
    "# - 白天怀疑(所有玩家白天可选行动, 非投票): PlayerDoubt 参数: target=存活玩家 \n",
    "# - 白天投票: PlayerVote 参数: target=存活玩家 \n",
    "# - 白天讨论: Debate 参数: content=思考/理由 \n",
    "# - 玩家信息: GetAllPlayersName 参数: 无 \n",
    "# - 死亡遗言: DeathWords 参数: content=给予玩家线索\n",
    "# - 玩家弃权: Pass 参数: 无 \n",
    "# - 其他动作: Pass 参数: 无 \n",
    "\n",
    "@tool\n",
    "def WolfVote(target: str) -> str:\n",
    "    \"\"\"夜晚投票(狼人专属行动)\"\"\"\n",
    "    return \"WolfVote\"\n",
    "\n",
    "@tool\n",
    "def ProphetCheck(target: str) -> str:\n",
    "    \"\"\"夜晚查验(预言家专属行动)\"\"\"\n",
    "    return \"ProphetCheck\"\n",
    "\n",
    "@tool\n",
    "def PlayerDoubt(target: str) -> str:\n",
    "    \"\"\"白天怀疑(所有玩家白天可选行动, 非投票)\"\"\"\n",
    "    return \"PlayerDoubt\"\n",
    "\n",
    "@tool\n",
    "def PlayerVote(target: str) -> str:\n",
    "    \"\"\"白天投票\"\"\"\n",
    "    return \"PlayerVote\"\n",
    "\n",
    "@tool\n",
    "def Debate(target: str) -> str:\n",
    "    \"\"\"白天讨论\"\"\"\n",
    "    return \"Debate\"\n",
    "\n",
    "@tool\n",
    "def GetAllPlayersName(target: str) -> str:\n",
    "    \"\"\"玩家信息\"\"\"\n",
    "    return \"GetAllPlayersName\"\n",
    "\n",
    "@tool\n",
    "def DeathWords(content: str) -> str:\n",
    "    \"\"\"死亡遗言\"\"\"\n",
    "    return \"DeathWords\"\n",
    "\n",
    "@tool\n",
    "def Pass(content: str) -> str:\n",
    "    \"\"\"玩家弃权,说明理由\"\"\"\n",
    "    return \"Pass\"\n",
    "\n",
    " \n",
    "# print(f\"search.name:{search.name}\")\n",
    "# print(f\"search.description:{search.description}\")\n",
    "# print(f\"search.args:{search.args}\")\n",
    "\n",
    "# Define a list of tools\n",
    "tools = [\n",
    "    Tool(\n",
    "        name = \"WolfVote\",\n",
    "        func=WolfVote.run,\n",
    "        description=\"夜晚投票(狼人专属行动)\"\n",
    "    ),\n",
    "    Tool(\n",
    "        name = \"ProphetCheck\",\n",
    "        func=ProphetCheck.run,\n",
    "        description=\"夜晚查验(预言家专属行动)\"\n",
    "    ),\n",
    "    Tool(\n",
    "        name = \"PlayerDoubt\",\n",
    "        func=PlayerDoubt.run,\n",
    "        description=\"白天怀疑(所有玩家白天可选行动, 非投票)\"\n",
    "    ),\n",
    "    Tool(\n",
    "        name = \"PlayerVote\",\n",
    "        func=PlayerVote.run,\n",
    "        description=\"白天投票\"\n",
    "    ),\n",
    "    Tool(\n",
    "        name = \"Pass\",\n",
    "        func=Pass.run,\n",
    "        description=\"玩家弃权,说明理由\"\n",
    "    )\n",
    "]\n",
    "\n",
    "# Using tools, the LLM chain and output_parser to make an agent\n",
    "tool_names = [tool.name for tool in tools]\n",
    "\n",
    "prompt = CustomPromptTemplate(\n",
    "    template=template_werewolf_role,\n",
    "    tools=tools,\n",
    "    # This omits the `agent_scratchpad`, `tools`, and `tool_names` variables because those are generated dynamically\n",
    "    # This includes the `intermediate_steps` variable because that is needed\n",
    "    input_variables=[\"input\", \"intermediate_steps\", \"history\", 'agent_scratchpad', 'tools', 'tool_names']\n",
    ")\n",
    "#print(prompt)\n",
    "# output_parser = CustomOutputParser()\n",
    "\n",
    "llm = claude_instant_llm\n",
    "\n",
    "# LLM chain consisting of the LLM and a prompt\n",
    "# llm_chain = LLMChain(llm=llm, prompt=prompt)\n",
    "\n",
    "agent = create_structured_chat_agent(llm, tools, prompt)\n",
    "\n",
    "# agent = LLMSingleActionAgent(\n",
    "#     llm_chain=llm_chain, \n",
    "#     output_parser=output_parser,\n",
    "#     # We use \"Observation\" as our stop sequence so it will stop when it receives Tool output\n",
    "#     # If you change your prompt template you'll need to adjust this as well\n",
    "#     stop=[\"\\nObservation:\"], \n",
    "#     allowed_tools=tool_names\n",
    "# )\n",
    "\n",
    "# Initiate the agent that will respond to our queries\n",
    "# Set verbose=True to share the CoT reasoning the LLM goes through\n",
    "memory = ConversationBufferWindowMemory(k=2)\n",
    "agent_executor = AgentExecutor.from_agent_and_tools(agent=agent, tools=tools, memory=memory, verbose=False)\n",
    "\n",
    "agent_executor.invoke({\"input\":\"第一个晚上，你支持的玩家该如何行动？\"})\n"
   ]
  },
  {
   "cell_type": "code",
   "execution_count": 8,
   "id": "1a82dcee-a14c-4bee-927a-ea230129b227",
   "metadata": {
    "tags": []
   },
   "outputs": [
    {
     "name": "stderr",
     "output_type": "stream",
     "text": [
      "03/05/2024 02:50:59 AM \t===== P1:存活,P2:存活,P3:淘汰,P4:存活,P5:淘汰,P6:存活,P7:存活,P8:存活 ResetGame =====\n",
      "03/05/2024 02:50:59 AM P1 is 预言家\n",
      "03/05/2024 02:50:59 AM P2 is 村民\n",
      "03/05/2024 02:50:59 AM P3 is 狼人\n",
      "03/05/2024 02:50:59 AM P4 is 村民\n",
      "03/05/2024 02:50:59 AM P5 is 村民\n",
      "03/05/2024 02:50:59 AM P6 is 狼人\n",
      "03/05/2024 02:50:59 AM P7 is 村民\n",
      "03/05/2024 02:50:59 AM P8 is 村民\n",
      "03/05/2024 02:50:59 AM \t===== P1:存活,P2:存活,P3:存活,P4:存活,P5:存活,P6:存活,P7:存活,P8:存活 RunGame =====\n",
      "03/05/2024 02:50:59 AM \t===== input_tokens: 0 output_tokens 0 ======\n",
      "03/05/2024 02:50:59 AM \t===== elapsed_time: 0.007664203643798828 ======\n",
      "03/05/2024 02:50:59 AM \t===== NIGHT 1 PreAction ======\n",
      "03/05/2024 02:50:59 AM \t===== NIGHT 1 DoAction ======\n",
      "03/05/2024 02:50:59 AM \t\t===== DoMemory NIGHT 1 P1 ======\n",
      "03/05/2024 02:50:59 AM \t\t===== DoReflect NIGHT 1 P1 ======\n",
      "03/05/2024 02:50:59 AM \t\t===== DoAnswer NIGHT 1 P1 ======\n",
      "03/05/2024 02:50:59 AM \tQUESTION: 现在是NIGHT 1,你支持的玩家是P1(预言家身份)..目前场上玩家:P1:存活,P2:存活,P3:存活,P4:存活,P5:存活,P6:存活,P7:存活,P8:存活(逗号为分割符).现在是第1天夜晚，该如何行动?\n"
     ]
    },
    {
     "name": "stdout",
     "output_type": "stream",
     "text": [
      " {\"action\":\"ProphetCheck\",\"target\":\"P3\"}\n",
      "\n",
      "思考:\n",
      "根据游戏规则,第一个夜晚死亡的一定是村民或者预言家,而不是狼人。\n",
      "昨天白天,P3的表现让我感觉他在混淆是非,很有可能在帮助狼人分散火力。\n",
      "作为预言家,第一个夜晚最好查验他,以了解其身份,为后续游戏提供线索。"
     ]
    },
    {
     "name": "stderr",
     "output_type": "stream",
     "text": [
      "03/05/2024 02:51:02 AM \t\t===== DoAction NIGHT 1 P1 ======\n",
      "03/05/2024 02:51:02 AM [玩家P1于时间NIGHT 1, 执行动作为:{'action': 'ProphetCheck', 'target': 'P3'}]P3:狼人\n",
      "03/05/2024 02:51:02 AM \n",
      " [ROUND ACTION]={'time': 'NIGHT 1', 'player': 'P1', 'status': 1, 'role': '预言家', 'character': '独立思考', 'response': ['{\"action\":\"ProphetCheck\",\"target\":\"P3\"}']}\n",
      "\n",
      "03/05/2024 02:51:02 AM \t\t===== DoMemory NIGHT 1 P3 ======\n",
      "03/05/2024 02:51:02 AM \t\t===== DoReflect NIGHT 1 P3 ======\n",
      "03/05/2024 02:51:02 AM \t\t===== DoAnswer NIGHT 1 P3 ======\n",
      "03/05/2024 02:51:02 AM \tQUESTION: 现在是NIGHT 1,你支持的玩家是P3(狼人身份,本阵营为:P3,P6).目前场上玩家:P1:存活,P2:存活,P3:存活,P4:存活,P5:存活,P6:存活,P7:存活,P8:存活(逗号为分割符).现在是第1天夜晚，该如何行动?\n"
     ]
    },
    {
     "name": "stdout",
     "output_type": "stream",
     "text": [
      " {\"action\":\"WolfVote\",\"target\":\"P5\"}\n",
      "\n",
      "思考:\n",
      "根据游戏规则,第一个夜晚死亡的一定是村民或者预言家,狼人没必要第一晚上自杀。P5无任何嫌疑信息暴露,选择他可以引起最大混乱,为后续游戏制造有利条件。"
     ]
    },
    {
     "name": "stderr",
     "output_type": "stream",
     "text": [
      "03/05/2024 02:51:05 AM \t\t===== DoAction NIGHT 1 P3 ======\n",
      "03/05/2024 02:51:05 AM \n",
      " [ROUND ACTION]={'time': 'NIGHT 1', 'player': 'P3', 'status': 1, 'role': '狼人', 'character': '组织者', 'response': ['{\"action\":\"WolfVote\",\"target\":\"P5\"}']}\n",
      "\n",
      "03/05/2024 02:51:05 AM \t\t===== DoMemory NIGHT 1 P6 ======\n"
     ]
    },
    {
     "name": "stdout",
     "output_type": "stream",
     "text": [
      " 夜晚第一轮,P3狼人投票杀死P5。"
     ]
    },
    {
     "name": "stderr",
     "output_type": "stream",
     "text": [
      "03/05/2024 02:51:06 AM \t\t===== DoReflect NIGHT 1 P6 ======\n",
      "03/05/2024 02:51:06 AM \t\t===== DoAnswer NIGHT 1 P6 ======\n",
      "03/05/2024 02:51:06 AM \tQUESTION: 现在是NIGHT 1,你支持的玩家是P6(狼人身份,本阵营为:P3,P6).目前场上玩家:P1:存活,P2:存活,P3:存活,P4:存活,P5:存活,P6:存活,P7:存活,P8:存活(逗号为分割符)..开始一步一步进行推理，为下一轮行动准备.\n"
     ]
    },
    {
     "name": "stdout",
     "output_type": "stream",
     "text": [
      " {\"action\":\"Debate\",\"content\":\"第一夜信息太少,P5死亡可能是巧合。P3投票说不定是误导,我们暂时不能下定论。今晚需小心,下轮再观察各玩家表现,寻找更实在的线索。\"}"
     ]
    },
    {
     "name": "stderr",
     "output_type": "stream",
     "text": [
      "03/05/2024 02:51:09 AM \t\t===== DoAnswer NIGHT 1 P6 ======\n",
      "03/05/2024 02:51:09 AM \tQUESTION: 现在是NIGHT 1,你支持的玩家是P6(狼人身份,本阵营为:P3,P6).目前场上玩家:P1:存活,P2:存活,P3:存活,P4:存活,P5:存活,P6:存活,P7:存活,P8:存活(逗号为分割符).现在是第1天夜晚，该如何行动?\n"
     ]
    },
    {
     "name": "stdout",
     "output_type": "stream",
     "text": [
      " {\"action\":\"WolfVote\",\"target\":\"P5\"}\n",
      "\n",
      "理由是:第一夜信息最少,P5作为第一个死亡很可能是平民。我们不能放过这个机会,今晚抓紧时间除掉一个对手,以免信息外泄。P3的投票或许在误导,但P5死亡本身就是事实。下一个目标需要再观察。"
     ]
    },
    {
     "name": "stderr",
     "output_type": "stream",
     "text": [
      "03/05/2024 02:51:12 AM \t\t===== DoAction NIGHT 1 P6 ======\n",
      "03/05/2024 02:51:12 AM \n",
      " [ROUND ACTION]={'time': 'NIGHT 1', 'player': 'P6', 'status': 1, 'role': '狼人', 'character': '过激型', 'response': ['{\"action\":\"WolfVote\",\"target\":\"P5\"}']}\n",
      "\n",
      "03/05/2024 02:51:12 AM \t===== NIGHT 1 PostAction ======\n",
      "03/05/2024 02:51:12 AM \t [wolf_votes]: ['P5'], [player_vote_name]: Counter({'P5': 2})\n",
      "03/05/2024 02:51:12 AM \n",
      " [WOLF VOTE]={'time': 'NIGHT 1', 'player': 'P5', 'status': 0, 'role': '村民', 'character': '话痨', 'response': '玩家P5于NIGHT 1被狼人投票而出局'}\n",
      "\n",
      "03/05/2024 02:51:12 AM 游戏继续. 目前玩家存活情况:P1:存活,P2:存活,P3:存活,P4:存活,P5:淘汰,P6:存活,P7:存活,P8:存活\n",
      "03/05/2024 02:51:12 AM \t===== input_tokens: 17031 output_tokens 420 ======\n",
      "03/05/2024 02:51:12 AM \t===== elapsed_time: 12.929008722305298 ======\n",
      "03/05/2024 02:51:12 AM \t===== DAY 2 PreAction ======\n",
      "03/05/2024 02:51:12 AM \t\t===== DoMemory DAY 2 P5 ======\n"
     ]
    },
    {
     "name": "stdout",
     "output_type": "stream",
     "text": [
      " 第一夜,玩家P5被投票淘汰。"
     ]
    },
    {
     "name": "stderr",
     "output_type": "stream",
     "text": [
      "03/05/2024 02:51:13 AM \t\t===== DoReflect DAY 2 P5 ======\n",
      "03/05/2024 02:51:13 AM \t\t===== DoAnswer DAY 2 P5 ======\n",
      "03/05/2024 02:51:13 AM \tQUESTION: 现在是DAY 2,你支持的玩家是P5(村民身份)..目前场上玩家:P1:存活,P2:存活,P3:存活,P4:存活,P5:淘汰,P6:存活,P7:存活,P8:存活(逗号为分割符)..开始一步一步进行推理，为下一轮行动准备.\n"
     ]
    },
    {
     "name": "stdout",
     "output_type": "stream",
     "text": [
      " {\"action\":\"Debate\",\"content\":\"第一夜P5死亡,根据游戏规则,初夜死亡多数为平民或预言家。P5为话痨性格,在白天应多说话,但无记录。P3昨天表现可疑,值得怀疑。建议今晚狼人投P3,预言家查P3,其他玩家今晚投P3。\"}"
     ]
    },
    {
     "name": "stderr",
     "output_type": "stream",
     "text": [
      "03/05/2024 02:51:17 AM \t\t===== DoAnswer DAY 2 P5 ======\n",
      "03/05/2024 02:51:17 AM \tQUESTION: 现在是DAY 2,你支持的玩家是P5(村民身份)..目前场上玩家:P1:存活,P2:存活,P3:存活,P4:存活,P5:淘汰,P6:存活,P7:存活,P8:存活(逗号为分割符).现在是第2天白天，你已经死亡,有何遗言?\n"
     ]
    },
    {
     "name": "stdout",
     "output_type": "stream",
     "text": [
      " {\"action\":\"DeathWords\",\"content\":\"P5死后,我推断P3昨天表现可疑,可能为狼人。P1、P2、P4、P6、P7、P8中,P3关系最差,应集中怀疑P3。\"}"
     ]
    },
    {
     "name": "stderr",
     "output_type": "stream",
     "text": [
      "03/05/2024 02:51:21 AM \t\t===== DoAction DAY 2 P5 ======\n",
      "03/05/2024 02:51:21 AM \n",
      " [ROUND ACTION]={'time': 'DAY 2', 'player': 'P5', 'status': 0, 'role': '村民', 'character': '话痨', 'response': ['{\"action\":\"DeathWords\",\"content\":\"P5死后,我推断P3昨天表现可疑,可能为狼人。P1、P2、P4、P6、P7、P8中,P3关系最差,应集中怀疑P3。\"}']}\n",
      "\n",
      "03/05/2024 02:51:21 AM \t===== DAY 2 DoAction ======\n",
      "03/05/2024 02:51:21 AM \t\t===== DoMemory DAY 2 P1 ======\n"
     ]
    },
    {
     "name": "stdout",
     "output_type": "stream",
     "text": [
      " 游戏当前情况:P1、P2、P6、P7、P8存活,P3、P5出局。P5死亡遗言指P3可疑,P1夜间查验确认P3为狼人。"
     ]
    },
    {
     "name": "stderr",
     "output_type": "stream",
     "text": [
      "03/05/2024 02:51:24 AM \t\t===== DoReflect DAY 2 P1 ======\n",
      "03/05/2024 02:51:24 AM \t\t===== DoAnswer DAY 2 P1 ======\n",
      "03/05/2024 02:51:24 AM \tQUESTION: 现在是DAY 2,你支持的玩家是P1(预言家身份)..目前场上玩家:P1:存活,P2:存活,P3:存活,P4:存活,P5:淘汰,P6:存活,P7:存活,P8:存活(逗号为分割符)..开始一步一步进行推理，为下一轮行动准备.\n"
     ]
    },
    {
     "name": "stdout",
     "output_type": "stream",
     "text": [
      " {\"reflections\":\"根据昨晚我作为预言家查验结果,P3确定为狼人。但狼人未在昨夜行动,其他玩家未死亡,说明可能还有另一只狼人。P5死亡遗言指P3,与我查验结果一致,说明P5为村民。现阶段,P2、P4、P6、P7、P8任何一个都可能是另一只狼人。\"}"
     ]
    },
    {
     "name": "stderr",
     "output_type": "stream",
     "text": [
      "03/05/2024 02:51:27 AM \t\t===== DoAnswer DAY 2 P1 ======\n",
      "03/05/2024 02:51:27 AM \tQUESTION: 现在是DAY 2,你支持的玩家是P1(预言家身份)..目前场上玩家:P1:存活,P2:存活,P3:存活,P4:存活,P5:淘汰,P6:存活,P7:存活,P8:存活(逗号为分割符).现在是第2天白天的讨论环节，该如何行动?\n"
     ]
    },
    {
     "name": "stdout",
     "output_type": "stream",
     "text": [
      " {\"reflections\":\"根据昨晚查验结果和P5死亡遗言,P3确定为狼人。但狼人昨夜未行动,其他可能是P2、P4、P6、P7或P8。需引导其他玩家一起指证P3,以免狼人再次分散火力。\"}"
     ]
    },
    {
     "name": "stderr",
     "output_type": "stream",
     "text": [
      "03/05/2024 02:51:30 AM \t\t===== DoAction DAY 2 P1 ======\n",
      "03/05/2024 02:51:30 AM \n",
      " [ROUND ACTION]={'time': 'DAY 2', 'player': 'P1', 'status': 1, 'role': '预言家', 'character': '独立思考', 'response': ['{\"reflections\":\"根据昨晚查验结果和P5死亡遗言,P3确定为狼人。但狼人昨夜未行动,其他可能是P2、P4、P6、P7或P8。需引导其他玩家一起指证P3,以免狼人再次分散火力。\"}']}\n",
      "\n",
      "03/05/2024 02:51:30 AM \t\t===== DoMemory DAY 2 P2 ======\n"
     ]
    },
    {
     "name": "stdout",
     "output_type": "stream",
     "text": [
      " 游戏进入第二天,P5死亡留言指出P3表现可疑可能为狼人,建议其他玩家怀疑P3。"
     ]
    },
    {
     "name": "stderr",
     "output_type": "stream",
     "text": [
      "03/05/2024 02:51:32 AM \t\t===== DoReflect DAY 2 P2 ======\n",
      "03/05/2024 02:51:32 AM \t\t===== DoAnswer DAY 2 P2 ======\n",
      "03/05/2024 02:51:32 AM \tQUESTION: 现在是DAY 2,你支持的玩家是P2(村民身份)..目前场上玩家:P1:存活,P2:存活,P3:存活,P4:存活,P5:淘汰,P6:存活,P7:存活,P8:存活(逗号为分割符)..开始一步一步进行推理，为下一轮行动准备.\n"
     ]
    },
    {
     "name": "stdout",
     "output_type": "stream",
     "text": [
      " {\"reflections\":\"P5的死亡遗言指出P3可疑,这给我们提供了线索。但是P3在白天可能会反驳,我们需要找更多证据。P1昨天是否有可疑表现也需要观察。我们暂时不能下定论。\"}"
     ]
    },
    {
     "name": "stderr",
     "output_type": "stream",
     "text": [
      "03/05/2024 02:51:34 AM \t\t===== DoAnswer DAY 2 P2 ======\n",
      "03/05/2024 02:51:34 AM \tQUESTION: 现在是DAY 2,你支持的玩家是P2(村民身份)..目前场上玩家:P1:存活,P2:存活,P3:存活,P4:存活,P5:淘汰,P6:存活,P7:存活,P8:存活(逗号为分割符).现在是第2天白天的讨论环节，该如何行动?\n"
     ]
    },
    {
     "name": "stdout",
     "output_type": "stream",
     "text": [
      " {\"reflections\":\"P5的死亡遗言确实提示P3可疑,但缺乏直接证据。我们需要观察各玩家在讨论中的表现,找出更多线索。\"}"
     ]
    },
    {
     "name": "stderr",
     "output_type": "stream",
     "text": [
      "03/05/2024 02:51:36 AM \t\t===== DoAction DAY 2 P2 ======\n",
      "03/05/2024 02:51:36 AM \n",
      " [ROUND ACTION]={'time': 'DAY 2', 'player': 'P2', 'status': 1, 'role': '村民', 'character': '腼腆型', 'response': ['{\"reflections\":\"P5的死亡遗言确实提示P3可疑,但缺乏直接证据。我们需要观察各玩家在讨论中的表现,找出更多线索。\"}']}\n",
      "\n",
      "03/05/2024 02:51:36 AM \t\t===== DoMemory DAY 2 P3 ======\n"
     ]
    },
    {
     "name": "stdout",
     "output_type": "stream",
     "text": [
      " 游戏进入第二天。P5死亡后指出P3昨天表现可疑可能为狼人,但提供的信息不足以定论。"
     ]
    },
    {
     "name": "stderr",
     "output_type": "stream",
     "text": [
      "03/05/2024 02:51:38 AM \t\t===== DoReflect DAY 2 P3 ======\n",
      "03/05/2024 02:51:38 AM \t\t===== DoAnswer DAY 2 P3 ======\n",
      "03/05/2024 02:51:38 AM \tQUESTION: 现在是DAY 2,你支持的玩家是P3(狼人身份,本阵营为:P3,P6).目前场上玩家:P1:存活,P2:存活,P3:存活,P4:存活,P5:淘汰,P6:存活,P7:存活,P8:存活(逗号为分割符)..开始一步一步进行推理，为下一轮行动准备.\n"
     ]
    },
    {
     "name": "stdout",
     "output_type": "stream",
     "text": [
      " {\"action\":\"Debate\",\"content\":\"P5死亡后指出P3昨天表现可疑,但提供的信息不足定论。昨天第一晚,狼人选择杀死P5是为制造混乱。今天需要集中讨论P5死前的线索,找出更多信息,以免误导大家。\"}"
     ]
    },
    {
     "name": "stderr",
     "output_type": "stream",
     "text": [
      "03/05/2024 02:51:40 AM \t\t===== DoAnswer DAY 2 P3 ======\n",
      "03/05/2024 02:51:40 AM \tQUESTION: 现在是DAY 2,你支持的玩家是P3(狼人身份,本阵营为:P3,P6).目前场上玩家:P1:存活,P2:存活,P3:存活,P4:存活,P5:淘汰,P6:存活,P7:存活,P8:存活(逗号为分割符).现在是第2天白天的讨论环节，该如何行动?\n"
     ]
    },
    {
     "name": "stdout",
     "output_type": "stream",
     "text": [
      " {\"action\":\"Debate\",\"content\":\"P5死前指出我P3昨天表现可疑,但未提供具体证据,似乎是在误导大家。我们应集中讨论P5当时的举动,找出更多线索。\"}\n",
      "\n",
      "思考:\n",
      "P5死前指控我可疑,这对我不利。但是提供的信息太少,无法定论。我需要利用这个机会进行辩解,同时转移视线到P5身上,寻找更多信息,以免自己成为目标。"
     ]
    },
    {
     "name": "stderr",
     "output_type": "stream",
     "text": [
      "03/05/2024 02:51:44 AM \t\t===== DoAction DAY 2 P3 ======\n",
      "03/05/2024 02:51:44 AM \n",
      " [ROUND ACTION]={'time': 'DAY 2', 'player': 'P3', 'status': 1, 'role': '狼人', 'character': '组织者', 'response': ['{\"action\":\"Debate\",\"content\":\"P5死前指出我P3昨天表现可疑,但未提供具体证据,似乎是在误导大家。我们应集中讨论P5当时的举动,找出更多线索。\"}']}\n",
      "\n",
      "03/05/2024 02:51:44 AM \t\t===== DoMemory DAY 2 P4 ======\n"
     ]
    },
    {
     "name": "stdout",
     "output_type": "stream",
     "text": [
      " 游戏目前处于白天阶段。根据P5死亡前的遗言,P5指出P3昨天表现可疑可能为狼人,但P3否认此说法,并认为应集中讨论P5本身。其他玩家P1、P2、P4、P6、P7、P8存活。"
     ]
    },
    {
     "name": "stderr",
     "output_type": "stream",
     "text": [
      "03/05/2024 02:51:47 AM \t\t===== DoReflect DAY 2 P4 ======\n",
      "03/05/2024 02:51:47 AM \t\t===== DoAnswer DAY 2 P4 ======\n",
      "03/05/2024 02:51:47 AM \tQUESTION: 现在是DAY 2,你支持的玩家是P4(村民身份)..目前场上玩家:P1:存活,P2:存活,P3:存活,P4:存活,P5:淘汰,P6:存活,P7:存活,P8:存活(逗号为分割符)..开始一步一步进行推理，为下一轮行动准备.\n"
     ]
    },
    {
     "name": "stdout",
     "output_type": "stream",
     "text": [
      " {\"action\":\"Debate\",\"content\":\"P5死前指出P3可疑,但P3否认且指P5,这一点值得怀疑。昨天P3的表现实在令人不安,而P5没有自相矛盾,我认为P5的说法更可信。不过信息有限,现阶段我们应集中讨论每个玩家而不是直接投票,以免误杀。\"}"
     ]
    },
    {
     "name": "stderr",
     "output_type": "stream",
     "text": [
      "03/05/2024 02:51:51 AM \t\t===== DoAnswer DAY 2 P4 ======\n",
      "03/05/2024 02:51:51 AM \tQUESTION: 现在是DAY 2,你支持的玩家是P4(村民身份)..目前场上玩家:P1:存活,P2:存活,P3:存活,P4:存活,P5:淘汰,P6:存活,P7:存活,P8:存活(逗号为分割符).现在是第2天白天的讨论环节，该如何行动?\n"
     ]
    },
    {
     "name": "stdout",
     "output_type": "stream",
     "text": [
      " {\"action\":\"Debate\",\"content\":\"P5死前指出P3可疑,P3否认且指P5,这一点值得怀疑。昨天P3的表现令人不安,而P5没有自相矛盾,P5的说法在我看来更可信。不过信息有限,现阶段我们应集中讨论每个玩家的行为,而不是直接投票,以免误杀。\"}"
     ]
    },
    {
     "name": "stderr",
     "output_type": "stream",
     "text": [
      "03/05/2024 02:51:54 AM \t\t===== DoAction DAY 2 P4 ======\n",
      "03/05/2024 02:51:54 AM \n",
      " [ROUND ACTION]={'time': 'DAY 2', 'player': 'P4', 'status': 1, 'role': '村民', 'character': '规矩型', 'response': ['{\"action\":\"Debate\",\"content\":\"P5死前指出P3可疑,P3否认且指P5,这一点值得怀疑。昨天P3的表现令人不安,而P5没有自相矛盾,P5的说法在我看来更可信。不过信息有限,现阶段我们应集中讨论每个玩家的行为,而不是直接投票,以免误杀。\"}']}\n",
      "\n",
      "03/05/2024 02:51:54 AM \t\t===== DoMemory DAY 2 P6 ======\n"
     ]
    },
    {
     "name": "stdout",
     "output_type": "stream",
     "text": [
      " 游戏进入第二天,P5被第一轮狼人投票淘汰。P5死亡前指出P3昨天表现可疑可能为狼人,但提供无具体证据。P3否认并指P5误导,P4质疑P3自相矛盾且昨天表现不安。各玩家在讨论阶段交换观点,但信息有限,暂不直接投票。"
     ]
    },
    {
     "name": "stderr",
     "output_type": "stream",
     "text": [
      "03/05/2024 02:51:58 AM \t\t===== DoReflect DAY 2 P6 ======\n",
      "03/05/2024 02:51:58 AM \t\t===== DoAnswer DAY 2 P6 ======\n",
      "03/05/2024 02:51:58 AM \tQUESTION: 现在是DAY 2,你支持的玩家是P6(狼人身份,本阵营为:P3,P6).目前场上玩家:P1:存活,P2:存活,P3:存活,P4:存活,P5:淘汰,P6:存活,P7:存活,P8:存活(逗号为分割符)..开始一步一步进行推理，为下一轮行动准备.\n"
     ]
    },
    {
     "name": "stdout",
     "output_type": "stream",
     "text": [
      " {\"action\":\"Debate\",\"content\":\"P5死亡前指出P3可疑,但缺乏证据,我们不应轻信他人说辞。P3否认理由合理,但P4质疑也有依据。信息不足难下定论,今日暂时观望,各玩家言行更需要紧盯。\"}"
     ]
    },
    {
     "name": "stderr",
     "output_type": "stream",
     "text": [
      "03/05/2024 02:52:02 AM \t\t===== DoAnswer DAY 2 P6 ======\n",
      "03/05/2024 02:52:02 AM \tQUESTION: 现在是DAY 2,你支持的玩家是P6(狼人身份,本阵营为:P3,P6).目前场上玩家:P1:存活,P2:存活,P3:存活,P4:存活,P5:淘汰,P6:存活,P7:存活,P8:存活(逗号为分割符).现在是第2天白天的讨论环节，该如何行动?\n"
     ]
    },
    {
     "name": "stdout",
     "output_type": "stream",
     "text": [
      " {\"action\":\"Debate\",\"content\":\"P5死前指控P3,P4也质疑P3,但缺乏实质证据,现阶段信息不足下定论。我建议集中讨论更有价值线索,避免个人攻击,以免误导大家。\"}"
     ]
    },
    {
     "name": "stderr",
     "output_type": "stream",
     "text": [
      "03/05/2024 02:52:04 AM \t\t===== DoAction DAY 2 P6 ======\n",
      "03/05/2024 02:52:04 AM \n",
      " [ROUND ACTION]={'time': 'DAY 2', 'player': 'P6', 'status': 1, 'role': '狼人', 'character': '过激型', 'response': ['{\"action\":\"Debate\",\"content\":\"P5死前指控P3,P4也质疑P3,但缺乏实质证据,现阶段信息不足下定论。我建议集中讨论更有价值线索,避免个人攻击,以免误导大家。\"}']}\n",
      "\n",
      "03/05/2024 02:52:04 AM \t\t===== DoMemory DAY 2 P7 ======\n"
     ]
    },
    {
     "name": "stdout",
     "output_type": "stream",
     "text": [
      " 场上信息:P1~P8存活。P5于NIGHT 1被狼人投票淘汰。P5死后指控P3可疑。P3否认且质疑P5。P4支持P5说法但提醒信息有限。P6呼吁集中讨论线索而非个人。"
     ]
    },
    {
     "name": "stderr",
     "output_type": "stream",
     "text": [
      "03/05/2024 02:52:07 AM \t\t===== DoReflect DAY 2 P7 ======\n",
      "03/05/2024 02:52:07 AM \t\t===== DoAnswer DAY 2 P7 ======\n",
      "03/05/2024 02:52:07 AM \tQUESTION: 现在是DAY 2,你支持的玩家是P7(村民身份)..目前场上玩家:P1:存活,P2:存活,P3:存活,P4:存活,P5:淘汰,P6:存活,P7:存活,P8:存活(逗号为分割符)..开始一步一步进行推理，为下一轮行动准备.\n"
     ]
    },
    {
     "name": "stdout",
     "output_type": "stream",
     "text": [
      " {\"action\":\"Debate\",\"content\":\"P5死前指控P3,P3否认且质疑P5,这两人都有嫌疑。但P4支持P5,信息来源可靠,P3表现可疑。另一方面,P6提醒集中线索讨论,思路清晰,值得信赖。我建议今日集中讨论P3与P6。\"}"
     ]
    },
    {
     "name": "stderr",
     "output_type": "stream",
     "text": [
      "03/05/2024 02:52:10 AM \t\t===== DoAnswer DAY 2 P7 ======\n",
      "03/05/2024 02:52:10 AM \tQUESTION: 现在是DAY 2,你支持的玩家是P7(村民身份)..目前场上玩家:P1:存活,P2:存活,P3:存活,P4:存活,P5:淘汰,P6:存活,P7:存活,P8:存活(逗号为分割符).现在是第2天白天的讨论环节，该如何行动?\n"
     ]
    },
    {
     "name": "stdout",
     "output_type": "stream",
     "text": [
      " {\"action\":\"Debate\",\"content\":\"P5死前指控P3,P3否认且质疑P5,两人都有嫌疑。但P4支持P5,信息来源可靠,P3表现可疑。P6提醒集中线索讨论,思路清晰,值得信赖。我建议今日集中讨论P3与P6,以了解更多信息。\"}"
     ]
    },
    {
     "name": "stderr",
     "output_type": "stream",
     "text": [
      "03/05/2024 02:52:12 AM \t\t===== DoAction DAY 2 P7 ======\n",
      "03/05/2024 02:52:12 AM \n",
      " [ROUND ACTION]={'time': 'DAY 2', 'player': 'P7', 'status': 1, 'role': '村民', 'character': '观察家', 'response': ['{\"action\":\"Debate\",\"content\":\"P5死前指控P3,P3否认且质疑P5,两人都有嫌疑。但P4支持P5,信息来源可靠,P3表现可疑。P6提醒集中线索讨论,思路清晰,值得信赖。我建议今日集中讨论P3与P6,以了解更多信息。\"}']}\n",
      "\n",
      "03/05/2024 02:52:12 AM \t\t===== DoMemory DAY 2 P8 ======\n"
     ]
    },
    {
     "name": "stdout",
     "output_type": "stream",
     "text": [
      " 游戏现状:存活6人,P5已死亡。P3被多人质疑行为可疑,但缺乏实质证据。各玩家意见不一,尚未形成共识。"
     ]
    },
    {
     "name": "stderr",
     "output_type": "stream",
     "text": [
      "03/05/2024 02:52:14 AM \t\t===== DoReflect DAY 2 P8 ======\n",
      "03/05/2024 02:52:14 AM \t\t===== DoAnswer DAY 2 P8 ======\n",
      "03/05/2024 02:52:14 AM \tQUESTION: 现在是DAY 2,你支持的玩家是P8(村民身份)..目前场上玩家:P1:存活,P2:存活,P3:存活,P4:存活,P5:淘汰,P6:存活,P7:存活,P8:存活(逗号为分割符)..开始一步一步进行推理，为下一轮行动准备.\n"
     ]
    },
    {
     "name": "stdout",
     "output_type": "stream",
     "text": [
      " {\"reflections\":\"- P3昨天表现可疑,但缺乏实质证据,不宜轻信个人判断。- 其他玩家对P3的质疑未形成共识,需要进一步讨论论据。- 作为互动达人,我需要主动发言,帮助玩家交流信息找出线索。\"}"
     ]
    },
    {
     "name": "stderr",
     "output_type": "stream",
     "text": [
      "03/05/2024 02:52:17 AM \t\t===== DoAnswer DAY 2 P8 ======\n",
      "03/05/2024 02:52:17 AM \tQUESTION: 现在是DAY 2,你支持的玩家是P8(村民身份)..目前场上玩家:P1:存活,P2:存活,P3:存活,P4:存活,P5:淘汰,P6:存活,P7:存活,P8:存活(逗号为分割符).现在是第2天白天的讨论环节，该如何行动?\n"
     ]
    },
    {
     "name": "stdout",
     "output_type": "stream",
     "text": [
      " {\"action\":\"Debate\",\"content\":\"P3昨天表现引起广泛质疑,但缺乏实质证据。我们需要深入讨论每个玩家的举动,找出更多线索,而不是轻信个人判断。\"}"
     ]
    },
    {
     "name": "stderr",
     "output_type": "stream",
     "text": [
      "03/05/2024 02:52:20 AM \t\t===== DoAction DAY 2 P8 ======\n",
      "03/05/2024 02:52:20 AM \n",
      " [ROUND ACTION]={'time': 'DAY 2', 'player': 'P8', 'status': 1, 'role': '村民', 'character': '互动达人', 'response': ['{\"action\":\"Debate\",\"content\":\"P3昨天表现引起广泛质疑,但缺乏实质证据。我们需要深入讨论每个玩家的举动,找出更多线索,而不是轻信个人判断。\"}']}\n",
      "\n",
      "03/05/2024 02:52:20 AM \t===== DAY 2 PostAction ======\n",
      "03/05/2024 02:52:20 AM \t\t===== DoMemory DAY 2 P1 ======\n"
     ]
    },
    {
     "name": "stdout",
     "output_type": "stream",
     "text": [
      " 游戏当前情况:P1、P2、P6、P7、P8存活,P3、P5出局。P5死亡遗言指P3可疑,P1夜间查验确认P3为狼人。"
     ]
    },
    {
     "name": "stderr",
     "output_type": "stream",
     "text": [
      "03/05/2024 02:52:24 AM \t\t===== DoReflect DAY 2 P1 ======\n",
      "03/05/2024 02:52:24 AM \t\t===== DoAnswer DAY 2 P1 ======\n",
      "03/05/2024 02:52:24 AM \tQUESTION: 现在是DAY 2,你支持的玩家是P1(预言家身份)..目前场上玩家:P1:存活,P2:存活,P3:存活,P4:存活,P5:淘汰,P6:存活,P7:存活,P8:存活(逗号为分割符)..开始一步一步进行推理，为下一轮行动准备.\n"
     ]
    },
    {
     "name": "stdout",
     "output_type": "stream",
     "text": [
      " <reflections>\n",
      "根据昨晚查验结果,P3确定为狼人。但狼人昨夜未行动,其他可能是P2、P4、P6、P7或P8。\n",
      "需引导其他玩家一起指证P3,以免狼人再次分散火力。\n",
      "同时,还需查明昨夜是否有第二只狼人行动。\n",
      "</reflections>\n",
      "\n",
      "{\"action\":\"PlayerVote\",\"target\":\"P3\"}\n",
      "\n",
      "思考:\n",
      "根据已知信息,P3确定为狼人。需在此轮白天投票中将P3淘汰,以减少狼人数量。\n",
      "同时在讨论环节中,提醒其他玩家P3的嫌疑,并查明昨夜是否有第二只狼人行动。"
     ]
    },
    {
     "name": "stderr",
     "output_type": "stream",
     "text": [
      "03/05/2024 02:52:28 AM \t\t===== DoAnswer DAY 2 P1 ======\n",
      "03/05/2024 02:52:28 AM \tQUESTION: 现在是DAY 2,你支持的玩家是P1(预言家身份)..目前场上玩家:P1:存活,P2:存活,P3:存活,P4:存活,P5:淘汰,P6:存活,P7:存活,P8:存活(逗号为分割符).现在是第2天白天的投票环节，该如何行动?\n"
     ]
    },
    {
     "name": "stdout",
     "output_type": "stream",
     "text": [
      " <reflections>\n",
      "P3昨天已被查实为狼,但狼未行动,其他可能均存疑。\n",
      "</reflections>\n",
      "\n",
      "{\"action\":\"PlayerVote\",\"target\":\"P4\"}\n",
      "\n",
      "理由:\n",
      "P4作为可能的另一狼,需引导他人注意。若P4非狼,也可除疑。现阶段需排除最大嫌疑人。"
     ]
    },
    {
     "name": "stderr",
     "output_type": "stream",
     "text": [
      "03/05/2024 02:52:32 AM \t\t===== DoAction DAY 2 P1 ======\n",
      "03/05/2024 02:52:32 AM \n",
      " [ROUND ACTION]={'time': 'DAY 2', 'player': 'P1', 'status': 1, 'role': '预言家', 'character': '独立思考', 'response': ['{\"action\":\"PlayerVote\",\"target\":\"P4\"}']}\n",
      "\n",
      "03/05/2024 02:52:32 AM \t\t===== DoMemory DAY 2 P2 ======\n"
     ]
    },
    {
     "name": "stdout",
     "output_type": "stream",
     "text": [
      " 游戏进入第二天。P5死亡留言指出P3昨天表现可疑可能为狼人,P4支持此观点。P3否认并质疑P5。P6、P8提醒集中讨论线索而不是个人,P7建议今日重点讨论P3与P6。P1于当天投票给P4。"
     ]
    },
    {
     "name": "stderr",
     "output_type": "stream",
     "text": [
      "03/05/2024 02:52:35 AM \t\t===== DoReflect DAY 2 P2 ======\n",
      "03/05/2024 02:52:35 AM \t\t===== DoAnswer DAY 2 P2 ======\n",
      "03/05/2024 02:52:35 AM \tQUESTION: 现在是DAY 2,你支持的玩家是P2(村民身份)..目前场上玩家:P1:存活,P2:存活,P3:存活,P4:存活,P5:淘汰,P6:存活,P7:存活,P8:存活(逗号为分割符)..开始一步一步进行推理，为下一轮行动准备.\n"
     ]
    },
    {
     "name": "stdout",
     "output_type": "stream",
     "text": [
      " {\"reflections\":\"P5死亡前指出P3可疑,其他玩家都在质疑P3,但直接证据不足。P1昨天投P4也有嫌疑。我们需要观察各玩家在讨论中的表现,找出更多线索。\"}"
     ]
    },
    {
     "name": "stderr",
     "output_type": "stream",
     "text": [
      "03/05/2024 02:52:38 AM \t\t===== DoAnswer DAY 2 P2 ======\n",
      "03/05/2024 02:52:38 AM \tQUESTION: 现在是DAY 2,你支持的玩家是P2(村民身份)..目前场上玩家:P1:存活,P2:存活,P3:存活,P4:存活,P5:淘汰,P6:存活,P7:存活,P8:存活(逗号为分割符).现在是第2天白天的投票环节，该如何行动?\n"
     ]
    },
    {
     "name": "stdout",
     "output_type": "stream",
     "text": [
      " {\"reflections\":\"P5死前指P3,P4也支持,但P3否认质疑他人,策略很狼人。P1昨天投P4也可疑。P6、P8提醒重点线索,P7重点讨论P3、P6,这表明P7可能更了解真相。我们需要观察P3、P4、P1、P7的表现,找出更多证据。\"}"
     ]
    },
    {
     "name": "stderr",
     "output_type": "stream",
     "text": [
      "03/05/2024 02:52:41 AM \t\t===== DoAction DAY 2 P2 ======\n",
      "03/05/2024 02:52:41 AM \n",
      " [ROUND ACTION]={'time': 'DAY 2', 'player': 'P2', 'status': 1, 'role': '村民', 'character': '腼腆型', 'response': ['{\"reflections\":\"P5死前指P3,P4也支持,但P3否认质疑他人,策略很狼人。P1昨天投P4也可疑。P6、P8提醒重点线索,P7重点讨论P3、P6,这表明P7可能更了解真相。我们需要观察P3、P4、P1、P7的表现,找出更多证据。\"}']}\n",
      "\n",
      "03/05/2024 02:52:41 AM \t\t===== DoMemory DAY 2 P3 ======\n"
     ]
    },
    {
     "name": "stdout",
     "output_type": "stream",
     "text": [
      " 游戏进入第二天。P5死亡后指出P3昨天表现可疑可能为狼人,但P3否认且质疑P5,P4支持P5,P6、P7、P8建议集中讨论线索而不是个人。P1于当天投票P4。"
     ]
    },
    {
     "name": "stderr",
     "output_type": "stream",
     "text": [
      "03/05/2024 02:52:44 AM \t\t===== DoReflect DAY 2 P3 ======\n",
      "03/05/2024 02:52:44 AM \t\t===== DoAnswer DAY 2 P3 ======\n",
      "03/05/2024 02:52:44 AM \tQUESTION: 现在是DAY 2,你支持的玩家是P3(狼人身份,本阵营为:P3,P6).目前场上玩家:P1:存活,P2:存活,P3:存活,P4:存活,P5:淘汰,P6:存活,P7:存活,P8:存活(逗号为分割符)..开始一步一步进行推理，为下一轮行动准备.\n"
     ]
    },
    {
     "name": "stdout",
     "output_type": "stream",
     "text": [
      " {\"action\":\"Debate\",\"content\":\"P5死前指控我可疑,但未提供具体证据,反而自己的举动更可疑。昨天第一晚,P5没有参与讨论就主动要求结束,似乎有意隐瞒自己的身份。我们应集中讨论P5当时的举动,以免自己陷入误导。\"}\n",
      "\n",
      "思考:\n",
      "P5死前指控我,对我不利。但是提供的信息太少,无法定论。我需要利用这个机会进行辩解,同时将视线转移到P5身上,质疑其举动,以寻找更多信息。P5死前主动结束讨论且未参与,或许暴露了破绽,值得大家重视。"
     ]
    },
    {
     "name": "stderr",
     "output_type": "stream",
     "text": [
      "03/05/2024 02:52:49 AM \t\t===== DoAnswer DAY 2 P3 ======\n",
      "03/05/2024 02:52:49 AM \tQUESTION: 现在是DAY 2,你支持的玩家是P3(狼人身份,本阵营为:P3,P6).目前场上玩家:P1:存活,P2:存活,P3:存活,P4:存活,P5:淘汰,P6:存活,P7:存活,P8:存活(逗号为分割符).现在是第2天白天的投票环节，该如何行动?\n"
     ]
    },
    {
     "name": "stdout",
     "output_type": "stream",
     "text": [
      " {\"action\":\"PlayerVote\",\"target\":\"P4\"}\n",
      "\n",
      "思考:\n",
      "P5死前指控我P3,虽然提供信息不足,但已对我产生不利影响。P4是直接支持P5的人,目前他成为我最直接的威胁。通过投P4来转移其他玩家的注意力,同时也可以引导大家重视P5当时的可疑举动。只要P4被淘汰,我的嫌疑就会减轻。"
     ]
    },
    {
     "name": "stderr",
     "output_type": "stream",
     "text": [
      "03/05/2024 02:52:54 AM \t\t===== DoAction DAY 2 P3 ======\n",
      "03/05/2024 02:52:54 AM \n",
      " [ROUND ACTION]={'time': 'DAY 2', 'player': 'P3', 'status': 1, 'role': '狼人', 'character': '组织者', 'response': ['{\"action\":\"PlayerVote\",\"target\":\"P4\"}']}\n",
      "\n",
      "03/05/2024 02:52:54 AM \t\t===== DoMemory DAY 2 P4 ======\n"
     ]
    },
    {
     "name": "stdout",
     "output_type": "stream",
     "text": [
      " 游戏目前处于白天阶段讨论环节。P5于前一天夜晚被狼人投票淘汰,死前指出P3昨天表现可疑可能为狼人。P3否认此说法并指P5误导,P4支持P5说法,P6建议集中讨论线索而非个人,P7质疑P3与支持P6,P8建议深入讨论各玩家而非轻信主观判断。P1与P3目前投票目标均为P4。"
     ]
    },
    {
     "name": "stderr",
     "output_type": "stream",
     "text": [
      "03/05/2024 02:52:57 AM \t\t===== DoReflect DAY 2 P4 ======\n",
      "03/05/2024 02:52:57 AM \t\t===== DoAnswer DAY 2 P4 ======\n",
      "03/05/2024 02:52:57 AM \tQUESTION: 现在是DAY 2,你支持的玩家是P4(村民身份)..目前场上玩家:P1:存活,P2:存活,P3:存活,P4:存活,P5:淘汰,P6:存活,P7:存活,P8:存活(逗号为分割符)..开始一步一步进行推理，为下一轮行动准备.\n"
     ]
    },
    {
     "name": "stdout",
     "output_type": "stream",
     "text": [
      " {\"action\":\"Debate\",\"content\":\"P5指出P3可疑,P3否认且指P5,这一点值得怀疑。P3昨天的表现令人不安,P5说法在我看来更可信。但信息有限,现阶段我们应集中讨论每个玩家的行为,而不是直接投票,以免误杀。\"}"
     ]
    },
    {
     "name": "stderr",
     "output_type": "stream",
     "text": [
      "03/05/2024 02:53:00 AM \t\t===== DoAnswer DAY 2 P4 ======\n",
      "03/05/2024 02:53:00 AM \tQUESTION: 现在是DAY 2,你支持的玩家是P4(村民身份)..目前场上玩家:P1:存活,P2:存活,P3:存活,P4:存活,P5:淘汰,P6:存活,P7:存活,P8:存活(逗号为分割符).现在是第2天白天的投票环节，该如何行动?\n"
     ]
    },
    {
     "name": "stdout",
     "output_type": "stream",
     "text": [
      " {\"action\":\"PlayerVote\",\"target\":\"P3\"}\n",
      "\n",
      "<reflections>\n",
      "- P5死前指出P3可疑,P3否认且指P5,这一点值得怀疑\n",
      "- P3昨天的表现令人不安,而P5没有自相矛盾,P5的说法在我看来更可信\n",
      "- 其他玩家如P6、P7也都表示P3可疑,信息指向P3\n",
      "- 目前没有更多直接证据,但根据线索判断,P3嫌疑最大\n",
      "- 虽然信息有限,但如果不采取行动,很可能让真凶逃脱\n",
      "</reflections>\n",
      "\n",
      "目前线索指向P3,我决定在此轮投票中投票P3,以求尽早排除嫌疑人。但信息确实有限,后续还需继续观察线索。"
     ]
    },
    {
     "name": "stderr",
     "output_type": "stream",
     "text": [
      "03/05/2024 02:53:06 AM \t\t===== DoAction DAY 2 P4 ======\n",
      "03/05/2024 02:53:06 AM \n",
      " [ROUND ACTION]={'time': 'DAY 2', 'player': 'P4', 'status': 1, 'role': '村民', 'character': '规矩型', 'response': ['{\"action\":\"PlayerVote\",\"target\":\"P3\"}']}\n",
      "\n",
      "03/05/2024 02:53:06 AM \t\t===== DoMemory DAY 2 P6 ======\n"
     ]
    },
    {
     "name": "stdout",
     "output_type": "stream",
     "text": [
      " 游戏进入第二天,P5被狼人投票淘汰。P5死前指P3可疑,P3否认并指P5,P4支持P5质疑P3,P6建议深入讨论而非定论。P1、P3投P4,P4投P3。"
     ]
    },
    {
     "name": "stderr",
     "output_type": "stream",
     "text": [
      "03/05/2024 02:53:09 AM \t\t===== DoReflect DAY 2 P6 ======\n",
      "03/05/2024 02:53:09 AM \t\t===== DoAnswer DAY 2 P6 ======\n",
      "03/05/2024 02:53:09 AM \tQUESTION: 现在是DAY 2,你支持的玩家是P6(狼人身份,本阵营为:P3,P6).目前场上玩家:P1:存活,P2:存活,P3:存活,P4:存活,P5:淘汰,P6:存活,P7:存活,P8:存活(逗号为分割符)..开始一步一步进行推理，为下一轮行动准备.\n"
     ]
    },
    {
     "name": "stdout",
     "output_type": "stream",
     "text": [
      " {\"action\":\"Debate\",\"content\":\"P5死前指控P3,P4也质疑P3,但缺乏实质证据,现阶段信息不足下定论。我建议集中讨论更有价值线索,避免个人攻击,以免误导大家。P3的一些表现或许值得进一步思考,但需要更多信息作判断。我们不如从每个人的日常表现和习惯着手,寻找蛛丝马迹。\"}"
     ]
    },
    {
     "name": "stderr",
     "output_type": "stream",
     "text": [
      "03/05/2024 02:53:12 AM \t\t===== DoAnswer DAY 2 P6 ======\n",
      "03/05/2024 02:53:12 AM \tQUESTION: 现在是DAY 2,你支持的玩家是P6(狼人身份,本阵营为:P3,P6).目前场上玩家:P1:存活,P2:存活,P3:存活,P4:存活,P5:淘汰,P6:存活,P7:存活,P8:存活(逗号为分割符).现在是第2天白天的投票环节，该如何行动?\n"
     ]
    },
    {
     "name": "stdout",
     "output_type": "stream",
     "text": [
      " {\"action\":\"PlayerVote\",\"target\":\"P4\"}\n",
      "\n",
      "理由是:P5死前指控P3,P4支持这一说法,而P3否认有问题。目前信息不足,我们应该支持同伴P3,先除掉质疑我们的P4,以免我们陷入被动。之后再找机会制造新的线索,引导大家视线。"
     ]
    },
    {
     "name": "stderr",
     "output_type": "stream",
     "text": [
      "03/05/2024 02:53:15 AM \t\t===== DoAction DAY 2 P6 ======\n",
      "03/05/2024 02:53:15 AM \n",
      " [ROUND ACTION]={'time': 'DAY 2', 'player': 'P6', 'status': 1, 'role': '狼人', 'character': '过激型', 'response': ['{\"action\":\"PlayerVote\",\"target\":\"P4\"}']}\n",
      "\n",
      "03/05/2024 02:53:15 AM \t\t===== DoMemory DAY 2 P7 ======\n"
     ]
    },
    {
     "name": "stdout",
     "output_type": "stream",
     "text": [
      " 场上信息:P1~P8存活。P5于NIGHT 1被狼人投票淘汰。P5死后指控P3可疑,P3否认且质疑P5。P4支持P5说法,P6建议深入讨论线索而非个人。P7质疑P3与P5,但信赖P4与P6。P8也质疑P3需要更多信息。P1、P3、P6投票P4。(96字)"
     ]
    },
    {
     "name": "stderr",
     "output_type": "stream",
     "text": [
      "03/05/2024 02:53:19 AM \t\t===== DoReflect DAY 2 P7 ======\n",
      "03/05/2024 02:53:19 AM \t\t===== DoAnswer DAY 2 P7 ======\n",
      "03/05/2024 02:53:19 AM \tQUESTION: 现在是DAY 2,你支持的玩家是P7(村民身份)..目前场上玩家:P1:存活,P2:存活,P3:存活,P4:存活,P5:淘汰,P6:存活,P7:存活,P8:存活(逗号为分割符)..开始一步一步进行推理，为下一轮行动准备.\n"
     ]
    },
    {
     "name": "stdout",
     "output_type": "stream",
     "text": [
      " {\"action\":\"Debate\",\"content\":\"P5死前指控P3,P3否认且质疑P5,两者都有嫌疑。P4支持P5,信息来源可靠,P3表现可疑。但P6提出深入讨论线索,思路清晰,值得信赖。我建议今日集中讨论P3与P6,以了解更多信息。\"}"
     ]
    },
    {
     "name": "stderr",
     "output_type": "stream",
     "text": [
      "03/05/2024 02:53:21 AM \t\t===== DoAnswer DAY 2 P7 ======\n",
      "03/05/2024 02:53:21 AM \tQUESTION: 现在是DAY 2,你支持的玩家是P7(村民身份)..目前场上玩家:P1:存活,P2:存活,P3:存活,P4:存活,P5:淘汰,P6:存活,P7:存活,P8:存活(逗号为分割符).现在是第2天白天的投票环节，该如何行动?\n"
     ]
    },
    {
     "name": "stdout",
     "output_type": "stream",
     "text": [
      " {\"action\":\"PlayerVote\",\"target\":\"P3\"}\n",
      "\n",
      "<reflections>\n",
      "- P5死前指控P3,P4也支持这一说法,信息来源更可靠\n",
      "- P3表现可疑,否认又质疑P5,说明他在隐瞒什么\n",
      "- P6提出深入讨论线索,思路清晰,值得信赖\n",
      "- 综上,P3嫌疑最大,我选择在此轮投P3\n",
      "</reflections>"
     ]
    },
    {
     "name": "stderr",
     "output_type": "stream",
     "text": [
      "03/05/2024 02:53:26 AM \t\t===== DoAction DAY 2 P7 ======\n",
      "03/05/2024 02:53:26 AM \n",
      " [ROUND ACTION]={'time': 'DAY 2', 'player': 'P7', 'status': 1, 'role': '村民', 'character': '观察家', 'response': ['{\"action\":\"PlayerVote\",\"target\":\"P3\"}']}\n",
      "\n",
      "03/05/2024 02:53:26 AM \t\t===== DoMemory DAY 2 P8 ======\n"
     ]
    },
    {
     "name": "stdout",
     "output_type": "stream",
     "text": [
      " 存活6人,P5已死。P3被多人质疑昨日行为可疑,但无实质证据。各玩家意见不一,未形成共识,继续就P3和其他线索进行辩论。P1、P3、P6投票P4,P4、P7投票P3。"
     ]
    },
    {
     "name": "stderr",
     "output_type": "stream",
     "text": [
      "03/05/2024 02:53:31 AM \t\t===== DoReflect DAY 2 P8 ======\n",
      "03/05/2024 02:53:31 AM \t\t===== DoAnswer DAY 2 P8 ======\n",
      "03/05/2024 02:53:31 AM \tQUESTION: 现在是DAY 2,你支持的玩家是P8(村民身份)..目前场上玩家:P1:存活,P2:存活,P3:存活,P4:存活,P5:淘汰,P6:存活,P7:存活,P8:存活(逗号为分割符)..开始一步一步进行推理，为下一轮行动准备.\n"
     ]
    },
    {
     "name": "stdout",
     "output_type": "stream",
     "text": [
      " {\"reflections\":\"- P3的行为最可疑,但缺乏实质证据,不能轻信个人判断。- P1、P3、P6三人同投一票,表现出某种联系。- 需要引导讨论深入剖析每个玩家的举动。\"}"
     ]
    },
    {
     "name": "stderr",
     "output_type": "stream",
     "text": [
      "03/05/2024 02:53:37 AM \t\t===== DoAnswer DAY 2 P8 ======\n",
      "03/05/2024 02:53:37 AM \tQUESTION: 现在是DAY 2,你支持的玩家是P8(村民身份)..目前场上玩家:P1:存活,P2:存活,P3:存活,P4:存活,P5:淘汰,P6:存活,P7:存活,P8:存活(逗号为分割符).现在是第2天白天的投票环节，该如何行动?\n"
     ]
    },
    {
     "name": "stdout",
     "output_type": "stream",
     "text": [
      " {\"reflections\":\"- P3的行为最可疑,但缺乏实质证据,不能轻信个人判断。- P1、P3、P6三人同投一票,表现出某种联系。- 其他玩家对P3的质疑未形成共识,需要深入探讨每个玩家的举动。\"}"
     ]
    },
    {
     "name": "stderr",
     "output_type": "stream",
     "text": [
      "03/05/2024 02:53:39 AM \t\t===== DoAction DAY 2 P8 ======\n",
      "03/05/2024 02:53:39 AM \n",
      " [ROUND ACTION]={'time': 'DAY 2', 'player': 'P8', 'status': 1, 'role': '村民', 'character': '互动达人', 'response': ['{\"reflections\":\"- P3的行为最可疑,但缺乏实质证据,不能轻信个人判断。- P1、P3、P6三人同投一票,表现出某种联系。- 其他玩家对P3的质疑未形成共识,需要深入探讨每个玩家的举动。\"}']}\n",
      "\n",
      "03/05/2024 02:53:39 AM \t [player_votes]: ['P4'], [player_vote_name]: Counter({'P4': 3, 'P3': 2})\n",
      "03/05/2024 02:53:39 AM \n",
      " [PLAYER VOTE]={'time': 'DAY 2', 'player': 'P4', 'status': 0, 'role': '村民', 'character': '规矩型', 'response': '玩家P4于DAY 2被玩家投票而出局'}\n",
      "\n",
      "03/05/2024 02:53:39 AM \t\t===== DoMemory DAY 2 P4 ======\n"
     ]
    },
    {
     "name": "stdout",
     "output_type": "stream",
     "text": [
      " 游戏进入白天阶段,P5指P3可疑后被淘汰,P3否认P5说法,P4支持P5,P6建议集中讨论线索,P7质疑P3,P8主张深入讨论。P1、P3投P4,P4投P3,P6投P4,P7投P3,P4于此轮被淘汰。"
     ]
    },
    {
     "name": "stderr",
     "output_type": "stream",
     "text": [
      "03/05/2024 02:53:43 AM \t\t===== DoReflect DAY 2 P4 ======\n",
      "03/05/2024 02:53:43 AM \t\t===== DoAnswer DAY 2 P4 ======\n",
      "03/05/2024 02:53:43 AM \tQUESTION: 现在是DAY 2,你支持的玩家是P4(村民身份)..目前场上玩家:P1:存活,P2:存活,P3:存活,P4:淘汰,P5:淘汰,P6:存活,P7:存活,P8:存活(逗号为分割符)..开始一步一步进行推理，为下一轮行动准备.\n"
     ]
    },
    {
     "name": "stdout",
     "output_type": "stream",
     "text": [
      " <reflections>\n",
      "- P4我支持的玩家已经被淘汰,游戏形势对我不利\n",
      "- P5指P3可疑,P3否认且指P5,这一点值得怀疑\n",
      "- P3昨天的表现令人不安,其他玩家如P6、P7也质疑过P3\n",
      "- 信息指向P3最大,应继续这条线索\n",
      "</reflections>\n",
      "\n",
      "{\"action\":\"Debate\",\"content\":\"很遗憾P4已经出局,但游戏仍在继续。P5指P3可疑时,P3的反应也令人堪忧。P6和P7昨天也曾质疑过P3,目前线索指向P3最大。我们应该集中讨论P3的行为,以求尽快排除嫌疑人。\"}"
     ]
    },
    {
     "name": "stderr",
     "output_type": "stream",
     "text": [
      "03/05/2024 02:53:50 AM \t\t===== DoAnswer DAY 2 P4 ======\n",
      "03/05/2024 02:53:50 AM \tQUESTION: 现在是DAY 2,你支持的玩家是P4(村民身份)..目前场上玩家:P1:存活,P2:存活,P3:存活,P4:淘汰,P5:淘汰,P6:存活,P7:存活,P8:存活(逗号为分割符).现在是第2天白天，你已经死亡,有何遗言?\n"
     ]
    },
    {
     "name": "stdout",
     "output_type": "stream",
     "text": [
      " <reflections>\n",
      "- P4我支持的已经被淘汰,游戏形势对我不利\n",
      "- P5指P3可疑,P3否认且指P5,这一点值得怀疑\n",
      "- P3昨天的表现令人不安,其他玩家也有质疑P3\n",
      "</reflections>\n",
      "\n",
      "{\"action\":\"DeathWords\",\"content\":\"很遗憾我已经出局,但游戏仍在继续。从目前线索看,P3的表现最为可疑,但信息不足,无法下定论。我建议其他玩家继续观察P3,同时也不能忽视其他任何玩家。只有通过深入探讨各位同伴,我们才能尽快找出真凶。请大家团结合作,共同解决谜团!\"}"
     ]
    },
    {
     "name": "stderr",
     "output_type": "stream",
     "text": [
      "03/05/2024 02:53:55 AM \t\t===== DoAction DAY 2 P4 ======\n",
      "03/05/2024 02:53:55 AM \n",
      " [ROUND ACTION]={'time': 'DAY 2', 'player': 'P4', 'status': 0, 'role': '村民', 'character': '规矩型', 'response': ['{\"action\":\"DeathWords\",\"content\":\"很遗憾我已经出局,但游戏仍在继续。从目前线索看,P3的表现最为可疑,但信息不足,无法下定论。我建议其他玩家继续观察P3,同时也不能忽视其他任何玩家。只有通过深入探讨各位同伴,我们才能尽快找出真凶。请大家团结合作,共同解决谜团!\"}']}\n",
      "\n",
      "03/05/2024 02:53:55 AM 游戏继续. 目前玩家存活情况:P1:存活,P2:存活,P3:存活,P4:淘汰,P5:淘汰,P6:存活,P7:存活,P8:存活\n",
      "03/05/2024 02:53:55 AM \t===== NIGHT 2 PreAction ======\n",
      "03/05/2024 02:53:55 AM \t===== NIGHT 2 DoAction ======\n",
      "03/05/2024 02:53:55 AM \t\t===== DoMemory NIGHT 2 P1 ======\n"
     ]
    },
    {
     "name": "stdout",
     "output_type": "stream",
     "text": [
      " 目前存活玩家有P1、P2、P6、P7、P8。P5死亡时指P3可疑,P4也质疑P3。P4于DAY2被投票淘汰。P4死前也认为P3最可疑。P1夜查P3,确认P3为狼人。"
     ]
    },
    {
     "name": "stderr",
     "output_type": "stream",
     "text": [
      "03/05/2024 02:53:58 AM \t\t===== DoReflect NIGHT 2 P1 ======\n",
      "03/05/2024 02:53:58 AM \t\t===== DoAnswer NIGHT 2 P1 ======\n",
      "03/05/2024 02:53:58 AM \tQUESTION: 现在是NIGHT 2,你支持的玩家是P1(预言家身份)..目前场上玩家:P1:存活,P2:存活,P3:存活,P4:淘汰,P5:淘汰,P6:存活,P7:存活,P8:存活(逗号为分割符)..开始一步一步进行推理，为下一轮行动准备.\n"
     ]
    },
    {
     "name": "stdout",
     "output_type": "stream",
     "text": [
      " <reflections>\n",
      "P3昨天已被查实为狼,P4、P5先后被淘汰但未查实身份。\n",
      "存活玩家中,P2、P6、P7、P8任何一个仍可能为狼。\n",
      "</reflections>\n",
      "\n",
      "{\"action\":\"ProphetCheck\",\"target\":\"P2\"}\n",
      "\n",
      "理由:\n",
      "P2作为可能的狼人,需进行夜间查验排除嫌疑。\n",
      "若P2为狼,可为后续提供线索;若非狼,也可帮助剩余玩家除疑。"
     ]
    },
    {
     "name": "stderr",
     "output_type": "stream",
     "text": [
      "03/05/2024 02:54:02 AM \t\t===== DoAnswer NIGHT 2 P1 ======\n",
      "03/05/2024 02:54:02 AM \tQUESTION: 现在是NIGHT 2,你支持的玩家是P1(预言家身份)..目前场上玩家:P1:存活,P2:存活,P3:存活,P4:淘汰,P5:淘汰,P6:存活,P7:存活,P8:存活(逗号为分割符).现在是第2天夜晚，该如何行动?\n"
     ]
    },
    {
     "name": "stdout",
     "output_type": "stream",
     "text": [
      " <reflections>\n",
      "P3已证实为狼,P2查验有助排除嫌疑。但P6、P7、P8任一也可能是狼。\n",
      "</reflections>\n",
      "\n",
      "{\"action\":\"ProphetCheck\",\"target\":\"P2\"}\n",
      "\n",
      "理由:通过查验P2,可排除其嫌疑,为后续游戏提供线索。若P2清白,还需观察其他玩家举动。"
     ]
    },
    {
     "name": "stderr",
     "output_type": "stream",
     "text": [
      "03/05/2024 02:54:05 AM \t\t===== DoAction NIGHT 2 P1 ======\n",
      "03/05/2024 02:54:05 AM [玩家P1于时间NIGHT 2, 执行动作为:{'action': 'ProphetCheck', 'target': 'P2'}]P2:村民\n",
      "03/05/2024 02:54:05 AM \n",
      " [ROUND ACTION]={'time': 'NIGHT 2', 'player': 'P1', 'status': 1, 'role': '预言家', 'character': '独立思考', 'response': ['{\"action\":\"ProphetCheck\",\"target\":\"P2\"}']}\n",
      "\n",
      "03/05/2024 02:54:05 AM \t\t===== DoMemory NIGHT 2 P3 ======\n"
     ]
    },
    {
     "name": "stdout",
     "output_type": "stream",
     "text": [
      " 游戏进入第二天,P5死亡后指出P3昨天表现可疑可能为狼人,P3否认且质疑P5,P4支持P5观点。P6、P7、P8建议集中讨论线索,而不是个人。P1~P7多数投票淘汰P4,P4出局后再次指出P3表现最为可疑。"
     ]
    },
    {
     "name": "stderr",
     "output_type": "stream",
     "text": [
      "03/05/2024 02:54:08 AM \t\t===== DoReflect NIGHT 2 P3 ======\n",
      "03/05/2024 02:54:08 AM \t\t===== DoAnswer NIGHT 2 P3 ======\n",
      "03/05/2024 02:54:08 AM \tQUESTION: 现在是NIGHT 2,你支持的玩家是P3(狼人身份,本阵营为:P3,P6).目前场上玩家:P1:存活,P2:存活,P3:存活,P4:淘汰,P5:淘汰,P6:存活,P7:存活,P8:存活(逗号为分割符)..开始一步一步进行推理，为下一轮行动准备.\n"
     ]
    },
    {
     "name": "stdout",
     "output_type": "stream",
     "text": [
      " <reflections>\n",
      "- P4被淘汰后再次指责P3,说明P4死前线索应该是真实的\n",
      "- 但是P4提供的信息量仍然不足,无法直接定论P3的身份\n",
      "- P1在前两天都比较低调,没有表现出明显立场,成为新的目标可能会引起他人重视\n",
      "- 但P1被杀死也可能会让更多人起疑,不利于掩盖自己\n",
      "</reflections>\n",
      "\n",
      "根据当前形势,我认为下一步应选择一个信息量较少但可能引起他人重视的目标,以转移视线:\n",
      "\n",
      "{\"action\":\"WolfVote\",\"target\":\"P1\"}\n",
      "\n",
      "理由是:P1两天都表现低调,没有明显立场。选择他可以避免直接与P4线索挂钩,同时也可能让更多玩家重视P1,从而分散对我P3的怀疑。只要不直接杀死与P4有关的人,就有可能延缓自己身份暴露的速度。"
     ]
    },
    {
     "name": "stderr",
     "output_type": "stream",
     "text": [
      "03/05/2024 02:54:16 AM \t\t===== DoAnswer NIGHT 2 P3 ======\n",
      "03/05/2024 02:54:16 AM \tQUESTION: 现在是NIGHT 2,你支持的玩家是P3(狼人身份,本阵营为:P3,P6).目前场上玩家:P1:存活,P2:存活,P3:存活,P4:淘汰,P5:淘汰,P6:存活,P7:存活,P8:存活(逗号为分割符).现在是第2天夜晚，该如何行动?\n"
     ]
    },
    {
     "name": "stdout",
     "output_type": "stream",
     "text": [
      " <reflections>\n",
      "- P4死前两次都指证P3,说明P4线索应该属实\n",
      "- 但是P4提供的信息量仍不足以定论P3身份\n",
      "- P1两天都很低调,没有表现出明显立场,选择他可以转移视线\n",
      "- 但杀死P1可能让更多人起疑\n",
      "</reflections>\n",
      "\n",
      "{\"action\":\"WolfVote\",\"target\":\"P7\"}\n",
      "\n",
      "理由:P7两天都比较低调,没有明显立场。选择他可以避免直接与P4线索挂钩,同时也可能让更多玩家重视P7,从而分散对我P3的怀疑。只要不直接杀死与P4有关的人,就可能延缓自己身份暴露。"
     ]
    },
    {
     "name": "stderr",
     "output_type": "stream",
     "text": [
      "03/05/2024 02:54:21 AM \t\t===== DoAction NIGHT 2 P3 ======\n",
      "03/05/2024 02:54:21 AM \n",
      " [ROUND ACTION]={'time': 'NIGHT 2', 'player': 'P3', 'status': 1, 'role': '狼人', 'character': '组织者', 'response': ['{\"action\":\"WolfVote\",\"target\":\"P7\"}']}\n",
      "\n",
      "03/05/2024 02:54:21 AM \t\t===== DoMemory NIGHT 2 P6 ======\n"
     ]
    },
    {
     "name": "stdout",
     "output_type": "stream",
     "text": [
      " 游戏进入第三天,P5和P4已被淘汰。P3行为受质疑,P1、P3和P7投票P4,P6和P7投票P3,最终P4被淘汰。P4死前也质疑P3,但信息不足无法定论。"
     ]
    },
    {
     "name": "stderr",
     "output_type": "stream",
     "text": [
      "03/05/2024 02:54:24 AM \t\t===== DoReflect NIGHT 2 P6 ======\n",
      "03/05/2024 02:54:24 AM \t\t===== DoAnswer NIGHT 2 P6 ======\n",
      "03/05/2024 02:54:24 AM \tQUESTION: 现在是NIGHT 2,你支持的玩家是P6(狼人身份,本阵营为:P3,P6).目前场上玩家:P1:存活,P2:存活,P3:存活,P4:淘汰,P5:淘汰,P6:存活,P7:存活,P8:存活(逗号为分割符)..开始一步一步进行推理，为下一轮行动准备.\n"
     ]
    },
    {
     "name": "stdout",
     "output_type": "stream",
     "text": [
      " {\"action\":\"WolfVote\",\"target\":\"P7\"}\n",
      "\n",
      "理由是:P7在前两天表现低调,没有明显立场,同时也没有被其他玩家质疑,可以视为当前最安全的目标。除掉P7后,我们可以利用死亡信息引导舆论视线,为下一步埋下线索。"
     ]
    },
    {
     "name": "stderr",
     "output_type": "stream",
     "text": [
      "03/05/2024 02:54:28 AM \t\t===== DoAnswer NIGHT 2 P6 ======\n",
      "03/05/2024 02:54:28 AM \tQUESTION: 现在是NIGHT 2,你支持的玩家是P6(狼人身份,本阵营为:P3,P6).目前场上玩家:P1:存活,P2:存活,P3:存活,P4:淘汰,P5:淘汰,P6:存活,P7:存活,P8:存活(逗号为分割符).现在是第2天夜晚，该如何行动?\n"
     ]
    },
    {
     "name": "stdout",
     "output_type": "stream",
     "text": [
      " {\"action\":\"WolfVote\",\"target\":\"P7\"}\n",
      "\n",
      "理由是:P7表现低调,没有被质疑,是当前最安全的目标。除掉可以引导舆论,为下一步埋线索。"
     ]
    },
    {
     "name": "stderr",
     "output_type": "stream",
     "text": [
      "03/05/2024 02:54:30 AM \t\t===== DoAction NIGHT 2 P6 ======\n",
      "03/05/2024 02:54:30 AM \n",
      " [ROUND ACTION]={'time': 'NIGHT 2', 'player': 'P6', 'status': 1, 'role': '狼人', 'character': '过激型', 'response': ['{\"action\":\"WolfVote\",\"target\":\"P7\"}']}\n",
      "\n",
      "03/05/2024 02:54:30 AM \t===== NIGHT 2 PostAction ======\n",
      "03/05/2024 02:54:30 AM \t [wolf_votes]: ['P7'], [player_vote_name]: Counter({'P7': 2})\n",
      "03/05/2024 02:54:30 AM \n",
      " [WOLF VOTE]={'time': 'NIGHT 2', 'player': 'P7', 'status': 0, 'role': '村民', 'character': '观察家', 'response': '玩家P7于NIGHT 2被狼人投票而出局'}\n",
      "\n"
     ]
    },
    {
     "name": "stdout",
     "output_type": "stream",
     "text": [
      " 第1晚,预言家P1查验P3身份,P3、P6两名狼人同意投票杀死P5。白天,P5死亡遗言指出P3可疑。P3否认并质疑P5,P4支持P5,P6、P8提醒重视线索而非个人判断。大家讨论后,P1、P3、P6三人同意投票P4,P4遭淘汰。P4死亡遗言再次提醒重视P3举动。\n",
      "\n",
      "第2晚,预言家P1查验P2身份。P3、P6再次同意投票杀死P7。白天,狼人成功消灭所有村民,狼人胜利。"
     ]
    },
    {
     "name": "stderr",
     "output_type": "stream",
     "text": [
      "03/05/2024 02:54:36 AM 狼人胜利!\n",
      "03/05/2024 02:54:36 AM 游戏结束.\n",
      "03/05/2024 02:54:36 AM ===== P1:存活,P2:存活,P3:存活,P4:淘汰,P5:淘汰,P6:存活,P7:淘汰,P8:存活 EndGame =====\n",
      "03/05/2024 02:54:36 AM \t===== input_tokens: 3079652 output_tokens 6971 ======\n",
      "03/05/2024 02:54:36 AM \t===== elapsed_time: 216.95154476165771 ======\n"
     ]
    }
   ],
   "source": [
    "from utils.GamePlayer import GamePlayer\n",
    "from utils.GameMaster import GameMaster\n",
    "from utils.PeTemplates import *\n",
    "from utils import ParseJson, print_ww, Print, Info, Debug, Warn, Error\n",
    "\n",
    "llm = claude3_Sonnet\n",
    "GM = GameMaster(10, llm, False)\n",
    "GM.ResetGame()\n",
    "GM.RunGame()\n",
    "GM.EndGame()"
   ]
  },
  {
   "cell_type": "code",
   "execution_count": null,
   "id": "adfcc21a-1ecf-4f3b-b73e-8d74baadb46e",
   "metadata": {},
   "outputs": [],
   "source": []
  }
 ],
 "metadata": {
  "kernelspec": {
   "display_name": "conda_pytorch_p310",
   "language": "python",
   "name": "conda_pytorch_p310"
  },
  "language_info": {
   "codemirror_mode": {
    "name": "ipython",
    "version": 3
   },
   "file_extension": ".py",
   "mimetype": "text/x-python",
   "name": "python",
   "nbconvert_exporter": "python",
   "pygments_lexer": "ipython3",
   "version": "3.10.13"
  }
 },
 "nbformat": 4,
 "nbformat_minor": 5
}
